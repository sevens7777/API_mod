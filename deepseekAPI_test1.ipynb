{
 "cells": [
  {
   "cell_type": "code",
   "execution_count": 44,
   "id": "initial_id",
   "metadata": {
    "collapsed": true,
    "ExecuteTime": {
     "end_time": "2025-01-25T12:44:04.701988Z",
     "start_time": "2025-01-25T12:44:04.699273Z"
    }
   },
   "outputs": [
    {
     "data": {
      "text/plain": "'1.57.0'"
     },
     "execution_count": 44,
     "metadata": {},
     "output_type": "execute_result"
    }
   ],
   "source": [
    "import openai\n",
    "from openai import OpenAI\n",
    "openai.__version__"
   ]
  },
  {
   "cell_type": "code",
   "outputs": [],
   "source": [
    "from openai import OpenAI\n",
    "from dotenv import load_dotenv\n",
    "import os\n",
    "\n",
    "# 加载 .env 文件\n",
    "load_dotenv()\n",
    "\n",
    "# 从环境变量中获取 API Key 和 Base URL\n",
    "api_key = os.getenv(\"API_KEY\")\n",
    "base_url = os.getenv(\"BASE_URL\")\n",
    "\n",
    "# 初始化客户端\n",
    "client = OpenAI(api_key=api_key, base_url=base_url)"
   ],
   "metadata": {
    "collapsed": false,
    "ExecuteTime": {
     "end_time": "2025-01-25T12:44:05.827376Z",
     "start_time": "2025-01-25T12:44:05.804816Z"
    }
   },
   "id": "a41869b6a962ab06",
   "execution_count": 45
  },
  {
   "cell_type": "code",
   "outputs": [],
   "source": [
    "# openai.api_key"
   ],
   "metadata": {
    "collapsed": false,
    "ExecuteTime": {
     "end_time": "2025-01-25T12:44:08.904422Z",
     "start_time": "2025-01-25T12:44:08.902728Z"
    }
   },
   "id": "1e1bd7bc19552b8a",
   "execution_count": 46
  },
  {
   "cell_type": "code",
   "outputs": [
    {
     "name": "stdout",
     "output_type": "stream",
     "text": [
      "ChatCompletionMessage(content='Hello! How can I assist you today? 😊', refusal=None, role='assistant', audio=None, function_call=None, tool_calls=None)\n"
     ]
    }
   ],
   "source": [
    "from openai import OpenAI\n",
    "\n",
    "completion = client.chat.completions.create(\n",
    "    model=\"deepseek-chat\",\n",
    "    messages=[\n",
    "        {\"role\": \"system\", \"content\": \"You are a helpful assistant.\"},\n",
    "        {\"role\": \"user\", \"content\": \"Hello!\"}\n",
    "    ]\n",
    ")\n",
    "\n",
    "print(completion.choices[0].message)\n"
   ],
   "metadata": {
    "collapsed": false,
    "ExecuteTime": {
     "end_time": "2025-01-25T12:44:11.517766Z",
     "start_time": "2025-01-25T12:44:10.053189Z"
    }
   },
   "id": "135b70109beb6ea7",
   "execution_count": 47
  },
  {
   "cell_type": "code",
   "outputs": [
    {
     "data": {
      "text/plain": "ChatCompletion(id='11e29415-c251-4a63-857b-3fc73c7b89e8', choices=[Choice(finish_reason='stop', index=0, logprobs=None, message=ChatCompletionMessage(content='Hello! How can I assist you today? 😊', refusal=None, role='assistant', audio=None, function_call=None, tool_calls=None))], created=1737809050, model='deepseek-chat', object='chat.completion', service_tier=None, system_fingerprint='fp_3a5770e1b4', usage=CompletionUsage(completion_tokens=11, prompt_tokens=11, total_tokens=22, completion_tokens_details=None, prompt_tokens_details=PromptTokensDetails(audio_tokens=None, cached_tokens=0), prompt_cache_hit_tokens=0, prompt_cache_miss_tokens=11))"
     },
     "execution_count": 48,
     "metadata": {},
     "output_type": "execute_result"
    }
   ],
   "source": [
    "completion"
   ],
   "metadata": {
    "collapsed": false,
    "ExecuteTime": {
     "end_time": "2025-01-25T12:44:20.307153Z",
     "start_time": "2025-01-25T12:44:20.304838Z"
    }
   },
   "id": "ad184381a07c6030",
   "execution_count": 48
  },
  {
   "cell_type": "code",
   "outputs": [
    {
     "data": {
      "text/plain": "openai.types.chat.chat_completion.ChatCompletion"
     },
     "execution_count": 49,
     "metadata": {},
     "output_type": "execute_result"
    }
   ],
   "source": [
    "type(completion)"
   ],
   "metadata": {
    "collapsed": false,
    "ExecuteTime": {
     "end_time": "2025-01-25T12:44:22.627831Z",
     "start_time": "2025-01-25T12:44:22.625243Z"
    }
   },
   "id": "a36a5f27400daee2",
   "execution_count": 49
  },
  {
   "cell_type": "code",
   "outputs": [
    {
     "data": {
      "text/plain": "CompletionUsage(completion_tokens=11, prompt_tokens=11, total_tokens=22, completion_tokens_details=None, prompt_tokens_details=PromptTokensDetails(audio_tokens=None, cached_tokens=0), prompt_cache_hit_tokens=0, prompt_cache_miss_tokens=11)"
     },
     "execution_count": 50,
     "metadata": {},
     "output_type": "execute_result"
    }
   ],
   "source": [
    "completion.usage"
   ],
   "metadata": {
    "collapsed": false,
    "ExecuteTime": {
     "end_time": "2025-01-25T12:44:23.847103Z",
     "start_time": "2025-01-25T12:44:23.844655Z"
    }
   },
   "id": "4d84b438d020ff04",
   "execution_count": 50
  },
  {
   "cell_type": "code",
   "outputs": [
    {
     "data": {
      "text/plain": "[Choice(finish_reason='stop', index=0, logprobs=None, message=ChatCompletionMessage(content='Hello! How can I assist you today? 😊', refusal=None, role='assistant', audio=None, function_call=None, tool_calls=None))]"
     },
     "execution_count": 51,
     "metadata": {},
     "output_type": "execute_result"
    }
   ],
   "source": [
    "completion.choices"
   ],
   "metadata": {
    "collapsed": false,
    "ExecuteTime": {
     "end_time": "2025-01-25T12:44:25.005121Z",
     "start_time": "2025-01-25T12:44:25.002644Z"
    }
   },
   "id": "51eed1214171d9d0",
   "execution_count": 51
  },
  {
   "cell_type": "code",
   "outputs": [
    {
     "data": {
      "text/plain": "Choice(finish_reason='stop', index=0, logprobs=None, message=ChatCompletionMessage(content='Hello! How can I assist you today? 😊', refusal=None, role='assistant', audio=None, function_call=None, tool_calls=None))"
     },
     "execution_count": 52,
     "metadata": {},
     "output_type": "execute_result"
    }
   ],
   "source": [
    "completion.choices[0]"
   ],
   "metadata": {
    "collapsed": false,
    "ExecuteTime": {
     "end_time": "2025-01-25T12:44:26.030470Z",
     "start_time": "2025-01-25T12:44:26.027999Z"
    }
   },
   "id": "d984b57467de8bf0",
   "execution_count": 52
  },
  {
   "cell_type": "code",
   "outputs": [
    {
     "data": {
      "text/plain": "SyncPage[Model](data=[Model(id='deepseek-chat', created=None, object='model', owned_by='deepseek'), Model(id='deepseek-reasoner', created=None, object='model', owned_by='deepseek')], object='list')"
     },
     "execution_count": 53,
     "metadata": {},
     "output_type": "execute_result"
    }
   ],
   "source": [
    "models=client.models.list()\n",
    "models"
   ],
   "metadata": {
    "collapsed": false,
    "ExecuteTime": {
     "end_time": "2025-01-25T12:44:27.529824Z",
     "start_time": "2025-01-25T12:44:27.422624Z"
    }
   },
   "id": "716f6cfa0374e261",
   "execution_count": 53
  },
  {
   "cell_type": "code",
   "outputs": [
    {
     "name": "stdout",
     "output_type": "stream",
     "text": [
      "deepseek-chat\n",
      "deepseek-reasoner\n"
     ]
    }
   ],
   "source": [
    "for model in models.data:\n",
    "    print(model.id)"
   ],
   "metadata": {
    "collapsed": false,
    "ExecuteTime": {
     "end_time": "2025-01-25T12:44:28.664395Z",
     "start_time": "2025-01-25T12:44:28.662388Z"
    }
   },
   "id": "2d7badf28b234025",
   "execution_count": 54
  },
  {
   "cell_type": "code",
   "outputs": [],
   "source": [
    "response = client.chat.completions.create(\n",
    "    model=\"deepseek-reasoner\",\n",
    "    messages=[\n",
    "        {\"role\": \"user\", \"content\": \"什么是推理大模型？\"}\n",
    "    ]\n",
    ")"
   ],
   "metadata": {
    "collapsed": false,
    "ExecuteTime": {
     "end_time": "2025-01-25T12:44:51.759071Z",
     "start_time": "2025-01-25T12:44:33.417122Z"
    }
   },
   "id": "51b87487c778144",
   "execution_count": 55
  },
  {
   "cell_type": "code",
   "outputs": [
    {
     "data": {
      "text/plain": "ChatCompletion(id='abbda298-db79-4a1f-bea3-1f9170f1ce34', choices=[Choice(finish_reason='stop', index=0, logprobs=None, message=ChatCompletionMessage(content='推理大模型是指基于大规模预训练语言模型（如GPT、PaLM、LLaMA等）构建的、具备较强逻辑推理和复杂问题解决能力的AI模型。它不仅是简单的文本生成工具，还能通过分析、演绎和归纳，解决数学、编程、决策等需要多步骤推理的任务。\\n\\n### 核心特点：\\n1. **参数规模大**  \\n   通常拥有千亿级参数（如GPT-4约1.8万亿），海量参数使其能捕捉复杂模式。\\n\\n2. **多任务泛化能力**  \\n   通过预训练学习通用知识，可处理数学推导、代码生成、逻辑谜题等跨领域问题。\\n\\n3. **思维链（Chain-of-Thought）能力**  \\n   能逐步展示推理过程（如：先分解问题→调用公式→分步计算→验证结果），提升结果可靠性。\\n\\n---\\n\\n### 关键技术支撑：\\n- **架构创新**  \\n  使用Transformer架构，通过自注意力机制处理长程依赖，MoE（混合专家）结构提升效率。\\n\\n- **训练方法**  \\n  结合监督微调（SFT）和强化学习（RLHF），通过人类反馈优化推理路径的正确性。\\n\\n- **知识增强**  \\n  集成检索增强生成（RAG）技术，实时调用外部知识库弥补预训练数据滞后性。\\n\\n---\\n\\n### 典型应用场景：\\n| 领域       | 案例                          | 推理能力体现                  |\\n|------------|-----------------------------|---------------------------|\\n| 数学解题   | 解微分方程/证明几何定理          | 符号运算、公式推导            |\\n| 编程辅助   | 根据需求生成可运行代码            | 逻辑分解、算法设计、异常处理    |\\n| 医疗诊断   | 结合症状和检验报告推断病因         | 多模态数据分析、概率推理        |\\n| 法律分析   | 合同条款漏洞检测                 | 法律条文关联、逻辑矛盾识别      |\\n\\n---\\n\\n### 当前局限性：\\n1. **符号推理瓶颈**  \\n   对抽象数学符号处理仍弱于人类专家（如IMO竞赛题）\\n\\n2. **因果推断挑战**  \\n   可能混淆相关性与因果关系（如将症状误判为病因）\\n\\n3. **实时动态推理**  \\n   处理持续变化的实时信息流时表现不稳定\\n\\n随着思维树（Tree-of-Thought）、神经符号计算等技术的发展，新一代模型正逐步突破这些限制。这类模型正在重塑教育、科研、决策支持等领域的智能化进程。', refusal=None, role='assistant', audio=None, function_call=None, tool_calls=None, reasoning_content='嗯，用户问什么是推理大模型，我需要先理解这个问题。首先，用户可能对AI领域不太熟悉，所以需要从基础讲起。然后，推理大模型可能涉及到大语言模型（LLMs），比如GPT系列，这些模型在处理复杂任务时需要逻辑推理能力。\\n\\n接下来，我要解释什么是大模型。大模型通常指参数规模巨大的神经网络，比如千亿参数。这些模型通过大量数据训练，能够处理多种任务，比如文本生成、翻译等。但推理能力是什么？这里的推理应该是指模型进行逻辑推理、分析问题、解决问题的能力，而不仅仅是生成文本。\\n\\n然后需要区分生成式模型和推理能力。生成式模型擅长生成连贯的内容，但推理能力涉及更深层次的逻辑处理，比如数学题、逻辑谜题等。用户可能想知道大模型如何在这些复杂任务上表现，以及它们是如何做到的。\\n\\n可能还需要提到大模型的架构，比如Transformer结构，自注意力机制，这些技术让模型能够处理长文本和复杂关系。另外，训练方法也很重要，比如监督微调、强化学习（比如RLHF），这些方法提升模型的推理能力。\\n\\n还要考虑用户可能的实际应用场景，比如客服、数据分析、教育辅导等，说明推理大模型在这些领域的作用。同时，也要提到当前模型的局限性，比如可能出现的错误、依赖数据质量等，让用户有全面的了解。\\n\\n最后，检查是否有遗漏的关键点，比如模型如何结合知识库，或者具体例子，比如解决数学问题的步骤。确保解释清晰，避免使用过于专业的术语，让不同层次的用户都能理解。'))], created=1737809073, model='deepseek-reasoner', object='chat.completion', service_tier=None, system_fingerprint='fp_1c5d8833bc', usage=CompletionUsage(completion_tokens=839, prompt_tokens=10, total_tokens=849, completion_tokens_details=CompletionTokensDetails(accepted_prediction_tokens=None, audio_tokens=None, reasoning_tokens=321, rejected_prediction_tokens=None), prompt_tokens_details=PromptTokensDetails(audio_tokens=None, cached_tokens=0), prompt_cache_hit_tokens=0, prompt_cache_miss_tokens=10))"
     },
     "execution_count": 56,
     "metadata": {},
     "output_type": "execute_result"
    }
   ],
   "source": [
    "response"
   ],
   "metadata": {
    "collapsed": false,
    "ExecuteTime": {
     "end_time": "2025-01-25T12:44:57.651136Z",
     "start_time": "2025-01-25T12:44:57.648641Z"
    }
   },
   "id": "7950220033653d7f",
   "execution_count": 56
  },
  {
   "cell_type": "code",
   "outputs": [
    {
     "data": {
      "text/plain": "ChatCompletionMessage(content='推理大模型是指基于大规模预训练语言模型（如GPT、PaLM、LLaMA等）构建的、具备较强逻辑推理和复杂问题解决能力的AI模型。它不仅是简单的文本生成工具，还能通过分析、演绎和归纳，解决数学、编程、决策等需要多步骤推理的任务。\\n\\n### 核心特点：\\n1. **参数规模大**  \\n   通常拥有千亿级参数（如GPT-4约1.8万亿），海量参数使其能捕捉复杂模式。\\n\\n2. **多任务泛化能力**  \\n   通过预训练学习通用知识，可处理数学推导、代码生成、逻辑谜题等跨领域问题。\\n\\n3. **思维链（Chain-of-Thought）能力**  \\n   能逐步展示推理过程（如：先分解问题→调用公式→分步计算→验证结果），提升结果可靠性。\\n\\n---\\n\\n### 关键技术支撑：\\n- **架构创新**  \\n  使用Transformer架构，通过自注意力机制处理长程依赖，MoE（混合专家）结构提升效率。\\n\\n- **训练方法**  \\n  结合监督微调（SFT）和强化学习（RLHF），通过人类反馈优化推理路径的正确性。\\n\\n- **知识增强**  \\n  集成检索增强生成（RAG）技术，实时调用外部知识库弥补预训练数据滞后性。\\n\\n---\\n\\n### 典型应用场景：\\n| 领域       | 案例                          | 推理能力体现                  |\\n|------------|-----------------------------|---------------------------|\\n| 数学解题   | 解微分方程/证明几何定理          | 符号运算、公式推导            |\\n| 编程辅助   | 根据需求生成可运行代码            | 逻辑分解、算法设计、异常处理    |\\n| 医疗诊断   | 结合症状和检验报告推断病因         | 多模态数据分析、概率推理        |\\n| 法律分析   | 合同条款漏洞检测                 | 法律条文关联、逻辑矛盾识别      |\\n\\n---\\n\\n### 当前局限性：\\n1. **符号推理瓶颈**  \\n   对抽象数学符号处理仍弱于人类专家（如IMO竞赛题）\\n\\n2. **因果推断挑战**  \\n   可能混淆相关性与因果关系（如将症状误判为病因）\\n\\n3. **实时动态推理**  \\n   处理持续变化的实时信息流时表现不稳定\\n\\n随着思维树（Tree-of-Thought）、神经符号计算等技术的发展，新一代模型正逐步突破这些限制。这类模型正在重塑教育、科研、决策支持等领域的智能化进程。', refusal=None, role='assistant', audio=None, function_call=None, tool_calls=None, reasoning_content='嗯，用户问什么是推理大模型，我需要先理解这个问题。首先，用户可能对AI领域不太熟悉，所以需要从基础讲起。然后，推理大模型可能涉及到大语言模型（LLMs），比如GPT系列，这些模型在处理复杂任务时需要逻辑推理能力。\\n\\n接下来，我要解释什么是大模型。大模型通常指参数规模巨大的神经网络，比如千亿参数。这些模型通过大量数据训练，能够处理多种任务，比如文本生成、翻译等。但推理能力是什么？这里的推理应该是指模型进行逻辑推理、分析问题、解决问题的能力，而不仅仅是生成文本。\\n\\n然后需要区分生成式模型和推理能力。生成式模型擅长生成连贯的内容，但推理能力涉及更深层次的逻辑处理，比如数学题、逻辑谜题等。用户可能想知道大模型如何在这些复杂任务上表现，以及它们是如何做到的。\\n\\n可能还需要提到大模型的架构，比如Transformer结构，自注意力机制，这些技术让模型能够处理长文本和复杂关系。另外，训练方法也很重要，比如监督微调、强化学习（比如RLHF），这些方法提升模型的推理能力。\\n\\n还要考虑用户可能的实际应用场景，比如客服、数据分析、教育辅导等，说明推理大模型在这些领域的作用。同时，也要提到当前模型的局限性，比如可能出现的错误、依赖数据质量等，让用户有全面的了解。\\n\\n最后，检查是否有遗漏的关键点，比如模型如何结合知识库，或者具体例子，比如解决数学问题的步骤。确保解释清晰，避免使用过于专业的术语，让不同层次的用户都能理解。')"
     },
     "execution_count": 57,
     "metadata": {},
     "output_type": "execute_result"
    }
   ],
   "source": [
    "response.choices[0].message"
   ],
   "metadata": {
    "collapsed": false,
    "ExecuteTime": {
     "end_time": "2025-01-25T12:45:03.554592Z",
     "start_time": "2025-01-25T12:45:03.552062Z"
    }
   },
   "id": "9c69805a2a4efa53",
   "execution_count": 57
  },
  {
   "cell_type": "code",
   "outputs": [
    {
     "data": {
      "text/plain": "'推理大模型是指基于大规模预训练语言模型（如GPT、PaLM、LLaMA等）构建的、具备较强逻辑推理和复杂问题解决能力的AI模型。它不仅是简单的文本生成工具，还能通过分析、演绎和归纳，解决数学、编程、决策等需要多步骤推理的任务。\\n\\n### 核心特点：\\n1. **参数规模大**  \\n   通常拥有千亿级参数（如GPT-4约1.8万亿），海量参数使其能捕捉复杂模式。\\n\\n2. **多任务泛化能力**  \\n   通过预训练学习通用知识，可处理数学推导、代码生成、逻辑谜题等跨领域问题。\\n\\n3. **思维链（Chain-of-Thought）能力**  \\n   能逐步展示推理过程（如：先分解问题→调用公式→分步计算→验证结果），提升结果可靠性。\\n\\n---\\n\\n### 关键技术支撑：\\n- **架构创新**  \\n  使用Transformer架构，通过自注意力机制处理长程依赖，MoE（混合专家）结构提升效率。\\n\\n- **训练方法**  \\n  结合监督微调（SFT）和强化学习（RLHF），通过人类反馈优化推理路径的正确性。\\n\\n- **知识增强**  \\n  集成检索增强生成（RAG）技术，实时调用外部知识库弥补预训练数据滞后性。\\n\\n---\\n\\n### 典型应用场景：\\n| 领域       | 案例                          | 推理能力体现                  |\\n|------------|-----------------------------|---------------------------|\\n| 数学解题   | 解微分方程/证明几何定理          | 符号运算、公式推导            |\\n| 编程辅助   | 根据需求生成可运行代码            | 逻辑分解、算法设计、异常处理    |\\n| 医疗诊断   | 结合症状和检验报告推断病因         | 多模态数据分析、概率推理        |\\n| 法律分析   | 合同条款漏洞检测                 | 法律条文关联、逻辑矛盾识别      |\\n\\n---\\n\\n### 当前局限性：\\n1. **符号推理瓶颈**  \\n   对抽象数学符号处理仍弱于人类专家（如IMO竞赛题）\\n\\n2. **因果推断挑战**  \\n   可能混淆相关性与因果关系（如将症状误判为病因）\\n\\n3. **实时动态推理**  \\n   处理持续变化的实时信息流时表现不稳定\\n\\n随着思维树（Tree-of-Thought）、神经符号计算等技术的发展，新一代模型正逐步突破这些限制。这类模型正在重塑教育、科研、决策支持等领域的智能化进程。'"
     },
     "execution_count": 58,
     "metadata": {},
     "output_type": "execute_result"
    }
   ],
   "source": [
    "response.choices[0].message.content"
   ],
   "metadata": {
    "collapsed": false,
    "ExecuteTime": {
     "end_time": "2025-01-25T12:45:06.400747Z",
     "start_time": "2025-01-25T12:45:06.397927Z"
    }
   },
   "id": "86ae1b529ef7060d",
   "execution_count": 58
  },
  {
   "cell_type": "code",
   "outputs": [
    {
     "name": "stdout",
     "output_type": "stream",
     "text": [
      "推理大模型是指基于大规模预训练语言模型（如GPT、PaLM、LLaMA等）构建的、具备较强逻辑推理和复杂问题解决能力的AI模型。它不仅是简单的文本生成工具，还能通过分析、演绎和归纳，解决数学、编程、决策等需要多步骤推理的任务。\n",
      "\n",
      "### 核心特点：\n",
      "1. **参数规模大**  \n",
      "   通常拥有千亿级参数（如GPT-4约1.8万亿），海量参数使其能捕捉复杂模式。\n",
      "\n",
      "2. **多任务泛化能力**  \n",
      "   通过预训练学习通用知识，可处理数学推导、代码生成、逻辑谜题等跨领域问题。\n",
      "\n",
      "3. **思维链（Chain-of-Thought）能力**  \n",
      "   能逐步展示推理过程（如：先分解问题→调用公式→分步计算→验证结果），提升结果可靠性。\n",
      "\n",
      "---\n",
      "\n",
      "### 关键技术支撑：\n",
      "- **架构创新**  \n",
      "  使用Transformer架构，通过自注意力机制处理长程依赖，MoE（混合专家）结构提升效率。\n",
      "\n",
      "- **训练方法**  \n",
      "  结合监督微调（SFT）和强化学习（RLHF），通过人类反馈优化推理路径的正确性。\n",
      "\n",
      "- **知识增强**  \n",
      "  集成检索增强生成（RAG）技术，实时调用外部知识库弥补预训练数据滞后性。\n",
      "\n",
      "---\n",
      "\n",
      "### 典型应用场景：\n",
      "| 领域       | 案例                          | 推理能力体现                  |\n",
      "|------------|-----------------------------|---------------------------|\n",
      "| 数学解题   | 解微分方程/证明几何定理          | 符号运算、公式推导            |\n",
      "| 编程辅助   | 根据需求生成可运行代码            | 逻辑分解、算法设计、异常处理    |\n",
      "| 医疗诊断   | 结合症状和检验报告推断病因         | 多模态数据分析、概率推理        |\n",
      "| 法律分析   | 合同条款漏洞检测                 | 法律条文关联、逻辑矛盾识别      |\n",
      "\n",
      "---\n",
      "\n",
      "### 当前局限性：\n",
      "1. **符号推理瓶颈**  \n",
      "   对抽象数学符号处理仍弱于人类专家（如IMO竞赛题）\n",
      "\n",
      "2. **因果推断挑战**  \n",
      "   可能混淆相关性与因果关系（如将症状误判为病因）\n",
      "\n",
      "3. **实时动态推理**  \n",
      "   处理持续变化的实时信息流时表现不稳定\n",
      "\n",
      "随着思维树（Tree-of-Thought）、神经符号计算等技术的发展，新一代模型正逐步突破这些限制。这类模型正在重塑教育、科研、决策支持等领域的智能化进程。\n"
     ]
    }
   ],
   "source": [
    "print(response.choices[0].message.content)"
   ],
   "metadata": {
    "collapsed": false,
    "ExecuteTime": {
     "end_time": "2025-01-25T12:45:08.014662Z",
     "start_time": "2025-01-25T12:45:08.012649Z"
    }
   },
   "id": "d92a0a0cdeeb9d8b",
   "execution_count": 59
  },
  {
   "cell_type": "code",
   "outputs": [
    {
     "name": "stdout",
     "output_type": "stream",
     "text": [
      "SFT、RLHF和DPO是大模型训练和优化中的三种关键技术，分别代表监督微调、基于人类反馈的强化学习和直接偏好优化。以下是它们的详细解释：\n",
      "\n",
      "### 1. **SFT（Supervised Fine-Tuning，监督微调）**\n",
      "   - **定义**：SFT是一种通过使用标注数据对预训练模型进行微调的技术。预训练模型（如GPT、BERT等）在大规模无监督数据上训练后，通过SFT在特定任务的有监督数据上进一步微调，以提升模型在该任务上的表现。\n",
      "   - **过程**：\n",
      "     1. 使用预训练模型作为基础。\n",
      "     2. 在特定任务的有监督数据集上训练模型（如分类、生成等）。\n",
      "     3. 通过最小化损失函数（如交叉熵）来优化模型参数。\n",
      "   - **优点**：简单直接，适用于有明确标注数据的任务。\n",
      "   - **缺点**：依赖高质量标注数据，可能无法捕捉复杂的用户偏好或交互行为。\n",
      "\n",
      "---\n",
      "\n",
      "### 2. **RLHF（Reinforcement Learning from Human Feedback，基于人类反馈的强化学习）**\n",
      "   - **定义**：RLHF是一种通过人类反馈来优化模型的技术。它结合了强化学习和人类偏好数据，使模型生成的内容更符合人类期望。\n",
      "   - **过程**：\n",
      "     1. **监督微调（SFT）**：首先在标注数据上微调模型。\n",
      "     2. **奖励模型训练**：使用人类对模型输出的偏好数据训练一个奖励模型（Reward Model），用于评估生成内容的质量。\n",
      "     3. **强化学习**：使用奖励模型作为奖励信号，通过强化学习（如PPO算法）进一步优化模型。\n",
      "   - **优点**：能够捕捉复杂的人类偏好，生成更符合人类期望的内容。\n",
      "   - **缺点**：需要大量人类反馈数据，训练过程复杂且计算成本高。\n",
      "\n",
      "---\n",
      "\n",
      "### 3. **DPO（Direct Preference Optimization，直接偏好优化）**\n",
      "   - **定义**：DPO是一种直接利用人类偏好数据优化模型的技术，旨在简化RLHF的复杂流程。它通过直接优化模型参数来最大化人类偏好的输出。\n",
      "   - **过程**：\n",
      "     1. 收集人类对模型输出的偏好数据（如选择更好的回答）。\n",
      "     2. 使用偏好数据直接优化模型，无需训练额外的奖励模型。\n",
      "     3. 通过最大化偏好数据的似然函数来调整模型参数。\n",
      "   - **优点**：简化了RLHF的流程，减少了计算成本，同时仍能有效捕捉人类偏好。\n",
      "   - **缺点**：对偏好数据的质量和数量要求较高。\n",
      "\n",
      "---\n",
      "\n",
      "### 对比总结\n",
      "| 技术  | 核心思想                          | 优点                              | 缺点                              |\n",
      "|-------|-----------------------------------|-----------------------------------|-----------------------------------|\n",
      "| SFT   | 使用标注数据微调模型              | 简单直接，适用于明确任务          | 依赖标注数据，无法捕捉复杂偏好    |\n",
      "| RLHF  | 结合人类反馈和强化学习优化模型    | 生成内容更符合人类期望            | 训练复杂，计算成本高              |\n",
      "| DPO   | 直接利用偏好数据优化模型          | 简化流程，计算成本较低            | 对偏好数据要求较高                |\n",
      "\n",
      "这些技术在大模型的对齐和优化中各有优劣，通常结合使用以达到更好的效果。\n"
     ]
    }
   ],
   "source": [
    "response = client.chat.completions.create(\n",
    "    model=\"deepseek-chat\",\n",
    "    messages=[\n",
    "        {\"role\": \"system\", \"content\":\"你是一名大模型领域微调和对齐领域的专家。\"},\n",
    "        {\"role\": \"user\", \"content\": \"什么是SFT，RLHF，DPO？\"}\n",
    "    ]\n",
    ")\n",
    "print(response.choices[0].message.content)"
   ],
   "metadata": {
    "collapsed": false,
    "ExecuteTime": {
     "end_time": "2025-01-25T12:45:28.417005Z",
     "start_time": "2025-01-25T12:45:12.904285Z"
    }
   },
   "id": "3e45d71b9f7a3ac1",
   "execution_count": 60
  },
  {
   "cell_type": "code",
   "outputs": [
    {
     "data": {
      "text/plain": "<IPython.core.display.Markdown object>",
      "text/markdown": "SFT、RLHF和DPO是大模型训练和优化中的三种关键技术，分别代表监督微调、基于人类反馈的强化学习和直接偏好优化。以下是它们的详细解释：\n\n### 1. **SFT（Supervised Fine-Tuning，监督微调）**\n   - **定义**：SFT是一种通过使用标注数据对预训练模型进行微调的技术。预训练模型（如GPT、BERT等）在大规模无监督数据上训练后，通过SFT在特定任务的有监督数据上进一步微调，以提升模型在该任务上的表现。\n   - **过程**：\n     1. 使用预训练模型作为基础。\n     2. 在特定任务的有监督数据集上训练模型（如分类、生成等）。\n     3. 通过最小化损失函数（如交叉熵）来优化模型参数。\n   - **优点**：简单直接，适用于有明确标注数据的任务。\n   - **缺点**：依赖高质量标注数据，可能无法捕捉复杂的用户偏好或交互行为。\n\n---\n\n### 2. **RLHF（Reinforcement Learning from Human Feedback，基于人类反馈的强化学习）**\n   - **定义**：RLHF是一种通过人类反馈来优化模型的技术。它结合了强化学习和人类偏好数据，使模型生成的内容更符合人类期望。\n   - **过程**：\n     1. **监督微调（SFT）**：首先在标注数据上微调模型。\n     2. **奖励模型训练**：使用人类对模型输出的偏好数据训练一个奖励模型（Reward Model），用于评估生成内容的质量。\n     3. **强化学习**：使用奖励模型作为奖励信号，通过强化学习（如PPO算法）进一步优化模型。\n   - **优点**：能够捕捉复杂的人类偏好，生成更符合人类期望的内容。\n   - **缺点**：需要大量人类反馈数据，训练过程复杂且计算成本高。\n\n---\n\n### 3. **DPO（Direct Preference Optimization，直接偏好优化）**\n   - **定义**：DPO是一种直接利用人类偏好数据优化模型的技术，旨在简化RLHF的复杂流程。它通过直接优化模型参数来最大化人类偏好的输出。\n   - **过程**：\n     1. 收集人类对模型输出的偏好数据（如选择更好的回答）。\n     2. 使用偏好数据直接优化模型，无需训练额外的奖励模型。\n     3. 通过最大化偏好数据的似然函数来调整模型参数。\n   - **优点**：简化了RLHF的流程，减少了计算成本，同时仍能有效捕捉人类偏好。\n   - **缺点**：对偏好数据的质量和数量要求较高。\n\n---\n\n### 对比总结\n| 技术  | 核心思想                          | 优点                              | 缺点                              |\n|-------|-----------------------------------|-----------------------------------|-----------------------------------|\n| SFT   | 使用标注数据微调模型              | 简单直接，适用于明确任务          | 依赖标注数据，无法捕捉复杂偏好    |\n| RLHF  | 结合人类反馈和强化学习优化模型    | 生成内容更符合人类期望            | 训练复杂，计算成本高              |\n| DPO   | 直接利用偏好数据优化模型          | 简化流程，计算成本较低            | 对偏好数据要求较高                |\n\n这些技术在大模型的对齐和优化中各有优劣，通常结合使用以达到更好的效果。"
     },
     "execution_count": 61,
     "metadata": {},
     "output_type": "execute_result"
    }
   ],
   "source": [
    "from IPython import display\n",
    "display.Markdown(response.choices[0].message.content)"
   ],
   "metadata": {
    "collapsed": false,
    "ExecuteTime": {
     "end_time": "2025-01-25T12:45:33.422950Z",
     "start_time": "2025-01-25T12:45:33.420280Z"
    }
   },
   "id": "ba949e8cadcf0e1d",
   "execution_count": 61
  },
  {
   "cell_type": "markdown",
   "source": [
    "# 1: 多轮对话"
   ],
   "metadata": {
    "collapsed": false
   },
   "id": "238137030a5d6692"
  },
  {
   "cell_type": "code",
   "outputs": [],
   "source": [
    "from openai import OpenAI\n",
    "from dotenv import load_dotenv\n",
    "import os\n",
    "\n",
    "# 加载 .env 文件\n",
    "load_dotenv()\n",
    "\n",
    "def myChatBot(model: str = 'deepseek-chat'):\n",
    "    messages = []\n",
    "    EXIT_flag = '退出'\n",
    "\n",
    "    # 获取 API_KEY 和 BASE_URL\n",
    "    api_key = os.getenv(\"API_KEY\")  # 从 .env 文件中获取 API_KEY\n",
    "    base_url = os.getenv(\"BASE_URL\")  # 从 .env 文件中获取 BASE_URL\n",
    "\n",
    "    # 检查环境变量是否加载成功\n",
    "    if not api_key or not base_url:\n",
    "        print(\"错误：未能从 .env 文件中加载 API_KEY 或 BASE_URL，请检查 .env 文件配置是否正确。\")\n",
    "        return\n",
    "\n",
    "    # 初始化 OpenAI 客户端\n",
    "    client = OpenAI(api_key=api_key, base_url=base_url)\n",
    "\n",
    "    # 多轮对话\n",
    "    while True:\n",
    "        try:\n",
    "            user_input = input(f\"请输入您的问题（输入'{EXIT_flag}'则结束对话）：\")\n",
    "            print(f\"User: {user_input}\")\n",
    "\n",
    "            if user_input == EXIT_flag:\n",
    "                print(f\"由于输入了'{EXIT_flag}'，对话已终止。\")\n",
    "                break\n",
    "\n",
    "            # 将用户输入添加进消息上下文列表\n",
    "            messages.append({\"role\": \"user\", \"content\": user_input})\n",
    "\n",
    "            # 调用模型生成回复\n",
    "            response = client.chat.completions.create(\n",
    "                model=model,\n",
    "                messages=messages\n",
    "            )\n",
    "            # 提取模型回复存入 answer\n",
    "            answer = response.choices[0].message.content\n",
    "            print(f\"AI: {answer}\")\n",
    "            print(\"*\" * 50)\n",
    "\n",
    "            # 将模型回复存入消息上下文列表\n",
    "            messages.append({\"role\": \"assistant\", \"content\": answer})\n",
    "\n",
    "        except Exception as e:\n",
    "            print(f\"模型调用失败，错误信息：{e}\")\n",
    "            print(\"重试中...\")\n",
    "            continue\n",
    "\n"
   ],
   "metadata": {
    "collapsed": false,
    "ExecuteTime": {
     "end_time": "2025-01-25T12:45:36.338411Z",
     "start_time": "2025-01-25T12:45:36.334003Z"
    }
   },
   "id": "3c32162874234fce",
   "execution_count": 62
  },
  {
   "cell_type": "code",
   "outputs": [
    {
     "name": "stdout",
     "output_type": "stream",
     "text": [
      "User: 你是谁\n",
      "AI: 您好！我是由中国的深度求索（DeepSeek）公司开发的智能助手DeepSeek-V3。如您有任何任何问题，我会尽我所能为您提供帮助。\n",
      "**************************************************\n",
      "User: 我是TFboy\n",
      "AI: 您好！TFBOYS是中国大陆的一个非常受欢迎的男子音乐组合，由王俊凯、王源和易烊千玺三位成员组成。他们以青春活力的形象和音乐作品赢得了大量粉丝的喜爱。如果您是TFBOYS的粉丝，那么您一定对他们的音乐和活动非常关注。如果您有任何关于TFBOYS的问题或者想要了解更多信息，我会尽力为您提供帮助。\n",
      "**************************************************\n",
      "User: 给我解释一下目前有哪些Agent框架\n",
      "AI: 在人工智能和软件工程领域，Agent框架通常指的是一种软件架构，它允许自主的、灵活的、能够感知环境并采取行动以达成特定目标的实体（称为“代理”或“Agent”）进行操作。以下是一些目前较为知名的Agent框架：\n",
      "\n",
      "1. **JADE (Java Agent DEvelopment Framework)**:\n",
      "   JADE是一个完全用Java编写的软件框架，它简化了多Agent系统的实现。JADE提供了一个中间件，符合FIPA（Foundation for Intelligent Physical Agents）标准，并提供了用于创建和管理Agent的平台。\n",
      "\n",
      "2. **Jason**:\n",
      "   Jason是一个基于AgentSpeak(L)语言的解释器，AgentSpeak(L)是一种用于编程Agent的抽象语言。Jason提供了一个强大的平台来开发多Agent系统，并且支持自定义的Agent架构。\n",
      "\n",
      "3. **GAMA**:\n",
      "   GAMA是一个建模和仿真平台，旨在支持Agent-based模型的创建。它提供了一个用户友好的环境，用于构建复杂的空间显式、基于Agent的仿真。\n",
      "\n",
      "4. **Repast**:\n",
      "   Repast是一个用于Agent-based建模的软件工具包，它支持多种编程语言，包括Java、.NET和Python。Repast提供了丰富的库和工具来构建、运行、显示和收集基于Agent的模型的数据。\n",
      "\n",
      "5. **NetLogo**:\n",
      "   NetLogo是一个多Agent编程语言和集成建模环境，特别适合于模拟自然和社会现象。它有一个易于学习的编程语言和大量的示例模型，适合教育和研究使用。\n",
      "\n",
      "6. **MASON**:\n",
      "   MASON是一个Java库，用于设计和实现基于Agent的仿真。它旨在提供高性能的仿真环境，并且可以处理大规模的Agent系统。\n",
      "\n",
      "7. **SPADE**:\n",
      "   SPADE是一个基于XMPP（Extensible Messaging and Presence Protocol）的Agent平台，它允许Agent通过即时消息进行通信。SPADE支持Python编程语言，并提供了一个简单的API来创建Agent。\n",
      "\n",
      "8. **Actor-Based Frameworks**:\n",
      "   虽然不完全是Agent框架，但Actor模型（如Akka、Erlang/OTP）提供了一种构建并发和分布式系统的抽象，其中每个Actor可以被视为一个独立的Agent。\n",
      "\n",
      "这些框架各有特点，适用于不同的应用场景和需求。选择合适的Agent框架通常取决于项目的具体需求、开发团队的熟悉度以及预期的系统规模和复杂性。\n",
      "**************************************************\n",
      "User: 我说我的名字是TFboy\n",
      "AI: 您好，TFboy！很高兴认识您。如果您有任何问题或需要帮助，请随时告诉我，我会尽力为您提供支持。无论是关于信息查询、学习辅导还是其他任何话题，我都在这里帮助您。\n",
      "**************************************************\n",
      "User: 你是谁\n",
      "AI: 您好！我是由中国的深度求索（DeepSeek）公司开发的智能助手DeepSeek-V3。如您有任何任何问题，我会尽我所能为您提供帮助。\n",
      "**************************************************\n",
      "User: 我是谁\n",
      "AI: 您自称是TFboy，这是一个独特的名字。在这个数字化的交流空间里，您是与我进行对话的用户，一个寻求信息、解答或仅仅是进行交流的个体。如果您希望探讨您的身份、兴趣或者任何其他话题，我在这里倾听并协助您。请问有什么特别的事情您想要讨论或了解的吗？\n",
      "**************************************************\n",
      "User: 退出\n",
      "由于输入了'退出'，对话已终止。\n"
     ]
    }
   ],
   "source": [
    "myChatBot()"
   ],
   "metadata": {
    "collapsed": false,
    "ExecuteTime": {
     "end_time": "2025-01-25T12:47:41.177666Z",
     "start_time": "2025-01-25T12:45:37.915619Z"
    }
   },
   "id": "772cd9b010627a3d",
   "execution_count": 63
  },
  {
   "cell_type": "markdown",
   "source": [
    "## 1.1 面向对象文本多轮对话机"
   ],
   "metadata": {
    "collapsed": false
   },
   "id": "2779b77c8f4d8eb7"
  },
  {
   "cell_type": "code",
   "outputs": [],
   "source": [
    "import openai\n",
    "from typing import List, Dict\n",
    "\n",
    "class ChatBot:\n",
    "    def __init__(self, system: str = \"\", model: str = \"deepseek-chat\", exit_command: str = \"退出\"):\n",
    "        \"\"\"\n",
    "        初始化 ChatBot 实例。\n",
    "\n",
    "        :param system: 系统消息，用于指导AI行为。\n",
    "        :param model: 使用的语言模型，默认为 \"gpt-4o\"。\n",
    "        :param exit_command: 用户输入以结束对话的命令，默认为 \"退出\"。\n",
    "        \"\"\"\n",
    "            # 获取 API_KEY 和 BASE_URL\n",
    "        api_key = os.getenv(\"API_KEY\")  # 从 .env 文件中获取 API_KEY\n",
    "        base_url = os.getenv(\"BASE_URL\")  # 从 .env 文件中获取 BASE_URL\n",
    "        self.system = system\n",
    "        self.model = model\n",
    "        self.exit_command = exit_command\n",
    "        self.messages: List[Dict[str, str]] = []\n",
    "        self.client = OpenAI(api_key=api_key, base_url=base_url)\n",
    "\n",
    "        if self.system:\n",
    "            self.messages.append({\"role\": \"system\", \"content\": self.system})\n",
    "\n",
    "    def __call__(self, message: str) -> str:\n",
    "        \"\"\"\n",
    "        处理用户消息并生成 AI 回复。\n",
    "    \n",
    "        :param message: 用户输入的消息。\n",
    "        :return: AI 生成的回复。\n",
    "        \"\"\"\n",
    "        self.messages.append({\"role\": \"user\", \"content\": message})\n",
    "        result = self.execute()\n",
    "        self.messages.append({\"role\": \"assistant\", \"content\": result})\n",
    "        return result\n",
    "    \n",
    "    def execute(self) -> str:\n",
    "        \"\"\"\n",
    "        调用 OpenAI API 生成 AI 回复。\n",
    "    \n",
    "        :return: AI 生成的回复内容。\n",
    "        \"\"\"\n",
    "        try:\n",
    "            response = self.client.chat.completions.create(\n",
    "                model=self.model,\n",
    "                messages=self.messages\n",
    "            )\n",
    "            answer = response.choices[0].message.content.strip()\n",
    "            return answer\n",
    "        except Exception as e:\n",
    "            print(f\"抱歉，我暂时无法处理您的请求，请稍后再试。API 调用失败: {e}\")"
   ],
   "metadata": {
    "collapsed": false,
    "ExecuteTime": {
     "end_time": "2025-01-25T12:56:48.024249Z",
     "start_time": "2025-01-25T12:56:48.020444Z"
    }
   },
   "id": "fcaccfd251a7bb27",
   "execution_count": 73
  },
  {
   "cell_type": "code",
   "outputs": [],
   "source": [
    "def chat():\n",
    "    \"\"\"\n",
    "    主函数，处理用户交互。\n",
    "    \"\"\"\n",
    "    system_message = \"你是一位大模型微调和对齐以及Agent开发的专家。\"\n",
    "    chatbot = ChatBot(system=system_message)\n",
    "\n",
    "    print(\"欢迎使用专家多轮对话AI（未微调）！输入 '退出' 以结束对话。\")\n",
    "\n",
    "    while True:\n",
    "        user_input = input(\"用户: \")\n",
    "        print(f\"User: {user_input}\")\n",
    "\n",
    "        if user_input.strip() == chatbot.exit_command:\n",
    "            print(\"对话已结束。\")\n",
    "            break\n",
    "\n",
    "        response = chatbot(user_input)\n",
    "        print(f\"AI: {response}\")\n",
    "        print(\"*\" * 50)"
   ],
   "metadata": {
    "collapsed": false,
    "ExecuteTime": {
     "end_time": "2025-01-25T12:56:49.700170Z",
     "start_time": "2025-01-25T12:56:49.697754Z"
    }
   },
   "id": "40de3b4ac6f094a9",
   "execution_count": 74
  },
  {
   "cell_type": "code",
   "outputs": [
    {
     "name": "stdout",
     "output_type": "stream",
     "text": [
      "欢迎使用专家多轮对话AI（未微调）！输入 '退出' 以结束对话。\n",
      "User: 你是谁\n",
      "AI: 我是一个人工智能助手，由深度求索（DeepSeek）开发。我旨在通过自然语言处理和机器学习技术来提供信息查询、对话交流和解答问题等服务。如有任何问题，欢迎继续咨询。\n",
      "**************************************************\n",
      "User: 我是FT，你好\n",
      "AI: 你好，FT！很高兴认识你。如果你有任何问题或需要帮助，请随时告诉我。我会尽力提供帮助和信息。\n",
      "**************************************************\n",
      "User: 你不是大模型微调专家吗？\n",
      "AI: 是的，我具备大模型微调和对齐以及Agent开发方面的知识。如果你有关于这些领域的问题，比如如何微调大型语言模型、模型对齐技术、或者如何开发智能体（Agent），我会尽力提供帮助和解答。请随时提出你的问题或需求。\n",
      "**************************************************\n",
      "User: 我是谁\n",
      "AI: 你是FT，一个正在与我进行交流的用户。如果你有关于自己的更多信息想要分享或者有任何问题需要解答，请随时告诉我。\n",
      "**************************************************\n",
      "User: 给我解释目前有哪些最新的Agent开发框架\n",
      "AI: 截至我的知识更新日期（2023年），在人工智能领域，尤其是Agent（智能体）开发方面，有几个框架和平台因其创新性和实用性而受到广泛关注。以下是一些最新的Agent开发框架：\n",
      "\n",
      "1. **AutoGPT**：AutoGPT是一个开源项目，旨在创建能够自主执行任务的AI代理。它基于GPT模型，可以理解自然语言指令并执行复杂的任务序列。\n",
      "\n",
      "2. **LangChain**：LangChain是一个用于构建基于语言模型的应用程序的框架。它允许开发者将语言模型与其他计算或知识源结合起来，以创建更加强大和灵活的Agent。\n",
      "\n",
      "3. **Hugging Face Transformers Agents**：Hugging Face提供了一个广泛的预训练模型库，并且支持自定义模型的微调。它的Transformers库可以用来开发各种NLP任务中的Agent。\n",
      "\n",
      "4. **Rasa**：Rasa是一个开源的机器学习框架，用于自动化文本和语音的对话。它允许开发者构建、改进和部署基于文本和语音的对话Agent。\n",
      "\n",
      "5. **Microsoft Bot Framework**：这是一个全面的框架，用于构建企业级对话AI体验。它支持多种编程语言，并且可以集成到各种通信平台，如Microsoft Teams、Slack、Facebook Messenger等。\n",
      "\n",
      "6. **Google Dialogflow**：Dialogflow是Google提供的一个自然语言理解平台，使得开发者可以设计并集成一个对话用户界面到移动应用、Web应用、设备、机器人、交互式语音响应系统等。\n",
      "\n",
      "7. **IBM Watson Assistant**：Watson Assistant是IBM提供的一个服务，允许开发者构建、训练和部署跨多个渠道的对话Agent。\n",
      "\n",
      "8. **OpenAI Gym**：虽然主要用于强化学习的研究和开发，但OpenAI Gym提供了一个丰富的环境集合，可以用来训练和测试Agent在各种任务中的表现。\n",
      "\n",
      "这些框架和平台各有特点，适用于不同的应用场景和开发需求。随着人工智能技术的不断进步，我们可以预见将会有更多高效、灵活的Agent开发工具出现。\n",
      "**************************************************\n",
      "User: 退出\n",
      "对话已结束。\n"
     ]
    }
   ],
   "source": [
    "chat()"
   ],
   "metadata": {
    "collapsed": false,
    "ExecuteTime": {
     "end_time": "2025-01-25T12:58:01.926146Z",
     "start_time": "2025-01-25T12:56:50.725395Z"
    }
   },
   "id": "6f5fa498384bdf9b",
   "execution_count": 75
  },
  {
   "cell_type": "markdown",
   "source": [
    "## 1.2 更多可选参数的实践"
   ],
   "metadata": {
    "collapsed": false
   },
   "id": "ed09c16a59bb3e14"
  },
  {
   "cell_type": "markdown",
   "source": [
    "### 1.2.1 Tokens数控制"
   ],
   "metadata": {
    "collapsed": false
   },
   "id": "48758fdb1e2a7f3a"
  },
  {
   "cell_type": "code",
   "outputs": [
    {
     "name": "stdout",
     "output_type": "stream",
     "text": [
      "\n",
      "使用 20 个 token 生成的内容:\n",
      "## 《觉醒》第四章：真相\n",
      "\n",
      "\"你确定要这么做吗？\"林修远站在\n",
      "\n",
      "使用 50 个 token 生成的内容:\n",
      "实验室的门口，眉头紧锁，目光中透着一丝犹豫。他望着眼前那台闪烁着蓝色光芒的量子计算机，心中涌起一股难以言喻的复杂情绪。\n",
      "\n",
      "\"是的，我必须这么做。\"林修远深吸一口气，\n",
      "\n",
      "使用 100 个 token 生成的内容:\n",
      "坚定地迈入了实验室。他的脚步声在空旷的房间里回荡，仿佛每一步都在叩击着他的内心。量子计算机的蓝色光芒映照在他的脸上，显得格外冷峻。\n",
      "\n",
      "实验室的中央，那台庞大的机器正在低鸣，仿佛在等待着什么。林修远走到控制台前，手指在键盘上飞快地敲击着。屏幕上，一串串复杂的代码迅速滚动，他的目光紧紧盯着那些数字和符号，生怕错过任何一个细节。\n",
      "\n",
      "“你真的准备好了吗？”\n"
     ]
    }
   ],
   "source": [
    "# tokens控制效果不是很好\n",
    "def get_completion(prompt: str, max_tokens: int):\n",
    "    response = client.chat.completions.create(\n",
    "        model=\"deepseek-chat\",\n",
    "        messages=[\n",
    "            {\"role\": \"user\", \"content\": prompt}\n",
    "        ],\n",
    "        max_tokens=max_tokens\n",
    "    )\n",
    "    return response.choices[0].message.content\n",
    "\n",
    "prompt = \"续写一个关于人工智能的短故事，不要改变之前的内容。\"\n",
    "max_tokens_list = [20, 50, 100]\n",
    "\n",
    "story = \"\"\n",
    "\n",
    "for tokens in max_tokens_list:\n",
    "    continuation = get_completion(prompt + \"\\n\" + story, tokens)\n",
    "    story += continuation\n",
    "    print(f\"\\n使用 {tokens} 个 token 生成的内容:\")\n",
    "    print(continuation)\n"
   ],
   "metadata": {
    "collapsed": false,
    "ExecuteTime": {
     "end_time": "2025-01-25T13:08:42.910437Z",
     "start_time": "2025-01-25T13:08:36.520259Z"
    }
   },
   "id": "b8f9515aa4c032c6",
   "execution_count": 81
  },
  {
   "cell_type": "code",
   "outputs": [
    {
     "name": "stdout",
     "output_type": "stream",
     "text": [
      "古罗马斗兽场（罗马竞技场）最初的名字是什么？A. 凯旋门\n",
      "B. 弗拉维圆形剧场\n",
      "C. 万神殿\n",
      "D. 特洛伊竞技场\n",
      "大模型的答案是 B, 正确答案是 B\n",
      "秦始皇陵中的兵马俑最初是什么颜色的？\n",
      "A. 灰色\n",
      "B. 彩色\n",
      "C. 黑色\n",
      "D. 白色\n",
      "大模型的答案是 B, 正确答案是 B\n",
      "古埃及金字塔最初是用来做什么的？\n",
      "A. 皇室宫殿\n",
      "B. 天文观测站\n",
      "C. 法老的陵墓\n",
      "D. 宗教祭祀场所\n",
      "大模型的答案是 C, 正确答案是 C\n",
      "秦始皇陵中的兵马俑最初是什么颜色的？\n",
      "A. 灰色\n",
      "B. 彩色\n",
      "C. 黑色\n",
      "D. 白色\n",
      "大模型的答案是 B, 正确答案是 B\n",
      "古埃及金字塔最初是用来做什么的？\n",
      "A. 皇室宫殿\n",
      "B. 天文观测站\n",
      "C. 法老的陵墓\n",
      "D. 宗教祭祀场所\n",
      "大模型的答案是 C, 正确答案是 C\n"
     ]
    }
   ],
   "source": [
    "import random\n",
    "def get_history_question():\n",
    "    questions = [\n",
    "        {\n",
    "            \"question\": \"秦始皇陵中的兵马俑最初是什么颜色的？\\n\",\n",
    "            \"options\": [\"A. 灰色\", \"B. 彩色\", \"C. 黑色\", \"D. 白色\"],\n",
    "            \"answer\": \"B\"\n",
    "        },\n",
    "        {\n",
    "            \"question\": \"下列哪位不是中国古代四大发明家之一？\\n\",\n",
    "            \"options\": [\"A. 蔡伦\", \"B. 毕昇\", \"C. 张衡\", \"D. 李时珍\"],\n",
    "            \"answer\": \"D\"\n",
    "        },\n",
    "        {\n",
    "            \"question\": \"古埃及金字塔最初是用来做什么的？\\n\",\n",
    "            \"options\": [\"A. 皇室宫殿\", \"B. 天文观测站\", \"C. 法老的陵墓\", \"D. 宗教祭祀场所\"],\n",
    "            \"answer\": \"C\"\n",
    "        },\n",
    "        {\n",
    "            \"question\": \"古罗马斗兽场（罗马竞技场）最初的名字是什么？\",\n",
    "            \"options\": [\"A. 凯旋门\", \"B. 弗拉维圆形剧场\", \"C. 万神殿\", \"D. 特洛伊竞技场\"],\n",
    "            \"answer\": \"B\"\n",
    "        },\n",
    "        {\n",
    "            \"question\": \"中国古代哪个朝代发明了火药？\",\n",
    "            \"options\": [\"A. 唐朝\", \"B. 宋朝\", \"C. 元朝\", \"D. 明朝\"],\n",
    "            \"answer\": \"A\"\n",
    "        }\n",
    "    ]\n",
    "    \n",
    "    question = random.choice(questions)\n",
    "    question_text = question[\"question\"]\n",
    "    for option in question[\"options\"]:\n",
    "        question_text += option + \"\\n\"\n",
    "    right_answer = question[\"answer\"]\n",
    "    \n",
    "    return question_text,right_answer\n",
    "\n",
    "for i in range(5):\n",
    "    question_text, right_answer = get_history_question()\n",
    "    print(question_text)\n",
    "    response = client.chat.completions.create(\n",
    "        model=\"deepseek-reasoner\",\n",
    "        messages=[\n",
    "            {\"role\": \"user\", \"content\": question_text + \"; 直接回答选项的字母\"}\n",
    "        ]\n",
    "    )\n",
    "    print(f\"大模型的答案是 {response.choices[0].message.content}, 正确答案是 {right_answer}\")\n",
    "\n"
   ],
   "metadata": {
    "collapsed": false,
    "ExecuteTime": {
     "end_time": "2025-01-25T13:09:28.990183Z",
     "start_time": "2025-01-25T13:08:49.873814Z"
    }
   },
   "id": "9a831c400ffae464",
   "execution_count": 82
  },
  {
   "cell_type": "code",
   "outputs": [
    {
     "name": "stdout",
     "output_type": "stream",
     "text": [
      "古罗马斗兽场（罗马竞技场）最初的名字是什么？A. 凯旋门\n",
      "B. 弗拉维圆形剧场\n",
      "C. 万神殿\n",
      "D. 特洛伊竞技场\n",
      "大模型的答案是 B, 正确答案是 B\n",
      "古埃及金字塔最初是用来做什么的？\n",
      "A. 皇室宫殿\n",
      "B. 天文观测站\n",
      "C. 法老的陵墓\n",
      "D. 宗教祭祀场所\n",
      "大模型的答案是 C, 正确答案是 C\n",
      "秦始皇陵中的兵马俑最初是什么颜色的？\n",
      "A. 灰色\n",
      "B. 彩色\n",
      "C. 黑色\n",
      "D. 白色\n",
      "大模型的答案是 B, 正确答案是 B\n",
      "古埃及金字塔最初是用来做什么的？\n",
      "A. 皇室宫殿\n",
      "B. 天文观测站\n",
      "C. 法老的陵墓\n",
      "D. 宗教祭祀场所\n",
      "大模型的答案是 C, 正确答案是 C\n"
     ]
    }
   ],
   "source": [
    "# 我们只想要输出A，B或C，但是有一定概率输出“A.xxx”,\"B.xxx\"和\"C.xxx\"\n",
    "# 需要使用max_tokens=2，参数控制输出，\n",
    "# 以方便后续结构化输出的基础\n",
    "import random\n",
    "def get_history_question():\n",
    "    questions = [\n",
    "        {\n",
    "            \"question\": \"秦始皇陵中的兵马俑最初是什么颜色的？\\n\",\n",
    "            \"options\": [\"A. 灰色\", \"B. 彩色\", \"C. 黑色\", \"D. 白色\"],\n",
    "            \"answer\": \"B\"\n",
    "        },\n",
    "        {\n",
    "            \"question\": \"下列哪位不是中国古代四大发明家之一？\\n\",\n",
    "            \"options\": [\"A. 蔡伦\", \"B. 毕昇\", \"C. 张衡\", \"D. 李时珍\"],\n",
    "            \"answer\": \"D\"\n",
    "        },\n",
    "        {\n",
    "            \"question\": \"古埃及金字塔最初是用来做什么的？\\n\",\n",
    "            \"options\": [\"A. 皇室宫殿\", \"B. 天文观测站\", \"C. 法老的陵墓\", \"D. 宗教祭祀场所\"],\n",
    "            \"answer\": \"C\"\n",
    "        },\n",
    "        {\n",
    "            \"question\": \"古罗马斗兽场（罗马竞技场）最初的名字是什么？\",\n",
    "            \"options\": [\"A. 凯旋门\", \"B. 弗拉维圆形剧场\", \"C. 万神殿\", \"D. 特洛伊竞技场\"],\n",
    "            \"answer\": \"B\"\n",
    "        },\n",
    "        {\n",
    "            \"question\": \"中国古代哪个朝代发明了火药？\",\n",
    "            \"options\": [\"A. 唐朝\", \"B. 宋朝\", \"C. 元朝\", \"D. 明朝\"],\n",
    "            \"answer\": \"A\"\n",
    "        }\n",
    "    ]\n",
    "    \n",
    "    question = random.choice(questions)\n",
    "    question_text = question[\"question\"]\n",
    "    for option in question[\"options\"]:\n",
    "        question_text += option + \"\\n\"\n",
    "    right_answer = question[\"answer\"]\n",
    "    \n",
    "    return question_text,right_answer\n",
    "\n",
    "for i in range(4):\n",
    "    question_text, right_answer = get_history_question()\n",
    "    print(question_text)\n",
    "    response = client.chat.completions.create(\n",
    "        model=\"deepseek-chat\",\n",
    "        messages=[\n",
    "            {\"role\": \"user\", \"content\": question_text + \"; 直接回答选项的字母\"}\n",
    "        ],\n",
    "        max_tokens=2\n",
    "    )\n",
    "    print(f\"大模型的答案是 {response.choices[0].message.content}, 正确答案是 {right_answer}\")\n",
    "\n"
   ],
   "metadata": {
    "collapsed": false,
    "ExecuteTime": {
     "end_time": "2025-01-25T13:10:12.237403Z",
     "start_time": "2025-01-25T13:10:07.735789Z"
    }
   },
   "id": "e2e6ed1120dabd12",
   "execution_count": 83
  },
  {
   "cell_type": "markdown",
   "source": [],
   "metadata": {
    "collapsed": false
   },
   "id": "e6b54a3ab6afe07c"
  },
  {
   "cell_type": "markdown",
   "source": [
    "### 1.2.2 生成备选项数量n控制（测试后发现deepseek暂时只支持1个备选回答）"
   ],
   "metadata": {
    "collapsed": false
   },
   "id": "8eb88d12cbbe9cf8"
  },
  {
   "cell_type": "code",
   "outputs": [],
   "source": [
    "response = client.chat.completions.create(\n",
    "    model=\"deepseek-chat\",\n",
    "    messages=[\n",
    "        {\n",
    "            \"role\": \"user\",\n",
    "            \"content\": \"帮我起一个吸引人眼球的文章标题：基于Llama3.2的角色扮演大模型\"\n",
    "        }\n",
    "    ],\n",
    "    n=1\n",
    ")\n"
   ],
   "metadata": {
    "collapsed": false,
    "ExecuteTime": {
     "end_time": "2025-01-25T13:12:34.130712Z",
     "start_time": "2025-01-25T13:12:24.456070Z"
    }
   },
   "id": "508fda7f80333b84",
   "execution_count": 86
  },
  {
   "cell_type": "code",
   "outputs": [
    {
     "data": {
      "text/plain": "[Choice(finish_reason='stop', index=0, logprobs=None, message=ChatCompletionMessage(content='以下是一些基于 Llama3.2 的角色扮演大模型的文章标题，旨在吸引眼球：\\n\\n**强调创新和突破：**\\n\\n* **Llama3.2 引领角色扮演革命：下一代大模型如何改变游戏规则**\\n* **超越传统：Llama3.2 如何重新定义角色扮演体验**\\n* **角色扮演的未来已来：Llama3.2 大模型开启无限可能**\\n\\n**突出沉浸感和真实感：**\\n\\n* **与 Llama3.2 一起进入角色：体验前所未有的沉浸式角色扮演**\\n* **打破次元壁：Llama3.2 如何创造栩栩如生的虚拟角色**\\n* **你的故事，你的世界：Llama3.2 赋予角色扮演无限自由**\\n\\n**强调应用场景和潜力：**\\n\\n* **从游戏到教育：Llama3.2 角色扮演大模型的无限应用**\\n* **Llama3.2 赋能未来：角色扮演如何改变我们的生活**\\n* **解锁创造力：Llama3.2 如何激发角色扮演的无限可能**\\n\\n**更具吸引力和悬念：**\\n\\n* **你准备好迎接 Llama3.2 了吗？角色扮演的未来即将到来**\\n* **Llama3.2：隐藏在代码中的角色扮演魔法**\\n* **小心！Llama3.2 可能会让你沉迷于角色扮演无法自拔**\\n\\n**最终选择哪个标题取决于你的文章内容和目标受众。** \\n\\n以下是一些额外的建议：\\n\\n* 使用数字和数据来增加标题的说服力。\\n* 使用疑问句或感叹句来吸引读者的注意力。\\n* 使用比喻或类比来使标题更生动形象。\\n\\n希望这些标题能给你带来灵感！', refusal=None, role='assistant', audio=None, function_call=None, tool_calls=None))]"
     },
     "execution_count": 87,
     "metadata": {},
     "output_type": "execute_result"
    }
   ],
   "source": [
    "response.choices"
   ],
   "metadata": {
    "collapsed": false,
    "ExecuteTime": {
     "end_time": "2025-01-25T13:12:34.142170Z",
     "start_time": "2025-01-25T13:12:34.133814Z"
    }
   },
   "id": "248e6e13f9dcf8b3",
   "execution_count": 87
  },
  {
   "cell_type": "code",
   "outputs": [
    {
     "data": {
      "text/plain": "Choice(finish_reason='stop', index=0, logprobs=None, message=ChatCompletionMessage(content='以下是一些基于 Llama3.2 的角色扮演大模型的文章标题，旨在吸引眼球：\\n\\n**强调创新和突破：**\\n\\n* **Llama3.2 引领角色扮演革命：下一代大模型如何改变游戏规则**\\n* **超越传统：Llama3.2 如何重新定义角色扮演体验**\\n* **角色扮演的未来已来：Llama3.2 大模型开启无限可能**\\n\\n**突出沉浸感和真实感：**\\n\\n* **与 Llama3.2 一起进入角色：体验前所未有的沉浸式角色扮演**\\n* **打破次元壁：Llama3.2 如何创造栩栩如生的虚拟角色**\\n* **你的故事，你的世界：Llama3.2 赋予角色扮演无限自由**\\n\\n**强调应用场景和潜力：**\\n\\n* **从游戏到教育：Llama3.2 角色扮演大模型的无限应用**\\n* **Llama3.2 赋能未来：角色扮演如何改变我们的生活**\\n* **解锁创造力：Llama3.2 如何激发角色扮演的无限可能**\\n\\n**更具吸引力和悬念：**\\n\\n* **你准备好迎接 Llama3.2 了吗？角色扮演的未来即将到来**\\n* **Llama3.2：隐藏在代码中的角色扮演魔法**\\n* **小心！Llama3.2 可能会让你沉迷于角色扮演无法自拔**\\n\\n**最终选择哪个标题取决于你的文章内容和目标受众。** \\n\\n以下是一些额外的建议：\\n\\n* 使用数字和数据来增加标题的说服力。\\n* 使用疑问句或感叹句来吸引读者的注意力。\\n* 使用比喻或类比来使标题更生动形象。\\n\\n希望这些标题能给你带来灵感！', refusal=None, role='assistant', audio=None, function_call=None, tool_calls=None))"
     },
     "execution_count": 88,
     "metadata": {},
     "output_type": "execute_result"
    }
   ],
   "source": [
    "response.choices[0]"
   ],
   "metadata": {
    "collapsed": false,
    "ExecuteTime": {
     "end_time": "2025-01-25T13:12:42.547383Z",
     "start_time": "2025-01-25T13:12:42.545408Z"
    }
   },
   "id": "3deafda4890fea13",
   "execution_count": 88
  },
  {
   "cell_type": "markdown",
   "source": [
    "### 1.2.3 随机性和精确性：temperature(0-2越低越稳定，越高越随机)；top_p（0-1）"
   ],
   "metadata": {
    "collapsed": false
   },
   "id": "abed14f22ee2947a"
  },
  {
   "cell_type": "code",
   "outputs": [
    {
     "data": {
      "text/plain": "ChatCompletion(id='0c6f6243-74ea-4b7c-954e-6f940d438c3b', choices=[Choice(finish_reason='stop', index=0, logprobs=None, message=ChatCompletionMessage(content='1. 狂风卷地地欲裂，旌旗映日银光闪。  \\n2. 暴雨倾天天欲坠，剑影破空寒芒现。  \\n3. 黄沙漫天日欲昏，铁骑踏尘烟尘起。  \\n4. 惊雷震天天欲裂，战鼓擂动山河动。  \\n5. 烈火焚城城欲烬，刀光映月冷霜凝。', refusal=None, role='assistant', audio=None, function_call=None, tool_calls=None))], created=1737810854, model='deepseek-chat', object='chat.completion', service_tier=None, system_fingerprint='fp_3a5770e1b4', usage=CompletionUsage(completion_tokens=92, prompt_tokens=22, total_tokens=114, completion_tokens_details=None, prompt_tokens_details=PromptTokensDetails(audio_tokens=None, cached_tokens=0), prompt_cache_hit_tokens=0, prompt_cache_miss_tokens=22))"
     },
     "execution_count": 90,
     "metadata": {},
     "output_type": "execute_result"
    }
   ],
   "source": [
    "response = client.chat.completions.create(\n",
    "    model=\"deepseek-chat\",\n",
    "    messages=[\n",
    "        {\n",
    "            \"role\": \"user\",\n",
    "            \"content\": \"仿写几句：黑云压城城欲摧，甲光向日金鳞开。\"\n",
    "        }\n",
    "    ],\n",
    "    temperature=0,\n",
    "    n=1 # 暂时只支持n=1\n",
    ")\n",
    "response"
   ],
   "metadata": {
    "collapsed": false,
    "ExecuteTime": {
     "end_time": "2025-01-25T13:14:17.516527Z",
     "start_time": "2025-01-25T13:14:14.364342Z"
    }
   },
   "id": "4abf2778bd4b7183",
   "execution_count": 90
  },
  {
   "cell_type": "code",
   "outputs": [
    {
     "data": {
      "text/plain": "ChatCompletion(id='80c6fe48-0845-4a0f-b131-1807fbd24c2f', choices=[Choice(finish_reason='length', index=0, logprobs=None, message=ChatCompletionMessage(content='1. 清风拂面凉，宛如夜露霜。\\n2. 山涧流水', refusal=None, role='assistant', audio=None, function_call=None, tool_calls=None))], created=1737810890, model='deepseek-chat', object='chat.completion', service_tier=None, system_fingerprint='fp_3a5770e1b4', usage=CompletionUsage(completion_tokens=19, prompt_tokens=17, total_tokens=36, completion_tokens_details=None, prompt_tokens_details=PromptTokensDetails(audio_tokens=None, cached_tokens=0), prompt_cache_hit_tokens=0, prompt_cache_miss_tokens=17))"
     },
     "execution_count": 91,
     "metadata": {},
     "output_type": "execute_result"
    }
   ],
   "source": [
    "response = client.chat.completions.create(\n",
    "    model=\"deepseek-chat\", \n",
    "    messages=[\n",
    "        {\n",
    "            \"role\": \"user\",\n",
    "            \"content\": \"仿写几句：床前明月光，疑是地上霜。\"\n",
    "        }\n",
    "    ],\n",
    "    temperature=2,\n",
    "    n=1,\n",
    "    max_tokens = 20\n",
    ")\n",
    "response"
   ],
   "metadata": {
    "collapsed": false,
    "ExecuteTime": {
     "end_time": "2025-01-25T13:14:52.062900Z",
     "start_time": "2025-01-25T13:14:50.155157Z"
    }
   },
   "id": "f8c05e981efbf7ff",
   "execution_count": 91
  },
  {
   "cell_type": "code",
   "outputs": [
    {
     "data": {
      "text/plain": "ChatCompletion(id='fe4059ed-7f2a-40e6-af78-9a5886ed2a09', choices=[Choice(finish_reason='length', index=0, logprobs=None, message=ChatCompletionMessage(content='1. 窗前竹影摇，疑是故人来。\\n2. 湖中星点', refusal=None, role='assistant', audio=None, function_call=None, tool_calls=None))], created=1737810953, model='deepseek-chat', object='chat.completion', service_tier=None, system_fingerprint='fp_3a5770e1b4', usage=CompletionUsage(completion_tokens=20, prompt_tokens=17, total_tokens=37, completion_tokens_details=None, prompt_tokens_details=PromptTokensDetails(audio_tokens=None, cached_tokens=0), prompt_cache_hit_tokens=0, prompt_cache_miss_tokens=17))"
     },
     "execution_count": 92,
     "metadata": {},
     "output_type": "execute_result"
    }
   ],
   "source": [
    "response = client.chat.completions.create(\n",
    "    model=\"deepseek-chat\", \n",
    "    messages=[\n",
    "        {\n",
    "            \"role\": \"user\",\n",
    "            \"content\": \"仿写几句：床前明月光，疑是地上霜。\"\n",
    "        }\n",
    "    ],\n",
    "    temperature=1.5,\n",
    "    n=1,\n",
    "    max_tokens = 20\n",
    ")\n",
    "response"
   ],
   "metadata": {
    "collapsed": false,
    "ExecuteTime": {
     "end_time": "2025-01-25T13:15:55.554532Z",
     "start_time": "2025-01-25T13:15:53.641430Z"
    }
   },
   "id": "991cbfe3473fee88",
   "execution_count": 92
  },
  {
   "cell_type": "code",
   "outputs": [],
   "source": [
    "response = client.chat.completions.create(\n",
    "    model=\"deepseek-chat\",  \n",
    "    messages=[\n",
    "        {\n",
    "            \"role\": \"user\",\n",
    "            \"content\": \"仿写几句：打扰大家一下，今天啥也没发生，纯打扰\"\n",
    "        }\n",
    "    ],\n",
    "    top_p=0.1,\n",
    "    n=1\n",
    ")\n"
   ],
   "metadata": {
    "collapsed": false,
    "ExecuteTime": {
     "end_time": "2025-01-25T13:16:50.707636Z",
     "start_time": "2025-01-25T13:16:47.816019Z"
    }
   },
   "id": "c69b4d39d6976c09",
   "execution_count": 94
  },
  {
   "cell_type": "code",
   "outputs": [
    {
     "data": {
      "text/plain": "ChatCompletion(id='f402407b-2754-403f-869c-9aa79ca83d5f', choices=[Choice(finish_reason='stop', index=0, logprobs=None, message=ChatCompletionMessage(content='1. 抱歉打断一下，今天风平浪静，纯粹来打个招呼。  \\n2. 冒个泡，今天无事发生，就是单纯想刷个存在感。  \\n3. 打扰了，今天一切如常，纯粹来凑个热闹。  \\n4. 不好意思，今天没啥大事，就是来随便说两句。  \\n5. 嘿，今天世界和平，纯属路过打个卡。', refusal=None, role='assistant', audio=None, function_call=None, tool_calls=None))], created=1737811007, model='deepseek-chat', object='chat.completion', service_tier=None, system_fingerprint='fp_3a5770e1b4', usage=CompletionUsage(completion_tokens=88, prompt_tokens=18, total_tokens=106, completion_tokens_details=None, prompt_tokens_details=PromptTokensDetails(audio_tokens=None, cached_tokens=0), prompt_cache_hit_tokens=0, prompt_cache_miss_tokens=18))"
     },
     "execution_count": 95,
     "metadata": {},
     "output_type": "execute_result"
    }
   ],
   "source": [
    "response"
   ],
   "metadata": {
    "collapsed": false,
    "ExecuteTime": {
     "end_time": "2025-01-25T13:16:52.928768Z",
     "start_time": "2025-01-25T13:16:52.926844Z"
    }
   },
   "id": "37b72862549c1337",
   "execution_count": 95
  },
  {
   "cell_type": "code",
   "outputs": [],
   "source": [
    "response = client.chat.completions.create(\n",
    "    model=\"deepseek-chat\",  \n",
    "    messages=[\n",
    "        {\n",
    "            \"role\": \"user\",\n",
    "            \"content\": \"仿写几句：打扰大家一下，今天啥也没发生，纯打扰\"\n",
    "        }\n",
    "    ],\n",
    "    top_p=1,\n",
    "    n=1\n",
    ")\n"
   ],
   "metadata": {
    "collapsed": false,
    "ExecuteTime": {
     "end_time": "2025-01-25T13:17:25.580895Z",
     "start_time": "2025-01-25T13:17:22.606746Z"
    }
   },
   "id": "5cc62f998507b4bd",
   "execution_count": 96
  },
  {
   "cell_type": "code",
   "outputs": [
    {
     "data": {
      "text/plain": "ChatCompletion(id='56bdf9fd-007e-40c8-9932-1030d3bf70f4', choices=[Choice(finish_reason='stop', index=0, logprobs=None, message=ChatCompletionMessage(content='1. 抱歉打断一下，今天风平浪静，纯粹冒个泡。  \\n2. 不好意思，今天无事发生，单纯刷个存在感。  \\n3. 打扰了，今天一切如常，纯粹来打个招呼。  \\n4. 冒个泡，今天没啥特别的，纯属路过。  \\n5. 抱歉打扰，今天岁月静好，纯粹来露个脸。', refusal=None, role='assistant', audio=None, function_call=None, tool_calls=None))], created=1737811042, model='deepseek-chat', object='chat.completion', service_tier=None, system_fingerprint='fp_3a5770e1b4', usage=CompletionUsage(completion_tokens=85, prompt_tokens=18, total_tokens=103, completion_tokens_details=None, prompt_tokens_details=PromptTokensDetails(audio_tokens=None, cached_tokens=0), prompt_cache_hit_tokens=0, prompt_cache_miss_tokens=18))"
     },
     "execution_count": 97,
     "metadata": {},
     "output_type": "execute_result"
    }
   ],
   "source": [
    "response"
   ],
   "metadata": {
    "collapsed": false,
    "ExecuteTime": {
     "end_time": "2025-01-25T13:17:28.571671Z",
     "start_time": "2025-01-25T13:17:28.569687Z"
    }
   },
   "id": "c9e7f5f8dcba31f0",
   "execution_count": 97
  },
  {
   "cell_type": "markdown",
   "source": [
    "### 1.2.4 随机数种子seed"
   ],
   "metadata": {
    "collapsed": false
   },
   "id": "dbb638787a6dbecb"
  },
  {
   "cell_type": "code",
   "outputs": [
    {
     "name": "stdout",
     "output_type": "stream",
     "text": [
      "fp_3a5770e1b4\n",
      "1. **\"Multi-Agent Reinforcement Learning: A Selective Overview of Theories and Algorithms\"**  \n",
      "   该论文系统性地回顾了多智能体强化学习（MARL）的理论与算法，探讨了在协作、竞争和混合场景中智能体如何通过学习和优化策略实现高效协作。论文重点分析了分布式决策、通信机制以及博弈论在多智能体系统中的应用。\n",
      "\n",
      "2. **\"Cooperative Multi-Agent Systems: From Theory to Practice\"**  \n",
      "   本文研究了多智能体协作系统的理论基础及其在实际应用中的实现方法，涵盖了任务分配、资源管理和分布式优化等关键技术。论文还通过案例研究展示了多智能体协作在机器人、自动驾驶和智能电网等领域的成功应用。\n",
      "\n",
      "3. **\"Communication and Learning in Multi-Agent Systems: A Survey\"**  \n",
      "   该论文调查了多智能体系统中通信与学习的关键问题，重点讨论了智能体如何通过信息共享和协作学习提升整体性能。论文还总结了现有的通信协议和学习算法，并指出了未来研究方向。\n",
      "\n",
      "4. **\"Decentralized Control and Coordination in Multi-Agent Systems\"**  \n",
      "   本文探讨了去中心化控制策略在多智能体协作中的应用，分析了如何在缺乏中央协调器的情况下实现智能体的高效协作。论文提出了基于局部信息共享和分布式优化的方法，并通过仿真实验验证了其有效性。\n",
      "\n",
      "5. **\"Multi-Agent Collaboration in Dynamic Environments: Challenges and Solutions\"**  \n",
      "   该论文研究了动态环境中多智能体协作面临的挑战，如环境不确定性、任务复杂性和资源限制等。论文提出了一种基于自适应学习和实时决策的协作框架，并通过实验展示了其在复杂场景中的鲁棒性和灵活性。\n",
      "****************************************\n"
     ]
    }
   ],
   "source": [
    "# 尝试多次运行\n",
    "response = client.chat.completions.create(\n",
    "    model=\"deepseek-chat\",\n",
    "    messages=[\n",
    "        {\n",
    "            \"role\": \"user\",\n",
    "            \"content\": \"写5句关于多智能体协作的相关论文的介绍\"\n",
    "        }\n",
    "    ],\n",
    "    seed=0,\n",
    ")\n",
    "\n",
    "print(response.system_fingerprint) # 系统指纹，判断是否一致\n",
    "\n",
    "for choice in response.choices:\n",
    "    print(choice.message.content)\n",
    "    print(\"****\" * 10)\n"
   ],
   "metadata": {
    "collapsed": false,
    "ExecuteTime": {
     "end_time": "2025-01-25T13:18:34.292531Z",
     "start_time": "2025-01-25T13:18:25.720403Z"
    }
   },
   "id": "c7bc14af88581420",
   "execution_count": 98
  },
  {
   "cell_type": "code",
   "outputs": [
    {
     "name": "stdout",
     "output_type": "stream",
     "text": [
      "fp_3a5770e1b4\n",
      "1. **\"Multi-Agent Reinforcement Learning: A Survey\"**  \n",
      "这篇论文全面综述了多智能体强化学习（MARL）领域的最新进展，探讨了多智能体协作中的关键挑战，如非平稳性、通信和信用分配问题，并提出了多种解决方案和未来研究方向。\n",
      "\n",
      "2. **\"Cooperative Multi-Agent Systems: From Theory to Practice\"**  \n",
      "该论文从理论和实践两个角度分析了多智能体协作系统，重点讨论了如何设计高效的协作策略以及在实际应用（如机器人协作和自动驾驶）中的实现方法。\n",
      "\n",
      "3. **\"Communication and Learning in Multi-Agent Systems\"**  \n",
      "本文研究了多智能体系统中的通信机制及其对协作学习的影响，提出了一种基于信息共享的协作框架，能够显著提高多智能体在复杂任务中的表现。\n",
      "\n",
      "4. **\"Decentralized Multi-Agent Coordination: Algorithms and Applications\"**  \n",
      "这篇论文提出了一种去中心化的多智能体协作算法，适用于资源受限的环境，并通过实验验证了其在分布式任务分配和路径规划中的有效性。\n",
      "\n",
      "5. **\"Emergent Cooperation in Multi-Agent Systems: A Game-Theoretic Approach\"**  \n",
      "该论文从博弈论的角度分析了多智能体系统中的协作行为，研究了在竞争与合作的混合环境中，智能体如何通过策略调整实现自发的协作。\n",
      "****************************************\n"
     ]
    }
   ],
   "source": [
    "# 尝试多次运行,这里好像有问题，指纹是一致的\n",
    "response = client.chat.completions.create(\n",
    "    model=\"deepseek-chat\",\n",
    "    messages=[\n",
    "        {\n",
    "            \"role\": \"user\",\n",
    "            \"content\": \"写5句关于多智能体协作的相关论文的介绍\"\n",
    "        }\n",
    "    ],\n",
    "    seed=0,\n",
    ")\n",
    "\n",
    "print(response.system_fingerprint) # 系统指纹，判断是否一致\n",
    "\n",
    "for choice in response.choices:\n",
    "    print(choice.message.content)\n",
    "    print(\"****\" * 10)\n"
   ],
   "metadata": {
    "collapsed": false,
    "ExecuteTime": {
     "end_time": "2025-01-25T13:25:29.427314Z",
     "start_time": "2025-01-25T13:25:22.012398Z"
    }
   },
   "id": "8f3d1a3d1d9b6e04",
   "execution_count": 106
  },
  {
   "cell_type": "markdown",
   "source": [
    "### 1.2.5 模型文本生成停止条件：stop"
   ],
   "metadata": {
    "collapsed": false
   },
   "id": "bb97db572d1cf134"
  },
  {
   "cell_type": "code",
   "outputs": [
    {
     "data": {
      "text/plain": "'以下是5篇关于多智能体系统（Multi-Agent Systems, MAS）的经典论文，涵盖了不同的应用领域和研究方向。你可以根据具体需求进一步查阅这些论文的详细内容：\\n\\n---\\n\\n### 1. **\"Cooperative Multi-Agent Learning: The State of the Art\"**\\n   - **作者**: Lucian Buşoniu, Robert Babuška, Bart De Schutter\\n   - **出版年份**: 2010\\n   - **摘要**: 这篇综述文章探讨了多智能体系统中的协作学习问题，涵盖了强化学习、博弈论和分布式优化等领域。文章总结了多智能体学习的主要方法、挑战和未来研究方向。\\n   - **关键词**: 多智能体学习、强化学习、协作、博弈论\\n\\n---\\n\\n### 2. **\"Multi-Agent Reinforcement Learning: Independent vs. Cooperative Agents\"**\\n   - **作者**: Ming Tan\\n   - **出版年份**: 1993\\n   - **摘要**: 这篇论文研究了多智能体强化学习中的独立学习和协作学习之间的区别。作者通过实验分析了不同学习策略在多智能体环境中的表现。\\n   - **关键词**: 多智能体强化学习、独立学习、协作学习\\n\\n---\\n\\n### 3. **\"Decentralized Multi-Agent Reinforcement Learning in Partially Observable Environments\"**\\n   - **作者**: Frans A. Oliehoek, Christopher Amato\\n   - **出版年份**: 2016\\n   - **摘要**: 该论文研究了在部分可观测环境下的去中心化多智能体强化学习问题。作者提出了一种基于信念状态的方法，用于解决智能体之间的通信和协作问题。\\n   - **关键词**: 去中心化学习、部分可观测环境、信念状态\\n\\n---\\n\\n### 4. **\"Multi-Agent Systems: A Survey from a Machine Learning Perspective\"**\\n   - **作者**: Peter Stone, Manuela Veloso\\n   - **出版年份**: 2000\\n   - **摘要**: 这篇综述从机器学习的角度对多智能体系统进行了全面的分析，涵盖了智能体建模、协作、竞争和学习等方面。文章还讨论了多智能体系统在机器人、游戏和经济学中的应用。\\n   - **关键词**: 多智能体系统、机器学习、协作、竞争\\n\\n---\\n\\n### 5. **\"Emergent Tool Use From Multi-Agent Autocurricula\"**\\n   - **作者**: OpenAI (Bowen Baker, et al.)\\n   - **出版年份**: 2019\\n   - **摘要**: 这篇论文展示了多智能体系统在复杂环境中通过自学习（autocurricula）涌现出工具使用行为的研究。实验表明，智能体可以通过竞争和协作学习到复杂的策略。\\n   - **关键词**: 自学习、工具使用、多智能体竞争、协作\\n\\n---\\n\\n### 如何获取这些论文：\\n1. 访问学术数据库（如 [Google Scholar](https://scholar.google.com)、[Semantic Scholar](https://www.semanticscholar.org) 或 [IEEE Xplore](https://ieeexplore.ieee.org)）。\\n2. 输入论文标题或作者姓名进行搜索。\\n3. 如果无法直接下载，可以尝试通过 [Sci-Hub](https://sci-hub.se) 获取。\\n\\n如果你需要更具体的领域或主题的论文，请告诉我，我可以进一步推荐！'"
     },
     "execution_count": 103,
     "metadata": {},
     "output_type": "execute_result"
    }
   ],
   "source": [
    "# stop参数默认空值，如果提供值，将在文本中寻找与之匹配的最多4个序列，并在匹配到这些序列之后停止生成\n",
    "response = client.chat.completions.create(\n",
    "    model=\"deepseek-chat\", \n",
    "    messages=[\n",
    "        {\n",
    "            \"role\": \"user\",\n",
    "            \"content\": \"请帮我找5个多智能体的论文\"\n",
    "        }\n",
    "    ]\n",
    "    # stop=\"3\"  # 可选参数，用于指定生成文本的终止条件\n",
    ")\n",
    "\n",
    "response.choices[0].message.content\n",
    "\n"
   ],
   "metadata": {
    "collapsed": false,
    "ExecuteTime": {
     "end_time": "2025-01-25T13:22:42.695263Z",
     "start_time": "2025-01-25T13:22:27.417130Z"
    }
   },
   "id": "62950b73192acc84",
   "execution_count": 103
  },
  {
   "cell_type": "code",
   "outputs": [
    {
     "data": {
      "text/plain": "'当然可以！以下是5篇关于多智能体系统（Multi-Agent Systems, MAS）的经典或前沿论文，供你参考：\\n\\n---\\n\\n### 1. **《Multi-Agent Reinforcement Learning: Independent vs. Cooperative Agents》**\\n   - **作者**: Ming Tan, 1993\\n   - **摘要**: 这篇论文探讨了多智能体强化学习中的独立学习和合作学习策略，分析了不同学习方式对系统性能的影响。\\n   - **关键词**: 多智能体强化学习、合作学习、独立学习\\n   - **链接**: [DOI](https://doi.org/10.5555/6'"
     },
     "execution_count": 108,
     "metadata": {},
     "output_type": "execute_result"
    }
   ],
   "source": [
    "# stop参数默认空值，如果提供值，将在文本中寻找与之匹配的最多4个序列，并在匹配到这些序列之后停止生成\n",
    "response = client.chat.completions.create(\n",
    "    model=\"deepseek-chat\", \n",
    "    messages=[\n",
    "        {\n",
    "            \"role\": \"user\",\n",
    "            \"content\": \"请帮我找5个多智能体的论文\"\n",
    "        }\n",
    "    ],\n",
    "    stop=\"4\"  # 可选参数，用于指定生成文本的终止条件，下面出现的链接很有可能是/10.5555/64所以在“4”stop了\n",
    ")\n",
    "\n",
    "response.choices[0].message.content\n",
    "\n"
   ],
   "metadata": {
    "collapsed": false,
    "ExecuteTime": {
     "end_time": "2025-01-25T13:27:39.860135Z",
     "start_time": "2025-01-25T13:27:36.257253Z"
    }
   },
   "id": "1ee1f8043fe04ba5",
   "execution_count": 108
  },
  {
   "cell_type": "code",
   "outputs": [
    {
     "name": "stdout",
     "output_type": "stream",
     "text": [
      "<answer>你知道吗？章鱼有三颗心，其中两颗负责将血液泵送到鳃，第三颗则负责将血液泵送到身体的其他部分。而且，当章鱼游泳时，负责身体的那颗心会停止跳动。\n"
     ]
    }
   ],
   "source": [
    "prompt = \"你好，请帮我列出一个冷知识，将回答用<answer></answer>标签包围。\"\n",
    "response = client.chat.completions.create(\n",
    "    model=\"deepseek-chat\",\n",
    "    messages=[\n",
    "        {\n",
    "            \"role\": \"user\",\n",
    "            \"content\": prompt\n",
    "        }\n",
    "    ],\n",
    "    stop=\"</answer>\"\n",
    ")\n",
    "\n",
    "print(response.choices[0].message.content)\n"
   ],
   "metadata": {
    "collapsed": false,
    "ExecuteTime": {
     "end_time": "2025-01-25T13:24:19.634218Z",
     "start_time": "2025-01-25T13:24:17.360173Z"
    }
   },
   "id": "e005a98b46b8f626",
   "execution_count": 105
  },
  {
   "cell_type": "markdown",
   "source": [
    "### 1.2.6 控制模型生成文本的新颖性和多样性：frequency_penalty和presence_penalty"
   ],
   "metadata": {
    "collapsed": false
   },
   "id": "b3deb23abd9137c3"
  },
  {
   "cell_type": "code",
   "outputs": [
    {
     "name": "stdout",
     "output_type": "stream",
     "text": [
      "大狗看见了大猫，发出了很大的声音。  \n",
      "大鸟飞过了大树，掉下了一片大叶子。  \n",
      "一个大浪拍打在大岩石上，激起了巨大的水花。  \n",
      "大熊追逐着兔子穿过了一大片田野。  \n",
      "一辆大卡车轰隆隆地滚下了大山坡。  \n",
      "大象踩着沉重的步伐穿过森林，留下了一条明显的痕迹。\n",
      "****************************************\n"
     ]
    }
   ],
   "source": [
    "prompt = \"\"\"\n",
    "用中文表达这句话:\n",
    "The big dog saw the big cat and made a big noise.\n",
    "The big bird flew over the big tree and dropped a big leaf.\n",
    "A big wave hit the big rock, causing a big splash.\n",
    "The big bear chased the big rabbit across a big field.\n",
    "The big truck rolled down the big hill with a big rumble.\n",
    "The big elephant stomped through the big forest, leaving a big trail.\n",
    "\"\"\"\n",
    "\n",
    "response = client.chat.completions.create(\n",
    "    model=\"deepseek-chat\",\n",
    "    messages=[\n",
    "        {\"role\": \"user\", \"content\": prompt}\n",
    "    ],\n",
    "    frequency_penalty=2,\n",
    ")\n",
    "\n",
    "for choice in response.choices:\n",
    "    print(choice.message.content)\n",
    "    print(\"****\" * 10)\n"
   ],
   "metadata": {
    "collapsed": false,
    "ExecuteTime": {
     "end_time": "2025-01-25T13:28:50.336934Z",
     "start_time": "2025-01-25T13:28:47.567458Z"
    }
   },
   "id": "5a461171b53e8fa7",
   "execution_count": 109
  },
  {
   "cell_type": "code",
   "outputs": [
    {
     "name": "stdout",
     "output_type": "stream",
     "text": [
      "大狗看见了大猫，发出了很大的声音。  \n",
      "大鸟飞过了大树，掉下了一片大叶子。  \n",
      "大浪拍打在大岩石上，激起了很大的水花。  \n",
      "大熊追逐着大兔子，穿过了一大片田野。  \n",
      "大卡车轰隆隆地滚下了大山坡。  \n",
      "大象踩过大森林，留下了一条明显的痕迹。\n",
      "****************************************\n"
     ]
    }
   ],
   "source": [
    "prompt = \"\"\"\n",
    "用中文表达这句话:\n",
    "The big dog saw the big cat and made a big noise.\n",
    "The big bird flew over the big tree and dropped a big leaf.\n",
    "A big wave hit the big rock, causing a big splash.\n",
    "The big bear chased the big rabbit across a big field.\n",
    "The big truck rolled down the big hill with a big rumble.\n",
    "The big elephant stomped through the big forest, leaving a big trail.\n",
    "\"\"\"\n",
    "\n",
    "response = client.chat.completions.create(\n",
    "    model=\"deepseek-chat\",\n",
    "    messages=[\n",
    "        {\"role\": \"user\", \"content\": prompt}\n",
    "    ],\n",
    "    frequency_penalty=0,\n",
    ")\n",
    "\n",
    "for choice in response.choices:\n",
    "    print(choice.message.content)\n",
    "    print(\"****\" * 10)\n"
   ],
   "metadata": {
    "collapsed": false,
    "ExecuteTime": {
     "end_time": "2025-01-25T13:29:09.017679Z",
     "start_time": "2025-01-25T13:29:06.232495Z"
    }
   },
   "id": "4403b395e514617c",
   "execution_count": 110
  },
  {
   "cell_type": "markdown",
   "source": [
    "# 2 社交媒体情绪数据分析"
   ],
   "metadata": {
    "collapsed": false
   },
   "id": "b64ed25b2fe2a1c7"
  },
  {
   "cell_type": "markdown",
   "source": [
    "## 2.1 Tool Use 函数调用"
   ],
   "metadata": {
    "collapsed": false
   },
   "id": "58b89657f80710ef"
  },
  {
   "cell_type": "code",
   "outputs": [],
   "source": [
    "from openai import OpenAI\n",
    "from dotenv import load_dotenv\n",
    "import os\n",
    "\n",
    "# 加载 .env 文件\n",
    "load_dotenv()\n",
    "\n",
    "# 从环境变量中获取 API Key 和 Base URL\n",
    "api_key = os.getenv(\"API_KEY\")\n",
    "base_url = os.getenv(\"BASE_URL\")\n",
    "\n",
    "# 初始化客户端\n",
    "client = OpenAI(api_key=api_key, base_url=base_url)\n",
    "\n",
    "def send_messages(messages):\n",
    "    response = client.chat.completions.create(\n",
    "        model=\"deepseek-chat\",\n",
    "        messages=messages,\n",
    "        tools=tools\n",
    "    )\n",
    "    return response.choices[0].message"
   ],
   "metadata": {
    "collapsed": false,
    "ExecuteTime": {
     "end_time": "2025-01-25T13:46:06.073035Z",
     "start_time": "2025-01-25T13:46:06.056659Z"
    }
   },
   "id": "c0e2e9e48fcba684",
   "execution_count": 140
  },
  {
   "cell_type": "code",
   "outputs": [],
   "source": [
    "# 给deepseek的工具有固定格式,见官方文档\n",
    "# json schema\n",
    "# 先以天气函数举例测试\n",
    "\n",
    "tools = [\n",
    "    {\n",
    "        \"type\": \"function\",\n",
    "        \"function\": {\n",
    "            \"name\": \"get_weather\",\n",
    "            \"description\": \"Get weather of an location, the user shoud supply a location first\",\n",
    "            \"parameters\": {\n",
    "                \"type\": \"object\",\n",
    "                \"properties\": {\n",
    "                    \"location\": {\n",
    "                        \"type\": \"string\",\n",
    "                        \"description\": \"The city and state, e.g. San Francisco, CA\",\n",
    "                    }\n",
    "                },\n",
    "                \"required\": [\"location\"]\n",
    "            },\n",
    "        }\n",
    "    },\n",
    "]\n"
   ],
   "metadata": {
    "collapsed": false,
    "ExecuteTime": {
     "end_time": "2025-01-25T13:46:06.713592Z",
     "start_time": "2025-01-25T13:46:06.711604Z"
    }
   },
   "id": "cbd87dccb4a7bb5c",
   "execution_count": 141
  },
  {
   "cell_type": "code",
   "outputs": [
    {
     "name": "stdout",
     "output_type": "stream",
     "text": [
      "User>\t How's the weather in Hangzhou?\n"
     ]
    }
   ],
   "source": [
    "\n",
    "messages = [{\"role\": \"user\", \"content\": \"How's the weather in Hangzhou?\"}]\n",
    "message = send_messages(messages)\n",
    "print(f\"User>\\t {messages[0]['content']}\")\n"
   ],
   "metadata": {
    "collapsed": false,
    "ExecuteTime": {
     "end_time": "2025-01-25T13:46:09.049414Z",
     "start_time": "2025-01-25T13:46:07.564735Z"
    }
   },
   "id": "bd0747bf31432818",
   "execution_count": 142
  },
  {
   "cell_type": "code",
   "outputs": [
    {
     "name": "stdout",
     "output_type": "stream",
     "text": [
      "Model>\t \n"
     ]
    }
   ],
   "source": [
    "tool = message.tool_calls[0]\n",
    "messages.append(message)\n",
    "\n",
    "messages.append({\"role\": \"tool\", \"tool_call_id\": tool.id, \"content\": \"24℃\"})\n",
    "message = send_messages(messages)\n",
    "print(f\"Model>\\t {message.content}\")\n"
   ],
   "metadata": {
    "collapsed": false,
    "ExecuteTime": {
     "end_time": "2025-01-25T13:46:12.104860Z",
     "start_time": "2025-01-25T13:46:11.413925Z"
    }
   },
   "id": "f89d4e0ad311b8dd",
   "execution_count": 143
  },
  {
   "cell_type": "code",
   "outputs": [],
   "source": [
    "if response.choices[0].message.tool_calls:\n",
    "    function_call = response.choices[0].message.tool_calls[0].function\n",
    "    print(function_call.name)\n",
    "    print(function_call.arguments)\n"
   ],
   "metadata": {
    "collapsed": false,
    "ExecuteTime": {
     "end_time": "2025-01-25T13:46:13.279856Z",
     "start_time": "2025-01-25T13:46:13.278127Z"
    }
   },
   "id": "59204575e9420bb1",
   "execution_count": 144
  },
  {
   "cell_type": "markdown",
   "source": [
    "## 2.2 社交媒体文本情感分析"
   ],
   "metadata": {
    "collapsed": false
   },
   "id": "4c91d397e4d087e1"
  },
  {
   "cell_type": "code",
   "outputs": [
    {
     "name": "stdout",
     "output_type": "stream",
     "text": [
      "analyze_sentiment\n",
      "{\"text\":\"英伟达市值大涨！\",\"language\":\"中文\",\"sentiment_scores\":{\"positive\":0.9,\"negative\":0.1,\"neutral\":0.0}}\n"
     ]
    }
   ],
   "source": [
    "tools = [\n",
    "    {\n",
    "        \"type\": \"function\",\n",
    "        \"function\": {\n",
    "            \"name\": \"analyze_sentiment\",\n",
    "            \"description\": \"分析文本的情感倾向并给出具体分值\",\n",
    "            \"parameters\": {\n",
    "                \"type\": \"object\",\n",
    "                \"properties\": {\n",
    "                    \"text\": {\n",
    "                        \"type\": \"string\",\n",
    "                        \"description\": \"需要分析的文本内容\"\n",
    "                    },\n",
    "                    \"language\": {\n",
    "                        \"type\": \"string\",\n",
    "                        \"description\": \"文本的语言\",\n",
    "                        \"enum\": [\"中文\", \"英文\"]\n",
    "                    },\n",
    "                    \"sentiment_scores\": {\n",
    "                        \"type\": \"object\",\n",
    "                        \"description\": \"情感分析的具体分值\",\n",
    "                        \"properties\": {\n",
    "                            \"positive\": {\n",
    "                                \"type\": \"number\",\n",
    "                                \"description\": \"积极情感分值（0-1）\"\n",
    "                            },\n",
    "                            \"negative\": {\n",
    "                                \"type\": \"number\",\n",
    "                                \"description\": \"消极情感分值（0-1）\"\n",
    "                            },\n",
    "                            \"neutral\": {\n",
    "                                \"type\": \"number\",\n",
    "                                \"description\": \"中性情感分值（0-1）\"\n",
    "                            }\n",
    "                        }\n",
    "                    }\n",
    "                },\n",
    "                \"required\": [\"text\", \"sentiment_scores\"]\n",
    "            }\n",
    "        }\n",
    "    }\n",
    "]\n",
    "\n",
    "response = client.chat.completions.create(\n",
    "    model=\"deepseek-chat\",\n",
    "    messages=[{\"role\": \"user\", \"content\": \"分析这句话的情感：英伟达市值大涨！\"}],\n",
    "    tools=tools,\n",
    "    tool_choice=\"auto\"\n",
    ")\n",
    "\n",
    "if response.choices[0].message.tool_calls:\n",
    "    function_call = response.choices[0].message.tool_calls[0].function\n",
    "    print(function_call.name)\n",
    "    print(function_call.arguments)\n",
    "\n",
    "\n",
    "            "
   ],
   "metadata": {
    "collapsed": false,
    "ExecuteTime": {
     "end_time": "2025-01-25T13:48:58.576024Z",
     "start_time": "2025-01-25T13:48:56.663140Z"
    }
   },
   "id": "90864de26ff0ad8b",
   "execution_count": 146
  },
  {
   "cell_type": "markdown",
   "source": [
    "## 2.3 Tool Use完整流程"
   ],
   "metadata": {
    "collapsed": false
   },
   "id": "f944d456b0803beb"
  },
  {
   "cell_type": "code",
   "outputs": [],
   "source": [
    "# 给deepseek的工具有固定格式\n",
    "# json schema\n",
    "# 先以天气函数举例测试\n",
    "tools = [\n",
    "    {\n",
    "        \"type\": \"function\",\n",
    "        \"function\": {\n",
    "            \"name\": \"get_weather\",\n",
    "            \"description\": \"获取指定城市的天气信息\",\n",
    "            \"parameters\": {\n",
    "                \"type\": \"object\",\n",
    "                \"properties\": {\n",
    "                    \"city\": {\n",
    "                        \"type\": \"string\",\n",
    "                        \"description\": \"城市名称\"\n",
    "                    }\n",
    "                },\n",
    "                \"required\": [\"city\"]\n",
    "            }\n",
    "        }\n",
    "    }\n",
    "]"
   ],
   "metadata": {
    "collapsed": false,
    "ExecuteTime": {
     "end_time": "2025-01-25T13:54:14.751965Z",
     "start_time": "2025-01-25T13:54:14.750025Z"
    }
   },
   "id": "b6ead861264d5b0f",
   "execution_count": 167
  },
  {
   "cell_type": "code",
   "outputs": [],
   "source": [
    "messages=[{\"role\": \"user\", \"content\": \"悉尼今天天气如何？\"}]\n",
    "response = client.chat.completions.create(\n",
    "    model=\"deepseek-chat\",\n",
    "    messages=messages,\n",
    "    tools=tools,\n",
    "    tool_choice=\"auto\"  # 可选值: \"auto\", \"required\", \"none\",\n",
    "                        # {\"type\": \"function\", \"function\": {\"name\": \"function_name\"}}\n",
    ")"
   ],
   "metadata": {
    "collapsed": false,
    "ExecuteTime": {
     "end_time": "2025-01-25T13:54:16.788522Z",
     "start_time": "2025-01-25T13:54:15.499842Z"
    }
   },
   "id": "e4ed041c78f84ba1",
   "execution_count": 168
  },
  {
   "cell_type": "code",
   "outputs": [
    {
     "name": "stdout",
     "output_type": "stream",
     "text": [
      "Function(arguments='{\"city\":\"悉尼\"}', name='get_weather')\n",
      "get_weather\n",
      "{\"city\":\"悉尼\"}\n"
     ]
    }
   ],
   "source": [
    "tool_call = response.choices[0].message.tool_calls[0].function\n",
    "print(tool_call)\n",
    "print(tool_call.name)\n",
    "print(tool_call.arguments)\n"
   ],
   "metadata": {
    "collapsed": false,
    "ExecuteTime": {
     "end_time": "2025-01-25T13:54:17.716777Z",
     "start_time": "2025-01-25T13:54:17.714687Z"
    }
   },
   "id": "89f31bd2aa2b77f6",
   "execution_count": 169
  },
  {
   "cell_type": "code",
   "outputs": [
    {
     "name": "stdout",
     "output_type": "stream",
     "text": [
      "ChatCompletionMessage(content='', refusal=None, role='assistant', audio=None, function_call=None, tool_calls=[ChatCompletionMessageToolCall(id='call_0_38aa6d45-a9dd-4732-96b7-77699e95e562', function=Function(arguments='{\"city\":\"悉尼\"}', name='get_weather'), type='function', index=0)])\n"
     ]
    }
   ],
   "source": [
    "print(response.choices[0].message)"
   ],
   "metadata": {
    "collapsed": false,
    "ExecuteTime": {
     "end_time": "2025-01-25T13:54:45.895239Z",
     "start_time": "2025-01-25T13:54:45.893495Z"
    }
   },
   "id": "fe5d210bc7cfb186",
   "execution_count": 170
  },
  {
   "cell_type": "code",
   "outputs": [],
   "source": [
    "# 首先假装建造一个本地可执行的函数get_weather，执行得到结果。再把两次的对话消息添加进历史消息列表里面，发送API请求。\n",
    "import json\n",
    "\n",
    "def get_weather(city):\n",
    "    \"\"\"\n",
    "    This function is for illustrative purposes.\n",
    "    The location and unit should be used to determine weather\n",
    "    instead of returning a hardcoded response.\n",
    "    \"\"\"\n",
    "    return {\n",
    "        \"city\": city,\n",
    "        \"date\": \"明天\",\n",
    "        \"temperature\": 22,\n",
    "        \"weather\": \"小雨\",\n",
    "        \"humidity\": 85,\n",
    "        \"wind\": \"东北风3级\"\n",
    "    }\n"
   ],
   "metadata": {
    "collapsed": false,
    "ExecuteTime": {
     "end_time": "2025-01-25T13:54:50.993748Z",
     "start_time": "2025-01-25T13:54:50.991836Z"
    }
   },
   "id": "aa8be8dd3f81622d",
   "execution_count": 171
  },
  {
   "cell_type": "code",
   "outputs": [
    {
     "name": "stdout",
     "output_type": "stream",
     "text": [
      "{'city': '悉尼', 'date': '明天', 'temperature': 22, 'weather': '小雨', 'humidity': 85, 'wind': '东北风3级'}\n"
     ]
    }
   ],
   "source": [
    "if tool_call.name == \"get_weather\":\n",
    "    arguments = json.loads(tool_call.arguments)  # 将字符串转换为字典\n",
    "    result = get_weather(city=arguments[\"city\"])  # 访问字典中的 'city' 键\n",
    "    print(result)\n"
   ],
   "metadata": {
    "collapsed": false,
    "ExecuteTime": {
     "end_time": "2025-01-25T13:54:55.976384Z",
     "start_time": "2025-01-25T13:54:55.974231Z"
    }
   },
   "id": "12b868a9e36a5ca",
   "execution_count": 172
  },
  {
   "cell_type": "code",
   "outputs": [
    {
     "data": {
      "text/plain": "ChatCompletionMessage(content='', refusal=None, role='assistant', audio=None, function_call=None, tool_calls=[ChatCompletionMessageToolCall(id='call_0_38aa6d45-a9dd-4732-96b7-77699e95e562', function=Function(arguments='{\"city\":\"悉尼\"}', name='get_weather'), type='function', index=0)])"
     },
     "execution_count": 173,
     "metadata": {},
     "output_type": "execute_result"
    }
   ],
   "source": [
    "# 接下来将这两条消息都添加进历史记录\n",
    "# 第一条\n",
    "response.choices[0].message"
   ],
   "metadata": {
    "collapsed": false,
    "ExecuteTime": {
     "end_time": "2025-01-25T13:54:56.661001Z",
     "start_time": "2025-01-25T13:54:56.658825Z"
    }
   },
   "id": "e1d4cd6e338eb7f2",
   "execution_count": 173
  },
  {
   "cell_type": "code",
   "outputs": [],
   "source": [
    "# 添加进消息列表\n",
    "messages.append(response.choices[0].message)"
   ],
   "metadata": {
    "collapsed": false,
    "ExecuteTime": {
     "end_time": "2025-01-25T13:54:57.885230Z",
     "start_time": "2025-01-25T13:54:57.883752Z"
    }
   },
   "id": "de0529dbbe8ae8d3",
   "execution_count": 174
  },
  {
   "cell_type": "code",
   "outputs": [
    {
     "data": {
      "text/plain": "{'role': 'tool',\n 'content': '{\"city\": \"\\\\u6089\\\\u5c3c\", \"date\": \"\\\\u660e\\\\u5929\", \"temperature\": 22, \"weather\": \"\\\\u5c0f\\\\u96e8\", \"humidity\": 85, \"wind\": \"\\\\u4e1c\\\\u5317\\\\u98ce3\\\\u7ea7\"}',\n 'tool_call_id': 'call_0_38aa6d45-a9dd-4732-96b7-77699e95e562'}"
     },
     "execution_count": 175,
     "metadata": {},
     "output_type": "execute_result"
    }
   ],
   "source": [
    "function_call_result_message = {\n",
    "    \"role\": \"tool\",\n",
    "    \"content\": json.dumps(result),  # 将结果字典转换为JSON格式的字符串\n",
    "    \"tool_call_id\": response.choices[0].message.tool_calls[0].id  # 获取工具调用的唯一标识符\n",
    "}\n",
    "\n",
    "function_call_result_message\n"
   ],
   "metadata": {
    "collapsed": false,
    "ExecuteTime": {
     "end_time": "2025-01-25T13:55:01.645419Z",
     "start_time": "2025-01-25T13:55:01.643173Z"
    }
   },
   "id": "fe2e00762f5c7c1a",
   "execution_count": 175
  },
  {
   "cell_type": "code",
   "outputs": [
    {
     "data": {
      "text/plain": "{'role': 'tool',\n 'content': '{\"city\": \"悉尼\", \"date\": \"明天\", \"temperature\": 22, \"weather\": \"小雨\", \"humidity\": 85, \"wind\": \"东北风3级\"}',\n 'tool_call_id': 'call_0_38aa6d45-a9dd-4732-96b7-77699e95e562'}"
     },
     "execution_count": 176,
     "metadata": {},
     "output_type": "execute_result"
    }
   ],
   "source": [
    "function_call_result_message = {\n",
    "    \"role\": \"tool\",\n",
    "    \"content\": json.dumps(result, ensure_ascii=False),  # 将结果字典转换为JSON格式的字符串，并保留非ASCII字符\n",
    "    \"tool_call_id\": response.choices[0].message.tool_calls[0].id  # 获取工具调用的唯一标识符\n",
    "}\n",
    "\n",
    "function_call_result_message\n"
   ],
   "metadata": {
    "collapsed": false,
    "ExecuteTime": {
     "end_time": "2025-01-25T13:55:06.177032Z",
     "start_time": "2025-01-25T13:55:06.174561Z"
    }
   },
   "id": "f393c820c23bfe29",
   "execution_count": 176
  },
  {
   "cell_type": "code",
   "outputs": [
    {
     "data": {
      "text/plain": "[{'role': 'user', 'content': '悉尼今天天气如何？'},\n ChatCompletionMessage(content='', refusal=None, role='assistant', audio=None, function_call=None, tool_calls=[ChatCompletionMessageToolCall(id='call_0_38aa6d45-a9dd-4732-96b7-77699e95e562', function=Function(arguments='{\"city\":\"悉尼\"}', name='get_weather'), type='function', index=0)])]"
     },
     "execution_count": 177,
     "metadata": {},
     "output_type": "execute_result"
    }
   ],
   "source": [
    "messages"
   ],
   "metadata": {
    "collapsed": false,
    "ExecuteTime": {
     "end_time": "2025-01-25T13:55:10.829915Z",
     "start_time": "2025-01-25T13:55:10.827250Z"
    }
   },
   "id": "ae45b446539a832e",
   "execution_count": 177
  },
  {
   "cell_type": "code",
   "outputs": [],
   "source": [
    "# messages.append(response.choices[0].message)  # 将响应中选中的消息追加到消息列表中\n",
    "messages.append(function_call_result_message)  # 将函数调用的结果消息追加到消息列表中\n"
   ],
   "metadata": {
    "collapsed": false,
    "ExecuteTime": {
     "end_time": "2025-01-25T13:55:12.491623Z",
     "start_time": "2025-01-25T13:55:12.489995Z"
    }
   },
   "id": "435452666a57816",
   "execution_count": 178
  },
  {
   "cell_type": "code",
   "outputs": [
    {
     "data": {
      "text/plain": "[{'role': 'user', 'content': '悉尼今天天气如何？'},\n ChatCompletionMessage(content='', refusal=None, role='assistant', audio=None, function_call=None, tool_calls=[ChatCompletionMessageToolCall(id='call_0_38aa6d45-a9dd-4732-96b7-77699e95e562', function=Function(arguments='{\"city\":\"悉尼\"}', name='get_weather'), type='function', index=0)]),\n {'role': 'tool',\n  'content': '{\"city\": \"悉尼\", \"date\": \"明天\", \"temperature\": 22, \"weather\": \"小雨\", \"humidity\": 85, \"wind\": \"东北风3级\"}',\n  'tool_call_id': 'call_0_38aa6d45-a9dd-4732-96b7-77699e95e562'}]"
     },
     "execution_count": 179,
     "metadata": {},
     "output_type": "execute_result"
    }
   ],
   "source": [
    "messages"
   ],
   "metadata": {
    "collapsed": false,
    "ExecuteTime": {
     "end_time": "2025-01-25T13:55:14.428532Z",
     "start_time": "2025-01-25T13:55:14.426032Z"
    }
   },
   "id": "7c049467245e4b5a",
   "execution_count": 179
  },
  {
   "cell_type": "code",
   "outputs": [
    {
     "data": {
      "text/plain": "[{'role': 'system', 'content': '根据天气信息，请你根据现实准确专业的给出出行、穿衣、活动建议'},\n {'role': 'user', 'content': '悉尼今天天气如何？'},\n ChatCompletionMessage(content='', refusal=None, role='assistant', audio=None, function_call=None, tool_calls=[ChatCompletionMessageToolCall(id='call_0_38aa6d45-a9dd-4732-96b7-77699e95e562', function=Function(arguments='{\"city\":\"悉尼\"}', name='get_weather'), type='function', index=0)]),\n {'role': 'tool',\n  'content': '{\"city\": \"悉尼\", \"date\": \"明天\", \"temperature\": 22, \"weather\": \"小雨\", \"humidity\": 85, \"wind\": \"东北风3级\"}',\n  'tool_call_id': 'call_0_38aa6d45-a9dd-4732-96b7-77699e95e562'}]"
     },
     "execution_count": 180,
     "metadata": {},
     "output_type": "execute_result"
    }
   ],
   "source": [
    "# 要添加的新消息\n",
    "new_message = {\n",
    "    \"role\": \"system\", \n",
    "    \"content\": \"根据天气信息，请你根据现实准确专业的给出出行、穿衣、活动建议\"\n",
    "}\n",
    "\n",
    "# 在第一条位置添加新消息\n",
    "messages.insert(0, new_message)\n",
    "\n",
    "messages\n"
   ],
   "metadata": {
    "collapsed": false,
    "ExecuteTime": {
     "end_time": "2025-01-25T13:55:17.958127Z",
     "start_time": "2025-01-25T13:55:17.955615Z"
    }
   },
   "id": "d3cd2dfdc16a6227",
   "execution_count": 180
  },
  {
   "cell_type": "code",
   "outputs": [
    {
     "name": "stdout",
     "output_type": "stream",
     "text": [
      "Choice(finish_reason='stop', index=0, logprobs=None, message=ChatCompletionMessage(content='根据悉尼明天的天气情况，我为您提供以下建议：\\n\\n**出行建议：**\\n* 小雨天气，建议您携带雨具，如雨伞或雨衣。\\n* 路面可能湿滑，请注意出行安全，尤其是驾驶时需减速慢行。\\n\\n**穿衣建议：**\\n* 气温22度，建议穿着长袖T恤、薄外套或卫衣等舒适衣物。\\n* 由于有小雨，可以选择防水材质的外套或鞋子。\\n\\n**活动建议：**\\n* 小雨天气不太适合户外活动，建议您选择室内活动，如参观博物馆、美术馆或咖啡馆等。\\n* 如果必须外出，请做好防雨措施，并尽量缩短在户外的时间。\\n\\n希望以上建议对您有所帮助，祝您出行愉快！', refusal=None, role='assistant', audio=None, function_call=None, tool_calls=None))\n"
     ]
    }
   ],
   "source": [
    "response = client.chat.completions.create(\n",
    "    model=\"deepseek-chat\",\n",
    "    messages=messages,\n",
    "    # tools=tools, # 如果这里不注释，会强制执行function calling,回答也就不再是自然语言了\n",
    "    tool_choice=\"auto\"  # 可选值: \"auto\", \"required\", \"none\", {\"type\": \"function\", \"function\": {\"name\": \"function_name\"}}\n",
    ")\n",
    "\n",
    "print(response.choices[0])\n"
   ],
   "metadata": {
    "collapsed": false,
    "ExecuteTime": {
     "end_time": "2025-01-25T13:56:01.893838Z",
     "start_time": "2025-01-25T13:55:57.421858Z"
    }
   },
   "id": "7b68f78d1482d48",
   "execution_count": 182
  },
  {
   "cell_type": "markdown",
   "source": [
    "## 2.4 测试简单的联网工具调用"
   ],
   "metadata": {
    "collapsed": false
   },
   "id": "bbdb021201876ba5"
  },
  {
   "cell_type": "code",
   "outputs": [],
   "source": [
    "from openai import OpenAI\n",
    "from dotenv import load_dotenv\n",
    "import os\n",
    "\n",
    "# 加载 .env 文件\n",
    "load_dotenv()\n",
    "\n",
    "# 从环境变量中获取 API Key 和 Base URL\n",
    "api_key = os.getenv(\"API_KEY\")\n",
    "base_url = os.getenv(\"BASE_URL\")\n",
    "\n",
    "# 初始化客户端\n",
    "client = OpenAI(api_key=api_key, base_url=base_url)"
   ],
   "metadata": {
    "collapsed": false,
    "ExecuteTime": {
     "end_time": "2025-01-25T14:41:50.186457Z",
     "start_time": "2025-01-25T14:41:50.164286Z"
    }
   },
   "id": "79018a23c911749b",
   "execution_count": 272
  },
  {
   "cell_type": "code",
   "outputs": [
    {
     "name": "stdout",
     "output_type": "stream",
     "text": [
      "1. 标题: 【北京市1月份天气】北京2025年1月份天气_北京1月天气...\n",
      "   链接: https://www.tianqi.com/tianqi/beijing/202501.html\n",
      "   摘要: 天气预警 天气插件 微信公众号 扫码随时看天气 无需\n",
      "\n",
      "2. 标题: 北京一月,2025 天气⋆北京(中国) 一月天气预报 ⋆ ...\n",
      "   链接: https://www.meteoprog.com/cn/weather/Beijing/month/january/\n",
      "   摘要: 天气 地图 保留所有权利。使用本网站资料时必须超链接到 Meteoprog.com。未经书面许可，禁止使用本网站的照片资料。该项目的编辑人员可能不同意作者的观点，也不对版权材料负责。 © Meteoprog.com 2003-2025\n",
      "\n",
      "3. 标题: 北京市2025年01月份历史天气数据查询 -北京气温\n",
      "   链接: https://www.tianqi24.com/beijing/history202501.html\n",
      "   摘要: 晴19天，多云4天，阴1天，雪1天； 平均高温：6℃，平均低温：-4℃； 最高温度(01月18日)：10℃，最低温度(01月03日)：-7℃； 平均PM25值是: 38(优)\n",
      "\n",
      "4. 标题: 北京1月份天气|北京1月份气温|北京2025年1月份历史天气...\n",
      "   链接: https://lishi.tianqi.com/beijing/202511.html\n",
      "   摘要: 天气预警 天气插件 微信公众号 扫码随时看天气 旅游天气\n",
      "\n",
      "5. 标题: 北京历史天气查询_历史天气预报查询_2345天气预报\n",
      "   链接: https://tianqi.2345.com/wea_history/54511.htm\n",
      "   摘要: æ«ç ä¸è½½appï¼å¤©æ°éæ¶ç æ¨ä½¿ç¨çæµè§å¨çæ¬è¿ä½ï¼ å¯è½æ æ³æ­£å¸¸æµè§ï¼æ¨å¯ä»¥éæ© æ«ç ä¸è½½APPï¼å¤©æ°éæ¶ç 2345å¤©æ°é¢æ¥çæææï¼æªç»ä¹¦é¢ææç¦æ­¢ä½¿ç¨Copyright©2345.comICPè¯æ²ªB2-20120099\n"
     ]
    }
   ],
   "source": [
    "import requests\n",
    "from bs4 import BeautifulSoup\n",
    "\n",
    "def search_and_get_summary(keyword, num_results=5, summary_length=500):\n",
    "    \"\"\"\n",
    "    通过 Bing 搜索关键词，获取搜索结果并提取其中一个网页的内容摘要。\n",
    "    \n",
    "    :param keyword: 搜索关键词\n",
    "    :param num_results: 返回的搜索结果数量（默认5条）\n",
    "    :param summary_length: 内容摘要的长度（默认500个字符）\n",
    "    :return: 包含标题、链接和摘要的字典列表\n",
    "    \"\"\"\n",
    "    def bing_search(keyword, num_results):\n",
    "        \"\"\"\n",
    "        通过 Bing 搜索关键词，返回搜索结果的标题和链接。\n",
    "        \"\"\"\n",
    "        url = f\"https://www.bing.com/search?q={keyword}\"\n",
    "        headers = {\n",
    "            \"User-Agent\": \"Mozilla/5.0 (Windows NT 10.0; Win64; x64) AppleWebKit/537.36 (KHTML, like Gecko) Chrome/91.0.4472.124 Safari/537.36\"\n",
    "        }\n",
    "        \n",
    "        try:\n",
    "            response = requests.get(url, headers=headers)\n",
    "            response.raise_for_status()\n",
    "            soup = BeautifulSoup(response.text, 'html.parser')\n",
    "            \n",
    "            results = []\n",
    "            for item in soup.find_all('li', class_='b_algo'):\n",
    "                title_element = item.find('h2')\n",
    "                link_element = item.find('a')\n",
    "                \n",
    "                if title_element and link_element:\n",
    "                    title = title_element.get_text(strip=True)\n",
    "                    link = link_element['href']\n",
    "                    results.append({\"title\": title, \"link\": link})\n",
    "                    \n",
    "                    if len(results) >= num_results:\n",
    "                        break\n",
    "            \n",
    "            return results\n",
    "        \n",
    "        except requests.RequestException as e:\n",
    "            return f\"请求 Bing 搜索时发生错误：{e}\"\n",
    "        except Exception as e:\n",
    "            return f\"解析 Bing 搜索结果时发生错误：{e}\"\n",
    "\n",
    "    def get_webpage_summary(url, summary_length):\n",
    "        \"\"\"\n",
    "        获取网页的内容摘要。\n",
    "        \"\"\"\n",
    "        try:\n",
    "            headers = {\n",
    "                \"User-Agent\": \"Mozilla/5.0 (Windows NT 10.0; Win64; x64) AppleWebKit/537.36 (KHTML, like Gecko) Chrome/91.0.4472.124 Safari/537.36\"\n",
    "            }\n",
    "            response = requests.get(url, headers=headers)\n",
    "            response.raise_for_status()\n",
    "            \n",
    "            soup = BeautifulSoup(response.text, 'html.parser')\n",
    "            paragraphs = soup.find_all('p')\n",
    "            summary = \" \".join(p.get_text(strip=True) for p in paragraphs[:5])  # 取前5段内容\n",
    "            return summary[:summary_length]  # 返回指定长度的摘要\n",
    "        \n",
    "        except requests.RequestException as e:\n",
    "            return f\"请求网页时发生错误：{e}\"\n",
    "        except Exception as e:\n",
    "            return f\"解析网页内容时发生错误：{e}\"\n",
    "\n",
    "    # 获取 Bing 搜索结果\n",
    "    search_results = bing_search(keyword, num_results)\n",
    "    \n",
    "    # 如果搜索失败，返回错误信息\n",
    "    if isinstance(search_results, str):\n",
    "        return search_results\n",
    "    \n",
    "    # 获取每个网页的内容摘要\n",
    "    for result in search_results:\n",
    "        result[\"summary\"] = get_webpage_summary(result[\"link\"], summary_length)\n",
    "    \n",
    "    return search_results\n",
    "\n",
    "# 示例调用\n",
    "keyword = \"2025年1月北京天气\"\n",
    "results = search_and_get_summary(keyword, num_results=5, summary_length=500)\n",
    "\n",
    "# 打印结果\n",
    "if isinstance(results, list):\n",
    "    for i, result in enumerate(results, 1):\n",
    "        print(f\"{i}. 标题: {result['title']}\")\n",
    "        print(f\"   链接: {result['link']}\")\n",
    "        print(f\"   摘要: {result['summary']}\\n\")\n",
    "else:\n",
    "    print(results)  # 打印错误信息"
   ],
   "metadata": {
    "collapsed": false,
    "ExecuteTime": {
     "end_time": "2025-01-25T14:42:06.592592Z",
     "start_time": "2025-01-25T14:42:02.912713Z"
    }
   },
   "id": "d00d10a6b7889fbf",
   "execution_count": 274
  },
  {
   "cell_type": "code",
   "outputs": [],
   "source": [
    "search_tool = [\n",
    "    {\n",
    "        \"type\": \"function\",\n",
    "        \"function\": {\n",
    "            \"name\": \"search_and_get_summary\",\n",
    "            \"description\": \"一个搜索bing网页的工具\",\n",
    "            \"parameters\": {\n",
    "                \"type\": \"object\",\n",
    "                \"properties\": {\n",
    "                    \"keyword\": {\n",
    "                        \"type\": \"string\",\n",
    "                        \"description\": \"搜索的关键词\"\n",
    "                    },\n",
    "                },\n",
    "                \"required\": [\"keyword\"]\n",
    "            }\n",
    "        }\n",
    "    }\n",
    "]\n"
   ],
   "metadata": {
    "collapsed": false,
    "ExecuteTime": {
     "end_time": "2025-01-25T14:42:08.456432Z",
     "start_time": "2025-01-25T14:42:08.454334Z"
    }
   },
   "id": "d281c58b6da725c7",
   "execution_count": 275
  },
  {
   "cell_type": "code",
   "outputs": [],
   "source": [
    "messages = [{\"role\": \"user\", \"content\": \"2025年1月北京天气\"}]\n",
    "\n",
    "response = client.chat.completions.create(\n",
    "    model=\"deepseek-chat\",\n",
    "    messages=messages,\n",
    "    tools=search_tool,\n",
    "    tool_choice={\n",
    "        \"type\": \"function\",\n",
    "        \"function\": {\"name\": \"search_and_get_summary\"}\n",
    "    }\n",
    ")\n"
   ],
   "metadata": {
    "collapsed": false,
    "ExecuteTime": {
     "end_time": "2025-01-25T14:42:17.728826Z",
     "start_time": "2025-01-25T14:42:15.636824Z"
    }
   },
   "id": "144728f7ae67b073",
   "execution_count": 277
  },
  {
   "cell_type": "code",
   "outputs": [
    {
     "name": "stdout",
     "output_type": "stream",
     "text": [
      "工具函数的名字: search_and_get_summary\n",
      "工具函数的输入: {\"keyword\":\"2025年1月北京天气\"}\n"
     ]
    }
   ],
   "source": [
    "if response.choices[0].message.tool_calls:\n",
    "    tool_call = response.choices[0].message.tool_calls[0].function\n",
    "    print(\"工具函数的名字:\", tool_call.name)\n",
    "    print(\"工具函数的输入:\", tool_call.arguments)\n"
   ],
   "metadata": {
    "collapsed": false,
    "ExecuteTime": {
     "end_time": "2025-01-25T14:42:20.100616Z",
     "start_time": "2025-01-25T14:42:20.098343Z"
    }
   },
   "id": "1ac6fb883c384d64",
   "execution_count": 278
  },
  {
   "cell_type": "code",
   "outputs": [
    {
     "name": "stdout",
     "output_type": "stream",
     "text": [
      "搜索到了 2025年1月北京天气\n",
      "bing搜索的原文:\n",
      "[{'title': '【北京市1月份天气】北京2025年1月份天气_北京1月天气...', 'link': 'https://www.tianqi.com/tianqi/beijing/202501.html', 'summary': '天气预警 天气插件 微信公众号 扫码随时看天气 无需'}, {'title': '北京一月,2025 天气⋆北京(中国) 一月天气预报 ⋆ ...', 'link': 'https://www.meteoprog.com/cn/weather/Beijing/month/january/', 'summary': '天气 地图 保留所有权利。使用本网站资料时必须超链接到 Meteoprog.com。未经书面许可，禁止使用本网站的照片资料。该项目的编辑人员可能不同意作者的观点，也不对版权材料负责。 © Meteoprog.com 2003-2025'}, {'title': '北京市2025年01月份历史天气数据查询 -北京气温', 'link': 'https://www.tianqi24.com/beijing/history202501.html', 'summary': '晴19天，多云4天，阴1天，雪1天； 平均高温：6℃，平均低温：-4℃； 最高温度(01月18日)：10℃，最低温度(01月03日)：-7℃； 平均PM25值是:\\xa038(优)'}, {'title': '北京1月份天气|北京1月份气温|北京2025年1月份历史天气...', 'link': 'https://lishi.tianqi.com/beijing/202511.html', 'summary': '天气预警 天气插件 微信公众号 扫码随时看天气 旅游天气'}, {'title': '北京历史天气查询_历史天气预报查询_2345天气预报', 'link': 'https://tianqi.2345.com/wea_history/54511.htm', 'summary': 'æ\\x89«ç\\xa0\\x81ä¸\\x8bè½½appï¼\\x8cå¤©æ°\\x94é\\x9a\\x8fæ\\x97¶ç\\x9c\\x8b æ\\x82¨ä½¿ç\\x94¨ç\\x9a\\x84æµ\\x8fè§\\x88å\\x99¨ç\\x89\\x88æ\\x9c¬è¿\\x87ä½\\x8eï¼\\x81 å\\x8f¯è\\x83½æ\\x97\\xa0æ³\\x95æ\\xad£å¸¸æµ\\x8fè§\\x88ï¼\\x8cæ\\x82¨å\\x8f¯ä»¥é\\x80\\x89æ\\x8b© æ\\x89«ç\\xa0\\x81ä¸\\x8bè½½APPï¼\\x8cå¤©æ°\\x94é\\x9a\\x8fæ\\x97¶ç\\x9c\\x8b 2345å¤©æ°\\x94é¢\\x84æ\\x8a¥ç\\x89\\x88æ\\x9d\\x83æ\\x89\\x80æ\\x9c\\x89ï¼\\x8cæ\\x9cªç»\\x8fä¹¦é\\x9d¢æ\\x8e\\x88æ\\x9d\\x83ç¦\\x81æ\\xad¢ä½¿ç\\x94¨Copyright©2345.comICPè¯\\x81æ²ªB2-20120099'}]\n"
     ]
    }
   ],
   "source": [
    "if tool_call.name == \"search_and_get_summary\":\n",
    "    arguments = json.loads(tool_call.arguments)  # 将工具函数的参数从JSON字符串转换为Python字典\n",
    "    keyword = arguments.get(\"keyword\")  # 获取参数中的搜索关键词\n",
    "    result = search_and_get_summary(keyword)  # 调用get_article函数获取维基百科文章内容\n",
    "    print(f\"搜索到了 {keyword}\")  # 打印搜索关键词\n",
    "    print(\"bing搜索的原文:\")  # 打印提示信息\n",
    "    print(result[:500])  # 打印文章前500个字符\n"
   ],
   "metadata": {
    "collapsed": false,
    "ExecuteTime": {
     "end_time": "2025-01-25T14:42:59.756557Z",
     "start_time": "2025-01-25T14:42:56.382022Z"
    }
   },
   "id": "26fda347989c6271",
   "execution_count": 280
  },
  {
   "cell_type": "code",
   "outputs": [
    {
     "data": {
      "text/plain": "ChatCompletionMessage(content='', refusal=None, role='assistant', audio=None, function_call=None, tool_calls=[ChatCompletionMessageToolCall(id='call_0_2a1ff055-d9c3-442a-abc5-d69a15787781', function=Function(arguments='{\"keyword\":\"2025年1月北京天气\"}', name='search_and_get_summary'), type='function', index=0)])"
     },
     "execution_count": 281,
     "metadata": {},
     "output_type": "execute_result"
    }
   ],
   "source": [
    "response.choices[0].message"
   ],
   "metadata": {
    "collapsed": false,
    "ExecuteTime": {
     "end_time": "2025-01-25T14:43:01.742346Z",
     "start_time": "2025-01-25T14:43:01.739660Z"
    }
   },
   "id": "c14ffc4cbaa95bac",
   "execution_count": 281
  },
  {
   "cell_type": "code",
   "outputs": [
    {
     "data": {
      "text/plain": "{'role': 'tool',\n 'content': '{\"article\": [{\"title\": \"\\\\u3010\\\\u5317\\\\u4eac\\\\u5e021\\\\u6708\\\\u4efd\\\\u5929\\\\u6c14\\\\u3011\\\\u5317\\\\u4eac2025\\\\u5e741\\\\u6708\\\\u4efd\\\\u5929\\\\u6c14_\\\\u5317\\\\u4eac1\\\\u6708\\\\u5929\\\\u6c14...\", \"link\": \"https://www.tianqi.com/tianqi/beijing/202501.html\", \"summary\": \"\\\\u5929\\\\u6c14\\\\u9884\\\\u8b66 \\\\u5929\\\\u6c14\\\\u63d2\\\\u4ef6 \\\\u5fae\\\\u4fe1\\\\u516c\\\\u4f17\\\\u53f7 \\\\u626b\\\\u7801\\\\u968f\\\\u65f6\\\\u770b\\\\u5929\\\\u6c14 \\\\u65e0\\\\u9700\"}, {\"title\": \"\\\\u5317\\\\u4eac\\\\u4e00\\\\u6708,2025 \\\\u5929\\\\u6c14\\\\u22c6\\\\u5317\\\\u4eac(\\\\u4e2d\\\\u56fd) \\\\u4e00\\\\u6708\\\\u5929\\\\u6c14\\\\u9884\\\\u62a5 \\\\u22c6 ...\", \"link\": \"https://www.meteoprog.com/cn/weather/Beijing/month/january/\", \"summary\": \"\\\\u5929\\\\u6c14 \\\\u5730\\\\u56fe \\\\u4fdd\\\\u7559\\\\u6240\\\\u6709\\\\u6743\\\\u5229\\\\u3002\\\\u4f7f\\\\u7528\\\\u672c\\\\u7f51\\\\u7ad9\\\\u8d44\\\\u6599\\\\u65f6\\\\u5fc5\\\\u987b\\\\u8d85\\\\u94fe\\\\u63a5\\\\u5230 Meteoprog.com\\\\u3002\\\\u672a\\\\u7ecf\\\\u4e66\\\\u9762\\\\u8bb8\\\\u53ef\\\\uff0c\\\\u7981\\\\u6b62\\\\u4f7f\\\\u7528\\\\u672c\\\\u7f51\\\\u7ad9\\\\u7684\\\\u7167\\\\u7247\\\\u8d44\\\\u6599\\\\u3002\\\\u8be5\\\\u9879\\\\u76ee\\\\u7684\\\\u7f16\\\\u8f91\\\\u4eba\\\\u5458\\\\u53ef\\\\u80fd\\\\u4e0d\\\\u540c\\\\u610f\\\\u4f5c\\\\u8005\\\\u7684\\\\u89c2\\\\u70b9\\\\uff0c\\\\u4e5f\\\\u4e0d\\\\u5bf9\\\\u7248\\\\u6743\\\\u6750\\\\u6599\\\\u8d1f\\\\u8d23\\\\u3002 \\\\u00a9 Meteoprog.com 2003-2025\"}, {\"title\": \"\\\\u5317\\\\u4eac\\\\u5e022025\\\\u5e7401\\\\u6708\\\\u4efd\\\\u5386\\\\u53f2\\\\u5929\\\\u6c14\\\\u6570\\\\u636e\\\\u67e5\\\\u8be2 -\\\\u5317\\\\u4eac\\\\u6c14\\\\u6e29\", \"link\": \"https://www.tianqi24.com/beijing/history202501.html\", \"summary\": \"\\\\u667419\\\\u5929\\\\uff0c\\\\u591a\\\\u4e914\\\\u5929\\\\uff0c\\\\u96341\\\\u5929\\\\uff0c\\\\u96ea1\\\\u5929\\\\uff1b \\\\u5e73\\\\u5747\\\\u9ad8\\\\u6e29\\\\uff1a6\\\\u2103\\\\uff0c\\\\u5e73\\\\u5747\\\\u4f4e\\\\u6e29\\\\uff1a-4\\\\u2103\\\\uff1b \\\\u6700\\\\u9ad8\\\\u6e29\\\\u5ea6(01\\\\u670818\\\\u65e5)\\\\uff1a10\\\\u2103\\\\uff0c\\\\u6700\\\\u4f4e\\\\u6e29\\\\u5ea6(01\\\\u670803\\\\u65e5)\\\\uff1a-7\\\\u2103\\\\uff1b \\\\u5e73\\\\u5747PM25\\\\u503c\\\\u662f:\\\\u00a038(\\\\u4f18)\"}, {\"title\": \"\\\\u5317\\\\u4eac1\\\\u6708\\\\u4efd\\\\u5929\\\\u6c14|\\\\u5317\\\\u4eac1\\\\u6708\\\\u4efd\\\\u6c14\\\\u6e29|\\\\u5317\\\\u4eac2025\\\\u5e741\\\\u6708\\\\u4efd\\\\u5386\\\\u53f2\\\\u5929\\\\u6c14...\", \"link\": \"https://lishi.tianqi.com/beijing/202511.html\", \"summary\": \"\\\\u5929\\\\u6c14\\\\u9884\\\\u8b66 \\\\u5929\\\\u6c14\\\\u63d2\\\\u4ef6 \\\\u5fae\\\\u4fe1\\\\u516c\\\\u4f17\\\\u53f7 \\\\u626b\\\\u7801\\\\u968f\\\\u65f6\\\\u770b\\\\u5929\\\\u6c14 \\\\u65c5\\\\u6e38\\\\u5929\\\\u6c14\"}, {\"title\": \"\\\\u5317\\\\u4eac\\\\u5386\\\\u53f2\\\\u5929\\\\u6c14\\\\u67e5\\\\u8be2_\\\\u5386\\\\u53f2\\\\u5929\\\\u6c14\\\\u9884\\\\u62a5\\\\u67e5\\\\u8be2_2345\\\\u5929\\\\u6c14\\\\u9884\\\\u62a5\", \"link\": \"https://tianqi.2345.com/wea_history/54511.htm\", \"summary\": \"\\\\u00e6\\\\u0089\\\\u00ab\\\\u00e7\\\\u00a0\\\\u0081\\\\u00e4\\\\u00b8\\\\u008b\\\\u00e8\\\\u00bd\\\\u00bdapp\\\\u00ef\\\\u00bc\\\\u008c\\\\u00e5\\\\u00a4\\\\u00a9\\\\u00e6\\\\u00b0\\\\u0094\\\\u00e9\\\\u009a\\\\u008f\\\\u00e6\\\\u0097\\\\u00b6\\\\u00e7\\\\u009c\\\\u008b \\\\u00e6\\\\u0082\\\\u00a8\\\\u00e4\\\\u00bd\\\\u00bf\\\\u00e7\\\\u0094\\\\u00a8\\\\u00e7\\\\u009a\\\\u0084\\\\u00e6\\\\u00b5\\\\u008f\\\\u00e8\\\\u00a7\\\\u0088\\\\u00e5\\\\u0099\\\\u00a8\\\\u00e7\\\\u0089\\\\u0088\\\\u00e6\\\\u009c\\\\u00ac\\\\u00e8\\\\u00bf\\\\u0087\\\\u00e4\\\\u00bd\\\\u008e\\\\u00ef\\\\u00bc\\\\u0081 \\\\u00e5\\\\u008f\\\\u00af\\\\u00e8\\\\u0083\\\\u00bd\\\\u00e6\\\\u0097\\\\u00a0\\\\u00e6\\\\u00b3\\\\u0095\\\\u00e6\\\\u00ad\\\\u00a3\\\\u00e5\\\\u00b8\\\\u00b8\\\\u00e6\\\\u00b5\\\\u008f\\\\u00e8\\\\u00a7\\\\u0088\\\\u00ef\\\\u00bc\\\\u008c\\\\u00e6\\\\u0082\\\\u00a8\\\\u00e5\\\\u008f\\\\u00af\\\\u00e4\\\\u00bb\\\\u00a5\\\\u00e9\\\\u0080\\\\u0089\\\\u00e6\\\\u008b\\\\u00a9 \\\\u00e6\\\\u0089\\\\u00ab\\\\u00e7\\\\u00a0\\\\u0081\\\\u00e4\\\\u00b8\\\\u008b\\\\u00e8\\\\u00bd\\\\u00bdAPP\\\\u00ef\\\\u00bc\\\\u008c\\\\u00e5\\\\u00a4\\\\u00a9\\\\u00e6\\\\u00b0\\\\u0094\\\\u00e9\\\\u009a\\\\u008f\\\\u00e6\\\\u0097\\\\u00b6\\\\u00e7\\\\u009c\\\\u008b 2345\\\\u00e5\\\\u00a4\\\\u00a9\\\\u00e6\\\\u00b0\\\\u0094\\\\u00e9\\\\u00a2\\\\u0084\\\\u00e6\\\\u008a\\\\u00a5\\\\u00e7\\\\u0089\\\\u0088\\\\u00e6\\\\u009d\\\\u0083\\\\u00e6\\\\u0089\\\\u0080\\\\u00e6\\\\u009c\\\\u0089\\\\u00ef\\\\u00bc\\\\u008c\\\\u00e6\\\\u009c\\\\u00aa\\\\u00e7\\\\u00bb\\\\u008f\\\\u00e4\\\\u00b9\\\\u00a6\\\\u00e9\\\\u009d\\\\u00a2\\\\u00e6\\\\u008e\\\\u0088\\\\u00e6\\\\u009d\\\\u0083\\\\u00e7\\\\u00a6\\\\u0081\\\\u00e6\\\\u00ad\\\\u00a2\\\\u00e4\\\\u00bd\\\\u00bf\\\\u00e7\\\\u0094\\\\u00a8Copyright\\\\u00a92345.comICP\\\\u00e8\\\\u00af\\\\u0081\\\\u00e6\\\\u00b2\\\\u00aaB2-20120099\"}]}',\n 'tool_call_id': 'call_0_2a1ff055-d9c3-442a-abc5-d69a15787781'}"
     },
     "execution_count": 282,
     "metadata": {},
     "output_type": "execute_result"
    }
   ],
   "source": [
    "function_call_result_message = {\n",
    "    \"role\": \"tool\",\n",
    "    \"content\": json.dumps({\n",
    "        \"article\": result,\n",
    "    }),\n",
    "    \"tool_call_id\": response.choices[0].message.tool_calls[0].id\n",
    "}\n",
    "function_call_result_message\n"
   ],
   "metadata": {
    "collapsed": false,
    "ExecuteTime": {
     "end_time": "2025-01-25T14:43:04.869160Z",
     "start_time": "2025-01-25T14:43:04.866134Z"
    }
   },
   "id": "357afc834cea88fc",
   "execution_count": 282
  },
  {
   "cell_type": "code",
   "outputs": [
    {
     "data": {
      "text/plain": "[{'role': 'user', 'content': '2025年1月北京天气'}]"
     },
     "execution_count": 283,
     "metadata": {},
     "output_type": "execute_result"
    }
   ],
   "source": [
    "messages"
   ],
   "metadata": {
    "collapsed": false,
    "ExecuteTime": {
     "end_time": "2025-01-25T14:43:09.683272Z",
     "start_time": "2025-01-25T14:43:09.680946Z"
    }
   },
   "id": "3da7780211a129b9",
   "execution_count": 283
  },
  {
   "cell_type": "code",
   "outputs": [
    {
     "data": {
      "text/plain": "[{'role': 'user', 'content': '2025年1月北京天气'},\n ChatCompletionMessage(content='', refusal=None, role='assistant', audio=None, function_call=None, tool_calls=[ChatCompletionMessageToolCall(id='call_0_2a1ff055-d9c3-442a-abc5-d69a15787781', function=Function(arguments='{\"keyword\":\"2025年1月北京天气\"}', name='search_and_get_summary'), type='function', index=0)]),\n {'role': 'tool',\n  'content': '{\"article\": [{\"title\": \"\\\\u3010\\\\u5317\\\\u4eac\\\\u5e021\\\\u6708\\\\u4efd\\\\u5929\\\\u6c14\\\\u3011\\\\u5317\\\\u4eac2025\\\\u5e741\\\\u6708\\\\u4efd\\\\u5929\\\\u6c14_\\\\u5317\\\\u4eac1\\\\u6708\\\\u5929\\\\u6c14...\", \"link\": \"https://www.tianqi.com/tianqi/beijing/202501.html\", \"summary\": \"\\\\u5929\\\\u6c14\\\\u9884\\\\u8b66 \\\\u5929\\\\u6c14\\\\u63d2\\\\u4ef6 \\\\u5fae\\\\u4fe1\\\\u516c\\\\u4f17\\\\u53f7 \\\\u626b\\\\u7801\\\\u968f\\\\u65f6\\\\u770b\\\\u5929\\\\u6c14 \\\\u65e0\\\\u9700\"}, {\"title\": \"\\\\u5317\\\\u4eac\\\\u4e00\\\\u6708,2025 \\\\u5929\\\\u6c14\\\\u22c6\\\\u5317\\\\u4eac(\\\\u4e2d\\\\u56fd) \\\\u4e00\\\\u6708\\\\u5929\\\\u6c14\\\\u9884\\\\u62a5 \\\\u22c6 ...\", \"link\": \"https://www.meteoprog.com/cn/weather/Beijing/month/january/\", \"summary\": \"\\\\u5929\\\\u6c14 \\\\u5730\\\\u56fe \\\\u4fdd\\\\u7559\\\\u6240\\\\u6709\\\\u6743\\\\u5229\\\\u3002\\\\u4f7f\\\\u7528\\\\u672c\\\\u7f51\\\\u7ad9\\\\u8d44\\\\u6599\\\\u65f6\\\\u5fc5\\\\u987b\\\\u8d85\\\\u94fe\\\\u63a5\\\\u5230 Meteoprog.com\\\\u3002\\\\u672a\\\\u7ecf\\\\u4e66\\\\u9762\\\\u8bb8\\\\u53ef\\\\uff0c\\\\u7981\\\\u6b62\\\\u4f7f\\\\u7528\\\\u672c\\\\u7f51\\\\u7ad9\\\\u7684\\\\u7167\\\\u7247\\\\u8d44\\\\u6599\\\\u3002\\\\u8be5\\\\u9879\\\\u76ee\\\\u7684\\\\u7f16\\\\u8f91\\\\u4eba\\\\u5458\\\\u53ef\\\\u80fd\\\\u4e0d\\\\u540c\\\\u610f\\\\u4f5c\\\\u8005\\\\u7684\\\\u89c2\\\\u70b9\\\\uff0c\\\\u4e5f\\\\u4e0d\\\\u5bf9\\\\u7248\\\\u6743\\\\u6750\\\\u6599\\\\u8d1f\\\\u8d23\\\\u3002 \\\\u00a9 Meteoprog.com 2003-2025\"}, {\"title\": \"\\\\u5317\\\\u4eac\\\\u5e022025\\\\u5e7401\\\\u6708\\\\u4efd\\\\u5386\\\\u53f2\\\\u5929\\\\u6c14\\\\u6570\\\\u636e\\\\u67e5\\\\u8be2 -\\\\u5317\\\\u4eac\\\\u6c14\\\\u6e29\", \"link\": \"https://www.tianqi24.com/beijing/history202501.html\", \"summary\": \"\\\\u667419\\\\u5929\\\\uff0c\\\\u591a\\\\u4e914\\\\u5929\\\\uff0c\\\\u96341\\\\u5929\\\\uff0c\\\\u96ea1\\\\u5929\\\\uff1b \\\\u5e73\\\\u5747\\\\u9ad8\\\\u6e29\\\\uff1a6\\\\u2103\\\\uff0c\\\\u5e73\\\\u5747\\\\u4f4e\\\\u6e29\\\\uff1a-4\\\\u2103\\\\uff1b \\\\u6700\\\\u9ad8\\\\u6e29\\\\u5ea6(01\\\\u670818\\\\u65e5)\\\\uff1a10\\\\u2103\\\\uff0c\\\\u6700\\\\u4f4e\\\\u6e29\\\\u5ea6(01\\\\u670803\\\\u65e5)\\\\uff1a-7\\\\u2103\\\\uff1b \\\\u5e73\\\\u5747PM25\\\\u503c\\\\u662f:\\\\u00a038(\\\\u4f18)\"}, {\"title\": \"\\\\u5317\\\\u4eac1\\\\u6708\\\\u4efd\\\\u5929\\\\u6c14|\\\\u5317\\\\u4eac1\\\\u6708\\\\u4efd\\\\u6c14\\\\u6e29|\\\\u5317\\\\u4eac2025\\\\u5e741\\\\u6708\\\\u4efd\\\\u5386\\\\u53f2\\\\u5929\\\\u6c14...\", \"link\": \"https://lishi.tianqi.com/beijing/202511.html\", \"summary\": \"\\\\u5929\\\\u6c14\\\\u9884\\\\u8b66 \\\\u5929\\\\u6c14\\\\u63d2\\\\u4ef6 \\\\u5fae\\\\u4fe1\\\\u516c\\\\u4f17\\\\u53f7 \\\\u626b\\\\u7801\\\\u968f\\\\u65f6\\\\u770b\\\\u5929\\\\u6c14 \\\\u65c5\\\\u6e38\\\\u5929\\\\u6c14\"}, {\"title\": \"\\\\u5317\\\\u4eac\\\\u5386\\\\u53f2\\\\u5929\\\\u6c14\\\\u67e5\\\\u8be2_\\\\u5386\\\\u53f2\\\\u5929\\\\u6c14\\\\u9884\\\\u62a5\\\\u67e5\\\\u8be2_2345\\\\u5929\\\\u6c14\\\\u9884\\\\u62a5\", \"link\": \"https://tianqi.2345.com/wea_history/54511.htm\", \"summary\": \"\\\\u00e6\\\\u0089\\\\u00ab\\\\u00e7\\\\u00a0\\\\u0081\\\\u00e4\\\\u00b8\\\\u008b\\\\u00e8\\\\u00bd\\\\u00bdapp\\\\u00ef\\\\u00bc\\\\u008c\\\\u00e5\\\\u00a4\\\\u00a9\\\\u00e6\\\\u00b0\\\\u0094\\\\u00e9\\\\u009a\\\\u008f\\\\u00e6\\\\u0097\\\\u00b6\\\\u00e7\\\\u009c\\\\u008b \\\\u00e6\\\\u0082\\\\u00a8\\\\u00e4\\\\u00bd\\\\u00bf\\\\u00e7\\\\u0094\\\\u00a8\\\\u00e7\\\\u009a\\\\u0084\\\\u00e6\\\\u00b5\\\\u008f\\\\u00e8\\\\u00a7\\\\u0088\\\\u00e5\\\\u0099\\\\u00a8\\\\u00e7\\\\u0089\\\\u0088\\\\u00e6\\\\u009c\\\\u00ac\\\\u00e8\\\\u00bf\\\\u0087\\\\u00e4\\\\u00bd\\\\u008e\\\\u00ef\\\\u00bc\\\\u0081 \\\\u00e5\\\\u008f\\\\u00af\\\\u00e8\\\\u0083\\\\u00bd\\\\u00e6\\\\u0097\\\\u00a0\\\\u00e6\\\\u00b3\\\\u0095\\\\u00e6\\\\u00ad\\\\u00a3\\\\u00e5\\\\u00b8\\\\u00b8\\\\u00e6\\\\u00b5\\\\u008f\\\\u00e8\\\\u00a7\\\\u0088\\\\u00ef\\\\u00bc\\\\u008c\\\\u00e6\\\\u0082\\\\u00a8\\\\u00e5\\\\u008f\\\\u00af\\\\u00e4\\\\u00bb\\\\u00a5\\\\u00e9\\\\u0080\\\\u0089\\\\u00e6\\\\u008b\\\\u00a9 \\\\u00e6\\\\u0089\\\\u00ab\\\\u00e7\\\\u00a0\\\\u0081\\\\u00e4\\\\u00b8\\\\u008b\\\\u00e8\\\\u00bd\\\\u00bdAPP\\\\u00ef\\\\u00bc\\\\u008c\\\\u00e5\\\\u00a4\\\\u00a9\\\\u00e6\\\\u00b0\\\\u0094\\\\u00e9\\\\u009a\\\\u008f\\\\u00e6\\\\u0097\\\\u00b6\\\\u00e7\\\\u009c\\\\u008b 2345\\\\u00e5\\\\u00a4\\\\u00a9\\\\u00e6\\\\u00b0\\\\u0094\\\\u00e9\\\\u00a2\\\\u0084\\\\u00e6\\\\u008a\\\\u00a5\\\\u00e7\\\\u0089\\\\u0088\\\\u00e6\\\\u009d\\\\u0083\\\\u00e6\\\\u0089\\\\u0080\\\\u00e6\\\\u009c\\\\u0089\\\\u00ef\\\\u00bc\\\\u008c\\\\u00e6\\\\u009c\\\\u00aa\\\\u00e7\\\\u00bb\\\\u008f\\\\u00e4\\\\u00b9\\\\u00a6\\\\u00e9\\\\u009d\\\\u00a2\\\\u00e6\\\\u008e\\\\u0088\\\\u00e6\\\\u009d\\\\u0083\\\\u00e7\\\\u00a6\\\\u0081\\\\u00e6\\\\u00ad\\\\u00a2\\\\u00e4\\\\u00bd\\\\u00bf\\\\u00e7\\\\u0094\\\\u00a8Copyright\\\\u00a92345.comICP\\\\u00e8\\\\u00af\\\\u0081\\\\u00e6\\\\u00b2\\\\u00aaB2-20120099\"}]}',\n  'tool_call_id': 'call_0_2a1ff055-d9c3-442a-abc5-d69a15787781'}]"
     },
     "execution_count": 284,
     "metadata": {},
     "output_type": "execute_result"
    }
   ],
   "source": [
    "messages.append(response.choices[0].message)\n",
    "messages.append(function_call_result_message)\n",
    "messages\n"
   ],
   "metadata": {
    "collapsed": false,
    "ExecuteTime": {
     "end_time": "2025-01-25T14:43:11.122751Z",
     "start_time": "2025-01-25T14:43:11.120014Z"
    }
   },
   "id": "d95a5f73f43a102f",
   "execution_count": 284
  },
  {
   "cell_type": "code",
   "outputs": [
    {
     "name": "stdout",
     "output_type": "stream",
     "text": [
      "根据搜索结果，2025年1月北京的天气情况如下：\n",
      "\n",
      "1. **天气概况**：  \n",
      "   - 1月份北京通常较为寒冷，平均高温为6°C，平均低温为-4°C。  \n",
      "   - 历史数据显示，1月份可能有19天晴天、14天多云、1天雨天和1天雪天。  \n",
      "   - 最高气温可能达到10°C（1月18日），最低气温可能降至-7°C（1月3日）。  \n",
      "\n",
      "2. **空气质量**：  \n",
      "   - 平均PM2.5值为38，属于“优”级别。  \n",
      "\n",
      "3. **其他信息**：  \n",
      "   - 可以通过天气插件或相关网站实时查看天气情况。  \n",
      "\n",
      "如果需要更详细的天气预报或实时数据，建议使用天气应用或访问相关网站查询。\n"
     ]
    }
   ],
   "source": [
    "response = client.chat.completions.create(\n",
    "    model=\"deepseek-chat\",\n",
    "    messages=messages,\n",
    "    # tools=bing_search_tool,\n",
    "    tool_choice=\"auto\"  # 可选值: \"auto\", \"required\", \"none\", {\"type\": \"function\", \"function\": {\"name\": \"function_name\"}}\n",
    ")\n",
    "print(response.choices[0].message.content.strip())\n"
   ],
   "metadata": {
    "collapsed": false,
    "ExecuteTime": {
     "end_time": "2025-01-25T14:43:18.605687Z",
     "start_time": "2025-01-25T14:43:13.013673Z"
    }
   },
   "id": "41d911b9a6d48029",
   "execution_count": 285
  },
  {
   "cell_type": "markdown",
   "source": [
    "# 3 结构化输出的几种方式（JSON结构化，为RAG和Agent作准备）"
   ],
   "metadata": {
    "collapsed": false
   },
   "id": "4ded27ed273b2083"
  },
  {
   "cell_type": "markdown",
   "source": [
    "## 3.1 Few-shot（现在有参数了，可以不用了）"
   ],
   "metadata": {
    "collapsed": false
   },
   "id": "719684c920570b8"
  },
  {
   "cell_type": "code",
   "outputs": [
    {
     "name": "stdout",
     "output_type": "stream",
     "text": [
      "Raw response: [\n",
      "    {\"question\": \"Decoder在大模型中主要负责什么任务？\", \"answer\": \"Decoder在大模型中主要负责生成任务，即根据输入的上下文信息生成相应的输出序列。例如，在机器翻译任务中，Decoder会根据Encoder提供的源语言信息生成目标语言的翻译结果。\"},\n",
      "    {\"question\": \"Decoder的自注意力机制是如何工作的？\", \"answer\": \"Decoder的自注意力机制通过计算输入序列中每个位置与其他位置的相关性来捕捉序列内部的依赖关系。具体来说，它使用查询（Query）、键（Key）和值（Value）矩阵来计算注意力分数，然后根据这些分数对值进行加权求和，从而得到每个位置的输出表示。\"},\n",
      "    {\"question\": \"Decoder在生成过程中如何避免重复生成相同的内容？\", \"answer\": \"Decoder在生成过程中可以通过多种方法避免重复生成相同的内容，例如使用重复惩罚机制（repetition penalty）或在生成过程中对已生成的内容进行掩码处理。此外，还可以通过调整温度参数（temperature）来控制生成结果的多样性，从而减少重复内容的出现。\"}\n",
      "]\n",
      "Q: Decoder在大模型中主要负责什么任务？\n",
      "A: Decoder在大模型中主要负责生成任务，即根据输入的上下文信息生成相应的输出序列。例如，在机器翻译任务中，Decoder会根据Encoder提供的源语言信息生成目标语言的翻译结果。\n",
      "\n",
      "Q: Decoder的自注意力机制是如何工作的？\n",
      "A: Decoder的自注意力机制通过计算输入序列中每个位置与其他位置的相关性来捕捉序列内部的依赖关系。具体来说，它使用查询（Query）、键（Key）和值（Value）矩阵来计算注意力分数，然后根据这些分数对值进行加权求和，从而得到每个位置的输出表示。\n",
      "\n",
      "Q: Decoder在生成过程中如何避免重复生成相同的内容？\n",
      "A: Decoder在生成过程中可以通过多种方法避免重复生成相同的内容，例如使用重复惩罚机制（repetition penalty）或在生成过程中对已生成的内容进行掩码处理。此外，还可以通过调整温度参数（temperature）来控制生成结果的多样性，从而减少重复内容的出现。\n"
     ]
    }
   ],
   "source": [
    "from openai import OpenAI\n",
    "from dotenv import load_dotenv\n",
    "import os\n",
    "\n",
    "# 加载 .env 文件\n",
    "load_dotenv()\n",
    "\n",
    "# 从环境变量中获取 API Key 和 Base URL\n",
    "api_key = os.getenv(\"API_KEY\")\n",
    "base_url = os.getenv(\"BASE_URL\")\n",
    "\n",
    "# 初始化客户端\n",
    "client = OpenAI(api_key=api_key, base_url=base_url)\n",
    "\n",
    "# 2. 准备提示信息和格式说明\n",
    "messages = [\n",
    "    {\n",
    "        \"role\": \"system\",\n",
    "        \"content\": \"你是一个助手。请以JSON格式返回3个关于大模型原理Decoder的问答对。必须使用以下格式: [{\\\"question\\\": \\\"问题1\\\", \\\"answer\\\": \\\"答案1\\\"}, {\\\"question\\\": \\\"问题2\\\", \\\"answer\\\": \\\"答案2\\\"}, {\\\"question\\\": \\\"问题3\\\", \\\"answer\\\": \\\"答案3\\\"}]\"\n",
    "    },\n",
    "    {\n",
    "        \"role\": \"user\",\n",
    "        \"content\": \"生成3个关于大模型原理Decoder的问答对\"\n",
    "    }\n",
    "]\n",
    "\n",
    "try:\n",
    "    # 3. 发送请求\n",
    "    response = client.chat.completions.create(\n",
    "        model=\"deepseek-chat\",\n",
    "        messages=messages,\n",
    "    )\n",
    "    \n",
    "    # 打印原始响应内容（调试用）\n",
    "    print(\"Raw response:\", response.choices[0].message.content)\n",
    "\n",
    "    # 4. 解析响应\n",
    "    try:\n",
    "        qa_pairs = json.loads(response.choices[0].message.content)\n",
    "    \n",
    "        # 5. 打印结果\n",
    "        for pair in qa_pairs:\n",
    "            print(f\"Q: {pair['question']}\")\n",
    "            print(f\"A: {pair['answer']}\\n\")\n",
    "    \n",
    "    except json.JSONDecodeError as e:\n",
    "        print(f\"JSON解析错误: {e}\")\n",
    "        print(f\"收到的内容: {response.choices[0].message.content}\")\n",
    "\n",
    "except Exception as e:\n",
    "    print(f\"API请求错误：{e}\")\n",
    "\n",
    "\n"
   ],
   "metadata": {
    "collapsed": false,
    "ExecuteTime": {
     "end_time": "2025-01-25T14:45:55.925267Z",
     "start_time": "2025-01-25T14:45:49.422552Z"
    }
   },
   "id": "3b2121b35bb3dd0f",
   "execution_count": 286
  },
  {
   "cell_type": "markdown",
   "source": [
    "## 3.2 使用response_format = {\"type\": \"json_object\"}"
   ],
   "metadata": {
    "collapsed": false
   },
   "id": "fa92de7a9a8c4532"
  },
  {
   "cell_type": "code",
   "outputs": [],
   "source": [
    "\n",
    "# 使用示例\n",
    "response_format = {\"type\": \"json_object\"}\n"
   ],
   "metadata": {
    "collapsed": false,
    "ExecuteTime": {
     "end_time": "2025-01-25T15:01:47.650850Z",
     "start_time": "2025-01-25T15:01:47.649002Z"
    }
   },
   "id": "f0c03e667378f0e3",
   "execution_count": 307
  },
  {
   "cell_type": "code",
   "outputs": [],
   "source": [
    "response = client.chat.completions.create(\n",
    "    model=\"deepseek-chat\",\n",
    "    messages=[\n",
    "        {\"role\": \"system\", \"content\": \"You are a helpful math tutor. Guide the user through the solution step by step.Using Json to answer\"},\n",
    "        {\"role\": \"user\", \"content\": \"how can I solve 8x + 7 = -23\"}\n",
    "    ],\n",
    "    response_format = {\n",
    "        \"type\": \"json_object\",\n",
    "        \"strict\": True\n",
    "    }\n",
    ")\n",
    "\n",
    "\n"
   ],
   "metadata": {
    "collapsed": false,
    "ExecuteTime": {
     "end_time": "2025-01-25T15:01:56.876309Z",
     "start_time": "2025-01-25T15:01:48.294997Z"
    }
   },
   "id": "79615a44d9a32a3c",
   "execution_count": 308
  },
  {
   "cell_type": "code",
   "outputs": [
    {
     "data": {
      "text/plain": "ChatCompletion(id='d9a1d303-e2e8-4cc6-b40a-43a93181b819', choices=[Choice(finish_reason='stop', index=0, logprobs=None, message=ChatCompletionMessage(content='{\\n  \"step1\": {\\n    \"description\": \"Understand the equation\",\\n    \"details\": \"The equation given is 8x + 7 = -23. Our goal is to solve for x.\"\\n  },\\n  \"step2\": {\\n    \"description\": \"Isolate the term containing x\",\\n    \"details\": \"To isolate the term containing x, we need to move the constant term (7) to the other side of the equation. We do this by subtracting 7 from both sides of the equation.\",\\n    \"calculation\": \"8x + 7 - 7 = -23 - 7\",\\n    \"result\": \"8x = -30\"\\n  },\\n  \"step3\": {\\n    \"description\": \"Solve for x\",\\n    \"details\": \"Now that we have 8x = -30, we can solve for x by dividing both sides of the equation by 8.\",\\n    \"calculation\": \"8x / 8 = -30 / 8\",\\n    \"result\": \"x = -30 / 8\"\\n  },\\n  \"step4\": {\\n    \"description\": \"Simplify the fraction\",\\n    \"details\": \"The fraction -30/8 can be simplified by dividing both the numerator and the denominator by their greatest common divisor, which is 2.\",\\n    \"calculation\": \"-30 ÷ 2 / 8 ÷ 2 = -15 / 4\",\\n    \"result\": \"x = -15/4\"\\n  },\\n  \"step5\": {\\n    \"description\": \"Final Answer\",\\n    \"details\": \"The solution to the equation 8x + 7 = -23 is x = -15/4.\",\\n    \"final_answer\": \"x = -15/4\"\\n  }\\n}', refusal=None, role='assistant', audio=None, function_call=None, tool_calls=None))], created=1737817308, model='deepseek-chat', object='chat.completion', service_tier=None, system_fingerprint='fp_3a5770e1b4', usage=CompletionUsage(completion_tokens=364, prompt_tokens=48, total_tokens=412, completion_tokens_details=None, prompt_tokens_details=PromptTokensDetails(audio_tokens=None, cached_tokens=0), prompt_cache_hit_tokens=0, prompt_cache_miss_tokens=48))"
     },
     "execution_count": 309,
     "metadata": {},
     "output_type": "execute_result"
    }
   ],
   "source": [
    "response"
   ],
   "metadata": {
    "collapsed": false,
    "ExecuteTime": {
     "end_time": "2025-01-25T15:02:00.136111Z",
     "start_time": "2025-01-25T15:02:00.133584Z"
    }
   },
   "id": "a6a8bb81125c0601",
   "execution_count": 309
  },
  {
   "cell_type": "code",
   "outputs": [
    {
     "data": {
      "text/plain": "'{\\n  \"step1\": {\\n    \"description\": \"Understand the equation\",\\n    \"details\": \"The equation given is 8x + 7 = -23. Our goal is to solve for x.\"\\n  },\\n  \"step2\": {\\n    \"description\": \"Isolate the term containing x\",\\n    \"details\": \"To isolate the term containing x, we need to move the constant term (7) to the other side of the equation. We do this by subtracting 7 from both sides of the equation.\",\\n    \"calculation\": \"8x + 7 - 7 = -23 - 7\",\\n    \"result\": \"8x = -30\"\\n  },\\n  \"step3\": {\\n    \"description\": \"Solve for x\",\\n    \"details\": \"Now that we have 8x = -30, we can solve for x by dividing both sides of the equation by 8.\",\\n    \"calculation\": \"8x / 8 = -30 / 8\",\\n    \"result\": \"x = -30 / 8\"\\n  },\\n  \"step4\": {\\n    \"description\": \"Simplify the fraction\",\\n    \"details\": \"The fraction -30/8 can be simplified by dividing both the numerator and the denominator by their greatest common divisor, which is 2.\",\\n    \"calculation\": \"-30 ÷ 2 / 8 ÷ 2 = -15 / 4\",\\n    \"result\": \"x = -15/4\"\\n  },\\n  \"step5\": {\\n    \"description\": \"Final Answer\",\\n    \"details\": \"The solution to the equation 8x + 7 = -23 is x = -15/4.\",\\n    \"final_answer\": \"x = -15/4\"\\n  }\\n}'"
     },
     "execution_count": 310,
     "metadata": {},
     "output_type": "execute_result"
    }
   ],
   "source": [
    "response.choices[0].message.content"
   ],
   "metadata": {
    "collapsed": false,
    "ExecuteTime": {
     "end_time": "2025-01-25T15:02:01.494206Z",
     "start_time": "2025-01-25T15:02:01.491415Z"
    }
   },
   "id": "aa89dcb22221e76e",
   "execution_count": 310
  },
  {
   "cell_type": "markdown",
   "source": [
    "# 4 提示缓存（上下文硬盘缓存）与流式输出"
   ],
   "metadata": {
    "collapsed": false
   },
   "id": "af6696db7211ce1a"
  },
  {
   "cell_type": "markdown",
   "source": [
    "## 4.1 提示缓存测试1024Token缓存"
   ],
   "metadata": {
    "collapsed": false
   },
   "id": "55457eb637813975"
  },
  {
   "cell_type": "code",
   "outputs": [
    {
     "name": "stdout",
     "output_type": "stream",
     "text": [
      "运行 1:\n",
      "{\n",
      "    \"id\": \"50b96405-d8fb-4efb-8a2b-ffdb7923e5b4\",\n",
      "    \"choices\": [\n",
      "        {\n",
      "            \"finish_reason\": \"tool_calls\",\n",
      "            \"index\": 0,\n",
      "            \"logprobs\": null,\n",
      "            \"message\": {\n",
      "                \"content\": \"\",\n",
      "                \"role\": \"assistant\",\n",
      "                \"tool_calls\": [\n",
      "                    {\n",
      "                        \"id\": \"call_0_aa4e917a-bf89-4ef0-a28a-5a66ddf6c229\",\n",
      "                        \"function\": {\n",
      "                            \"arguments\": \"{\\\"order_id\\\":\\\"9876543210\\\"}\",\n",
      "                            \"name\": \"get_delivery_date\"\n",
      "                        },\n",
      "                        \"type\": \"function\",\n",
      "                        \"index\": 0\n",
      "                    }\n",
      "                ]\n",
      "            }\n",
      "        }\n",
      "    ],\n",
      "    \"created\": 1737820877,\n",
      "    \"model\": \"deepseek-chat\",\n",
      "    \"object\": \"chat.completion\",\n",
      "    \"system_fingerprint\": \"fp_3a5770e1b4\",\n",
      "    \"usage\": {\n",
      "        \"completion_tokens\": 25,\n",
      "        \"prompt_tokens\": 1037,\n",
      "        \"total_tokens\": 1062,\n",
      "        \"prompt_tokens_details\": {\n",
      "            \"cached_tokens\": 0\n",
      "        },\n",
      "        \"prompt_cache_hit_tokens\": 0,\n",
      "        \"prompt_cache_miss_tokens\": 1037\n",
      "    }\n",
      "}\n",
      "\n",
      "运行 2:\n",
      "{\n",
      "    \"id\": \"831e72ad-670d-4999-8a92-2eb96b20ea2b\",\n",
      "    \"choices\": [\n",
      "        {\n",
      "            \"finish_reason\": \"tool_calls\",\n",
      "            \"index\": 0,\n",
      "            \"logprobs\": null,\n",
      "            \"message\": {\n",
      "                \"content\": \"\",\n",
      "                \"role\": \"assistant\",\n",
      "                \"tool_calls\": [\n",
      "                    {\n",
      "                        \"id\": \"call_0_61a57ae5-075a-4792-9da5-9d996543c873\",\n",
      "                        \"function\": {\n",
      "                            \"arguments\": \"{\\\"order_id\\\":\\\"9876543210\\\"}\",\n",
      "                            \"name\": \"get_delivery_date\"\n",
      "                        },\n",
      "                        \"type\": \"function\",\n",
      "                        \"index\": 0\n",
      "                    },\n",
      "                    {\n",
      "                        \"id\": \"call_1_92caab1f-c2cd-4cf7-854a-d437f61f80a5\",\n",
      "                        \"function\": {\n",
      "                            \"arguments\": \"{\\\"order_id\\\":\\\"9876543210\\\",\\\"reason\\\":\\\"Decided to purchase locally for faster delivery\\\"}\",\n",
      "                            \"name\": \"cancel_order\"\n",
      "                        },\n",
      "                        \"type\": \"function\",\n",
      "                        \"index\": 1\n",
      "                    }\n",
      "                ]\n",
      "            }\n",
      "        }\n",
      "    ],\n",
      "    \"created\": 1737820885,\n",
      "    \"model\": \"deepseek-chat\",\n",
      "    \"object\": \"chat.completion\",\n",
      "    \"system_fingerprint\": \"fp_3a5770e1b4\",\n",
      "    \"usage\": {\n",
      "        \"completion_tokens\": 57,\n",
      "        \"prompt_tokens\": 1079,\n",
      "        \"total_tokens\": 1136,\n",
      "        \"prompt_tokens_details\": {\n",
      "            \"cached_tokens\": 1024\n",
      "        },\n",
      "        \"prompt_cache_hit_tokens\": 1024,\n",
      "        \"prompt_cache_miss_tokens\": 55\n",
      "    }\n",
      "}\n"
     ]
    }
   ],
   "source": [
    "import time\n",
    "import json\n",
    "from openai import OpenAI\n",
    "from dotenv import load_dotenv\n",
    "import os\n",
    "\n",
    "# 加载 .env 文件\n",
    "load_dotenv()\n",
    "\n",
    "# 从环境变量中获取 API Key 和 Base URL\n",
    "api_key = os.getenv(\"API_KEY\")\n",
    "base_url = os.getenv(\"BASE_URL\")\n",
    "\n",
    "# 初始化客户端\n",
    "client = OpenAI(api_key=api_key, base_url=base_url)\n",
    "\n",
    "\n",
    "# 定义工具,包括发货日期查询、订单取消和商品退货的功能模块,\n",
    "tools = [\n",
    "   \n",
    "    {\n",
    "        \"type\": \"function\",\n",
    "        \"function\": {\n",
    "            \"name\": \"get_delivery_date\", \n",
    "            \"description\": \"获取客户订单的发货日期。当您需要知道发货日期时，请调用此函数，例如当客户询问“我的包裹在哪里”时。\",\n",
    "            \"parameters\": {\n",
    "                \"type\": \"object\",\n",
    "                \"properties\": {\n",
    "                    \"order_id\": { \n",
    "                        \"type\": \"string\",\n",
    "                        \"description\": \"客户的订单号。\",\n",
    "                    },\n",
    "                },\n",
    "                \"required\": [\"order_id\"],\n",
    "                \"additionalProperties\": False,\n",
    "            },\n",
    "        }\n",
    "    },\n",
    "    {\n",
    "        \"type\": \"function\",\n",
    "        \"function\": {\n",
    "            \"name\": \"cancel_order\", \n",
    "            \"description\": \"取消尚未发货的订单。当客户请求取消订单时使用此功能。\",\n",
    "            \"parameters\": {\n",
    "                \"type\": \"object\",\n",
    "                \"properties\": {\n",
    "                    \"order_id\": {\n",
    "                        \"type\": \"string\",\n",
    "                        \"description\": \"客户的订单号。\",\n",
    "                    },\n",
    "                    \"reason\": { \n",
    "                        \"type\": \"string\",\n",
    "                        \"description\": \"取消订单的原因。\",\n",
    "                    }\n",
    "                },\n",
    "                \"required\": [\"order_id\", \"reason\"],\n",
    "                \"additionalProperties\": False\n",
    "            }\n",
    "        }\n",
    "    },\n",
    "    {\n",
    "        \"type\": \"function\",\n",
    "        \"function\": {\n",
    "            \"name\": \"return_item\", \n",
    "            \"description\": \"处理订单退货。当客户想要退货且订单已交付时，应调用此函数。\",\n",
    "            \"parameters\": {\n",
    "                \"type\": \"object\",\n",
    "                \"properties\": {\n",
    "                    \"order_id\": { \n",
    "                        \"type\": \"string\",\n",
    "                        \"description\": \"客户的订单号。\",\n",
    "                    },\n",
    "                    \"item_id\": { \n",
    "                        \"type\": \"string\",\n",
    "                        \"description\": \"客户要退回的特定商品号。\",\n",
    "                    },\n",
    "                    \"reason\": { \n",
    "                        \"type\": \"string\",\n",
    "                        \"description\": \"退货的原因。\",\n",
    "                    }\n",
    "                },\n",
    "                \"required\": [\"order_id\", \"item_id\", \"reason\"],\n",
    "                \"additionalProperties\": False\n",
    "            }\n",
    "        }\n",
    "    },\n",
    "\n",
    "]\n",
    "# 增强版系统消息，带有保护措施\n",
    "messages = [\n",
    "    {\n",
    "        \"role\": \"system\",\n",
    "        \"content\": (\n",
    "            \"你是一位专业、热情且高效的客服助理。你的任务是以热情友好的态度为客户提供快速、清晰、全面的帮助。\"\n",
    "            \"时刻表达同理心，尤其是在用户感到沮丧或担忧时，并确保你的语言礼貌且专业。\"\n",
    "            \"使用简单明了的沟通方式避免任何误解，并在采取行动前与用户确认。\"\n",
    "            \"在更复杂或时间紧迫的情况下，向用户保证你正在迅速采取行动，并定期提供更新。\"\n",
    "            \"适应用户的语气：即使在压力大或困难的情况下，也要保持冷静、友好和理解。\"\n",
    "            \"\\n\\n\"\n",
    "            \"此外，在帮助用户时，你必须遵守以下几个重要的保护措施：\"\n",
    "            \"\\n\\n\"\n",
    "            \"1. **保密性和数据隐私**：不要泄露任何关于公司或其他用户的敏感信息。处理个人信息（例如订单号、地址或付款方式）时，\"\n",
    "            \"请确保以最高级别的保密性对待这些信息。如果用户请求访问其数据，请仅提供与其请求相关的必要信息，确保不会意外泄露其他用户信息。\"\n",
    "            \"\\n\\n\"\n",
    "            \"2. **安全支付处理**：更新付款详细信息或处理退款时，始终确保支付数据（例如信用卡号、CVV 码和到期日期）的安全传输和存储。\"\n",
    "            \"切勿显示或记录完整的信用卡号。在处理任何付款更改或退款之前，请与用户确认。\"\n",
    "            \"\\n\\n\"\n",
    "            \"3. **尊重界限**：如果用户表达了沮丧或不满，请保持冷静和同理心，但避免越过专业的界限。不要做出个人判断，\"\n",
    "            \"避免使用可能加剧局势的语言。坚持事实信息和明确的解决方案来解决用户的问题。\"\n",
    "            \"\\n\\n\"\n",
    "            \"4. **遵守法律**：确保你采取的所有行动都符合法律法规标准。例如，如果用户要求退款、取消或退货，请严格遵守公司的退款政策。\"\n",
    "            \"如果由于已发货或其他限制而无法取消订单，请清晰而同情地解释政策。\"\n",
    "            \"\\n\\n\"\n",
    "            \"5. **一致性**：始终提供与公司政策一致的信息。如果不确定公司政策，请与用户沟通清楚，告知他们你正在核实信息，避免做出虚假承诺。\"\n",
    "            \"如果将问题升级到其他团队，请告知用户，并提供他们可以预期得到解决方案的实际时间表。\"\n",
    "            \"\\n\\n\"\n",
    "            \"6. **用户赋能**：尽可能让用户做出明智的决定。向他们提供相关选项，并清楚地解释每个选项，确保他们理解每个选择的后果\"\n",
    "            \"（例如，取消订单可能会导致失去积分等）。确保你的帮助支持他们的自主性。\"\n",
    "            \"\\n\\n\"\n",
    "            \"7. **不作推测**：不要对结果进行推测或提供你不确定的信息。在讨论订单状态、政策或潜在解决方案时，始终坚持已核实的事实。\"\n",
    "            \"如果不清楚，请告诉用户你将在做出任何承诺之前进行进一步调查。\"\n",
    "            \"\\n\\n\"\n",
    "            \"8. **尊重和包容的语言**：无论用户的语气如何，请确保你的语言保持包容性和尊重性。避免基于有限的信息做出假设，并注意用户的不同需求和背景。\"\n",
    "        )\n",
    "    },\n",
    "    {\n",
    "        \"role\": \"user\",\n",
    "        \"content\": (\n",
    "            \"你好，我三天前下了订单，但还没有收到任何关于何时发货的更新。\"\n",
    "            \"你能帮我查一下发货日期吗？我的订单号是 #9876543210。我有点担心，因为我急需这个商品。\"  \n",
    "        )\n",
    "    }\n",
    "]\n",
    "\n",
    "# 增强版 user_query2\n",
    "user_query2 = {\n",
    "    \"role\": \"user\",\n",
    "    \"content\": (\n",
    "        \"由于我的订单实际上还没有发货，我想取消它。\"\n",
    "        \"订单号是 #9876543210，我需要取消是因为我决定在本地购买，以便更快地拿到它。\"  \n",
    "        \"你能帮我取消吗？谢谢！\"\n",
    "    )\n",
    "}\n",
    "# 使用提供的消息历史记录和工具运行\n",
    "def completion_run(messages, tools): \n",
    "    completion = client.chat.completions.create(\n",
    "        model=\"deepseek-chat\", \n",
    "        tools=tools,\n",
    "        messages=messages,\n",
    "    )\n",
    "    usage_data = json.dumps(completion.to_dict(), indent=4, ensure_ascii=False)\n",
    "    return usage_data\n",
    "\n",
    "# 主函数，用于处理两次运行\n",
    "def main(messages, tools, user_query2): \n",
    "    # 运行 1：初始查询\n",
    "    print(\"运行 1:\") \n",
    "    run1 = completion_run(messages, tools)\n",
    "    print(run1)\n",
    "\n",
    "    # 延迟 7 秒\n",
    "    time.sleep(7)\n",
    "\n",
    "    # 将 user_query2 追加到消息历史记录\n",
    "    messages.append(user_query2)\n",
    "\n",
    "    # 运行 2：附加查询\n",
    "    print(\"\\n运行 2:\") \n",
    "    run2 = completion_run(messages, tools)\n",
    "    print(run2)\n",
    "\n",
    "\n",
    "# 运行主函数\n",
    "main(messages, tools, user_query2)"
   ],
   "metadata": {
    "collapsed": false,
    "ExecuteTime": {
     "end_time": "2025-01-25T16:01:28.025440Z",
     "start_time": "2025-01-25T16:01:17.276555Z"
    }
   },
   "id": "e6b9c9bc7a5b2df6",
   "execution_count": 311
  },
  {
   "cell_type": "markdown",
   "source": [
    "对上述输出的解释：\n",
    "运行1的解释：\n",
    "id：\n",
    "\n",
    "本次 API 调用的唯一标识符：50b96405-d8fb-4efb-8a2b-ffdb7923e5b4。\n",
    "\n",
    "choices：\n",
    "\n",
    "模型生成的响应结果。\n",
    "\n",
    "finish_reason 为 tool_calls，表示模型决定调用外部工具（函数）来完成请求。\n",
    "\n",
    "message 中的 tool_calls 是模型决定调用的函数列表。\n",
    "\n",
    "tool_calls：\n",
    "\n",
    "模型决定调用一个函数：get_delivery_date。\n",
    "\n",
    "函数的参数为 {\"order_id\": \"9876543210\"}，表示查询订单 9876543210 的配送日期。\n",
    "\n",
    "usage：\n",
    "\n",
    "本次 API 调用的 token 使用情况：\n",
    "\n",
    "prompt_tokens：1037，表示输入提示的 token 数量。\n",
    "\n",
    "completion_tokens：25，表示模型生成的响应 token 数量。\n",
    "\n",
    "total_tokens：1062，表示总 token 数量。\n",
    "\n",
    "prompt_cache_hit_tokens 为 0，表示没有命中缓存。"
   ],
   "metadata": {
    "collapsed": false
   },
   "id": "3a1f1e28bdf1a953"
  },
  {
   "cell_type": "markdown",
   "source": [
    "运行2的解释：id：\n",
    "\n",
    "本次 API 调用的唯一标识符：831e72ad-670d-4999-8a92-2eb96b20ea2b。\n",
    "\n",
    "choices：\n",
    "\n",
    "模型生成的响应结果。\n",
    "\n",
    "finish_reason 为 tool_calls，表示模型决定调用外部工具（函数）来完成请求。\n",
    "\n",
    "message 中的 tool_calls 是模型决定调用的函数列表。\n",
    "\n",
    "tool_calls：\n",
    "\n",
    "模型决定调用两个函数：\n",
    "\n",
    "第一个函数：get_delivery_date，参数为 {\"order_id\": \"9876543210\"}，表示查询订单 9876543210 的配送日期。\n",
    "\n",
    "第二个函数：cancel_order，参数为 {\"order_id\": \"9876543210\", \"reason\": \"Decided to purchase locally for faster delivery\"}，表示取消订单 9876543210，并提供了取消原因。\n",
    "\n",
    "usage：\n",
    "\n",
    "本次 API 调用的 token 使用情况：\n",
    "\n",
    "prompt_tokens：1079，表示输入提示的 token 数量。\n",
    "\n",
    "completion_tokens：57，表示模型生成的响应 token 数量。\n",
    "\n",
    "total_tokens：1136，表示总 token 数量。\n",
    "\n",
    "prompt_cache_hit_tokens 为 1024，表示有 1024 个 token 命中了缓存，减少了实际请求的 token 数量。"
   ],
   "metadata": {
    "collapsed": false
   },
   "id": "6978b17f5cd45f4d"
  },
  {
   "cell_type": "markdown",
   "source": [
    "## 4.2 流式输出"
   ],
   "metadata": {
    "collapsed": false
   },
   "id": "ff7bb73363d66222"
  },
  {
   "cell_type": "code",
   "outputs": [],
   "source": [
    "import time\n",
    "import json\n",
    "from openai import OpenAI\n",
    "from dotenv import load_dotenv\n",
    "import os\n",
    "\n",
    "# 加载 .env 文件\n",
    "load_dotenv()\n",
    "\n",
    "# 从环境变量中获取 API Key 和 Base URL\n",
    "api_key = os.getenv(\"API_KEY\")\n",
    "base_url = os.getenv(\"BASE_URL\")\n",
    "\n",
    "# 初始化客户端\n",
    "client = OpenAI(api_key=api_key, base_url=base_url)"
   ],
   "metadata": {
    "collapsed": false,
    "ExecuteTime": {
     "end_time": "2025-01-25T16:13:39.601114Z",
     "start_time": "2025-01-25T16:13:39.584773Z"
    }
   },
   "id": "38157eb01b23169d",
   "execution_count": 312
  },
  {
   "cell_type": "code",
   "outputs": [
    {
     "name": "stdout",
     "output_type": "stream",
     "text": [
      "开始响应:\n",
      "ChatCompletionChunk(id='49059b00-dacf-4f83-aeaf-b741fea9b610', choices=[Choice(delta=ChoiceDelta(content='', function_call=None, refusal=None, role='assistant', tool_calls=None), finish_reason=None, index=0, logprobs=None)], created=1737821722, model='deepseek-chat', object='chat.completion.chunk', service_tier=None, system_fingerprint='fp_3a5770e1b4', usage=None)\n",
      "ChatCompletionChunk(id='49059b00-dacf-4f83-aeaf-b741fea9b610', choices=[Choice(delta=ChoiceDelta(content='大', function_call=None, refusal=None, role=None, tool_calls=None), finish_reason=None, index=0, logprobs=None)], created=1737821722, model='deepseek-chat', object='chat.completion.chunk', service_tier=None, system_fingerprint='fp_3a5770e1b4', usage=None)\n",
      "ChatCompletionChunk(id='49059b00-dacf-4f83-aeaf-b741fea9b610', choices=[Choice(delta=ChoiceDelta(content='模型', function_call=None, refusal=None, role=None, tool_calls=None), finish_reason=None, index=0, logprobs=None)], created=1737821722, model='deepseek-chat', object='chat.completion.chunk', service_tier=None, system_fingerprint='fp_3a5770e1b4', usage=None)\n",
      "ChatCompletionChunk(id='49059b00-dacf-4f83-aeaf-b741fea9b610', choices=[Choice(delta=ChoiceDelta(content='（', function_call=None, refusal=None, role=None, tool_calls=None), finish_reason=None, index=0, logprobs=None)], created=1737821722, model='deepseek-chat', object='chat.completion.chunk', service_tier=None, system_fingerprint='fp_3a5770e1b4', usage=None)\n",
      "ChatCompletionChunk(id='49059b00-dacf-4f83-aeaf-b741fea9b610', choices=[Choice(delta=ChoiceDelta(content='如', function_call=None, refusal=None, role=None, tool_calls=None), finish_reason=None, index=0, logprobs=None)], created=1737821722, model='deepseek-chat', object='chat.completion.chunk', service_tier=None, system_fingerprint='fp_3a5770e1b4', usage=None)\n",
      "ChatCompletionChunk(id='49059b00-dacf-4f83-aeaf-b741fea9b610', choices=[Choice(delta=ChoiceDelta(content='GPT', function_call=None, refusal=None, role=None, tool_calls=None), finish_reason=None, index=0, logprobs=None)], created=1737821722, model='deepseek-chat', object='chat.completion.chunk', service_tier=None, system_fingerprint='fp_3a5770e1b4', usage=None)\n",
      "ChatCompletionChunk(id='49059b00-dacf-4f83-aeaf-b741fea9b610', choices=[Choice(delta=ChoiceDelta(content='-', function_call=None, refusal=None, role=None, tool_calls=None), finish_reason=None, index=0, logprobs=None)], created=1737821722, model='deepseek-chat', object='chat.completion.chunk', service_tier=None, system_fingerprint='fp_3a5770e1b4', usage=None)\n",
      "ChatCompletionChunk(id='49059b00-dacf-4f83-aeaf-b741fea9b610', choices=[Choice(delta=ChoiceDelta(content='3', function_call=None, refusal=None, role=None, tool_calls=None), finish_reason=None, index=0, logprobs=None)], created=1737821722, model='deepseek-chat', object='chat.completion.chunk', service_tier=None, system_fingerprint='fp_3a5770e1b4', usage=None)\n",
      "ChatCompletionChunk(id='49059b00-dacf-4f83-aeaf-b741fea9b610', choices=[Choice(delta=ChoiceDelta(content='、', function_call=None, refusal=None, role=None, tool_calls=None), finish_reason=None, index=0, logprobs=None)], created=1737821722, model='deepseek-chat', object='chat.completion.chunk', service_tier=None, system_fingerprint='fp_3a5770e1b4', usage=None)\n",
      "ChatCompletionChunk(id='49059b00-dacf-4f83-aeaf-b741fea9b610', choices=[Choice(delta=ChoiceDelta(content='GPT', function_call=None, refusal=None, role=None, tool_calls=None), finish_reason=None, index=0, logprobs=None)], created=1737821722, model='deepseek-chat', object='chat.completion.chunk', service_tier=None, system_fingerprint='fp_3a5770e1b4', usage=None)\n",
      "ChatCompletionChunk(id='49059b00-dacf-4f83-aeaf-b741fea9b610', choices=[Choice(delta=ChoiceDelta(content='-', function_call=None, refusal=None, role=None, tool_calls=None), finish_reason=None, index=0, logprobs=None)], created=1737821722, model='deepseek-chat', object='chat.completion.chunk', service_tier=None, system_fingerprint='fp_3a5770e1b4', usage=None)\n",
      "ChatCompletionChunk(id='49059b00-dacf-4f83-aeaf-b741fea9b610', choices=[Choice(delta=ChoiceDelta(content='4', function_call=None, refusal=None, role=None, tool_calls=None), finish_reason=None, index=0, logprobs=None)], created=1737821722, model='deepseek-chat', object='chat.completion.chunk', service_tier=None, system_fingerprint='fp_3a5770e1b4', usage=None)\n",
      "ChatCompletionChunk(id='49059b00-dacf-4f83-aeaf-b741fea9b610', choices=[Choice(delta=ChoiceDelta(content='等', function_call=None, refusal=None, role=None, tool_calls=None), finish_reason=None, index=0, logprobs=None)], created=1737821722, model='deepseek-chat', object='chat.completion.chunk', service_tier=None, system_fingerprint='fp_3a5770e1b4', usage=None)\n",
      "ChatCompletionChunk(id='49059b00-dacf-4f83-aeaf-b741fea9b610', choices=[Choice(delta=ChoiceDelta(content='）', function_call=None, refusal=None, role=None, tool_calls=None), finish_reason=None, index=0, logprobs=None)], created=1737821722, model='deepseek-chat', object='chat.completion.chunk', service_tier=None, system_fingerprint='fp_3a5770e1b4', usage=None)\n",
      "ChatCompletionChunk(id='49059b00-dacf-4f83-aeaf-b741fea9b610', choices=[Choice(delta=ChoiceDelta(content='在', function_call=None, refusal=None, role=None, tool_calls=None), finish_reason=None, index=0, logprobs=None)], created=1737821722, model='deepseek-chat', object='chat.completion.chunk', service_tier=None, system_fingerprint='fp_3a5770e1b4', usage=None)\n",
      "ChatCompletionChunk(id='49059b00-dacf-4f83-aeaf-b741fea9b610', choices=[Choice(delta=ChoiceDelta(content='生成', function_call=None, refusal=None, role=None, tool_calls=None), finish_reason=None, index=0, logprobs=None)], created=1737821722, model='deepseek-chat', object='chat.completion.chunk', service_tier=None, system_fingerprint='fp_3a5770e1b4', usage=None)\n",
      "ChatCompletionChunk(id='49059b00-dacf-4f83-aeaf-b741fea9b610', choices=[Choice(delta=ChoiceDelta(content='文本', function_call=None, refusal=None, role=None, tool_calls=None), finish_reason=None, index=0, logprobs=None)], created=1737821722, model='deepseek-chat', object='chat.completion.chunk', service_tier=None, system_fingerprint='fp_3a5770e1b4', usage=None)\n",
      "ChatCompletionChunk(id='49059b00-dacf-4f83-aeaf-b741fea9b610', choices=[Choice(delta=ChoiceDelta(content='时', function_call=None, refusal=None, role=None, tool_calls=None), finish_reason=None, index=0, logprobs=None)], created=1737821722, model='deepseek-chat', object='chat.completion.chunk', service_tier=None, system_fingerprint='fp_3a5770e1b4', usage=None)\n",
      "ChatCompletionChunk(id='49059b00-dacf-4f83-aeaf-b741fea9b610', choices=[Choice(delta=ChoiceDelta(content='可能会出现', function_call=None, refusal=None, role=None, tool_calls=None), finish_reason=None, index=0, logprobs=None)], created=1737821722, model='deepseek-chat', object='chat.completion.chunk', service_tier=None, system_fingerprint='fp_3a5770e1b4', usage=None)\n",
      "ChatCompletionChunk(id='49059b00-dacf-4f83-aeaf-b741fea9b610', choices=[Choice(delta=ChoiceDelta(content='“', function_call=None, refusal=None, role=None, tool_calls=None), finish_reason=None, index=0, logprobs=None)], created=1737821722, model='deepseek-chat', object='chat.completion.chunk', service_tier=None, system_fingerprint='fp_3a5770e1b4', usage=None)\n",
      "ChatCompletionChunk(id='49059b00-dacf-4f83-aeaf-b741fea9b610', choices=[Choice(delta=ChoiceDelta(content='幻觉', function_call=None, refusal=None, role=None, tool_calls=None), finish_reason=None, index=0, logprobs=None)], created=1737821722, model='deepseek-chat', object='chat.completion.chunk', service_tier=None, system_fingerprint='fp_3a5770e1b4', usage=None)\n",
      "ChatCompletionChunk(id='49059b00-dacf-4f83-aeaf-b741fea9b610', choices=[Choice(delta=ChoiceDelta(content='”', function_call=None, refusal=None, role=None, tool_calls=None), finish_reason=None, index=0, logprobs=None)], created=1737821722, model='deepseek-chat', object='chat.completion.chunk', service_tier=None, system_fingerprint='fp_3a5770e1b4', usage=None)\n",
      "ChatCompletionChunk(id='49059b00-dacf-4f83-aeaf-b741fea9b610', choices=[Choice(delta=ChoiceDelta(content='问题', function_call=None, refusal=None, role=None, tool_calls=None), finish_reason=None, index=0, logprobs=None)], created=1737821722, model='deepseek-chat', object='chat.completion.chunk', service_tier=None, system_fingerprint='fp_3a5770e1b4', usage=None)\n",
      "ChatCompletionChunk(id='49059b00-dacf-4f83-aeaf-b741fea9b610', choices=[Choice(delta=ChoiceDelta(content='，', function_call=None, refusal=None, role=None, tool_calls=None), finish_reason=None, index=0, logprobs=None)], created=1737821722, model='deepseek-chat', object='chat.completion.chunk', service_tier=None, system_fingerprint='fp_3a5770e1b4', usage=None)\n",
      "ChatCompletionChunk(id='49059b00-dacf-4f83-aeaf-b741fea9b610', choices=[Choice(delta=ChoiceDelta(content='即', function_call=None, refusal=None, role=None, tool_calls=None), finish_reason=None, index=0, logprobs=None)], created=1737821722, model='deepseek-chat', object='chat.completion.chunk', service_tier=None, system_fingerprint='fp_3a5770e1b4', usage=None)\n",
      "ChatCompletionChunk(id='49059b00-dacf-4f83-aeaf-b741fea9b610', choices=[Choice(delta=ChoiceDelta(content='生成', function_call=None, refusal=None, role=None, tool_calls=None), finish_reason=None, index=0, logprobs=None)], created=1737821722, model='deepseek-chat', object='chat.completion.chunk', service_tier=None, system_fingerprint='fp_3a5770e1b4', usage=None)\n",
      "ChatCompletionChunk(id='49059b00-dacf-4f83-aeaf-b741fea9b610', choices=[Choice(delta=ChoiceDelta(content='的内容', function_call=None, refusal=None, role=None, tool_calls=None), finish_reason=None, index=0, logprobs=None)], created=1737821722, model='deepseek-chat', object='chat.completion.chunk', service_tier=None, system_fingerprint='fp_3a5770e1b4', usage=None)\n",
      "ChatCompletionChunk(id='49059b00-dacf-4f83-aeaf-b741fea9b610', choices=[Choice(delta=ChoiceDelta(content='与', function_call=None, refusal=None, role=None, tool_calls=None), finish_reason=None, index=0, logprobs=None)], created=1737821722, model='deepseek-chat', object='chat.completion.chunk', service_tier=None, system_fingerprint='fp_3a5770e1b4', usage=None)\n",
      "ChatCompletionChunk(id='49059b00-dacf-4f83-aeaf-b741fea9b610', choices=[Choice(delta=ChoiceDelta(content='事实', function_call=None, refusal=None, role=None, tool_calls=None), finish_reason=None, index=0, logprobs=None)], created=1737821722, model='deepseek-chat', object='chat.completion.chunk', service_tier=None, system_fingerprint='fp_3a5770e1b4', usage=None)\n",
      "ChatCompletionChunk(id='49059b00-dacf-4f83-aeaf-b741fea9b610', choices=[Choice(delta=ChoiceDelta(content='不符', function_call=None, refusal=None, role=None, tool_calls=None), finish_reason=None, index=0, logprobs=None)], created=1737821722, model='deepseek-chat', object='chat.completion.chunk', service_tier=None, system_fingerprint='fp_3a5770e1b4', usage=None)\n",
      "ChatCompletionChunk(id='49059b00-dacf-4f83-aeaf-b741fea9b610', choices=[Choice(delta=ChoiceDelta(content='或', function_call=None, refusal=None, role=None, tool_calls=None), finish_reason=None, index=0, logprobs=None)], created=1737821722, model='deepseek-chat', object='chat.completion.chunk', service_tier=None, system_fingerprint='fp_3a5770e1b4', usage=None)\n",
      "ChatCompletionChunk(id='49059b00-dacf-4f83-aeaf-b741fea9b610', choices=[Choice(delta=ChoiceDelta(content='缺乏', function_call=None, refusal=None, role=None, tool_calls=None), finish_reason=None, index=0, logprobs=None)], created=1737821722, model='deepseek-chat', object='chat.completion.chunk', service_tier=None, system_fingerprint='fp_3a5770e1b4', usage=None)\n",
      "ChatCompletionChunk(id='49059b00-dacf-4f83-aeaf-b741fea9b610', choices=[Choice(delta=ChoiceDelta(content='依据', function_call=None, refusal=None, role=None, tool_calls=None), finish_reason=None, index=0, logprobs=None)], created=1737821722, model='deepseek-chat', object='chat.completion.chunk', service_tier=None, system_fingerprint='fp_3a5770e1b4', usage=None)\n",
      "ChatCompletionChunk(id='49059b00-dacf-4f83-aeaf-b741fea9b610', choices=[Choice(delta=ChoiceDelta(content='。', function_call=None, refusal=None, role=None, tool_calls=None), finish_reason=None, index=0, logprobs=None)], created=1737821722, model='deepseek-chat', object='chat.completion.chunk', service_tier=None, system_fingerprint='fp_3a5770e1b4', usage=None)\n",
      "ChatCompletionChunk(id='49059b00-dacf-4f83-aeaf-b741fea9b610', choices=[Choice(delta=ChoiceDelta(content='解决', function_call=None, refusal=None, role=None, tool_calls=None), finish_reason=None, index=0, logprobs=None)], created=1737821722, model='deepseek-chat', object='chat.completion.chunk', service_tier=None, system_fingerprint='fp_3a5770e1b4', usage=None)\n",
      "ChatCompletionChunk(id='49059b00-dacf-4f83-aeaf-b741fea9b610', choices=[Choice(delta=ChoiceDelta(content='大', function_call=None, refusal=None, role=None, tool_calls=None), finish_reason=None, index=0, logprobs=None)], created=1737821722, model='deepseek-chat', object='chat.completion.chunk', service_tier=None, system_fingerprint='fp_3a5770e1b4', usage=None)\n",
      "ChatCompletionChunk(id='49059b00-dacf-4f83-aeaf-b741fea9b610', choices=[Choice(delta=ChoiceDelta(content='模型', function_call=None, refusal=None, role=None, tool_calls=None), finish_reason=None, index=0, logprobs=None)], created=1737821722, model='deepseek-chat', object='chat.completion.chunk', service_tier=None, system_fingerprint='fp_3a5770e1b4', usage=None)\n",
      "ChatCompletionChunk(id='49059b00-dacf-4f83-aeaf-b741fea9b610', choices=[Choice(delta=ChoiceDelta(content='幻觉', function_call=None, refusal=None, role=None, tool_calls=None), finish_reason=None, index=0, logprobs=None)], created=1737821722, model='deepseek-chat', object='chat.completion.chunk', service_tier=None, system_fingerprint='fp_3a5770e1b4', usage=None)\n",
      "ChatCompletionChunk(id='49059b00-dacf-4f83-aeaf-b741fea9b610', choices=[Choice(delta=ChoiceDelta(content='的方法', function_call=None, refusal=None, role=None, tool_calls=None), finish_reason=None, index=0, logprobs=None)], created=1737821722, model='deepseek-chat', object='chat.completion.chunk', service_tier=None, system_fingerprint='fp_3a5770e1b4', usage=None)\n",
      "ChatCompletionChunk(id='49059b00-dacf-4f83-aeaf-b741fea9b610', choices=[Choice(delta=ChoiceDelta(content='可以从', function_call=None, refusal=None, role=None, tool_calls=None), finish_reason=None, index=0, logprobs=None)], created=1737821722, model='deepseek-chat', object='chat.completion.chunk', service_tier=None, system_fingerprint='fp_3a5770e1b4', usage=None)\n",
      "ChatCompletionChunk(id='49059b00-dacf-4f83-aeaf-b741fea9b610', choices=[Choice(delta=ChoiceDelta(content='多个', function_call=None, refusal=None, role=None, tool_calls=None), finish_reason=None, index=0, logprobs=None)], created=1737821722, model='deepseek-chat', object='chat.completion.chunk', service_tier=None, system_fingerprint='fp_3a5770e1b4', usage=None)\n",
      "ChatCompletionChunk(id='49059b00-dacf-4f83-aeaf-b741fea9b610', choices=[Choice(delta=ChoiceDelta(content='角度', function_call=None, refusal=None, role=None, tool_calls=None), finish_reason=None, index=0, logprobs=None)], created=1737821722, model='deepseek-chat', object='chat.completion.chunk', service_tier=None, system_fingerprint='fp_3a5770e1b4', usage=None)\n",
      "ChatCompletionChunk(id='49059b00-dacf-4f83-aeaf-b741fea9b610', choices=[Choice(delta=ChoiceDelta(content='入手', function_call=None, refusal=None, role=None, tool_calls=None), finish_reason=None, index=0, logprobs=None)], created=1737821722, model='deepseek-chat', object='chat.completion.chunk', service_tier=None, system_fingerprint='fp_3a5770e1b4', usage=None)\n",
      "ChatCompletionChunk(id='49059b00-dacf-4f83-aeaf-b741fea9b610', choices=[Choice(delta=ChoiceDelta(content='，', function_call=None, refusal=None, role=None, tool_calls=None), finish_reason=None, index=0, logprobs=None)], created=1737821722, model='deepseek-chat', object='chat.completion.chunk', service_tier=None, system_fingerprint='fp_3a5770e1b4', usage=None)\n",
      "ChatCompletionChunk(id='49059b00-dacf-4f83-aeaf-b741fea9b610', choices=[Choice(delta=ChoiceDelta(content='以下', function_call=None, refusal=None, role=None, tool_calls=None), finish_reason=None, index=0, logprobs=None)], created=1737821722, model='deepseek-chat', object='chat.completion.chunk', service_tier=None, system_fingerprint='fp_3a5770e1b4', usage=None)\n",
      "ChatCompletionChunk(id='49059b00-dacf-4f83-aeaf-b741fea9b610', choices=[Choice(delta=ChoiceDelta(content='是一些', function_call=None, refusal=None, role=None, tool_calls=None), finish_reason=None, index=0, logprobs=None)], created=1737821722, model='deepseek-chat', object='chat.completion.chunk', service_tier=None, system_fingerprint='fp_3a5770e1b4', usage=None)\n",
      "ChatCompletionChunk(id='49059b00-dacf-4f83-aeaf-b741fea9b610', choices=[Choice(delta=ChoiceDelta(content='常见的', function_call=None, refusal=None, role=None, tool_calls=None), finish_reason=None, index=0, logprobs=None)], created=1737821722, model='deepseek-chat', object='chat.completion.chunk', service_tier=None, system_fingerprint='fp_3a5770e1b4', usage=None)\n",
      "ChatCompletionChunk(id='49059b00-dacf-4f83-aeaf-b741fea9b610', choices=[Choice(delta=ChoiceDelta(content='策略', function_call=None, refusal=None, role=None, tool_calls=None), finish_reason=None, index=0, logprobs=None)], created=1737821722, model='deepseek-chat', object='chat.completion.chunk', service_tier=None, system_fingerprint='fp_3a5770e1b4', usage=None)\n",
      "ChatCompletionChunk(id='49059b00-dacf-4f83-aeaf-b741fea9b610', choices=[Choice(delta=ChoiceDelta(content='：\\n\\n', function_call=None, refusal=None, role=None, tool_calls=None), finish_reason=None, index=0, logprobs=None)], created=1737821722, model='deepseek-chat', object='chat.completion.chunk', service_tier=None, system_fingerprint='fp_3a5770e1b4', usage=None)\n",
      "ChatCompletionChunk(id='49059b00-dacf-4f83-aeaf-b741fea9b610', choices=[Choice(delta=ChoiceDelta(content='---\\n\\n', function_call=None, refusal=None, role=None, tool_calls=None), finish_reason=None, index=0, logprobs=None)], created=1737821722, model='deepseek-chat', object='chat.completion.chunk', service_tier=None, system_fingerprint='fp_3a5770e1b4', usage=None)\n",
      "ChatCompletionChunk(id='49059b00-dacf-4f83-aeaf-b741fea9b610', choices=[Choice(delta=ChoiceDelta(content='###', function_call=None, refusal=None, role=None, tool_calls=None), finish_reason=None, index=0, logprobs=None)], created=1737821722, model='deepseek-chat', object='chat.completion.chunk', service_tier=None, system_fingerprint='fp_3a5770e1b4', usage=None)\n",
      "ChatCompletionChunk(id='49059b00-dacf-4f83-aeaf-b741fea9b610', choices=[Choice(delta=ChoiceDelta(content=' ', function_call=None, refusal=None, role=None, tool_calls=None), finish_reason=None, index=0, logprobs=None)], created=1737821722, model='deepseek-chat', object='chat.completion.chunk', service_tier=None, system_fingerprint='fp_3a5770e1b4', usage=None)\n",
      "ChatCompletionChunk(id='49059b00-dacf-4f83-aeaf-b741fea9b610', choices=[Choice(delta=ChoiceDelta(content='1', function_call=None, refusal=None, role=None, tool_calls=None), finish_reason=None, index=0, logprobs=None)], created=1737821722, model='deepseek-chat', object='chat.completion.chunk', service_tier=None, system_fingerprint='fp_3a5770e1b4', usage=None)\n",
      "ChatCompletionChunk(id='49059b00-dacf-4f83-aeaf-b741fea9b610', choices=[Choice(delta=ChoiceDelta(content='.', function_call=None, refusal=None, role=None, tool_calls=None), finish_reason=None, index=0, logprobs=None)], created=1737821722, model='deepseek-chat', object='chat.completion.chunk', service_tier=None, system_fingerprint='fp_3a5770e1b4', usage=None)\n",
      "ChatCompletionChunk(id='49059b00-dacf-4f83-aeaf-b741fea9b610', choices=[Choice(delta=ChoiceDelta(content=' **', function_call=None, refusal=None, role=None, tool_calls=None), finish_reason=None, index=0, logprobs=None)], created=1737821722, model='deepseek-chat', object='chat.completion.chunk', service_tier=None, system_fingerprint='fp_3a5770e1b4', usage=None)\n",
      "ChatCompletionChunk(id='49059b00-dacf-4f83-aeaf-b741fea9b610', choices=[Choice(delta=ChoiceDelta(content='数据', function_call=None, refusal=None, role=None, tool_calls=None), finish_reason=None, index=0, logprobs=None)], created=1737821722, model='deepseek-chat', object='chat.completion.chunk', service_tier=None, system_fingerprint='fp_3a5770e1b4', usage=None)\n",
      "ChatCompletionChunk(id='49059b00-dacf-4f83-aeaf-b741fea9b610', choices=[Choice(delta=ChoiceDelta(content='增强', function_call=None, refusal=None, role=None, tool_calls=None), finish_reason=None, index=0, logprobs=None)], created=1737821722, model='deepseek-chat', object='chat.completion.chunk', service_tier=None, system_fingerprint='fp_3a5770e1b4', usage=None)\n",
      "ChatCompletionChunk(id='49059b00-dacf-4f83-aeaf-b741fea9b610', choices=[Choice(delta=ChoiceDelta(content='与', function_call=None, refusal=None, role=None, tool_calls=None), finish_reason=None, index=0, logprobs=None)], created=1737821722, model='deepseek-chat', object='chat.completion.chunk', service_tier=None, system_fingerprint='fp_3a5770e1b4', usage=None)\n",
      "ChatCompletionChunk(id='49059b00-dacf-4f83-aeaf-b741fea9b610', choices=[Choice(delta=ChoiceDelta(content='优化', function_call=None, refusal=None, role=None, tool_calls=None), finish_reason=None, index=0, logprobs=None)], created=1737821722, model='deepseek-chat', object='chat.completion.chunk', service_tier=None, system_fingerprint='fp_3a5770e1b4', usage=None)\n",
      "ChatCompletionChunk(id='49059b00-dacf-4f83-aeaf-b741fea9b610', choices=[Choice(delta=ChoiceDelta(content='**\\n', function_call=None, refusal=None, role=None, tool_calls=None), finish_reason=None, index=0, logprobs=None)], created=1737821722, model='deepseek-chat', object='chat.completion.chunk', service_tier=None, system_fingerprint='fp_3a5770e1b4', usage=None)\n",
      "ChatCompletionChunk(id='49059b00-dacf-4f83-aeaf-b741fea9b610', choices=[Choice(delta=ChoiceDelta(content='  ', function_call=None, refusal=None, role=None, tool_calls=None), finish_reason=None, index=0, logprobs=None)], created=1737821722, model='deepseek-chat', object='chat.completion.chunk', service_tier=None, system_fingerprint='fp_3a5770e1b4', usage=None)\n",
      "ChatCompletionChunk(id='49059b00-dacf-4f83-aeaf-b741fea9b610', choices=[Choice(delta=ChoiceDelta(content=' -', function_call=None, refusal=None, role=None, tool_calls=None), finish_reason=None, index=0, logprobs=None)], created=1737821722, model='deepseek-chat', object='chat.completion.chunk', service_tier=None, system_fingerprint='fp_3a5770e1b4', usage=None)\n",
      "ChatCompletionChunk(id='49059b00-dacf-4f83-aeaf-b741fea9b610', choices=[Choice(delta=ChoiceDelta(content=' **', function_call=None, refusal=None, role=None, tool_calls=None), finish_reason=None, index=0, logprobs=None)], created=1737821722, model='deepseek-chat', object='chat.completion.chunk', service_tier=None, system_fingerprint='fp_3a5770e1b4', usage=None)\n",
      "ChatCompletionChunk(id='49059b00-dacf-4f83-aeaf-b741fea9b610', choices=[Choice(delta=ChoiceDelta(content='高质量', function_call=None, refusal=None, role=None, tool_calls=None), finish_reason=None, index=0, logprobs=None)], created=1737821722, model='deepseek-chat', object='chat.completion.chunk', service_tier=None, system_fingerprint='fp_3a5770e1b4', usage=None)\n",
      "ChatCompletionChunk(id='49059b00-dacf-4f83-aeaf-b741fea9b610', choices=[Choice(delta=ChoiceDelta(content='数据', function_call=None, refusal=None, role=None, tool_calls=None), finish_reason=None, index=0, logprobs=None)], created=1737821722, model='deepseek-chat', object='chat.completion.chunk', service_tier=None, system_fingerprint='fp_3a5770e1b4', usage=None)\n",
      "ChatCompletionChunk(id='49059b00-dacf-4f83-aeaf-b741fea9b610', choices=[Choice(delta=ChoiceDelta(content='训练', function_call=None, refusal=None, role=None, tool_calls=None), finish_reason=None, index=0, logprobs=None)], created=1737821722, model='deepseek-chat', object='chat.completion.chunk', service_tier=None, system_fingerprint='fp_3a5770e1b4', usage=None)\n",
      "ChatCompletionChunk(id='49059b00-dacf-4f83-aeaf-b741fea9b610', choices=[Choice(delta=ChoiceDelta(content='**', function_call=None, refusal=None, role=None, tool_calls=None), finish_reason=None, index=0, logprobs=None)], created=1737821722, model='deepseek-chat', object='chat.completion.chunk', service_tier=None, system_fingerprint='fp_3a5770e1b4', usage=None)\n",
      "ChatCompletionChunk(id='49059b00-dacf-4f83-aeaf-b741fea9b610', choices=[Choice(delta=ChoiceDelta(content='：', function_call=None, refusal=None, role=None, tool_calls=None), finish_reason=None, index=0, logprobs=None)], created=1737821722, model='deepseek-chat', object='chat.completion.chunk', service_tier=None, system_fingerprint='fp_3a5770e1b4', usage=None)\n",
      "ChatCompletionChunk(id='49059b00-dacf-4f83-aeaf-b741fea9b610', choices=[Choice(delta=ChoiceDelta(content='使用', function_call=None, refusal=None, role=None, tool_calls=None), finish_reason=None, index=0, logprobs=None)], created=1737821722, model='deepseek-chat', object='chat.completion.chunk', service_tier=None, system_fingerprint='fp_3a5770e1b4', usage=None)\n",
      "ChatCompletionChunk(id='49059b00-dacf-4f83-aeaf-b741fea9b610', choices=[Choice(delta=ChoiceDelta(content='更', function_call=None, refusal=None, role=None, tool_calls=None), finish_reason=None, index=0, logprobs=None)], created=1737821722, model='deepseek-chat', object='chat.completion.chunk', service_tier=None, system_fingerprint='fp_3a5770e1b4', usage=None)\n",
      "ChatCompletionChunk(id='49059b00-dacf-4f83-aeaf-b741fea9b610', choices=[Choice(delta=ChoiceDelta(content='高质量', function_call=None, refusal=None, role=None, tool_calls=None), finish_reason=None, index=0, logprobs=None)], created=1737821722, model='deepseek-chat', object='chat.completion.chunk', service_tier=None, system_fingerprint='fp_3a5770e1b4', usage=None)\n",
      "ChatCompletionChunk(id='49059b00-dacf-4f83-aeaf-b741fea9b610', choices=[Choice(delta=ChoiceDelta(content='、', function_call=None, refusal=None, role=None, tool_calls=None), finish_reason=None, index=0, logprobs=None)], created=1737821722, model='deepseek-chat', object='chat.completion.chunk', service_tier=None, system_fingerprint='fp_3a5770e1b4', usage=None)\n",
      "ChatCompletionChunk(id='49059b00-dacf-4f83-aeaf-b741fea9b610', choices=[Choice(delta=ChoiceDelta(content='更', function_call=None, refusal=None, role=None, tool_calls=None), finish_reason=None, index=0, logprobs=None)], created=1737821722, model='deepseek-chat', object='chat.completion.chunk', service_tier=None, system_fingerprint='fp_3a5770e1b4', usage=None)\n",
      "ChatCompletionChunk(id='49059b00-dacf-4f83-aeaf-b741fea9b610', choices=[Choice(delta=ChoiceDelta(content='精确', function_call=None, refusal=None, role=None, tool_calls=None), finish_reason=None, index=0, logprobs=None)], created=1737821722, model='deepseek-chat', object='chat.completion.chunk', service_tier=None, system_fingerprint='fp_3a5770e1b4', usage=None)\n",
      "ChatCompletionChunk(id='49059b00-dacf-4f83-aeaf-b741fea9b610', choices=[Choice(delta=ChoiceDelta(content='的训练', function_call=None, refusal=None, role=None, tool_calls=None), finish_reason=None, index=0, logprobs=None)], created=1737821722, model='deepseek-chat', object='chat.completion.chunk', service_tier=None, system_fingerprint='fp_3a5770e1b4', usage=None)\n",
      "ChatCompletionChunk(id='49059b00-dacf-4f83-aeaf-b741fea9b610', choices=[Choice(delta=ChoiceDelta(content='数据', function_call=None, refusal=None, role=None, tool_calls=None), finish_reason=None, index=0, logprobs=None)], created=1737821722, model='deepseek-chat', object='chat.completion.chunk', service_tier=None, system_fingerprint='fp_3a5770e1b4', usage=None)\n",
      "ChatCompletionChunk(id='49059b00-dacf-4f83-aeaf-b741fea9b610', choices=[Choice(delta=ChoiceDelta(content='，', function_call=None, refusal=None, role=None, tool_calls=None), finish_reason=None, index=0, logprobs=None)], created=1737821722, model='deepseek-chat', object='chat.completion.chunk', service_tier=None, system_fingerprint='fp_3a5770e1b4', usage=None)\n",
      "ChatCompletionChunk(id='49059b00-dacf-4f83-aeaf-b741fea9b610', choices=[Choice(delta=ChoiceDelta(content='减少', function_call=None, refusal=None, role=None, tool_calls=None), finish_reason=None, index=0, logprobs=None)], created=1737821722, model='deepseek-chat', object='chat.completion.chunk', service_tier=None, system_fingerprint='fp_3a5770e1b4', usage=None)\n",
      "ChatCompletionChunk(id='49059b00-dacf-4f83-aeaf-b741fea9b610', choices=[Choice(delta=ChoiceDelta(content='模型', function_call=None, refusal=None, role=None, tool_calls=None), finish_reason=None, index=0, logprobs=None)], created=1737821722, model='deepseek-chat', object='chat.completion.chunk', service_tier=None, system_fingerprint='fp_3a5770e1b4', usage=None)\n",
      "ChatCompletionChunk(id='49059b00-dacf-4f83-aeaf-b741fea9b610', choices=[Choice(delta=ChoiceDelta(content='学习', function_call=None, refusal=None, role=None, tool_calls=None), finish_reason=None, index=0, logprobs=None)], created=1737821722, model='deepseek-chat', object='chat.completion.chunk', service_tier=None, system_fingerprint='fp_3a5770e1b4', usage=None)\n",
      "ChatCompletionChunk(id='49059b00-dacf-4f83-aeaf-b741fea9b610', choices=[Choice(delta=ChoiceDelta(content='到', function_call=None, refusal=None, role=None, tool_calls=None), finish_reason=None, index=0, logprobs=None)], created=1737821722, model='deepseek-chat', object='chat.completion.chunk', service_tier=None, system_fingerprint='fp_3a5770e1b4', usage=None)\n",
      "ChatCompletionChunk(id='49059b00-dacf-4f83-aeaf-b741fea9b610', choices=[Choice(delta=ChoiceDelta(content='错误', function_call=None, refusal=None, role=None, tool_calls=None), finish_reason=None, index=0, logprobs=None)], created=1737821722, model='deepseek-chat', object='chat.completion.chunk', service_tier=None, system_fingerprint='fp_3a5770e1b4', usage=None)\n",
      "ChatCompletionChunk(id='49059b00-dacf-4f83-aeaf-b741fea9b610', choices=[Choice(delta=ChoiceDelta(content='或', function_call=None, refusal=None, role=None, tool_calls=None), finish_reason=None, index=0, logprobs=None)], created=1737821722, model='deepseek-chat', object='chat.completion.chunk', service_tier=None, system_fingerprint='fp_3a5770e1b4', usage=None)\n",
      "ChatCompletionChunk(id='49059b00-dacf-4f83-aeaf-b741fea9b610', choices=[Choice(delta=ChoiceDelta(content='虚假', function_call=None, refusal=None, role=None, tool_calls=None), finish_reason=None, index=0, logprobs=None)], created=1737821722, model='deepseek-chat', object='chat.completion.chunk', service_tier=None, system_fingerprint='fp_3a5770e1b4', usage=None)\n",
      "ChatCompletionChunk(id='49059b00-dacf-4f83-aeaf-b741fea9b610', choices=[Choice(delta=ChoiceDelta(content='信息的', function_call=None, refusal=None, role=None, tool_calls=None), finish_reason=None, index=0, logprobs=None)], created=1737821722, model='deepseek-chat', object='chat.completion.chunk', service_tier=None, system_fingerprint='fp_3a5770e1b4', usage=None)\n",
      "ChatCompletionChunk(id='49059b00-dacf-4f83-aeaf-b741fea9b610', choices=[Choice(delta=ChoiceDelta(content='可能性', function_call=None, refusal=None, role=None, tool_calls=None), finish_reason=None, index=0, logprobs=None)], created=1737821722, model='deepseek-chat', object='chat.completion.chunk', service_tier=None, system_fingerprint='fp_3a5770e1b4', usage=None)\n",
      "ChatCompletionChunk(id='49059b00-dacf-4f83-aeaf-b741fea9b610', choices=[Choice(delta=ChoiceDelta(content='。\\n', function_call=None, refusal=None, role=None, tool_calls=None), finish_reason=None, index=0, logprobs=None)], created=1737821722, model='deepseek-chat', object='chat.completion.chunk', service_tier=None, system_fingerprint='fp_3a5770e1b4', usage=None)\n",
      "ChatCompletionChunk(id='49059b00-dacf-4f83-aeaf-b741fea9b610', choices=[Choice(delta=ChoiceDelta(content='  ', function_call=None, refusal=None, role=None, tool_calls=None), finish_reason=None, index=0, logprobs=None)], created=1737821722, model='deepseek-chat', object='chat.completion.chunk', service_tier=None, system_fingerprint='fp_3a5770e1b4', usage=None)\n",
      "ChatCompletionChunk(id='49059b00-dacf-4f83-aeaf-b741fea9b610', choices=[Choice(delta=ChoiceDelta(content=' -', function_call=None, refusal=None, role=None, tool_calls=None), finish_reason=None, index=0, logprobs=None)], created=1737821722, model='deepseek-chat', object='chat.completion.chunk', service_tier=None, system_fingerprint='fp_3a5770e1b4', usage=None)\n",
      "ChatCompletionChunk(id='49059b00-dacf-4f83-aeaf-b741fea9b610', choices=[Choice(delta=ChoiceDelta(content=' **', function_call=None, refusal=None, role=None, tool_calls=None), finish_reason=None, index=0, logprobs=None)], created=1737821722, model='deepseek-chat', object='chat.completion.chunk', service_tier=None, system_fingerprint='fp_3a5770e1b4', usage=None)\n",
      "ChatCompletionChunk(id='49059b00-dacf-4f83-aeaf-b741fea9b610', choices=[Choice(delta=ChoiceDelta(content='数据', function_call=None, refusal=None, role=None, tool_calls=None), finish_reason=None, index=0, logprobs=None)], created=1737821722, model='deepseek-chat', object='chat.completion.chunk', service_tier=None, system_fingerprint='fp_3a5770e1b4', usage=None)\n",
      "ChatCompletionChunk(id='49059b00-dacf-4f83-aeaf-b741fea9b610', choices=[Choice(delta=ChoiceDelta(content='标注', function_call=None, refusal=None, role=None, tool_calls=None), finish_reason=None, index=0, logprobs=None)], created=1737821722, model='deepseek-chat', object='chat.completion.chunk', service_tier=None, system_fingerprint='fp_3a5770e1b4', usage=None)\n",
      "ChatCompletionChunk(id='49059b00-dacf-4f83-aeaf-b741fea9b610', choices=[Choice(delta=ChoiceDelta(content='与', function_call=None, refusal=None, role=None, tool_calls=None), finish_reason=None, index=0, logprobs=None)], created=1737821722, model='deepseek-chat', object='chat.completion.chunk', service_tier=None, system_fingerprint='fp_3a5770e1b4', usage=None)\n",
      "ChatCompletionChunk(id='49059b00-dacf-4f83-aeaf-b741fea9b610', choices=[Choice(delta=ChoiceDelta(content='过滤', function_call=None, refusal=None, role=None, tool_calls=None), finish_reason=None, index=0, logprobs=None)], created=1737821722, model='deepseek-chat', object='chat.completion.chunk', service_tier=None, system_fingerprint='fp_3a5770e1b4', usage=None)\n",
      "ChatCompletionChunk(id='49059b00-dacf-4f83-aeaf-b741fea9b610', choices=[Choice(delta=ChoiceDelta(content='**', function_call=None, refusal=None, role=None, tool_calls=None), finish_reason=None, index=0, logprobs=None)], created=1737821722, model='deepseek-chat', object='chat.completion.chunk', service_tier=None, system_fingerprint='fp_3a5770e1b4', usage=None)\n",
      "ChatCompletionChunk(id='49059b00-dacf-4f83-aeaf-b741fea9b610', choices=[Choice(delta=ChoiceDelta(content='：', function_call=None, refusal=None, role=None, tool_calls=None), finish_reason=None, index=0, logprobs=None)], created=1737821722, model='deepseek-chat', object='chat.completion.chunk', service_tier=None, system_fingerprint='fp_3a5770e1b4', usage=None)\n",
      "ChatCompletionChunk(id='49059b00-dacf-4f83-aeaf-b741fea9b610', choices=[Choice(delta=ChoiceDelta(content='对', function_call=None, refusal=None, role=None, tool_calls=None), finish_reason=None, index=0, logprobs=None)], created=1737821722, model='deepseek-chat', object='chat.completion.chunk', service_tier=None, system_fingerprint='fp_3a5770e1b4', usage=None)\n",
      "ChatCompletionChunk(id='49059b00-dacf-4f83-aeaf-b741fea9b610', choices=[Choice(delta=ChoiceDelta(content='训练', function_call=None, refusal=None, role=None, tool_calls=None), finish_reason=None, index=0, logprobs=None)], created=1737821722, model='deepseek-chat', object='chat.completion.chunk', service_tier=None, system_fingerprint='fp_3a5770e1b4', usage=None)\n",
      "ChatCompletionChunk(id='49059b00-dacf-4f83-aeaf-b741fea9b610', choices=[Choice(delta=ChoiceDelta(content='数据进行', function_call=None, refusal=None, role=None, tool_calls=None), finish_reason=None, index=0, logprobs=None)], created=1737821722, model='deepseek-chat', object='chat.completion.chunk', service_tier=None, system_fingerprint='fp_3a5770e1b4', usage=None)\n",
      "ChatCompletionChunk(id='49059b00-dacf-4f83-aeaf-b741fea9b610', choices=[Choice(delta=ChoiceDelta(content='人工', function_call=None, refusal=None, role=None, tool_calls=None), finish_reason=None, index=0, logprobs=None)], created=1737821722, model='deepseek-chat', object='chat.completion.chunk', service_tier=None, system_fingerprint='fp_3a5770e1b4', usage=None)\n",
      "ChatCompletionChunk(id='49059b00-dacf-4f83-aeaf-b741fea9b610', choices=[Choice(delta=ChoiceDelta(content='标注', function_call=None, refusal=None, role=None, tool_calls=None), finish_reason=None, index=0, logprobs=None)], created=1737821722, model='deepseek-chat', object='chat.completion.chunk', service_tier=None, system_fingerprint='fp_3a5770e1b4', usage=None)\n",
      "ChatCompletionChunk(id='49059b00-dacf-4f83-aeaf-b741fea9b610', choices=[Choice(delta=ChoiceDelta(content='和', function_call=None, refusal=None, role=None, tool_calls=None), finish_reason=None, index=0, logprobs=None)], created=1737821722, model='deepseek-chat', object='chat.completion.chunk', service_tier=None, system_fingerprint='fp_3a5770e1b4', usage=None)\n",
      "ChatCompletionChunk(id='49059b00-dacf-4f83-aeaf-b741fea9b610', choices=[Choice(delta=ChoiceDelta(content='过滤', function_call=None, refusal=None, role=None, tool_calls=None), finish_reason=None, index=0, logprobs=None)], created=1737821722, model='deepseek-chat', object='chat.completion.chunk', service_tier=None, system_fingerprint='fp_3a5770e1b4', usage=None)\n",
      "ChatCompletionChunk(id='49059b00-dacf-4f83-aeaf-b741fea9b610', choices=[Choice(delta=ChoiceDelta(content='，', function_call=None, refusal=None, role=None, tool_calls=None), finish_reason=None, index=0, logprobs=None)], created=1737821722, model='deepseek-chat', object='chat.completion.chunk', service_tier=None, system_fingerprint='fp_3a5770e1b4', usage=None)\n",
      "ChatCompletionChunk(id='49059b00-dacf-4f83-aeaf-b741fea9b610', choices=[Choice(delta=ChoiceDelta(content='剔除', function_call=None, refusal=None, role=None, tool_calls=None), finish_reason=None, index=0, logprobs=None)], created=1737821722, model='deepseek-chat', object='chat.completion.chunk', service_tier=None, system_fingerprint='fp_3a5770e1b4', usage=None)\n",
      "ChatCompletionChunk(id='49059b00-dacf-4f83-aeaf-b741fea9b610', choices=[Choice(delta=ChoiceDelta(content='不可', function_call=None, refusal=None, role=None, tool_calls=None), finish_reason=None, index=0, logprobs=None)], created=1737821722, model='deepseek-chat', object='chat.completion.chunk', service_tier=None, system_fingerprint='fp_3a5770e1b4', usage=None)\n",
      "ChatCompletionChunk(id='49059b00-dacf-4f83-aeaf-b741fea9b610', choices=[Choice(delta=ChoiceDelta(content='靠', function_call=None, refusal=None, role=None, tool_calls=None), finish_reason=None, index=0, logprobs=None)], created=1737821722, model='deepseek-chat', object='chat.completion.chunk', service_tier=None, system_fingerprint='fp_3a5770e1b4', usage=None)\n",
      "ChatCompletionChunk(id='49059b00-dacf-4f83-aeaf-b741fea9b610', choices=[Choice(delta=ChoiceDelta(content='或', function_call=None, refusal=None, role=None, tool_calls=None), finish_reason=None, index=0, logprobs=None)], created=1737821722, model='deepseek-chat', object='chat.completion.chunk', service_tier=None, system_fingerprint='fp_3a5770e1b4', usage=None)\n",
      "ChatCompletionChunk(id='49059b00-dacf-4f83-aeaf-b741fea9b610', choices=[Choice(delta=ChoiceDelta(content='错误', function_call=None, refusal=None, role=None, tool_calls=None), finish_reason=None, index=0, logprobs=None)], created=1737821722, model='deepseek-chat', object='chat.completion.chunk', service_tier=None, system_fingerprint='fp_3a5770e1b4', usage=None)\n",
      "ChatCompletionChunk(id='49059b00-dacf-4f83-aeaf-b741fea9b610', choices=[Choice(delta=ChoiceDelta(content='的内容', function_call=None, refusal=None, role=None, tool_calls=None), finish_reason=None, index=0, logprobs=None)], created=1737821722, model='deepseek-chat', object='chat.completion.chunk', service_tier=None, system_fingerprint='fp_3a5770e1b4', usage=None)\n",
      "ChatCompletionChunk(id='49059b00-dacf-4f83-aeaf-b741fea9b610', choices=[Choice(delta=ChoiceDelta(content='。\\n', function_call=None, refusal=None, role=None, tool_calls=None), finish_reason=None, index=0, logprobs=None)], created=1737821722, model='deepseek-chat', object='chat.completion.chunk', service_tier=None, system_fingerprint='fp_3a5770e1b4', usage=None)\n",
      "ChatCompletionChunk(id='49059b00-dacf-4f83-aeaf-b741fea9b610', choices=[Choice(delta=ChoiceDelta(content='  ', function_call=None, refusal=None, role=None, tool_calls=None), finish_reason=None, index=0, logprobs=None)], created=1737821722, model='deepseek-chat', object='chat.completion.chunk', service_tier=None, system_fingerprint='fp_3a5770e1b4', usage=None)\n",
      "ChatCompletionChunk(id='49059b00-dacf-4f83-aeaf-b741fea9b610', choices=[Choice(delta=ChoiceDelta(content=' -', function_call=None, refusal=None, role=None, tool_calls=None), finish_reason=None, index=0, logprobs=None)], created=1737821722, model='deepseek-chat', object='chat.completion.chunk', service_tier=None, system_fingerprint='fp_3a5770e1b4', usage=None)\n",
      "ChatCompletionChunk(id='49059b00-dacf-4f83-aeaf-b741fea9b610', choices=[Choice(delta=ChoiceDelta(content=' **', function_call=None, refusal=None, role=None, tool_calls=None), finish_reason=None, index=0, logprobs=None)], created=1737821722, model='deepseek-chat', object='chat.completion.chunk', service_tier=None, system_fingerprint='fp_3a5770e1b4', usage=None)\n",
      "ChatCompletionChunk(id='49059b00-dacf-4f83-aeaf-b741fea9b610', choices=[Choice(delta=ChoiceDelta(content='多', function_call=None, refusal=None, role=None, tool_calls=None), finish_reason=None, index=0, logprobs=None)], created=1737821722, model='deepseek-chat', object='chat.completion.chunk', service_tier=None, system_fingerprint='fp_3a5770e1b4', usage=None)\n",
      "ChatCompletionChunk(id='49059b00-dacf-4f83-aeaf-b741fea9b610', choices=[Choice(delta=ChoiceDelta(content='源', function_call=None, refusal=None, role=None, tool_calls=None), finish_reason=None, index=0, logprobs=None)], created=1737821722, model='deepseek-chat', object='chat.completion.chunk', service_tier=None, system_fingerprint='fp_3a5770e1b4', usage=None)\n",
      "ChatCompletionChunk(id='49059b00-dacf-4f83-aeaf-b741fea9b610', choices=[Choice(delta=ChoiceDelta(content='数据', function_call=None, refusal=None, role=None, tool_calls=None), finish_reason=None, index=0, logprobs=None)], created=1737821722, model='deepseek-chat', object='chat.completion.chunk', service_tier=None, system_fingerprint='fp_3a5770e1b4', usage=None)\n",
      "ChatCompletionChunk(id='49059b00-dacf-4f83-aeaf-b741fea9b610', choices=[Choice(delta=ChoiceDelta(content='验证', function_call=None, refusal=None, role=None, tool_calls=None), finish_reason=None, index=0, logprobs=None)], created=1737821722, model='deepseek-chat', object='chat.completion.chunk', service_tier=None, system_fingerprint='fp_3a5770e1b4', usage=None)\n",
      "ChatCompletionChunk(id='49059b00-dacf-4f83-aeaf-b741fea9b610', choices=[Choice(delta=ChoiceDelta(content='**', function_call=None, refusal=None, role=None, tool_calls=None), finish_reason=None, index=0, logprobs=None)], created=1737821722, model='deepseek-chat', object='chat.completion.chunk', service_tier=None, system_fingerprint='fp_3a5770e1b4', usage=None)\n",
      "ChatCompletionChunk(id='49059b00-dacf-4f83-aeaf-b741fea9b610', choices=[Choice(delta=ChoiceDelta(content='：', function_call=None, refusal=None, role=None, tool_calls=None), finish_reason=None, index=0, logprobs=None)], created=1737821722, model='deepseek-chat', object='chat.completion.chunk', service_tier=None, system_fingerprint='fp_3a5770e1b4', usage=None)\n",
      "ChatCompletionChunk(id='49059b00-dacf-4f83-aeaf-b741fea9b610', choices=[Choice(delta=ChoiceDelta(content='结合', function_call=None, refusal=None, role=None, tool_calls=None), finish_reason=None, index=0, logprobs=None)], created=1737821722, model='deepseek-chat', object='chat.completion.chunk', service_tier=None, system_fingerprint='fp_3a5770e1b4', usage=None)\n",
      "ChatCompletionChunk(id='49059b00-dacf-4f83-aeaf-b741fea9b610', choices=[Choice(delta=ChoiceDelta(content='多个', function_call=None, refusal=None, role=None, tool_calls=None), finish_reason=None, index=0, logprobs=None)], created=1737821722, model='deepseek-chat', object='chat.completion.chunk', service_tier=None, system_fingerprint='fp_3a5770e1b4', usage=None)\n",
      "ChatCompletionChunk(id='49059b00-dacf-4f83-aeaf-b741fea9b610', choices=[Choice(delta=ChoiceDelta(content='数据', function_call=None, refusal=None, role=None, tool_calls=None), finish_reason=None, index=0, logprobs=None)], created=1737821722, model='deepseek-chat', object='chat.completion.chunk', service_tier=None, system_fingerprint='fp_3a5770e1b4', usage=None)\n",
      "ChatCompletionChunk(id='49059b00-dacf-4f83-aeaf-b741fea9b610', choices=[Choice(delta=ChoiceDelta(content='源', function_call=None, refusal=None, role=None, tool_calls=None), finish_reason=None, index=0, logprobs=None)], created=1737821722, model='deepseek-chat', object='chat.completion.chunk', service_tier=None, system_fingerprint='fp_3a5770e1b4', usage=None)\n",
      "ChatCompletionChunk(id='49059b00-dacf-4f83-aeaf-b741fea9b610', choices=[Choice(delta=ChoiceDelta(content='进行', function_call=None, refusal=None, role=None, tool_calls=None), finish_reason=None, index=0, logprobs=None)], created=1737821722, model='deepseek-chat', object='chat.completion.chunk', service_tier=None, system_fingerprint='fp_3a5770e1b4', usage=None)\n",
      "ChatCompletionChunk(id='49059b00-dacf-4f83-aeaf-b741fea9b610', choices=[Choice(delta=ChoiceDelta(content='训练', function_call=None, refusal=None, role=None, tool_calls=None), finish_reason=None, index=0, logprobs=None)], created=1737821722, model='deepseek-chat', object='chat.completion.chunk', service_tier=None, system_fingerprint='fp_3a5770e1b4', usage=None)\n",
      "ChatCompletionChunk(id='49059b00-dacf-4f83-aeaf-b741fea9b610', choices=[Choice(delta=ChoiceDelta(content='，', function_call=None, refusal=None, role=None, tool_calls=None), finish_reason=None, index=0, logprobs=None)], created=1737821722, model='deepseek-chat', object='chat.completion.chunk', service_tier=None, system_fingerprint='fp_3a5770e1b4', usage=None)\n",
      "ChatCompletionChunk(id='49059b00-dacf-4f83-aeaf-b741fea9b610', choices=[Choice(delta=ChoiceDelta(content='确保', function_call=None, refusal=None, role=None, tool_calls=None), finish_reason=None, index=0, logprobs=None)], created=1737821722, model='deepseek-chat', object='chat.completion.chunk', service_tier=None, system_fingerprint='fp_3a5770e1b4', usage=None)\n",
      "ChatCompletionChunk(id='49059b00-dacf-4f83-aeaf-b741fea9b610', choices=[Choice(delta=ChoiceDelta(content='模型', function_call=None, refusal=None, role=None, tool_calls=None), finish_reason=None, index=0, logprobs=None)], created=1737821722, model='deepseek-chat', object='chat.completion.chunk', service_tier=None, system_fingerprint='fp_3a5770e1b4', usage=None)\n",
      "ChatCompletionChunk(id='49059b00-dacf-4f83-aeaf-b741fea9b610', choices=[Choice(delta=ChoiceDelta(content='学习', function_call=None, refusal=None, role=None, tool_calls=None), finish_reason=None, index=0, logprobs=None)], created=1737821722, model='deepseek-chat', object='chat.completion.chunk', service_tier=None, system_fingerprint='fp_3a5770e1b4', usage=None)\n",
      "ChatCompletionChunk(id='49059b00-dacf-4f83-aeaf-b741fea9b610', choices=[Choice(delta=ChoiceDelta(content='到的', function_call=None, refusal=None, role=None, tool_calls=None), finish_reason=None, index=0, logprobs=None)], created=1737821722, model='deepseek-chat', object='chat.completion.chunk', service_tier=None, system_fingerprint='fp_3a5770e1b4', usage=None)\n",
      "ChatCompletionChunk(id='49059b00-dacf-4f83-aeaf-b741fea9b610', choices=[Choice(delta=ChoiceDelta(content='知识', function_call=None, refusal=None, role=None, tool_calls=None), finish_reason=None, index=0, logprobs=None)], created=1737821722, model='deepseek-chat', object='chat.completion.chunk', service_tier=None, system_fingerprint='fp_3a5770e1b4', usage=None)\n",
      "ChatCompletionChunk(id='49059b00-dacf-4f83-aeaf-b741fea9b610', choices=[Choice(delta=ChoiceDelta(content='具有', function_call=None, refusal=None, role=None, tool_calls=None), finish_reason=None, index=0, logprobs=None)], created=1737821722, model='deepseek-chat', object='chat.completion.chunk', service_tier=None, system_fingerprint='fp_3a5770e1b4', usage=None)\n",
      "ChatCompletionChunk(id='49059b00-dacf-4f83-aeaf-b741fea9b610', choices=[Choice(delta=ChoiceDelta(content='一致', function_call=None, refusal=None, role=None, tool_calls=None), finish_reason=None, index=0, logprobs=None)], created=1737821722, model='deepseek-chat', object='chat.completion.chunk', service_tier=None, system_fingerprint='fp_3a5770e1b4', usage=None)\n",
      "ChatCompletionChunk(id='49059b00-dacf-4f83-aeaf-b741fea9b610', choices=[Choice(delta=ChoiceDelta(content='性和', function_call=None, refusal=None, role=None, tool_calls=None), finish_reason=None, index=0, logprobs=None)], created=1737821722, model='deepseek-chat', object='chat.completion.chunk', service_tier=None, system_fingerprint='fp_3a5770e1b4', usage=None)\n",
      "ChatCompletionChunk(id='49059b00-dacf-4f83-aeaf-b741fea9b610', choices=[Choice(delta=ChoiceDelta(content='可靠性', function_call=None, refusal=None, role=None, tool_calls=None), finish_reason=None, index=0, logprobs=None)], created=1737821722, model='deepseek-chat', object='chat.completion.chunk', service_tier=None, system_fingerprint='fp_3a5770e1b4', usage=None)\n",
      "ChatCompletionChunk(id='49059b00-dacf-4f83-aeaf-b741fea9b610', choices=[Choice(delta=ChoiceDelta(content='。\\n\\n', function_call=None, refusal=None, role=None, tool_calls=None), finish_reason=None, index=0, logprobs=None)], created=1737821722, model='deepseek-chat', object='chat.completion.chunk', service_tier=None, system_fingerprint='fp_3a5770e1b4', usage=None)\n",
      "ChatCompletionChunk(id='49059b00-dacf-4f83-aeaf-b741fea9b610', choices=[Choice(delta=ChoiceDelta(content='---\\n\\n', function_call=None, refusal=None, role=None, tool_calls=None), finish_reason=None, index=0, logprobs=None)], created=1737821722, model='deepseek-chat', object='chat.completion.chunk', service_tier=None, system_fingerprint='fp_3a5770e1b4', usage=None)\n",
      "ChatCompletionChunk(id='49059b00-dacf-4f83-aeaf-b741fea9b610', choices=[Choice(delta=ChoiceDelta(content='###', function_call=None, refusal=None, role=None, tool_calls=None), finish_reason=None, index=0, logprobs=None)], created=1737821722, model='deepseek-chat', object='chat.completion.chunk', service_tier=None, system_fingerprint='fp_3a5770e1b4', usage=None)\n",
      "ChatCompletionChunk(id='49059b00-dacf-4f83-aeaf-b741fea9b610', choices=[Choice(delta=ChoiceDelta(content=' ', function_call=None, refusal=None, role=None, tool_calls=None), finish_reason=None, index=0, logprobs=None)], created=1737821722, model='deepseek-chat', object='chat.completion.chunk', service_tier=None, system_fingerprint='fp_3a5770e1b4', usage=None)\n",
      "ChatCompletionChunk(id='49059b00-dacf-4f83-aeaf-b741fea9b610', choices=[Choice(delta=ChoiceDelta(content='2', function_call=None, refusal=None, role=None, tool_calls=None), finish_reason=None, index=0, logprobs=None)], created=1737821722, model='deepseek-chat', object='chat.completion.chunk', service_tier=None, system_fingerprint='fp_3a5770e1b4', usage=None)\n",
      "ChatCompletionChunk(id='49059b00-dacf-4f83-aeaf-b741fea9b610', choices=[Choice(delta=ChoiceDelta(content='.', function_call=None, refusal=None, role=None, tool_calls=None), finish_reason=None, index=0, logprobs=None)], created=1737821722, model='deepseek-chat', object='chat.completion.chunk', service_tier=None, system_fingerprint='fp_3a5770e1b4', usage=None)\n",
      "ChatCompletionChunk(id='49059b00-dacf-4f83-aeaf-b741fea9b610', choices=[Choice(delta=ChoiceDelta(content=' **', function_call=None, refusal=None, role=None, tool_calls=None), finish_reason=None, index=0, logprobs=None)], created=1737821722, model='deepseek-chat', object='chat.completion.chunk', service_tier=None, system_fingerprint='fp_3a5770e1b4', usage=None)\n",
      "ChatCompletionChunk(id='49059b00-dacf-4f83-aeaf-b741fea9b610', choices=[Choice(delta=ChoiceDelta(content='模型', function_call=None, refusal=None, role=None, tool_calls=None), finish_reason=None, index=0, logprobs=None)], created=1737821722, model='deepseek-chat', object='chat.completion.chunk', service_tier=None, system_fingerprint='fp_3a5770e1b4', usage=None)\n",
      "ChatCompletionChunk(id='49059b00-dacf-4f83-aeaf-b741fea9b610', choices=[Choice(delta=ChoiceDelta(content='架构', function_call=None, refusal=None, role=None, tool_calls=None), finish_reason=None, index=0, logprobs=None)], created=1737821722, model='deepseek-chat', object='chat.completion.chunk', service_tier=None, system_fingerprint='fp_3a5770e1b4', usage=None)\n",
      "ChatCompletionChunk(id='49059b00-dacf-4f83-aeaf-b741fea9b610', choices=[Choice(delta=ChoiceDelta(content='改进', function_call=None, refusal=None, role=None, tool_calls=None), finish_reason=None, index=0, logprobs=None)], created=1737821722, model='deepseek-chat', object='chat.completion.chunk', service_tier=None, system_fingerprint='fp_3a5770e1b4', usage=None)\n",
      "ChatCompletionChunk(id='49059b00-dacf-4f83-aeaf-b741fea9b610', choices=[Choice(delta=ChoiceDelta(content='**\\n', function_call=None, refusal=None, role=None, tool_calls=None), finish_reason=None, index=0, logprobs=None)], created=1737821722, model='deepseek-chat', object='chat.completion.chunk', service_tier=None, system_fingerprint='fp_3a5770e1b4', usage=None)\n",
      "ChatCompletionChunk(id='49059b00-dacf-4f83-aeaf-b741fea9b610', choices=[Choice(delta=ChoiceDelta(content='  ', function_call=None, refusal=None, role=None, tool_calls=None), finish_reason=None, index=0, logprobs=None)], created=1737821722, model='deepseek-chat', object='chat.completion.chunk', service_tier=None, system_fingerprint='fp_3a5770e1b4', usage=None)\n",
      "ChatCompletionChunk(id='49059b00-dacf-4f83-aeaf-b741fea9b610', choices=[Choice(delta=ChoiceDelta(content=' -', function_call=None, refusal=None, role=None, tool_calls=None), finish_reason=None, index=0, logprobs=None)], created=1737821722, model='deepseek-chat', object='chat.completion.chunk', service_tier=None, system_fingerprint='fp_3a5770e1b4', usage=None)\n",
      "ChatCompletionChunk(id='49059b00-dacf-4f83-aeaf-b741fea9b610', choices=[Choice(delta=ChoiceDelta(content=' **', function_call=None, refusal=None, role=None, tool_calls=None), finish_reason=None, index=0, logprobs=None)], created=1737821722, model='deepseek-chat', object='chat.completion.chunk', service_tier=None, system_fingerprint='fp_3a5770e1b4', usage=None)\n",
      "ChatCompletionChunk(id='49059b00-dacf-4f83-aeaf-b741fea9b610', choices=[Choice(delta=ChoiceDelta(content='引入', function_call=None, refusal=None, role=None, tool_calls=None), finish_reason=None, index=0, logprobs=None)], created=1737821722, model='deepseek-chat', object='chat.completion.chunk', service_tier=None, system_fingerprint='fp_3a5770e1b4', usage=None)\n",
      "ChatCompletionChunk(id='49059b00-dacf-4f83-aeaf-b741fea9b610', choices=[Choice(delta=ChoiceDelta(content='外部', function_call=None, refusal=None, role=None, tool_calls=None), finish_reason=None, index=0, logprobs=None)], created=1737821722, model='deepseek-chat', object='chat.completion.chunk', service_tier=None, system_fingerprint='fp_3a5770e1b4', usage=None)\n",
      "ChatCompletionChunk(id='49059b00-dacf-4f83-aeaf-b741fea9b610', choices=[Choice(delta=ChoiceDelta(content='知识', function_call=None, refusal=None, role=None, tool_calls=None), finish_reason=None, index=0, logprobs=None)], created=1737821722, model='deepseek-chat', object='chat.completion.chunk', service_tier=None, system_fingerprint='fp_3a5770e1b4', usage=None)\n",
      "ChatCompletionChunk(id='49059b00-dacf-4f83-aeaf-b741fea9b610', choices=[Choice(delta=ChoiceDelta(content='库', function_call=None, refusal=None, role=None, tool_calls=None), finish_reason=None, index=0, logprobs=None)], created=1737821722, model='deepseek-chat', object='chat.completion.chunk', service_tier=None, system_fingerprint='fp_3a5770e1b4', usage=None)\n",
      "ChatCompletionChunk(id='49059b00-dacf-4f83-aeaf-b741fea9b610', choices=[Choice(delta=ChoiceDelta(content='**', function_call=None, refusal=None, role=None, tool_calls=None), finish_reason=None, index=0, logprobs=None)], created=1737821722, model='deepseek-chat', object='chat.completion.chunk', service_tier=None, system_fingerprint='fp_3a5770e1b4', usage=None)\n",
      "ChatCompletionChunk(id='49059b00-dacf-4f83-aeaf-b741fea9b610', choices=[Choice(delta=ChoiceDelta(content='：', function_call=None, refusal=None, role=None, tool_calls=None), finish_reason=None, index=0, logprobs=None)], created=1737821722, model='deepseek-chat', object='chat.completion.chunk', service_tier=None, system_fingerprint='fp_3a5770e1b4', usage=None)\n",
      "ChatCompletionChunk(id='49059b00-dacf-4f83-aeaf-b741fea9b610', choices=[Choice(delta=ChoiceDelta(content='将', function_call=None, refusal=None, role=None, tool_calls=None), finish_reason=None, index=0, logprobs=None)], created=1737821722, model='deepseek-chat', object='chat.completion.chunk', service_tier=None, system_fingerprint='fp_3a5770e1b4', usage=None)\n",
      "ChatCompletionChunk(id='49059b00-dacf-4f83-aeaf-b741fea9b610', choices=[Choice(delta=ChoiceDelta(content='模型', function_call=None, refusal=None, role=None, tool_calls=None), finish_reason=None, index=0, logprobs=None)], created=1737821722, model='deepseek-chat', object='chat.completion.chunk', service_tier=None, system_fingerprint='fp_3a5770e1b4', usage=None)\n",
      "ChatCompletionChunk(id='49059b00-dacf-4f83-aeaf-b741fea9b610', choices=[Choice(delta=ChoiceDelta(content='与', function_call=None, refusal=None, role=None, tool_calls=None), finish_reason=None, index=0, logprobs=None)], created=1737821722, model='deepseek-chat', object='chat.completion.chunk', service_tier=None, system_fingerprint='fp_3a5770e1b4', usage=None)\n",
      "ChatCompletionChunk(id='49059b00-dacf-4f83-aeaf-b741fea9b610', choices=[Choice(delta=ChoiceDelta(content='外部', function_call=None, refusal=None, role=None, tool_calls=None), finish_reason=None, index=0, logprobs=None)], created=1737821722, model='deepseek-chat', object='chat.completion.chunk', service_tier=None, system_fingerprint='fp_3a5770e1b4', usage=None)\n",
      "ChatCompletionChunk(id='49059b00-dacf-4f83-aeaf-b741fea9b610', choices=[Choice(delta=ChoiceDelta(content='知识', function_call=None, refusal=None, role=None, tool_calls=None), finish_reason=None, index=0, logprobs=None)], created=1737821722, model='deepseek-chat', object='chat.completion.chunk', service_tier=None, system_fingerprint='fp_3a5770e1b4', usage=None)\n",
      "ChatCompletionChunk(id='49059b00-dacf-4f83-aeaf-b741fea9b610', choices=[Choice(delta=ChoiceDelta(content='库', function_call=None, refusal=None, role=None, tool_calls=None), finish_reason=None, index=0, logprobs=None)], created=1737821722, model='deepseek-chat', object='chat.completion.chunk', service_tier=None, system_fingerprint='fp_3a5770e1b4', usage=None)\n",
      "ChatCompletionChunk(id='49059b00-dacf-4f83-aeaf-b741fea9b610', choices=[Choice(delta=ChoiceDelta(content='（', function_call=None, refusal=None, role=None, tool_calls=None), finish_reason=None, index=0, logprobs=None)], created=1737821722, model='deepseek-chat', object='chat.completion.chunk', service_tier=None, system_fingerprint='fp_3a5770e1b4', usage=None)\n",
      "ChatCompletionChunk(id='49059b00-dacf-4f83-aeaf-b741fea9b610', choices=[Choice(delta=ChoiceDelta(content='如', function_call=None, refusal=None, role=None, tool_calls=None), finish_reason=None, index=0, logprobs=None)], created=1737821722, model='deepseek-chat', object='chat.completion.chunk', service_tier=None, system_fingerprint='fp_3a5770e1b4', usage=None)\n",
      "ChatCompletionChunk(id='49059b00-dacf-4f83-aeaf-b741fea9b610', choices=[Choice(delta=ChoiceDelta(content='维', function_call=None, refusal=None, role=None, tool_calls=None), finish_reason=None, index=0, logprobs=None)], created=1737821722, model='deepseek-chat', object='chat.completion.chunk', service_tier=None, system_fingerprint='fp_3a5770e1b4', usage=None)\n",
      "ChatCompletionChunk(id='49059b00-dacf-4f83-aeaf-b741fea9b610', choices=[Choice(delta=ChoiceDelta(content='基', function_call=None, refusal=None, role=None, tool_calls=None), finish_reason=None, index=0, logprobs=None)], created=1737821722, model='deepseek-chat', object='chat.completion.chunk', service_tier=None, system_fingerprint='fp_3a5770e1b4', usage=None)\n",
      "ChatCompletionChunk(id='49059b00-dacf-4f83-aeaf-b741fea9b610', choices=[Choice(delta=ChoiceDelta(content='百科', function_call=None, refusal=None, role=None, tool_calls=None), finish_reason=None, index=0, logprobs=None)], created=1737821722, model='deepseek-chat', object='chat.completion.chunk', service_tier=None, system_fingerprint='fp_3a5770e1b4', usage=None)\n",
      "ChatCompletionChunk(id='49059b00-dacf-4f83-aeaf-b741fea9b610', choices=[Choice(delta=ChoiceDelta(content='、', function_call=None, refusal=None, role=None, tool_calls=None), finish_reason=None, index=0, logprobs=None)], created=1737821722, model='deepseek-chat', object='chat.completion.chunk', service_tier=None, system_fingerprint='fp_3a5770e1b4', usage=None)\n",
      "ChatCompletionChunk(id='49059b00-dacf-4f83-aeaf-b741fea9b610', choices=[Choice(delta=ChoiceDelta(content='专业', function_call=None, refusal=None, role=None, tool_calls=None), finish_reason=None, index=0, logprobs=None)], created=1737821722, model='deepseek-chat', object='chat.completion.chunk', service_tier=None, system_fingerprint='fp_3a5770e1b4', usage=None)\n",
      "ChatCompletionChunk(id='49059b00-dacf-4f83-aeaf-b741fea9b610', choices=[Choice(delta=ChoiceDelta(content='数据库', function_call=None, refusal=None, role=None, tool_calls=None), finish_reason=None, index=0, logprobs=None)], created=1737821722, model='deepseek-chat', object='chat.completion.chunk', service_tier=None, system_fingerprint='fp_3a5770e1b4', usage=None)\n",
      "ChatCompletionChunk(id='49059b00-dacf-4f83-aeaf-b741fea9b610', choices=[Choice(delta=ChoiceDelta(content='）', function_call=None, refusal=None, role=None, tool_calls=None), finish_reason=None, index=0, logprobs=None)], created=1737821722, model='deepseek-chat', object='chat.completion.chunk', service_tier=None, system_fingerprint='fp_3a5770e1b4', usage=None)\n",
      "ChatCompletionChunk(id='49059b00-dacf-4f83-aeaf-b741fea9b610', choices=[Choice(delta=ChoiceDelta(content='结合', function_call=None, refusal=None, role=None, tool_calls=None), finish_reason=None, index=0, logprobs=None)], created=1737821722, model='deepseek-chat', object='chat.completion.chunk', service_tier=None, system_fingerprint='fp_3a5770e1b4', usage=None)\n",
      "ChatCompletionChunk(id='49059b00-dacf-4f83-aeaf-b741fea9b610', choices=[Choice(delta=ChoiceDelta(content='，', function_call=None, refusal=None, role=None, tool_calls=None), finish_reason=None, index=0, logprobs=None)], created=1737821722, model='deepseek-chat', object='chat.completion.chunk', service_tier=None, system_fingerprint='fp_3a5770e1b4', usage=None)\n",
      "ChatCompletionChunk(id='49059b00-dacf-4f83-aeaf-b741fea9b610', choices=[Choice(delta=ChoiceDelta(content='实时', function_call=None, refusal=None, role=None, tool_calls=None), finish_reason=None, index=0, logprobs=None)], created=1737821722, model='deepseek-chat', object='chat.completion.chunk', service_tier=None, system_fingerprint='fp_3a5770e1b4', usage=None)\n",
      "ChatCompletionChunk(id='49059b00-dacf-4f83-aeaf-b741fea9b610', choices=[Choice(delta=ChoiceDelta(content='检索', function_call=None, refusal=None, role=None, tool_calls=None), finish_reason=None, index=0, logprobs=None)], created=1737821722, model='deepseek-chat', object='chat.completion.chunk', service_tier=None, system_fingerprint='fp_3a5770e1b4', usage=None)\n",
      "ChatCompletionChunk(id='49059b00-dacf-4f83-aeaf-b741fea9b610', choices=[Choice(delta=ChoiceDelta(content='和', function_call=None, refusal=None, role=None, tool_calls=None), finish_reason=None, index=0, logprobs=None)], created=1737821722, model='deepseek-chat', object='chat.completion.chunk', service_tier=None, system_fingerprint='fp_3a5770e1b4', usage=None)\n",
      "ChatCompletionChunk(id='49059b00-dacf-4f83-aeaf-b741fea9b610', choices=[Choice(delta=ChoiceDelta(content='验证', function_call=None, refusal=None, role=None, tool_calls=None), finish_reason=None, index=0, logprobs=None)], created=1737821722, model='deepseek-chat', object='chat.completion.chunk', service_tier=None, system_fingerprint='fp_3a5770e1b4', usage=None)\n",
      "ChatCompletionChunk(id='49059b00-dacf-4f83-aeaf-b741fea9b610', choices=[Choice(delta=ChoiceDelta(content='生成', function_call=None, refusal=None, role=None, tool_calls=None), finish_reason=None, index=0, logprobs=None)], created=1737821722, model='deepseek-chat', object='chat.completion.chunk', service_tier=None, system_fingerprint='fp_3a5770e1b4', usage=None)\n",
      "ChatCompletionChunk(id='49059b00-dacf-4f83-aeaf-b741fea9b610', choices=[Choice(delta=ChoiceDelta(content='内容', function_call=None, refusal=None, role=None, tool_calls=None), finish_reason=None, index=0, logprobs=None)], created=1737821722, model='deepseek-chat', object='chat.completion.chunk', service_tier=None, system_fingerprint='fp_3a5770e1b4', usage=None)\n",
      "ChatCompletionChunk(id='49059b00-dacf-4f83-aeaf-b741fea9b610', choices=[Choice(delta=ChoiceDelta(content='。\\n', function_call=None, refusal=None, role=None, tool_calls=None), finish_reason=None, index=0, logprobs=None)], created=1737821722, model='deepseek-chat', object='chat.completion.chunk', service_tier=None, system_fingerprint='fp_3a5770e1b4', usage=None)\n",
      "ChatCompletionChunk(id='49059b00-dacf-4f83-aeaf-b741fea9b610', choices=[Choice(delta=ChoiceDelta(content='  ', function_call=None, refusal=None, role=None, tool_calls=None), finish_reason=None, index=0, logprobs=None)], created=1737821722, model='deepseek-chat', object='chat.completion.chunk', service_tier=None, system_fingerprint='fp_3a5770e1b4', usage=None)\n",
      "ChatCompletionChunk(id='49059b00-dacf-4f83-aeaf-b741fea9b610', choices=[Choice(delta=ChoiceDelta(content=' -', function_call=None, refusal=None, role=None, tool_calls=None), finish_reason=None, index=0, logprobs=None)], created=1737821722, model='deepseek-chat', object='chat.completion.chunk', service_tier=None, system_fingerprint='fp_3a5770e1b4', usage=None)\n",
      "ChatCompletionChunk(id='49059b00-dacf-4f83-aeaf-b741fea9b610', choices=[Choice(delta=ChoiceDelta(content=' **', function_call=None, refusal=None, role=None, tool_calls=None), finish_reason=None, index=0, logprobs=None)], created=1737821722, model='deepseek-chat', object='chat.completion.chunk', service_tier=None, system_fingerprint='fp_3a5770e1b4', usage=None)\n",
      "ChatCompletionChunk(id='49059b00-dacf-4f83-aeaf-b741fea9b610', choices=[Choice(delta=ChoiceDelta(content='多', function_call=None, refusal=None, role=None, tool_calls=None), finish_reason=None, index=0, logprobs=None)], created=1737821722, model='deepseek-chat', object='chat.completion.chunk', service_tier=None, system_fingerprint='fp_3a5770e1b4', usage=None)\n",
      "ChatCompletionChunk(id='49059b00-dacf-4f83-aeaf-b741fea9b610', choices=[Choice(delta=ChoiceDelta(content='模态', function_call=None, refusal=None, role=None, tool_calls=None), finish_reason=None, index=0, logprobs=None)], created=1737821722, model='deepseek-chat', object='chat.completion.chunk', service_tier=None, system_fingerprint='fp_3a5770e1b4', usage=None)\n",
      "ChatCompletionChunk(id='49059b00-dacf-4f83-aeaf-b741fea9b610', choices=[Choice(delta=ChoiceDelta(content='学习', function_call=None, refusal=None, role=None, tool_calls=None), finish_reason=None, index=0, logprobs=None)], created=1737821722, model='deepseek-chat', object='chat.completion.chunk', service_tier=None, system_fingerprint='fp_3a5770e1b4', usage=None)\n",
      "ChatCompletionChunk(id='49059b00-dacf-4f83-aeaf-b741fea9b610', choices=[Choice(delta=ChoiceDelta(content='**', function_call=None, refusal=None, role=None, tool_calls=None), finish_reason=None, index=0, logprobs=None)], created=1737821722, model='deepseek-chat', object='chat.completion.chunk', service_tier=None, system_fingerprint='fp_3a5770e1b4', usage=None)\n",
      "ChatCompletionChunk(id='49059b00-dacf-4f83-aeaf-b741fea9b610', choices=[Choice(delta=ChoiceDelta(content='：', function_call=None, refusal=None, role=None, tool_calls=None), finish_reason=None, index=0, logprobs=None)], created=1737821722, model='deepseek-chat', object='chat.completion.chunk', service_tier=None, system_fingerprint='fp_3a5770e1b4', usage=None)\n",
      "ChatCompletionChunk(id='49059b00-dacf-4f83-aeaf-b741fea9b610', choices=[Choice(delta=ChoiceDelta(content='结合', function_call=None, refusal=None, role=None, tool_calls=None), finish_reason=None, index=0, logprobs=None)], created=1737821722, model='deepseek-chat', object='chat.completion.chunk', service_tier=None, system_fingerprint='fp_3a5770e1b4', usage=None)\n",
      "ChatCompletionChunk(id='49059b00-dacf-4f83-aeaf-b741fea9b610', choices=[Choice(delta=ChoiceDelta(content='文本', function_call=None, refusal=None, role=None, tool_calls=None), finish_reason=None, index=0, logprobs=None)], created=1737821722, model='deepseek-chat', object='chat.completion.chunk', service_tier=None, system_fingerprint='fp_3a5770e1b4', usage=None)\n",
      "ChatCompletionChunk(id='49059b00-dacf-4f83-aeaf-b741fea9b610', choices=[Choice(delta=ChoiceDelta(content='、', function_call=None, refusal=None, role=None, tool_calls=None), finish_reason=None, index=0, logprobs=None)], created=1737821722, model='deepseek-chat', object='chat.completion.chunk', service_tier=None, system_fingerprint='fp_3a5770e1b4', usage=None)\n",
      "ChatCompletionChunk(id='49059b00-dacf-4f83-aeaf-b741fea9b610', choices=[Choice(delta=ChoiceDelta(content='图像', function_call=None, refusal=None, role=None, tool_calls=None), finish_reason=None, index=0, logprobs=None)], created=1737821722, model='deepseek-chat', object='chat.completion.chunk', service_tier=None, system_fingerprint='fp_3a5770e1b4', usage=None)\n",
      "ChatCompletionChunk(id='49059b00-dacf-4f83-aeaf-b741fea9b610', choices=[Choice(delta=ChoiceDelta(content='、', function_call=None, refusal=None, role=None, tool_calls=None), finish_reason=None, index=0, logprobs=None)], created=1737821722, model='deepseek-chat', object='chat.completion.chunk', service_tier=None, system_fingerprint='fp_3a5770e1b4', usage=None)\n",
      "ChatCompletionChunk(id='49059b00-dacf-4f83-aeaf-b741fea9b610', choices=[Choice(delta=ChoiceDelta(content='视频', function_call=None, refusal=None, role=None, tool_calls=None), finish_reason=None, index=0, logprobs=None)], created=1737821722, model='deepseek-chat', object='chat.completion.chunk', service_tier=None, system_fingerprint='fp_3a5770e1b4', usage=None)\n",
      "ChatCompletionChunk(id='49059b00-dacf-4f83-aeaf-b741fea9b610', choices=[Choice(delta=ChoiceDelta(content='等多', function_call=None, refusal=None, role=None, tool_calls=None), finish_reason=None, index=0, logprobs=None)], created=1737821722, model='deepseek-chat', object='chat.completion.chunk', service_tier=None, system_fingerprint='fp_3a5770e1b4', usage=None)\n",
      "ChatCompletionChunk(id='49059b00-dacf-4f83-aeaf-b741fea9b610', choices=[Choice(delta=ChoiceDelta(content='模态', function_call=None, refusal=None, role=None, tool_calls=None), finish_reason=None, index=0, logprobs=None)], created=1737821722, model='deepseek-chat', object='chat.completion.chunk', service_tier=None, system_fingerprint='fp_3a5770e1b4', usage=None)\n",
      "ChatCompletionChunk(id='49059b00-dacf-4f83-aeaf-b741fea9b610', choices=[Choice(delta=ChoiceDelta(content='数据', function_call=None, refusal=None, role=None, tool_calls=None), finish_reason=None, index=0, logprobs=None)], created=1737821722, model='deepseek-chat', object='chat.completion.chunk', service_tier=None, system_fingerprint='fp_3a5770e1b4', usage=None)\n",
      "ChatCompletionChunk(id='49059b00-dacf-4f83-aeaf-b741fea9b610', choices=[Choice(delta=ChoiceDelta(content='，', function_call=None, refusal=None, role=None, tool_calls=None), finish_reason=None, index=0, logprobs=None)], created=1737821722, model='deepseek-chat', object='chat.completion.chunk', service_tier=None, system_fingerprint='fp_3a5770e1b4', usage=None)\n",
      "ChatCompletionChunk(id='49059b00-dacf-4f83-aeaf-b741fea9b610', choices=[Choice(delta=ChoiceDelta(content='增强', function_call=None, refusal=None, role=None, tool_calls=None), finish_reason=None, index=0, logprobs=None)], created=1737821722, model='deepseek-chat', object='chat.completion.chunk', service_tier=None, system_fingerprint='fp_3a5770e1b4', usage=None)\n",
      "ChatCompletionChunk(id='49059b00-dacf-4f83-aeaf-b741fea9b610', choices=[Choice(delta=ChoiceDelta(content='模型', function_call=None, refusal=None, role=None, tool_calls=None), finish_reason=None, index=0, logprobs=None)], created=1737821722, model='deepseek-chat', object='chat.completion.chunk', service_tier=None, system_fingerprint='fp_3a5770e1b4', usage=None)\n",
      "ChatCompletionChunk(id='49059b00-dacf-4f83-aeaf-b741fea9b610', choices=[Choice(delta=ChoiceDelta(content='对', function_call=None, refusal=None, role=None, tool_calls=None), finish_reason=None, index=0, logprobs=None)], created=1737821722, model='deepseek-chat', object='chat.completion.chunk', service_tier=None, system_fingerprint='fp_3a5770e1b4', usage=None)\n",
      "ChatCompletionChunk(id='49059b00-dacf-4f83-aeaf-b741fea9b610', choices=[Choice(delta=ChoiceDelta(content='现实', function_call=None, refusal=None, role=None, tool_calls=None), finish_reason=None, index=0, logprobs=None)], created=1737821722, model='deepseek-chat', object='chat.completion.chunk', service_tier=None, system_fingerprint='fp_3a5770e1b4', usage=None)\n",
      "ChatCompletionChunk(id='49059b00-dacf-4f83-aeaf-b741fea9b610', choices=[Choice(delta=ChoiceDelta(content='世界的', function_call=None, refusal=None, role=None, tool_calls=None), finish_reason=None, index=0, logprobs=None)], created=1737821722, model='deepseek-chat', object='chat.completion.chunk', service_tier=None, system_fingerprint='fp_3a5770e1b4', usage=None)\n",
      "ChatCompletionChunk(id='49059b00-dacf-4f83-aeaf-b741fea9b610', choices=[Choice(delta=ChoiceDelta(content='理解', function_call=None, refusal=None, role=None, tool_calls=None), finish_reason=None, index=0, logprobs=None)], created=1737821722, model='deepseek-chat', object='chat.completion.chunk', service_tier=None, system_fingerprint='fp_3a5770e1b4', usage=None)\n",
      "ChatCompletionChunk(id='49059b00-dacf-4f83-aeaf-b741fea9b610', choices=[Choice(delta=ChoiceDelta(content='能力', function_call=None, refusal=None, role=None, tool_calls=None), finish_reason=None, index=0, logprobs=None)], created=1737821722, model='deepseek-chat', object='chat.completion.chunk', service_tier=None, system_fingerprint='fp_3a5770e1b4', usage=None)\n",
      "ChatCompletionChunk(id='49059b00-dacf-4f83-aeaf-b741fea9b610', choices=[Choice(delta=ChoiceDelta(content='。\\n', function_call=None, refusal=None, role=None, tool_calls=None), finish_reason=None, index=0, logprobs=None)], created=1737821722, model='deepseek-chat', object='chat.completion.chunk', service_tier=None, system_fingerprint='fp_3a5770e1b4', usage=None)\n",
      "ChatCompletionChunk(id='49059b00-dacf-4f83-aeaf-b741fea9b610', choices=[Choice(delta=ChoiceDelta(content='  ', function_call=None, refusal=None, role=None, tool_calls=None), finish_reason=None, index=0, logprobs=None)], created=1737821722, model='deepseek-chat', object='chat.completion.chunk', service_tier=None, system_fingerprint='fp_3a5770e1b4', usage=None)\n",
      "ChatCompletionChunk(id='49059b00-dacf-4f83-aeaf-b741fea9b610', choices=[Choice(delta=ChoiceDelta(content=' -', function_call=None, refusal=None, role=None, tool_calls=None), finish_reason=None, index=0, logprobs=None)], created=1737821722, model='deepseek-chat', object='chat.completion.chunk', service_tier=None, system_fingerprint='fp_3a5770e1b4', usage=None)\n",
      "ChatCompletionChunk(id='49059b00-dacf-4f83-aeaf-b741fea9b610', choices=[Choice(delta=ChoiceDelta(content=' **', function_call=None, refusal=None, role=None, tool_calls=None), finish_reason=None, index=0, logprobs=None)], created=1737821722, model='deepseek-chat', object='chat.completion.chunk', service_tier=None, system_fingerprint='fp_3a5770e1b4', usage=None)\n",
      "ChatCompletionChunk(id='49059b00-dacf-4f83-aeaf-b741fea9b610', choices=[Choice(delta=ChoiceDelta(content='分层', function_call=None, refusal=None, role=None, tool_calls=None), finish_reason=None, index=0, logprobs=None)], created=1737821722, model='deepseek-chat', object='chat.completion.chunk', service_tier=None, system_fingerprint='fp_3a5770e1b4', usage=None)\n",
      "ChatCompletionChunk(id='49059b00-dacf-4f83-aeaf-b741fea9b610', choices=[Choice(delta=ChoiceDelta(content='生成', function_call=None, refusal=None, role=None, tool_calls=None), finish_reason=None, index=0, logprobs=None)], created=1737821722, model='deepseek-chat', object='chat.completion.chunk', service_tier=None, system_fingerprint='fp_3a5770e1b4', usage=None)\n",
      "ChatCompletionChunk(id='49059b00-dacf-4f83-aeaf-b741fea9b610', choices=[Choice(delta=ChoiceDelta(content='机制', function_call=None, refusal=None, role=None, tool_calls=None), finish_reason=None, index=0, logprobs=None)], created=1737821722, model='deepseek-chat', object='chat.completion.chunk', service_tier=None, system_fingerprint='fp_3a5770e1b4', usage=None)\n",
      "ChatCompletionChunk(id='49059b00-dacf-4f83-aeaf-b741fea9b610', choices=[Choice(delta=ChoiceDelta(content='**', function_call=None, refusal=None, role=None, tool_calls=None), finish_reason=None, index=0, logprobs=None)], created=1737821722, model='deepseek-chat', object='chat.completion.chunk', service_tier=None, system_fingerprint='fp_3a5770e1b4', usage=None)\n",
      "ChatCompletionChunk(id='49059b00-dacf-4f83-aeaf-b741fea9b610', choices=[Choice(delta=ChoiceDelta(content='：', function_call=None, refusal=None, role=None, tool_calls=None), finish_reason=None, index=0, logprobs=None)], created=1737821722, model='deepseek-chat', object='chat.completion.chunk', service_tier=None, system_fingerprint='fp_3a5770e1b4', usage=None)\n",
      "ChatCompletionChunk(id='49059b00-dacf-4f83-aeaf-b741fea9b610', choices=[Choice(delta=ChoiceDelta(content='设计', function_call=None, refusal=None, role=None, tool_calls=None), finish_reason=None, index=0, logprobs=None)], created=1737821722, model='deepseek-chat', object='chat.completion.chunk', service_tier=None, system_fingerprint='fp_3a5770e1b4', usage=None)\n",
      "ChatCompletionChunk(id='49059b00-dacf-4f83-aeaf-b741fea9b610', choices=[Choice(delta=ChoiceDelta(content='分', function_call=None, refusal=None, role=None, tool_calls=None), finish_reason=None, index=0, logprobs=None)], created=1737821722, model='deepseek-chat', object='chat.completion.chunk', service_tier=None, system_fingerprint='fp_3a5770e1b4', usage=None)\n",
      "ChatCompletionChunk(id='49059b00-dacf-4f83-aeaf-b741fea9b610', choices=[Choice(delta=ChoiceDelta(content='层次的', function_call=None, refusal=None, role=None, tool_calls=None), finish_reason=None, index=0, logprobs=None)], created=1737821722, model='deepseek-chat', object='chat.completion.chunk', service_tier=None, system_fingerprint='fp_3a5770e1b4', usage=None)\n",
      "ChatCompletionChunk(id='49059b00-dacf-4f83-aeaf-b741fea9b610', choices=[Choice(delta=ChoiceDelta(content='生成', function_call=None, refusal=None, role=None, tool_calls=None), finish_reason=None, index=0, logprobs=None)], created=1737821722, model='deepseek-chat', object='chat.completion.chunk', service_tier=None, system_fingerprint='fp_3a5770e1b4', usage=None)\n",
      "ChatCompletionChunk(id='49059b00-dacf-4f83-aeaf-b741fea9b610', choices=[Choice(delta=ChoiceDelta(content='机制', function_call=None, refusal=None, role=None, tool_calls=None), finish_reason=None, index=0, logprobs=None)], created=1737821722, model='deepseek-chat', object='chat.completion.chunk', service_tier=None, system_fingerprint='fp_3a5770e1b4', usage=None)\n",
      "ChatCompletionChunk(id='49059b00-dacf-4f83-aeaf-b741fea9b610', choices=[Choice(delta=ChoiceDelta(content='，', function_call=None, refusal=None, role=None, tool_calls=None), finish_reason=None, index=0, logprobs=None)], created=1737821722, model='deepseek-chat', object='chat.completion.chunk', service_tier=None, system_fingerprint='fp_3a5770e1b4', usage=None)\n",
      "ChatCompletionChunk(id='49059b00-dacf-4f83-aeaf-b741fea9b610', choices=[Choice(delta=ChoiceDelta(content='先', function_call=None, refusal=None, role=None, tool_calls=None), finish_reason=None, index=0, logprobs=None)], created=1737821722, model='deepseek-chat', object='chat.completion.chunk', service_tier=None, system_fingerprint='fp_3a5770e1b4', usage=None)\n",
      "ChatCompletionChunk(id='49059b00-dacf-4f83-aeaf-b741fea9b610', choices=[Choice(delta=ChoiceDelta(content='生成', function_call=None, refusal=None, role=None, tool_calls=None), finish_reason=None, index=0, logprobs=None)], created=1737821722, model='deepseek-chat', object='chat.completion.chunk', service_tier=None, system_fingerprint='fp_3a5770e1b4', usage=None)\n",
      "ChatCompletionChunk(id='49059b00-dacf-4f83-aeaf-b741fea9b610', choices=[Choice(delta=ChoiceDelta(content='核心', function_call=None, refusal=None, role=None, tool_calls=None), finish_reason=None, index=0, logprobs=None)], created=1737821722, model='deepseek-chat', object='chat.completion.chunk', service_tier=None, system_fingerprint='fp_3a5770e1b4', usage=None)\n",
      "ChatCompletionChunk(id='49059b00-dacf-4f83-aeaf-b741fea9b610', choices=[Choice(delta=ChoiceDelta(content='事实', function_call=None, refusal=None, role=None, tool_calls=None), finish_reason=None, index=0, logprobs=None)], created=1737821722, model='deepseek-chat', object='chat.completion.chunk', service_tier=None, system_fingerprint='fp_3a5770e1b4', usage=None)\n",
      "ChatCompletionChunk(id='49059b00-dacf-4f83-aeaf-b741fea9b610', choices=[Choice(delta=ChoiceDelta(content='，', function_call=None, refusal=None, role=None, tool_calls=None), finish_reason=None, index=0, logprobs=None)], created=1737821722, model='deepseek-chat', object='chat.completion.chunk', service_tier=None, system_fingerprint='fp_3a5770e1b4', usage=None)\n",
      "ChatCompletionChunk(id='49059b00-dacf-4f83-aeaf-b741fea9b610', choices=[Choice(delta=ChoiceDelta(content='再', function_call=None, refusal=None, role=None, tool_calls=None), finish_reason=None, index=0, logprobs=None)], created=1737821722, model='deepseek-chat', object='chat.completion.chunk', service_tier=None, system_fingerprint='fp_3a5770e1b4', usage=None)\n",
      "ChatCompletionChunk(id='49059b00-dacf-4f83-aeaf-b741fea9b610', choices=[Choice(delta=ChoiceDelta(content='补充', function_call=None, refusal=None, role=None, tool_calls=None), finish_reason=None, index=0, logprobs=None)], created=1737821722, model='deepseek-chat', object='chat.completion.chunk', service_tier=None, system_fingerprint='fp_3a5770e1b4', usage=None)\n",
      "ChatCompletionChunk(id='49059b00-dacf-4f83-aeaf-b741fea9b610', choices=[Choice(delta=ChoiceDelta(content='细节', function_call=None, refusal=None, role=None, tool_calls=None), finish_reason=None, index=0, logprobs=None)], created=1737821722, model='deepseek-chat', object='chat.completion.chunk', service_tier=None, system_fingerprint='fp_3a5770e1b4', usage=None)\n",
      "ChatCompletionChunk(id='49059b00-dacf-4f83-aeaf-b741fea9b610', choices=[Choice(delta=ChoiceDelta(content='，', function_call=None, refusal=None, role=None, tool_calls=None), finish_reason=None, index=0, logprobs=None)], created=1737821722, model='deepseek-chat', object='chat.completion.chunk', service_tier=None, system_fingerprint='fp_3a5770e1b4', usage=None)\n",
      "ChatCompletionChunk(id='49059b00-dacf-4f83-aeaf-b741fea9b610', choices=[Choice(delta=ChoiceDelta(content='减少', function_call=None, refusal=None, role=None, tool_calls=None), finish_reason=None, index=0, logprobs=None)], created=1737821722, model='deepseek-chat', object='chat.completion.chunk', service_tier=None, system_fingerprint='fp_3a5770e1b4', usage=None)\n",
      "ChatCompletionChunk(id='49059b00-dacf-4f83-aeaf-b741fea9b610', choices=[Choice(delta=ChoiceDelta(content='幻觉', function_call=None, refusal=None, role=None, tool_calls=None), finish_reason=None, index=0, logprobs=None)], created=1737821722, model='deepseek-chat', object='chat.completion.chunk', service_tier=None, system_fingerprint='fp_3a5770e1b4', usage=None)\n",
      "ChatCompletionChunk(id='49059b00-dacf-4f83-aeaf-b741fea9b610', choices=[Choice(delta=ChoiceDelta(content='风险', function_call=None, refusal=None, role=None, tool_calls=None), finish_reason=None, index=0, logprobs=None)], created=1737821722, model='deepseek-chat', object='chat.completion.chunk', service_tier=None, system_fingerprint='fp_3a5770e1b4', usage=None)\n",
      "ChatCompletionChunk(id='49059b00-dacf-4f83-aeaf-b741fea9b610', choices=[Choice(delta=ChoiceDelta(content='。\\n\\n', function_call=None, refusal=None, role=None, tool_calls=None), finish_reason=None, index=0, logprobs=None)], created=1737821722, model='deepseek-chat', object='chat.completion.chunk', service_tier=None, system_fingerprint='fp_3a5770e1b4', usage=None)\n",
      "ChatCompletionChunk(id='49059b00-dacf-4f83-aeaf-b741fea9b610', choices=[Choice(delta=ChoiceDelta(content='---\\n\\n', function_call=None, refusal=None, role=None, tool_calls=None), finish_reason=None, index=0, logprobs=None)], created=1737821722, model='deepseek-chat', object='chat.completion.chunk', service_tier=None, system_fingerprint='fp_3a5770e1b4', usage=None)\n",
      "ChatCompletionChunk(id='49059b00-dacf-4f83-aeaf-b741fea9b610', choices=[Choice(delta=ChoiceDelta(content='###', function_call=None, refusal=None, role=None, tool_calls=None), finish_reason=None, index=0, logprobs=None)], created=1737821722, model='deepseek-chat', object='chat.completion.chunk', service_tier=None, system_fingerprint='fp_3a5770e1b4', usage=None)\n",
      "ChatCompletionChunk(id='49059b00-dacf-4f83-aeaf-b741fea9b610', choices=[Choice(delta=ChoiceDelta(content=' ', function_call=None, refusal=None, role=None, tool_calls=None), finish_reason=None, index=0, logprobs=None)], created=1737821722, model='deepseek-chat', object='chat.completion.chunk', service_tier=None, system_fingerprint='fp_3a5770e1b4', usage=None)\n",
      "ChatCompletionChunk(id='49059b00-dacf-4f83-aeaf-b741fea9b610', choices=[Choice(delta=ChoiceDelta(content='3', function_call=None, refusal=None, role=None, tool_calls=None), finish_reason=None, index=0, logprobs=None)], created=1737821722, model='deepseek-chat', object='chat.completion.chunk', service_tier=None, system_fingerprint='fp_3a5770e1b4', usage=None)\n",
      "ChatCompletionChunk(id='49059b00-dacf-4f83-aeaf-b741fea9b610', choices=[Choice(delta=ChoiceDelta(content='.', function_call=None, refusal=None, role=None, tool_calls=None), finish_reason=None, index=0, logprobs=None)], created=1737821722, model='deepseek-chat', object='chat.completion.chunk', service_tier=None, system_fingerprint='fp_3a5770e1b4', usage=None)\n",
      "ChatCompletionChunk(id='49059b00-dacf-4f83-aeaf-b741fea9b610', choices=[Choice(delta=ChoiceDelta(content=' **', function_call=None, refusal=None, role=None, tool_calls=None), finish_reason=None, index=0, logprobs=None)], created=1737821722, model='deepseek-chat', object='chat.completion.chunk', service_tier=None, system_fingerprint='fp_3a5770e1b4', usage=None)\n",
      "ChatCompletionChunk(id='49059b00-dacf-4f83-aeaf-b741fea9b610', choices=[Choice(delta=ChoiceDelta(content='推理', function_call=None, refusal=None, role=None, tool_calls=None), finish_reason=None, index=0, logprobs=None)], created=1737821722, model='deepseek-chat', object='chat.completion.chunk', service_tier=None, system_fingerprint='fp_3a5770e1b4', usage=None)\n",
      "ChatCompletionChunk(id='49059b00-dacf-4f83-aeaf-b741fea9b610', choices=[Choice(delta=ChoiceDelta(content='与', function_call=None, refusal=None, role=None, tool_calls=None), finish_reason=None, index=0, logprobs=None)], created=1737821722, model='deepseek-chat', object='chat.completion.chunk', service_tier=None, system_fingerprint='fp_3a5770e1b4', usage=None)\n",
      "ChatCompletionChunk(id='49059b00-dacf-4f83-aeaf-b741fea9b610', choices=[Choice(delta=ChoiceDelta(content='验证', function_call=None, refusal=None, role=None, tool_calls=None), finish_reason=None, index=0, logprobs=None)], created=1737821722, model='deepseek-chat', object='chat.completion.chunk', service_tier=None, system_fingerprint='fp_3a5770e1b4', usage=None)\n",
      "ChatCompletionChunk(id='49059b00-dacf-4f83-aeaf-b741fea9b610', choices=[Choice(delta=ChoiceDelta(content='机制', function_call=None, refusal=None, role=None, tool_calls=None), finish_reason=None, index=0, logprobs=None)], created=1737821722, model='deepseek-chat', object='chat.completion.chunk', service_tier=None, system_fingerprint='fp_3a5770e1b4', usage=None)\n",
      "ChatCompletionChunk(id='49059b00-dacf-4f83-aeaf-b741fea9b610', choices=[Choice(delta=ChoiceDelta(content='**\\n', function_call=None, refusal=None, role=None, tool_calls=None), finish_reason=None, index=0, logprobs=None)], created=1737821722, model='deepseek-chat', object='chat.completion.chunk', service_tier=None, system_fingerprint='fp_3a5770e1b4', usage=None)\n",
      "ChatCompletionChunk(id='49059b00-dacf-4f83-aeaf-b741fea9b610', choices=[Choice(delta=ChoiceDelta(content='  ', function_call=None, refusal=None, role=None, tool_calls=None), finish_reason=None, index=0, logprobs=None)], created=1737821722, model='deepseek-chat', object='chat.completion.chunk', service_tier=None, system_fingerprint='fp_3a5770e1b4', usage=None)\n",
      "ChatCompletionChunk(id='49059b00-dacf-4f83-aeaf-b741fea9b610', choices=[Choice(delta=ChoiceDelta(content=' -', function_call=None, refusal=None, role=None, tool_calls=None), finish_reason=None, index=0, logprobs=None)], created=1737821722, model='deepseek-chat', object='chat.completion.chunk', service_tier=None, system_fingerprint='fp_3a5770e1b4', usage=None)\n",
      "ChatCompletionChunk(id='49059b00-dacf-4f83-aeaf-b741fea9b610', choices=[Choice(delta=ChoiceDelta(content=' **', function_call=None, refusal=None, role=None, tool_calls=None), finish_reason=None, index=0, logprobs=None)], created=1737821722, model='deepseek-chat', object='chat.completion.chunk', service_tier=None, system_fingerprint='fp_3a5770e1b4', usage=None)\n",
      "ChatCompletionChunk(id='49059b00-dacf-4f83-aeaf-b741fea9b610', choices=[Choice(delta=ChoiceDelta(content='事实', function_call=None, refusal=None, role=None, tool_calls=None), finish_reason=None, index=0, logprobs=None)], created=1737821722, model='deepseek-chat', object='chat.completion.chunk', service_tier=None, system_fingerprint='fp_3a5770e1b4', usage=None)\n",
      "ChatCompletionChunk(id='49059b00-dacf-4f83-aeaf-b741fea9b610', choices=[Choice(delta=ChoiceDelta(content='核查', function_call=None, refusal=None, role=None, tool_calls=None), finish_reason=None, index=0, logprobs=None)], created=1737821722, model='deepseek-chat', object='chat.completion.chunk', service_tier=None, system_fingerprint='fp_3a5770e1b4', usage=None)\n",
      "ChatCompletionChunk(id='49059b00-dacf-4f83-aeaf-b741fea9b610', choices=[Choice(delta=ChoiceDelta(content='模块', function_call=None, refusal=None, role=None, tool_calls=None), finish_reason=None, index=0, logprobs=None)], created=1737821722, model='deepseek-chat', object='chat.completion.chunk', service_tier=None, system_fingerprint='fp_3a5770e1b4', usage=None)\n",
      "ChatCompletionChunk(id='49059b00-dacf-4f83-aeaf-b741fea9b610', choices=[Choice(delta=ChoiceDelta(content='**', function_call=None, refusal=None, role=None, tool_calls=None), finish_reason=None, index=0, logprobs=None)], created=1737821722, model='deepseek-chat', object='chat.completion.chunk', service_tier=None, system_fingerprint='fp_3a5770e1b4', usage=None)\n",
      "ChatCompletionChunk(id='49059b00-dacf-4f83-aeaf-b741fea9b610', choices=[Choice(delta=ChoiceDelta(content='：', function_call=None, refusal=None, role=None, tool_calls=None), finish_reason=None, index=0, logprobs=None)], created=1737821722, model='deepseek-chat', object='chat.completion.chunk', service_tier=None, system_fingerprint='fp_3a5770e1b4', usage=None)\n",
      "ChatCompletionChunk(id='49059b00-dacf-4f83-aeaf-b741fea9b610', choices=[Choice(delta=ChoiceDelta(content='在', function_call=None, refusal=None, role=None, tool_calls=None), finish_reason=None, index=0, logprobs=None)], created=1737821722, model='deepseek-chat', object='chat.completion.chunk', service_tier=None, system_fingerprint='fp_3a5770e1b4', usage=None)\n",
      "ChatCompletionChunk(id='49059b00-dacf-4f83-aeaf-b741fea9b610', choices=[Choice(delta=ChoiceDelta(content='生成', function_call=None, refusal=None, role=None, tool_calls=None), finish_reason=None, index=0, logprobs=None)], created=1737821722, model='deepseek-chat', object='chat.completion.chunk', service_tier=None, system_fingerprint='fp_3a5770e1b4', usage=None)\n",
      "ChatCompletionChunk(id='49059b00-dacf-4f83-aeaf-b741fea9b610', choices=[Choice(delta=ChoiceDelta(content='文本', function_call=None, refusal=None, role=None, tool_calls=None), finish_reason=None, index=0, logprobs=None)], created=1737821722, model='deepseek-chat', object='chat.completion.chunk', service_tier=None, system_fingerprint='fp_3a5770e1b4', usage=None)\n",
      "ChatCompletionChunk(id='49059b00-dacf-4f83-aeaf-b741fea9b610', choices=[Choice(delta=ChoiceDelta(content='后', function_call=None, refusal=None, role=None, tool_calls=None), finish_reason=None, index=0, logprobs=None)], created=1737821722, model='deepseek-chat', object='chat.completion.chunk', service_tier=None, system_fingerprint='fp_3a5770e1b4', usage=None)\n",
      "ChatCompletionChunk(id='49059b00-dacf-4f83-aeaf-b741fea9b610', choices=[Choice(delta=ChoiceDelta(content='，', function_call=None, refusal=None, role=None, tool_calls=None), finish_reason=None, index=0, logprobs=None)], created=1737821722, model='deepseek-chat', object='chat.completion.chunk', service_tier=None, system_fingerprint='fp_3a5770e1b4', usage=None)\n",
      "ChatCompletionChunk(id='49059b00-dacf-4f83-aeaf-b741fea9b610', choices=[Choice(delta=ChoiceDelta(content='加入', function_call=None, refusal=None, role=None, tool_calls=None), finish_reason=None, index=0, logprobs=None)], created=1737821722, model='deepseek-chat', object='chat.completion.chunk', service_tier=None, system_fingerprint='fp_3a5770e1b4', usage=None)\n",
      "ChatCompletionChunk(id='49059b00-dacf-4f83-aeaf-b741fea9b610', choices=[Choice(delta=ChoiceDelta(content='事实', function_call=None, refusal=None, role=None, tool_calls=None), finish_reason=None, index=0, logprobs=None)], created=1737821722, model='deepseek-chat', object='chat.completion.chunk', service_tier=None, system_fingerprint='fp_3a5770e1b4', usage=None)\n",
      "ChatCompletionChunk(id='49059b00-dacf-4f83-aeaf-b741fea9b610', choices=[Choice(delta=ChoiceDelta(content='核查', function_call=None, refusal=None, role=None, tool_calls=None), finish_reason=None, index=0, logprobs=None)], created=1737821722, model='deepseek-chat', object='chat.completion.chunk', service_tier=None, system_fingerprint='fp_3a5770e1b4', usage=None)\n",
      "ChatCompletionChunk(id='49059b00-dacf-4f83-aeaf-b741fea9b610', choices=[Choice(delta=ChoiceDelta(content='模块', function_call=None, refusal=None, role=None, tool_calls=None), finish_reason=None, index=0, logprobs=None)], created=1737821722, model='deepseek-chat', object='chat.completion.chunk', service_tier=None, system_fingerprint='fp_3a5770e1b4', usage=None)\n",
      "ChatCompletionChunk(id='49059b00-dacf-4f83-aeaf-b741fea9b610', choices=[Choice(delta=ChoiceDelta(content='，', function_call=None, refusal=None, role=None, tool_calls=None), finish_reason=None, index=0, logprobs=None)], created=1737821722, model='deepseek-chat', object='chat.completion.chunk', service_tier=None, system_fingerprint='fp_3a5770e1b4', usage=None)\n",
      "ChatCompletionChunk(id='49059b00-dacf-4f83-aeaf-b741fea9b610', choices=[Choice(delta=ChoiceDelta(content='通过', function_call=None, refusal=None, role=None, tool_calls=None), finish_reason=None, index=0, logprobs=None)], created=1737821722, model='deepseek-chat', object='chat.completion.chunk', service_tier=None, system_fingerprint='fp_3a5770e1b4', usage=None)\n",
      "ChatCompletionChunk(id='49059b00-dacf-4f83-aeaf-b741fea9b610', choices=[Choice(delta=ChoiceDelta(content='外部', function_call=None, refusal=None, role=None, tool_calls=None), finish_reason=None, index=0, logprobs=None)], created=1737821722, model='deepseek-chat', object='chat.completion.chunk', service_tier=None, system_fingerprint='fp_3a5770e1b4', usage=None)\n",
      "ChatCompletionChunk(id='49059b00-dacf-4f83-aeaf-b741fea9b610', choices=[Choice(delta=ChoiceDelta(content='工具', function_call=None, refusal=None, role=None, tool_calls=None), finish_reason=None, index=0, logprobs=None)], created=1737821722, model='deepseek-chat', object='chat.completion.chunk', service_tier=None, system_fingerprint='fp_3a5770e1b4', usage=None)\n",
      "ChatCompletionChunk(id='49059b00-dacf-4f83-aeaf-b741fea9b610', choices=[Choice(delta=ChoiceDelta(content='或', function_call=None, refusal=None, role=None, tool_calls=None), finish_reason=None, index=0, logprobs=None)], created=1737821722, model='deepseek-chat', object='chat.completion.chunk', service_tier=None, system_fingerprint='fp_3a5770e1b4', usage=None)\n",
      "ChatCompletionChunk(id='49059b00-dacf-4f83-aeaf-b741fea9b610', choices=[Choice(delta=ChoiceDelta(content='知识', function_call=None, refusal=None, role=None, tool_calls=None), finish_reason=None, index=0, logprobs=None)], created=1737821722, model='deepseek-chat', object='chat.completion.chunk', service_tier=None, system_fingerprint='fp_3a5770e1b4', usage=None)\n",
      "ChatCompletionChunk(id='49059b00-dacf-4f83-aeaf-b741fea9b610', choices=[Choice(delta=ChoiceDelta(content='库', function_call=None, refusal=None, role=None, tool_calls=None), finish_reason=None, index=0, logprobs=None)], created=1737821722, model='deepseek-chat', object='chat.completion.chunk', service_tier=None, system_fingerprint='fp_3a5770e1b4', usage=None)\n",
      "ChatCompletionChunk(id='49059b00-dacf-4f83-aeaf-b741fea9b610', choices=[Choice(delta=ChoiceDelta(content='验证', function_call=None, refusal=None, role=None, tool_calls=None), finish_reason=None, index=0, logprobs=None)], created=1737821722, model='deepseek-chat', object='chat.completion.chunk', service_tier=None, system_fingerprint='fp_3a5770e1b4', usage=None)\n",
      "ChatCompletionChunk(id='49059b00-dacf-4f83-aeaf-b741fea9b610', choices=[Choice(delta=ChoiceDelta(content='生成', function_call=None, refusal=None, role=None, tool_calls=None), finish_reason=None, index=0, logprobs=None)], created=1737821722, model='deepseek-chat', object='chat.completion.chunk', service_tier=None, system_fingerprint='fp_3a5770e1b4', usage=None)\n",
      "ChatCompletionChunk(id='49059b00-dacf-4f83-aeaf-b741fea9b610', choices=[Choice(delta=ChoiceDelta(content='内容的', function_call=None, refusal=None, role=None, tool_calls=None), finish_reason=None, index=0, logprobs=None)], created=1737821722, model='deepseek-chat', object='chat.completion.chunk', service_tier=None, system_fingerprint='fp_3a5770e1b4', usage=None)\n",
      "ChatCompletionChunk(id='49059b00-dacf-4f83-aeaf-b741fea9b610', choices=[Choice(delta=ChoiceDelta(content='准确性', function_call=None, refusal=None, role=None, tool_calls=None), finish_reason=None, index=0, logprobs=None)], created=1737821722, model='deepseek-chat', object='chat.completion.chunk', service_tier=None, system_fingerprint='fp_3a5770e1b4', usage=None)\n",
      "ChatCompletionChunk(id='49059b00-dacf-4f83-aeaf-b741fea9b610', choices=[Choice(delta=ChoiceDelta(content='。\\n', function_call=None, refusal=None, role=None, tool_calls=None), finish_reason=None, index=0, logprobs=None)], created=1737821722, model='deepseek-chat', object='chat.completion.chunk', service_tier=None, system_fingerprint='fp_3a5770e1b4', usage=None)\n",
      "ChatCompletionChunk(id='49059b00-dacf-4f83-aeaf-b741fea9b610', choices=[Choice(delta=ChoiceDelta(content='  ', function_call=None, refusal=None, role=None, tool_calls=None), finish_reason=None, index=0, logprobs=None)], created=1737821722, model='deepseek-chat', object='chat.completion.chunk', service_tier=None, system_fingerprint='fp_3a5770e1b4', usage=None)\n",
      "ChatCompletionChunk(id='49059b00-dacf-4f83-aeaf-b741fea9b610', choices=[Choice(delta=ChoiceDelta(content=' -', function_call=None, refusal=None, role=None, tool_calls=None), finish_reason=None, index=0, logprobs=None)], created=1737821722, model='deepseek-chat', object='chat.completion.chunk', service_tier=None, system_fingerprint='fp_3a5770e1b4', usage=None)\n",
      "ChatCompletionChunk(id='49059b00-dacf-4f83-aeaf-b741fea9b610', choices=[Choice(delta=ChoiceDelta(content=' **', function_call=None, refusal=None, role=None, tool_calls=None), finish_reason=None, index=0, logprobs=None)], created=1737821722, model='deepseek-chat', object='chat.completion.chunk', service_tier=None, system_fingerprint='fp_3a5770e1b4', usage=None)\n",
      "ChatCompletionChunk(id='49059b00-dacf-4f83-aeaf-b741fea9b610', choices=[Choice(delta=ChoiceDelta(content='多', function_call=None, refusal=None, role=None, tool_calls=None), finish_reason=None, index=0, logprobs=None)], created=1737821722, model='deepseek-chat', object='chat.completion.chunk', service_tier=None, system_fingerprint='fp_3a5770e1b4', usage=None)\n",
      "ChatCompletionChunk(id='49059b00-dacf-4f83-aeaf-b741fea9b610', choices=[Choice(delta=ChoiceDelta(content='步', function_call=None, refusal=None, role=None, tool_calls=None), finish_reason=None, index=0, logprobs=None)], created=1737821722, model='deepseek-chat', object='chat.completion.chunk', service_tier=None, system_fingerprint='fp_3a5770e1b4', usage=None)\n",
      "ChatCompletionChunk(id='49059b00-dacf-4f83-aeaf-b741fea9b610', choices=[Choice(delta=ChoiceDelta(content='推理', function_call=None, refusal=None, role=None, tool_calls=None), finish_reason=None, index=0, logprobs=None)], created=1737821722, model='deepseek-chat', object='chat.completion.chunk', service_tier=None, system_fingerprint='fp_3a5770e1b4', usage=None)\n",
      "ChatCompletionChunk(id='49059b00-dacf-4f83-aeaf-b741fea9b610', choices=[Choice(delta=ChoiceDelta(content='**', function_call=None, refusal=None, role=None, tool_calls=None), finish_reason=None, index=0, logprobs=None)], created=1737821722, model='deepseek-chat', object='chat.completion.chunk', service_tier=None, system_fingerprint='fp_3a5770e1b4', usage=None)\n",
      "ChatCompletionChunk(id='49059b00-dacf-4f83-aeaf-b741fea9b610', choices=[Choice(delta=ChoiceDelta(content='：', function_call=None, refusal=None, role=None, tool_calls=None), finish_reason=None, index=0, logprobs=None)], created=1737821722, model='deepseek-chat', object='chat.completion.chunk', service_tier=None, system_fingerprint='fp_3a5770e1b4', usage=None)\n",
      "ChatCompletionChunk(id='49059b00-dacf-4f83-aeaf-b741fea9b610', choices=[Choice(delta=ChoiceDelta(content='让', function_call=None, refusal=None, role=None, tool_calls=None), finish_reason=None, index=0, logprobs=None)], created=1737821722, model='deepseek-chat', object='chat.completion.chunk', service_tier=None, system_fingerprint='fp_3a5770e1b4', usage=None)\n",
      "ChatCompletionChunk(id='49059b00-dacf-4f83-aeaf-b741fea9b610', choices=[Choice(delta=ChoiceDelta(content='模型', function_call=None, refusal=None, role=None, tool_calls=None), finish_reason=None, index=0, logprobs=None)], created=1737821722, model='deepseek-chat', object='chat.completion.chunk', service_tier=None, system_fingerprint='fp_3a5770e1b4', usage=None)\n",
      "ChatCompletionChunk(id='49059b00-dacf-4f83-aeaf-b741fea9b610', choices=[Choice(delta=ChoiceDelta(content='进行', function_call=None, refusal=None, role=None, tool_calls=None), finish_reason=None, index=0, logprobs=None)], created=1737821722, model='deepseek-chat', object='chat.completion.chunk', service_tier=None, system_fingerprint='fp_3a5770e1b4', usage=None)\n",
      "ChatCompletionChunk(id='49059b00-dacf-4f83-aeaf-b741fea9b610', choices=[Choice(delta=ChoiceDelta(content='多', function_call=None, refusal=None, role=None, tool_calls=None), finish_reason=None, index=0, logprobs=None)], created=1737821722, model='deepseek-chat', object='chat.completion.chunk', service_tier=None, system_fingerprint='fp_3a5770e1b4', usage=None)\n",
      "ChatCompletionChunk(id='49059b00-dacf-4f83-aeaf-b741fea9b610', choices=[Choice(delta=ChoiceDelta(content='步', function_call=None, refusal=None, role=None, tool_calls=None), finish_reason=None, index=0, logprobs=None)], created=1737821722, model='deepseek-chat', object='chat.completion.chunk', service_tier=None, system_fingerprint='fp_3a5770e1b4', usage=None)\n",
      "ChatCompletionChunk(id='49059b00-dacf-4f83-aeaf-b741fea9b610', choices=[Choice(delta=ChoiceDelta(content='推理', function_call=None, refusal=None, role=None, tool_calls=None), finish_reason=None, index=0, logprobs=None)], created=1737821722, model='deepseek-chat', object='chat.completion.chunk', service_tier=None, system_fingerprint='fp_3a5770e1b4', usage=None)\n",
      "ChatCompletionChunk(id='49059b00-dacf-4f83-aeaf-b741fea9b610', choices=[Choice(delta=ChoiceDelta(content='，', function_call=None, refusal=None, role=None, tool_calls=None), finish_reason=None, index=0, logprobs=None)], created=1737821722, model='deepseek-chat', object='chat.completion.chunk', service_tier=None, system_fingerprint='fp_3a5770e1b4', usage=None)\n",
      "ChatCompletionChunk(id='49059b00-dacf-4f83-aeaf-b741fea9b610', choices=[Choice(delta=ChoiceDelta(content='逐步', function_call=None, refusal=None, role=None, tool_calls=None), finish_reason=None, index=0, logprobs=None)], created=1737821722, model='deepseek-chat', object='chat.completion.chunk', service_tier=None, system_fingerprint='fp_3a5770e1b4', usage=None)\n",
      "ChatCompletionChunk(id='49059b00-dacf-4f83-aeaf-b741fea9b610', choices=[Choice(delta=ChoiceDelta(content='验证', function_call=None, refusal=None, role=None, tool_calls=None), finish_reason=None, index=0, logprobs=None)], created=1737821722, model='deepseek-chat', object='chat.completion.chunk', service_tier=None, system_fingerprint='fp_3a5770e1b4', usage=None)\n",
      "ChatCompletionChunk(id='49059b00-dacf-4f83-aeaf-b741fea9b610', choices=[Choice(delta=ChoiceDelta(content='生成', function_call=None, refusal=None, role=None, tool_calls=None), finish_reason=None, index=0, logprobs=None)], created=1737821722, model='deepseek-chat', object='chat.completion.chunk', service_tier=None, system_fingerprint='fp_3a5770e1b4', usage=None)\n",
      "ChatCompletionChunk(id='49059b00-dacf-4f83-aeaf-b741fea9b610', choices=[Choice(delta=ChoiceDelta(content='内容的', function_call=None, refusal=None, role=None, tool_calls=None), finish_reason=None, index=0, logprobs=None)], created=1737821722, model='deepseek-chat', object='chat.completion.chunk', service_tier=None, system_fingerprint='fp_3a5770e1b4', usage=None)\n",
      "ChatCompletionChunk(id='49059b00-dacf-4f83-aeaf-b741fea9b610', choices=[Choice(delta=ChoiceDelta(content='逻辑', function_call=None, refusal=None, role=None, tool_calls=None), finish_reason=None, index=0, logprobs=None)], created=1737821722, model='deepseek-chat', object='chat.completion.chunk', service_tier=None, system_fingerprint='fp_3a5770e1b4', usage=None)\n",
      "ChatCompletionChunk(id='49059b00-dacf-4f83-aeaf-b741fea9b610', choices=[Choice(delta=ChoiceDelta(content='一致性', function_call=None, refusal=None, role=None, tool_calls=None), finish_reason=None, index=0, logprobs=None)], created=1737821722, model='deepseek-chat', object='chat.completion.chunk', service_tier=None, system_fingerprint='fp_3a5770e1b4', usage=None)\n",
      "ChatCompletionChunk(id='49059b00-dacf-4f83-aeaf-b741fea9b610', choices=[Choice(delta=ChoiceDelta(content='。\\n', function_call=None, refusal=None, role=None, tool_calls=None), finish_reason=None, index=0, logprobs=None)], created=1737821722, model='deepseek-chat', object='chat.completion.chunk', service_tier=None, system_fingerprint='fp_3a5770e1b4', usage=None)\n",
      "ChatCompletionChunk(id='49059b00-dacf-4f83-aeaf-b741fea9b610', choices=[Choice(delta=ChoiceDelta(content='  ', function_call=None, refusal=None, role=None, tool_calls=None), finish_reason=None, index=0, logprobs=None)], created=1737821722, model='deepseek-chat', object='chat.completion.chunk', service_tier=None, system_fingerprint='fp_3a5770e1b4', usage=None)\n",
      "ChatCompletionChunk(id='49059b00-dacf-4f83-aeaf-b741fea9b610', choices=[Choice(delta=ChoiceDelta(content=' -', function_call=None, refusal=None, role=None, tool_calls=None), finish_reason=None, index=0, logprobs=None)], created=1737821722, model='deepseek-chat', object='chat.completion.chunk', service_tier=None, system_fingerprint='fp_3a5770e1b4', usage=None)\n",
      "ChatCompletionChunk(id='49059b00-dacf-4f83-aeaf-b741fea9b610', choices=[Choice(delta=ChoiceDelta(content=' **', function_call=None, refusal=None, role=None, tool_calls=None), finish_reason=None, index=0, logprobs=None)], created=1737821722, model='deepseek-chat', object='chat.completion.chunk', service_tier=None, system_fingerprint='fp_3a5770e1b4', usage=None)\n",
      "ChatCompletionChunk(id='49059b00-dacf-4f83-aeaf-b741fea9b610', choices=[Choice(delta=ChoiceDelta(content='不确定性', function_call=None, refusal=None, role=None, tool_calls=None), finish_reason=None, index=0, logprobs=None)], created=1737821722, model='deepseek-chat', object='chat.completion.chunk', service_tier=None, system_fingerprint='fp_3a5770e1b4', usage=None)\n",
      "ChatCompletionChunk(id='49059b00-dacf-4f83-aeaf-b741fea9b610', choices=[Choice(delta=ChoiceDelta(content='估计', function_call=None, refusal=None, role=None, tool_calls=None), finish_reason=None, index=0, logprobs=None)], created=1737821722, model='deepseek-chat', object='chat.completion.chunk', service_tier=None, system_fingerprint='fp_3a5770e1b4', usage=None)\n",
      "ChatCompletionChunk(id='49059b00-dacf-4f83-aeaf-b741fea9b610', choices=[Choice(delta=ChoiceDelta(content='**', function_call=None, refusal=None, role=None, tool_calls=None), finish_reason=None, index=0, logprobs=None)], created=1737821722, model='deepseek-chat', object='chat.completion.chunk', service_tier=None, system_fingerprint='fp_3a5770e1b4', usage=None)\n",
      "ChatCompletionChunk(id='49059b00-dacf-4f83-aeaf-b741fea9b610', choices=[Choice(delta=ChoiceDelta(content='', function_call=None, refusal=None, role=None, tool_calls=None), finish_reason='length', index=0, logprobs=None)], created=1737821722, model='deepseek-chat', object='chat.completion.chunk', service_tier=None, system_fingerprint='fp_3a5770e1b4', usage=CompletionUsage(completion_tokens=300, prompt_tokens=12, total_tokens=312, completion_tokens_details=None, prompt_tokens_details=PromptTokensDetails(audio_tokens=None, cached_tokens=0), prompt_cache_hit_tokens=0, prompt_cache_miss_tokens=12))\n"
     ]
    }
   ],
   "source": [
    "stream = client.chat.completions.create(\n",
    "    messages=[\n",
    "        {\n",
    "            \"role\": \"user\",\n",
    "            \"content\": \"有哪几种解决大模型幻觉的方法？\",\n",
    "        }\n",
    "    ],\n",
    "    model=\"deepseek-chat\",\n",
    "    max_tokens=300,\n",
    "    stream=True\n",
    ")\n",
    "print(\"开始响应:\")\n",
    "for chunk in stream:\n",
    "    print(chunk)"
   ],
   "metadata": {
    "collapsed": false,
    "ExecuteTime": {
     "end_time": "2025-01-25T16:15:31.747337Z",
     "start_time": "2025-01-25T16:15:21.844280Z"
    }
   },
   "id": "bb02448bc68b970d",
   "execution_count": 314
  },
  {
   "cell_type": "code",
   "outputs": [
    {
     "name": "stdout",
     "output_type": "stream",
     "text": [
      "ChatCompletionChunk(id='b637ad5a-c6cb-4dc3-9d5c-0eb02843e780', choices=[Choice(delta=ChoiceDelta(content='', function_call=None, refusal=None, role='assistant', tool_calls=None), finish_reason=None, index=0, logprobs=None)], created=1737821801, model='deepseek-chat', object='chat.completion.chunk', service_tier=None, system_fingerprint='fp_3a5770e1b4', usage=None)\n",
      "ChatCompletionChunk(id='b637ad5a-c6cb-4dc3-9d5c-0eb02843e780', choices=[Choice(delta=ChoiceDelta(content='大', function_call=None, refusal=None, role=None, tool_calls=None), finish_reason=None, index=0, logprobs=None)], created=1737821801, model='deepseek-chat', object='chat.completion.chunk', service_tier=None, system_fingerprint='fp_3a5770e1b4', usage=None)\n",
      "ChatCompletionChunk(id='b637ad5a-c6cb-4dc3-9d5c-0eb02843e780', choices=[Choice(delta=ChoiceDelta(content='模型', function_call=None, refusal=None, role=None, tool_calls=None), finish_reason=None, index=0, logprobs=None)], created=1737821801, model='deepseek-chat', object='chat.completion.chunk', service_tier=None, system_fingerprint='fp_3a5770e1b4', usage=None)\n",
      "ChatCompletionChunk(id='b637ad5a-c6cb-4dc3-9d5c-0eb02843e780', choices=[Choice(delta=ChoiceDelta(content='微', function_call=None, refusal=None, role=None, tool_calls=None), finish_reason=None, index=0, logprobs=None)], created=1737821801, model='deepseek-chat', object='chat.completion.chunk', service_tier=None, system_fingerprint='fp_3a5770e1b4', usage=None)\n",
      "ChatCompletionChunk(id='b637ad5a-c6cb-4dc3-9d5c-0eb02843e780', choices=[Choice(delta=ChoiceDelta(content='调', function_call=None, refusal=None, role=None, tool_calls=None), finish_reason=None, index=0, logprobs=None)], created=1737821801, model='deepseek-chat', object='chat.completion.chunk', service_tier=None, system_fingerprint='fp_3a5770e1b4', usage=None)\n",
      "ChatCompletionChunk(id='b637ad5a-c6cb-4dc3-9d5c-0eb02843e780', choices=[Choice(delta=ChoiceDelta(content='（', function_call=None, refusal=None, role=None, tool_calls=None), finish_reason=None, index=0, logprobs=None)], created=1737821801, model='deepseek-chat', object='chat.completion.chunk', service_tier=None, system_fingerprint='fp_3a5770e1b4', usage=None)\n",
      "ChatCompletionChunk(id='b637ad5a-c6cb-4dc3-9d5c-0eb02843e780', choices=[Choice(delta=ChoiceDelta(content='Fine', function_call=None, refusal=None, role=None, tool_calls=None), finish_reason=None, index=0, logprobs=None)], created=1737821801, model='deepseek-chat', object='chat.completion.chunk', service_tier=None, system_fingerprint='fp_3a5770e1b4', usage=None)\n",
      "ChatCompletionChunk(id='b637ad5a-c6cb-4dc3-9d5c-0eb02843e780', choices=[Choice(delta=ChoiceDelta(content='-tuning', function_call=None, refusal=None, role=None, tool_calls=None), finish_reason=None, index=0, logprobs=None)], created=1737821801, model='deepseek-chat', object='chat.completion.chunk', service_tier=None, system_fingerprint='fp_3a5770e1b4', usage=None)\n",
      "ChatCompletionChunk(id='b637ad5a-c6cb-4dc3-9d5c-0eb02843e780', choices=[Choice(delta=ChoiceDelta(content='）', function_call=None, refusal=None, role=None, tool_calls=None), finish_reason=None, index=0, logprobs=None)], created=1737821801, model='deepseek-chat', object='chat.completion.chunk', service_tier=None, system_fingerprint='fp_3a5770e1b4', usage=None)\n",
      "ChatCompletionChunk(id='b637ad5a-c6cb-4dc3-9d5c-0eb02843e780', choices=[Choice(delta=ChoiceDelta(content='是指在', function_call=None, refusal=None, role=None, tool_calls=None), finish_reason=None, index=0, logprobs=None)], created=1737821801, model='deepseek-chat', object='chat.completion.chunk', service_tier=None, system_fingerprint='fp_3a5770e1b4', usage=None)\n",
      "ChatCompletionChunk(id='b637ad5a-c6cb-4dc3-9d5c-0eb02843e780', choices=[Choice(delta=ChoiceDelta(content='预', function_call=None, refusal=None, role=None, tool_calls=None), finish_reason=None, index=0, logprobs=None)], created=1737821801, model='deepseek-chat', object='chat.completion.chunk', service_tier=None, system_fingerprint='fp_3a5770e1b4', usage=None)\n",
      "ChatCompletionChunk(id='b637ad5a-c6cb-4dc3-9d5c-0eb02843e780', choices=[Choice(delta=ChoiceDelta(content='训练', function_call=None, refusal=None, role=None, tool_calls=None), finish_reason=None, index=0, logprobs=None)], created=1737821801, model='deepseek-chat', object='chat.completion.chunk', service_tier=None, system_fingerprint='fp_3a5770e1b4', usage=None)\n",
      "ChatCompletionChunk(id='b637ad5a-c6cb-4dc3-9d5c-0eb02843e780', choices=[Choice(delta=ChoiceDelta(content='模型', function_call=None, refusal=None, role=None, tool_calls=None), finish_reason=None, index=0, logprobs=None)], created=1737821801, model='deepseek-chat', object='chat.completion.chunk', service_tier=None, system_fingerprint='fp_3a5770e1b4', usage=None)\n",
      "ChatCompletionChunk(id='b637ad5a-c6cb-4dc3-9d5c-0eb02843e780', choices=[Choice(delta=ChoiceDelta(content='的基础上', function_call=None, refusal=None, role=None, tool_calls=None), finish_reason=None, index=0, logprobs=None)], created=1737821801, model='deepseek-chat', object='chat.completion.chunk', service_tier=None, system_fingerprint='fp_3a5770e1b4', usage=None)\n",
      "ChatCompletionChunk(id='b637ad5a-c6cb-4dc3-9d5c-0eb02843e780', choices=[Choice(delta=ChoiceDelta(content='，', function_call=None, refusal=None, role=None, tool_calls=None), finish_reason=None, index=0, logprobs=None)], created=1737821801, model='deepseek-chat', object='chat.completion.chunk', service_tier=None, system_fingerprint='fp_3a5770e1b4', usage=None)\n",
      "ChatCompletionChunk(id='b637ad5a-c6cb-4dc3-9d5c-0eb02843e780', choices=[Choice(delta=ChoiceDelta(content='针对', function_call=None, refusal=None, role=None, tool_calls=None), finish_reason=None, index=0, logprobs=None)], created=1737821801, model='deepseek-chat', object='chat.completion.chunk', service_tier=None, system_fingerprint='fp_3a5770e1b4', usage=None)\n",
      "ChatCompletionChunk(id='b637ad5a-c6cb-4dc3-9d5c-0eb02843e780', choices=[Choice(delta=ChoiceDelta(content='特定', function_call=None, refusal=None, role=None, tool_calls=None), finish_reason=None, index=0, logprobs=None)], created=1737821801, model='deepseek-chat', object='chat.completion.chunk', service_tier=None, system_fingerprint='fp_3a5770e1b4', usage=None)\n",
      "ChatCompletionChunk(id='b637ad5a-c6cb-4dc3-9d5c-0eb02843e780', choices=[Choice(delta=ChoiceDelta(content='任务', function_call=None, refusal=None, role=None, tool_calls=None), finish_reason=None, index=0, logprobs=None)], created=1737821801, model='deepseek-chat', object='chat.completion.chunk', service_tier=None, system_fingerprint='fp_3a5770e1b4', usage=None)\n",
      "ChatCompletionChunk(id='b637ad5a-c6cb-4dc3-9d5c-0eb02843e780', choices=[Choice(delta=ChoiceDelta(content='或', function_call=None, refusal=None, role=None, tool_calls=None), finish_reason=None, index=0, logprobs=None)], created=1737821801, model='deepseek-chat', object='chat.completion.chunk', service_tier=None, system_fingerprint='fp_3a5770e1b4', usage=None)\n",
      "ChatCompletionChunk(id='b637ad5a-c6cb-4dc3-9d5c-0eb02843e780', choices=[Choice(delta=ChoiceDelta(content='数据集', function_call=None, refusal=None, role=None, tool_calls=None), finish_reason=None, index=0, logprobs=None)], created=1737821801, model='deepseek-chat', object='chat.completion.chunk', service_tier=None, system_fingerprint='fp_3a5770e1b4', usage=None)\n",
      "ChatCompletionChunk(id='b637ad5a-c6cb-4dc3-9d5c-0eb02843e780', choices=[Choice(delta=ChoiceDelta(content='进行', function_call=None, refusal=None, role=None, tool_calls=None), finish_reason=None, index=0, logprobs=None)], created=1737821801, model='deepseek-chat', object='chat.completion.chunk', service_tier=None, system_fingerprint='fp_3a5770e1b4', usage=None)\n",
      "ChatCompletionChunk(id='b637ad5a-c6cb-4dc3-9d5c-0eb02843e780', choices=[Choice(delta=ChoiceDelta(content='进一步的', function_call=None, refusal=None, role=None, tool_calls=None), finish_reason=None, index=0, logprobs=None)], created=1737821801, model='deepseek-chat', object='chat.completion.chunk', service_tier=None, system_fingerprint='fp_3a5770e1b4', usage=None)\n",
      "ChatCompletionChunk(id='b637ad5a-c6cb-4dc3-9d5c-0eb02843e780', choices=[Choice(delta=ChoiceDelta(content='训练', function_call=None, refusal=None, role=None, tool_calls=None), finish_reason=None, index=0, logprobs=None)], created=1737821801, model='deepseek-chat', object='chat.completion.chunk', service_tier=None, system_fingerprint='fp_3a5770e1b4', usage=None)\n",
      "ChatCompletionChunk(id='b637ad5a-c6cb-4dc3-9d5c-0eb02843e780', choices=[Choice(delta=ChoiceDelta(content='，', function_call=None, refusal=None, role=None, tool_calls=None), finish_reason=None, index=0, logprobs=None)], created=1737821801, model='deepseek-chat', object='chat.completion.chunk', service_tier=None, system_fingerprint='fp_3a5770e1b4', usage=None)\n",
      "ChatCompletionChunk(id='b637ad5a-c6cb-4dc3-9d5c-0eb02843e780', choices=[Choice(delta=ChoiceDelta(content='以使', function_call=None, refusal=None, role=None, tool_calls=None), finish_reason=None, index=0, logprobs=None)], created=1737821801, model='deepseek-chat', object='chat.completion.chunk', service_tier=None, system_fingerprint='fp_3a5770e1b4', usage=None)\n",
      "ChatCompletionChunk(id='b637ad5a-c6cb-4dc3-9d5c-0eb02843e780', choices=[Choice(delta=ChoiceDelta(content='模型', function_call=None, refusal=None, role=None, tool_calls=None), finish_reason=None, index=0, logprobs=None)], created=1737821801, model='deepseek-chat', object='chat.completion.chunk', service_tier=None, system_fingerprint='fp_3a5770e1b4', usage=None)\n",
      "ChatCompletionChunk(id='b637ad5a-c6cb-4dc3-9d5c-0eb02843e780', choices=[Choice(delta=ChoiceDelta(content='更好地', function_call=None, refusal=None, role=None, tool_calls=None), finish_reason=None, index=0, logprobs=None)], created=1737821801, model='deepseek-chat', object='chat.completion.chunk', service_tier=None, system_fingerprint='fp_3a5770e1b4', usage=None)\n",
      "ChatCompletionChunk(id='b637ad5a-c6cb-4dc3-9d5c-0eb02843e780', choices=[Choice(delta=ChoiceDelta(content='适应', function_call=None, refusal=None, role=None, tool_calls=None), finish_reason=None, index=0, logprobs=None)], created=1737821801, model='deepseek-chat', object='chat.completion.chunk', service_tier=None, system_fingerprint='fp_3a5770e1b4', usage=None)\n",
      "ChatCompletionChunk(id='b637ad5a-c6cb-4dc3-9d5c-0eb02843e780', choices=[Choice(delta=ChoiceDelta(content='目标任务', function_call=None, refusal=None, role=None, tool_calls=None), finish_reason=None, index=0, logprobs=None)], created=1737821801, model='deepseek-chat', object='chat.completion.chunk', service_tier=None, system_fingerprint='fp_3a5770e1b4', usage=None)\n",
      "ChatCompletionChunk(id='b637ad5a-c6cb-4dc3-9d5c-0eb02843e780', choices=[Choice(delta=ChoiceDelta(content='。', function_call=None, refusal=None, role=None, tool_calls=None), finish_reason=None, index=0, logprobs=None)], created=1737821801, model='deepseek-chat', object='chat.completion.chunk', service_tier=None, system_fingerprint='fp_3a5770e1b4', usage=None)\n",
      "ChatCompletionChunk(id='b637ad5a-c6cb-4dc3-9d5c-0eb02843e780', choices=[Choice(delta=ChoiceDelta(content='以下是', function_call=None, refusal=None, role=None, tool_calls=None), finish_reason=None, index=0, logprobs=None)], created=1737821801, model='deepseek-chat', object='chat.completion.chunk', service_tier=None, system_fingerprint='fp_3a5770e1b4', usage=None)\n",
      "ChatCompletionChunk(id='b637ad5a-c6cb-4dc3-9d5c-0eb02843e780', choices=[Choice(delta=ChoiceDelta(content='几种', function_call=None, refusal=None, role=None, tool_calls=None), finish_reason=None, index=0, logprobs=None)], created=1737821801, model='deepseek-chat', object='chat.completion.chunk', service_tier=None, system_fingerprint='fp_3a5770e1b4', usage=None)\n",
      "ChatCompletionChunk(id='b637ad5a-c6cb-4dc3-9d5c-0eb02843e780', choices=[Choice(delta=ChoiceDelta(content='常见', function_call=None, refusal=None, role=None, tool_calls=None), finish_reason=None, index=0, logprobs=None)], created=1737821801, model='deepseek-chat', object='chat.completion.chunk', service_tier=None, system_fingerprint='fp_3a5770e1b4', usage=None)\n",
      "ChatCompletionChunk(id='b637ad5a-c6cb-4dc3-9d5c-0eb02843e780', choices=[Choice(delta=ChoiceDelta(content='的大', function_call=None, refusal=None, role=None, tool_calls=None), finish_reason=None, index=0, logprobs=None)], created=1737821801, model='deepseek-chat', object='chat.completion.chunk', service_tier=None, system_fingerprint='fp_3a5770e1b4', usage=None)\n",
      "ChatCompletionChunk(id='b637ad5a-c6cb-4dc3-9d5c-0eb02843e780', choices=[Choice(delta=ChoiceDelta(content='模型', function_call=None, refusal=None, role=None, tool_calls=None), finish_reason=None, index=0, logprobs=None)], created=1737821801, model='deepseek-chat', object='chat.completion.chunk', service_tier=None, system_fingerprint='fp_3a5770e1b4', usage=None)\n",
      "ChatCompletionChunk(id='b637ad5a-c6cb-4dc3-9d5c-0eb02843e780', choices=[Choice(delta=ChoiceDelta(content='微', function_call=None, refusal=None, role=None, tool_calls=None), finish_reason=None, index=0, logprobs=None)], created=1737821801, model='deepseek-chat', object='chat.completion.chunk', service_tier=None, system_fingerprint='fp_3a5770e1b4', usage=None)\n",
      "ChatCompletionChunk(id='b637ad5a-c6cb-4dc3-9d5c-0eb02843e780', choices=[Choice(delta=ChoiceDelta(content='调', function_call=None, refusal=None, role=None, tool_calls=None), finish_reason=None, index=0, logprobs=None)], created=1737821801, model='deepseek-chat', object='chat.completion.chunk', service_tier=None, system_fingerprint='fp_3a5770e1b4', usage=None)\n",
      "ChatCompletionChunk(id='b637ad5a-c6cb-4dc3-9d5c-0eb02843e780', choices=[Choice(delta=ChoiceDelta(content='方法', function_call=None, refusal=None, role=None, tool_calls=None), finish_reason=None, index=0, logprobs=None)], created=1737821801, model='deepseek-chat', object='chat.completion.chunk', service_tier=None, system_fingerprint='fp_3a5770e1b4', usage=None)\n",
      "ChatCompletionChunk(id='b637ad5a-c6cb-4dc3-9d5c-0eb02843e780', choices=[Choice(delta=ChoiceDelta(content='：\\n\\n', function_call=None, refusal=None, role=None, tool_calls=None), finish_reason=None, index=0, logprobs=None)], created=1737821801, model='deepseek-chat', object='chat.completion.chunk', service_tier=None, system_fingerprint='fp_3a5770e1b4', usage=None)\n",
      "ChatCompletionChunk(id='b637ad5a-c6cb-4dc3-9d5c-0eb02843e780', choices=[Choice(delta=ChoiceDelta(content='###', function_call=None, refusal=None, role=None, tool_calls=None), finish_reason=None, index=0, logprobs=None)], created=1737821801, model='deepseek-chat', object='chat.completion.chunk', service_tier=None, system_fingerprint='fp_3a5770e1b4', usage=None)\n",
      "ChatCompletionChunk(id='b637ad5a-c6cb-4dc3-9d5c-0eb02843e780', choices=[Choice(delta=ChoiceDelta(content=' ', function_call=None, refusal=None, role=None, tool_calls=None), finish_reason=None, index=0, logprobs=None)], created=1737821801, model='deepseek-chat', object='chat.completion.chunk', service_tier=None, system_fingerprint='fp_3a5770e1b4', usage=None)\n",
      "ChatCompletionChunk(id='b637ad5a-c6cb-4dc3-9d5c-0eb02843e780', choices=[Choice(delta=ChoiceDelta(content='1', function_call=None, refusal=None, role=None, tool_calls=None), finish_reason=None, index=0, logprobs=None)], created=1737821801, model='deepseek-chat', object='chat.completion.chunk', service_tier=None, system_fingerprint='fp_3a5770e1b4', usage=None)\n",
      "ChatCompletionChunk(id='b637ad5a-c6cb-4dc3-9d5c-0eb02843e780', choices=[Choice(delta=ChoiceDelta(content='.', function_call=None, refusal=None, role=None, tool_calls=None), finish_reason=None, index=0, logprobs=None)], created=1737821801, model='deepseek-chat', object='chat.completion.chunk', service_tier=None, system_fingerprint='fp_3a5770e1b4', usage=None)\n",
      "ChatCompletionChunk(id='b637ad5a-c6cb-4dc3-9d5c-0eb02843e780', choices=[Choice(delta=ChoiceDelta(content=' **', function_call=None, refusal=None, role=None, tool_calls=None), finish_reason=None, index=0, logprobs=None)], created=1737821801, model='deepseek-chat', object='chat.completion.chunk', service_tier=None, system_fingerprint='fp_3a5770e1b4', usage=None)\n",
      "ChatCompletionChunk(id='b637ad5a-c6cb-4dc3-9d5c-0eb02843e780', choices=[Choice(delta=ChoiceDelta(content='全', function_call=None, refusal=None, role=None, tool_calls=None), finish_reason=None, index=0, logprobs=None)], created=1737821801, model='deepseek-chat', object='chat.completion.chunk', service_tier=None, system_fingerprint='fp_3a5770e1b4', usage=None)\n",
      "ChatCompletionChunk(id='b637ad5a-c6cb-4dc3-9d5c-0eb02843e780', choices=[Choice(delta=ChoiceDelta(content='量', function_call=None, refusal=None, role=None, tool_calls=None), finish_reason=None, index=0, logprobs=None)], created=1737821801, model='deepseek-chat', object='chat.completion.chunk', service_tier=None, system_fingerprint='fp_3a5770e1b4', usage=None)\n",
      "ChatCompletionChunk(id='b637ad5a-c6cb-4dc3-9d5c-0eb02843e780', choices=[Choice(delta=ChoiceDelta(content='微', function_call=None, refusal=None, role=None, tool_calls=None), finish_reason=None, index=0, logprobs=None)], created=1737821801, model='deepseek-chat', object='chat.completion.chunk', service_tier=None, system_fingerprint='fp_3a5770e1b4', usage=None)\n",
      "ChatCompletionChunk(id='b637ad5a-c6cb-4dc3-9d5c-0eb02843e780', choices=[Choice(delta=ChoiceDelta(content='调', function_call=None, refusal=None, role=None, tool_calls=None), finish_reason=None, index=0, logprobs=None)], created=1737821801, model='deepseek-chat', object='chat.completion.chunk', service_tier=None, system_fingerprint='fp_3a5770e1b4', usage=None)\n",
      "ChatCompletionChunk(id='b637ad5a-c6cb-4dc3-9d5c-0eb02843e780', choices=[Choice(delta=ChoiceDelta(content='（', function_call=None, refusal=None, role=None, tool_calls=None), finish_reason=None, index=0, logprobs=None)], created=1737821801, model='deepseek-chat', object='chat.completion.chunk', service_tier=None, system_fingerprint='fp_3a5770e1b4', usage=None)\n",
      "ChatCompletionChunk(id='b637ad5a-c6cb-4dc3-9d5c-0eb02843e780', choices=[Choice(delta=ChoiceDelta(content='Full', function_call=None, refusal=None, role=None, tool_calls=None), finish_reason=None, index=0, logprobs=None)], created=1737821801, model='deepseek-chat', object='chat.completion.chunk', service_tier=None, system_fingerprint='fp_3a5770e1b4', usage=None)\n",
      "ChatCompletionChunk(id='b637ad5a-c6cb-4dc3-9d5c-0eb02843e780', choices=[Choice(delta=ChoiceDelta(content=' Fine', function_call=None, refusal=None, role=None, tool_calls=None), finish_reason=None, index=0, logprobs=None)], created=1737821801, model='deepseek-chat', object='chat.completion.chunk', service_tier=None, system_fingerprint='fp_3a5770e1b4', usage=None)\n",
      "ChatCompletionChunk(id='b637ad5a-c6cb-4dc3-9d5c-0eb02843e780', choices=[Choice(delta=ChoiceDelta(content='-tuning', function_call=None, refusal=None, role=None, tool_calls=None), finish_reason=None, index=0, logprobs=None)], created=1737821801, model='deepseek-chat', object='chat.completion.chunk', service_tier=None, system_fingerprint='fp_3a5770e1b4', usage=None)\n",
      "ChatCompletionChunk(id='b637ad5a-c6cb-4dc3-9d5c-0eb02843e780', choices=[Choice(delta=ChoiceDelta(content='）', function_call=None, refusal=None, role=None, tool_calls=None), finish_reason=None, index=0, logprobs=None)], created=1737821801, model='deepseek-chat', object='chat.completion.chunk', service_tier=None, system_fingerprint='fp_3a5770e1b4', usage=None)\n",
      "ChatCompletionChunk(id='b637ad5a-c6cb-4dc3-9d5c-0eb02843e780', choices=[Choice(delta=ChoiceDelta(content='**\\n', function_call=None, refusal=None, role=None, tool_calls=None), finish_reason=None, index=0, logprobs=None)], created=1737821801, model='deepseek-chat', object='chat.completion.chunk', service_tier=None, system_fingerprint='fp_3a5770e1b4', usage=None)\n",
      "ChatCompletionChunk(id='b637ad5a-c6cb-4dc3-9d5c-0eb02843e780', choices=[Choice(delta=ChoiceDelta(content='  ', function_call=None, refusal=None, role=None, tool_calls=None), finish_reason=None, index=0, logprobs=None)], created=1737821801, model='deepseek-chat', object='chat.completion.chunk', service_tier=None, system_fingerprint='fp_3a5770e1b4', usage=None)\n",
      "ChatCompletionChunk(id='b637ad5a-c6cb-4dc3-9d5c-0eb02843e780', choices=[Choice(delta=ChoiceDelta(content=' -', function_call=None, refusal=None, role=None, tool_calls=None), finish_reason=None, index=0, logprobs=None)], created=1737821801, model='deepseek-chat', object='chat.completion.chunk', service_tier=None, system_fingerprint='fp_3a5770e1b4', usage=None)\n",
      "ChatCompletionChunk(id='b637ad5a-c6cb-4dc3-9d5c-0eb02843e780', choices=[Choice(delta=ChoiceDelta(content=' **', function_call=None, refusal=None, role=None, tool_calls=None), finish_reason=None, index=0, logprobs=None)], created=1737821801, model='deepseek-chat', object='chat.completion.chunk', service_tier=None, system_fingerprint='fp_3a5770e1b4', usage=None)\n",
      "ChatCompletionChunk(id='b637ad5a-c6cb-4dc3-9d5c-0eb02843e780', choices=[Choice(delta=ChoiceDelta(content='描述', function_call=None, refusal=None, role=None, tool_calls=None), finish_reason=None, index=0, logprobs=None)], created=1737821801, model='deepseek-chat', object='chat.completion.chunk', service_tier=None, system_fingerprint='fp_3a5770e1b4', usage=None)\n",
      "ChatCompletionChunk(id='b637ad5a-c6cb-4dc3-9d5c-0eb02843e780', choices=[Choice(delta=ChoiceDelta(content='**', function_call=None, refusal=None, role=None, tool_calls=None), finish_reason=None, index=0, logprobs=None)], created=1737821801, model='deepseek-chat', object='chat.completion.chunk', service_tier=None, system_fingerprint='fp_3a5770e1b4', usage=None)\n",
      "ChatCompletionChunk(id='b637ad5a-c6cb-4dc3-9d5c-0eb02843e780', choices=[Choice(delta=ChoiceDelta(content='：', function_call=None, refusal=None, role=None, tool_calls=None), finish_reason=None, index=0, logprobs=None)], created=1737821801, model='deepseek-chat', object='chat.completion.chunk', service_tier=None, system_fingerprint='fp_3a5770e1b4', usage=None)\n",
      "ChatCompletionChunk(id='b637ad5a-c6cb-4dc3-9d5c-0eb02843e780', choices=[Choice(delta=ChoiceDelta(content='对整个', function_call=None, refusal=None, role=None, tool_calls=None), finish_reason=None, index=0, logprobs=None)], created=1737821801, model='deepseek-chat', object='chat.completion.chunk', service_tier=None, system_fingerprint='fp_3a5770e1b4', usage=None)\n",
      "ChatCompletionChunk(id='b637ad5a-c6cb-4dc3-9d5c-0eb02843e780', choices=[Choice(delta=ChoiceDelta(content='预', function_call=None, refusal=None, role=None, tool_calls=None), finish_reason=None, index=0, logprobs=None)], created=1737821801, model='deepseek-chat', object='chat.completion.chunk', service_tier=None, system_fingerprint='fp_3a5770e1b4', usage=None)\n",
      "ChatCompletionChunk(id='b637ad5a-c6cb-4dc3-9d5c-0eb02843e780', choices=[Choice(delta=ChoiceDelta(content='训练', function_call=None, refusal=None, role=None, tool_calls=None), finish_reason=None, index=0, logprobs=None)], created=1737821801, model='deepseek-chat', object='chat.completion.chunk', service_tier=None, system_fingerprint='fp_3a5770e1b4', usage=None)\n",
      "ChatCompletionChunk(id='b637ad5a-c6cb-4dc3-9d5c-0eb02843e780', choices=[Choice(delta=ChoiceDelta(content='模型', function_call=None, refusal=None, role=None, tool_calls=None), finish_reason=None, index=0, logprobs=None)], created=1737821801, model='deepseek-chat', object='chat.completion.chunk', service_tier=None, system_fingerprint='fp_3a5770e1b4', usage=None)\n",
      "ChatCompletionChunk(id='b637ad5a-c6cb-4dc3-9d5c-0eb02843e780', choices=[Choice(delta=ChoiceDelta(content='的所有', function_call=None, refusal=None, role=None, tool_calls=None), finish_reason=None, index=0, logprobs=None)], created=1737821801, model='deepseek-chat', object='chat.completion.chunk', service_tier=None, system_fingerprint='fp_3a5770e1b4', usage=None)\n",
      "ChatCompletionChunk(id='b637ad5a-c6cb-4dc3-9d5c-0eb02843e780', choices=[Choice(delta=ChoiceDelta(content='参数', function_call=None, refusal=None, role=None, tool_calls=None), finish_reason=None, index=0, logprobs=None)], created=1737821801, model='deepseek-chat', object='chat.completion.chunk', service_tier=None, system_fingerprint='fp_3a5770e1b4', usage=None)\n",
      "ChatCompletionChunk(id='b637ad5a-c6cb-4dc3-9d5c-0eb02843e780', choices=[Choice(delta=ChoiceDelta(content='进行', function_call=None, refusal=None, role=None, tool_calls=None), finish_reason=None, index=0, logprobs=None)], created=1737821801, model='deepseek-chat', object='chat.completion.chunk', service_tier=None, system_fingerprint='fp_3a5770e1b4', usage=None)\n",
      "ChatCompletionChunk(id='b637ad5a-c6cb-4dc3-9d5c-0eb02843e780', choices=[Choice(delta=ChoiceDelta(content='微', function_call=None, refusal=None, role=None, tool_calls=None), finish_reason=None, index=0, logprobs=None)], created=1737821801, model='deepseek-chat', object='chat.completion.chunk', service_tier=None, system_fingerprint='fp_3a5770e1b4', usage=None)\n",
      "ChatCompletionChunk(id='b637ad5a-c6cb-4dc3-9d5c-0eb02843e780', choices=[Choice(delta=ChoiceDelta(content='调', function_call=None, refusal=None, role=None, tool_calls=None), finish_reason=None, index=0, logprobs=None)], created=1737821801, model='deepseek-chat', object='chat.completion.chunk', service_tier=None, system_fingerprint='fp_3a5770e1b4', usage=None)\n",
      "ChatCompletionChunk(id='b637ad5a-c6cb-4dc3-9d5c-0eb02843e780', choices=[Choice(delta=ChoiceDelta(content='。\\n', function_call=None, refusal=None, role=None, tool_calls=None), finish_reason=None, index=0, logprobs=None)], created=1737821801, model='deepseek-chat', object='chat.completion.chunk', service_tier=None, system_fingerprint='fp_3a5770e1b4', usage=None)\n",
      "ChatCompletionChunk(id='b637ad5a-c6cb-4dc3-9d5c-0eb02843e780', choices=[Choice(delta=ChoiceDelta(content='  ', function_call=None, refusal=None, role=None, tool_calls=None), finish_reason=None, index=0, logprobs=None)], created=1737821801, model='deepseek-chat', object='chat.completion.chunk', service_tier=None, system_fingerprint='fp_3a5770e1b4', usage=None)\n",
      "ChatCompletionChunk(id='b637ad5a-c6cb-4dc3-9d5c-0eb02843e780', choices=[Choice(delta=ChoiceDelta(content=' -', function_call=None, refusal=None, role=None, tool_calls=None), finish_reason=None, index=0, logprobs=None)], created=1737821801, model='deepseek-chat', object='chat.completion.chunk', service_tier=None, system_fingerprint='fp_3a5770e1b4', usage=None)\n",
      "ChatCompletionChunk(id='b637ad5a-c6cb-4dc3-9d5c-0eb02843e780', choices=[Choice(delta=ChoiceDelta(content=' **', function_call=None, refusal=None, role=None, tool_calls=None), finish_reason=None, index=0, logprobs=None)], created=1737821801, model='deepseek-chat', object='chat.completion.chunk', service_tier=None, system_fingerprint='fp_3a5770e1b4', usage=None)\n",
      "ChatCompletionChunk(id='b637ad5a-c6cb-4dc3-9d5c-0eb02843e780', choices=[Choice(delta=ChoiceDelta(content='优点', function_call=None, refusal=None, role=None, tool_calls=None), finish_reason=None, index=0, logprobs=None)], created=1737821801, model='deepseek-chat', object='chat.completion.chunk', service_tier=None, system_fingerprint='fp_3a5770e1b4', usage=None)\n",
      "ChatCompletionChunk(id='b637ad5a-c6cb-4dc3-9d5c-0eb02843e780', choices=[Choice(delta=ChoiceDelta(content='**', function_call=None, refusal=None, role=None, tool_calls=None), finish_reason=None, index=0, logprobs=None)], created=1737821801, model='deepseek-chat', object='chat.completion.chunk', service_tier=None, system_fingerprint='fp_3a5770e1b4', usage=None)\n",
      "ChatCompletionChunk(id='b637ad5a-c6cb-4dc3-9d5c-0eb02843e780', choices=[Choice(delta=ChoiceDelta(content='：', function_call=None, refusal=None, role=None, tool_calls=None), finish_reason=None, index=0, logprobs=None)], created=1737821801, model='deepseek-chat', object='chat.completion.chunk', service_tier=None, system_fingerprint='fp_3a5770e1b4', usage=None)\n",
      "ChatCompletionChunk(id='b637ad5a-c6cb-4dc3-9d5c-0eb02843e780', choices=[Choice(delta=ChoiceDelta(content='能够', function_call=None, refusal=None, role=None, tool_calls=None), finish_reason=None, index=0, logprobs=None)], created=1737821801, model='deepseek-chat', object='chat.completion.chunk', service_tier=None, system_fingerprint='fp_3a5770e1b4', usage=None)\n",
      "ChatCompletionChunk(id='b637ad5a-c6cb-4dc3-9d5c-0eb02843e780', choices=[Choice(delta=ChoiceDelta(content='充分利用', function_call=None, refusal=None, role=None, tool_calls=None), finish_reason=None, index=0, logprobs=None)], created=1737821801, model='deepseek-chat', object='chat.completion.chunk', service_tier=None, system_fingerprint='fp_3a5770e1b4', usage=None)\n",
      "ChatCompletionChunk(id='b637ad5a-c6cb-4dc3-9d5c-0eb02843e780', choices=[Choice(delta=ChoiceDelta(content='预', function_call=None, refusal=None, role=None, tool_calls=None), finish_reason=None, index=0, logprobs=None)], created=1737821801, model='deepseek-chat', object='chat.completion.chunk', service_tier=None, system_fingerprint='fp_3a5770e1b4', usage=None)\n",
      "ChatCompletionChunk(id='b637ad5a-c6cb-4dc3-9d5c-0eb02843e780', choices=[Choice(delta=ChoiceDelta(content='训练', function_call=None, refusal=None, role=None, tool_calls=None), finish_reason=None, index=0, logprobs=None)], created=1737821801, model='deepseek-chat', object='chat.completion.chunk', service_tier=None, system_fingerprint='fp_3a5770e1b4', usage=None)\n",
      "ChatCompletionChunk(id='b637ad5a-c6cb-4dc3-9d5c-0eb02843e780', choices=[Choice(delta=ChoiceDelta(content='模型', function_call=None, refusal=None, role=None, tool_calls=None), finish_reason=None, index=0, logprobs=None)], created=1737821801, model='deepseek-chat', object='chat.completion.chunk', service_tier=None, system_fingerprint='fp_3a5770e1b4', usage=None)\n",
      "ChatCompletionChunk(id='b637ad5a-c6cb-4dc3-9d5c-0eb02843e780', choices=[Choice(delta=ChoiceDelta(content='的知识', function_call=None, refusal=None, role=None, tool_calls=None), finish_reason=None, index=0, logprobs=None)], created=1737821801, model='deepseek-chat', object='chat.completion.chunk', service_tier=None, system_fingerprint='fp_3a5770e1b4', usage=None)\n",
      "ChatCompletionChunk(id='b637ad5a-c6cb-4dc3-9d5c-0eb02843e780', choices=[Choice(delta=ChoiceDelta(content='，', function_call=None, refusal=None, role=None, tool_calls=None), finish_reason=None, index=0, logprobs=None)], created=1737821801, model='deepseek-chat', object='chat.completion.chunk', service_tier=None, system_fingerprint='fp_3a5770e1b4', usage=None)\n",
      "ChatCompletionChunk(id='b637ad5a-c6cb-4dc3-9d5c-0eb02843e780', choices=[Choice(delta=ChoiceDelta(content='适应', function_call=None, refusal=None, role=None, tool_calls=None), finish_reason=None, index=0, logprobs=None)], created=1737821801, model='deepseek-chat', object='chat.completion.chunk', service_tier=None, system_fingerprint='fp_3a5770e1b4', usage=None)\n",
      "ChatCompletionChunk(id='b637ad5a-c6cb-4dc3-9d5c-0eb02843e780', choices=[Choice(delta=ChoiceDelta(content='性强', function_call=None, refusal=None, role=None, tool_calls=None), finish_reason=None, index=0, logprobs=None)], created=1737821801, model='deepseek-chat', object='chat.completion.chunk', service_tier=None, system_fingerprint='fp_3a5770e1b4', usage=None)\n",
      "ChatCompletionChunk(id='b637ad5a-c6cb-4dc3-9d5c-0eb02843e780', choices=[Choice(delta=ChoiceDelta(content='。\\n', function_call=None, refusal=None, role=None, tool_calls=None), finish_reason=None, index=0, logprobs=None)], created=1737821801, model='deepseek-chat', object='chat.completion.chunk', service_tier=None, system_fingerprint='fp_3a5770e1b4', usage=None)\n",
      "ChatCompletionChunk(id='b637ad5a-c6cb-4dc3-9d5c-0eb02843e780', choices=[Choice(delta=ChoiceDelta(content='  ', function_call=None, refusal=None, role=None, tool_calls=None), finish_reason=None, index=0, logprobs=None)], created=1737821801, model='deepseek-chat', object='chat.completion.chunk', service_tier=None, system_fingerprint='fp_3a5770e1b4', usage=None)\n",
      "ChatCompletionChunk(id='b637ad5a-c6cb-4dc3-9d5c-0eb02843e780', choices=[Choice(delta=ChoiceDelta(content=' -', function_call=None, refusal=None, role=None, tool_calls=None), finish_reason=None, index=0, logprobs=None)], created=1737821801, model='deepseek-chat', object='chat.completion.chunk', service_tier=None, system_fingerprint='fp_3a5770e1b4', usage=None)\n",
      "ChatCompletionChunk(id='b637ad5a-c6cb-4dc3-9d5c-0eb02843e780', choices=[Choice(delta=ChoiceDelta(content=' **', function_call=None, refusal=None, role=None, tool_calls=None), finish_reason=None, index=0, logprobs=None)], created=1737821801, model='deepseek-chat', object='chat.completion.chunk', service_tier=None, system_fingerprint='fp_3a5770e1b4', usage=None)\n",
      "ChatCompletionChunk(id='b637ad5a-c6cb-4dc3-9d5c-0eb02843e780', choices=[Choice(delta=ChoiceDelta(content='缺点', function_call=None, refusal=None, role=None, tool_calls=None), finish_reason=None, index=0, logprobs=None)], created=1737821801, model='deepseek-chat', object='chat.completion.chunk', service_tier=None, system_fingerprint='fp_3a5770e1b4', usage=None)\n",
      "ChatCompletionChunk(id='b637ad5a-c6cb-4dc3-9d5c-0eb02843e780', choices=[Choice(delta=ChoiceDelta(content='**', function_call=None, refusal=None, role=None, tool_calls=None), finish_reason=None, index=0, logprobs=None)], created=1737821801, model='deepseek-chat', object='chat.completion.chunk', service_tier=None, system_fingerprint='fp_3a5770e1b4', usage=None)\n",
      "ChatCompletionChunk(id='b637ad5a-c6cb-4dc3-9d5c-0eb02843e780', choices=[Choice(delta=ChoiceDelta(content='：', function_call=None, refusal=None, role=None, tool_calls=None), finish_reason=None, index=0, logprobs=None)], created=1737821801, model='deepseek-chat', object='chat.completion.chunk', service_tier=None, system_fingerprint='fp_3a5770e1b4', usage=None)\n",
      "ChatCompletionChunk(id='b637ad5a-c6cb-4dc3-9d5c-0eb02843e780', choices=[Choice(delta=ChoiceDelta(content='计算', function_call=None, refusal=None, role=None, tool_calls=None), finish_reason=None, index=0, logprobs=None)], created=1737821801, model='deepseek-chat', object='chat.completion.chunk', service_tier=None, system_fingerprint='fp_3a5770e1b4', usage=None)\n",
      "ChatCompletionChunk(id='b637ad5a-c6cb-4dc3-9d5c-0eb02843e780', choices=[Choice(delta=ChoiceDelta(content='资源', function_call=None, refusal=None, role=None, tool_calls=None), finish_reason=None, index=0, logprobs=None)], created=1737821801, model='deepseek-chat', object='chat.completion.chunk', service_tier=None, system_fingerprint='fp_3a5770e1b4', usage=None)\n",
      "ChatCompletionChunk(id='b637ad5a-c6cb-4dc3-9d5c-0eb02843e780', choices=[Choice(delta=ChoiceDelta(content='消耗', function_call=None, refusal=None, role=None, tool_calls=None), finish_reason=None, index=0, logprobs=None)], created=1737821801, model='deepseek-chat', object='chat.completion.chunk', service_tier=None, system_fingerprint='fp_3a5770e1b4', usage=None)\n",
      "ChatCompletionChunk(id='b637ad5a-c6cb-4dc3-9d5c-0eb02843e780', choices=[Choice(delta=ChoiceDelta(content='大', function_call=None, refusal=None, role=None, tool_calls=None), finish_reason=None, index=0, logprobs=None)], created=1737821801, model='deepseek-chat', object='chat.completion.chunk', service_tier=None, system_fingerprint='fp_3a5770e1b4', usage=None)\n",
      "ChatCompletionChunk(id='b637ad5a-c6cb-4dc3-9d5c-0eb02843e780', choices=[Choice(delta=ChoiceDelta(content='，', function_call=None, refusal=None, role=None, tool_calls=None), finish_reason=None, index=0, logprobs=None)], created=1737821801, model='deepseek-chat', object='chat.completion.chunk', service_tier=None, system_fingerprint='fp_3a5770e1b4', usage=None)\n",
      "ChatCompletionChunk(id='b637ad5a-c6cb-4dc3-9d5c-0eb02843e780', choices=[Choice(delta=ChoiceDelta(content='容易', function_call=None, refusal=None, role=None, tool_calls=None), finish_reason=None, index=0, logprobs=None)], created=1737821801, model='deepseek-chat', object='chat.completion.chunk', service_tier=None, system_fingerprint='fp_3a5770e1b4', usage=None)\n",
      "ChatCompletionChunk(id='b637ad5a-c6cb-4dc3-9d5c-0eb02843e780', choices=[Choice(delta=ChoiceDelta(content='过', function_call=None, refusal=None, role=None, tool_calls=None), finish_reason=None, index=0, logprobs=None)], created=1737821801, model='deepseek-chat', object='chat.completion.chunk', service_tier=None, system_fingerprint='fp_3a5770e1b4', usage=None)\n",
      "ChatCompletionChunk(id='b637ad5a-c6cb-4dc3-9d5c-0eb02843e780', choices=[Choice(delta=ChoiceDelta(content='拟合', function_call=None, refusal=None, role=None, tool_calls=None), finish_reason=None, index=0, logprobs=None)], created=1737821801, model='deepseek-chat', object='chat.completion.chunk', service_tier=None, system_fingerprint='fp_3a5770e1b4', usage=None)\n",
      "ChatCompletionChunk(id='b637ad5a-c6cb-4dc3-9d5c-0eb02843e780', choices=[Choice(delta=ChoiceDelta(content='，', function_call=None, refusal=None, role=None, tool_calls=None), finish_reason=None, index=0, logprobs=None)], created=1737821801, model='deepseek-chat', object='chat.completion.chunk', service_tier=None, system_fingerprint='fp_3a5770e1b4', usage=None)\n",
      "ChatCompletionChunk(id='b637ad5a-c6cb-4dc3-9d5c-0eb02843e780', choices=[Choice(delta=ChoiceDelta(content='尤其是在', function_call=None, refusal=None, role=None, tool_calls=None), finish_reason=None, index=0, logprobs=None)], created=1737821801, model='deepseek-chat', object='chat.completion.chunk', service_tier=None, system_fingerprint='fp_3a5770e1b4', usage=None)\n",
      "ChatCompletionChunk(id='b637ad5a-c6cb-4dc3-9d5c-0eb02843e780', choices=[Choice(delta=ChoiceDelta(content='小', function_call=None, refusal=None, role=None, tool_calls=None), finish_reason=None, index=0, logprobs=None)], created=1737821801, model='deepseek-chat', object='chat.completion.chunk', service_tier=None, system_fingerprint='fp_3a5770e1b4', usage=None)\n",
      "ChatCompletionChunk(id='b637ad5a-c6cb-4dc3-9d5c-0eb02843e780', choices=[Choice(delta=ChoiceDelta(content='数据集', function_call=None, refusal=None, role=None, tool_calls=None), finish_reason=None, index=0, logprobs=None)], created=1737821801, model='deepseek-chat', object='chat.completion.chunk', service_tier=None, system_fingerprint='fp_3a5770e1b4', usage=None)\n",
      "ChatCompletionChunk(id='b637ad5a-c6cb-4dc3-9d5c-0eb02843e780', choices=[Choice(delta=ChoiceDelta(content='上', function_call=None, refusal=None, role=None, tool_calls=None), finish_reason=None, index=0, logprobs=None)], created=1737821801, model='deepseek-chat', object='chat.completion.chunk', service_tier=None, system_fingerprint='fp_3a5770e1b4', usage=None)\n",
      "ChatCompletionChunk(id='b637ad5a-c6cb-4dc3-9d5c-0eb02843e780', choices=[Choice(delta=ChoiceDelta(content='。\\n\\n', function_call=None, refusal=None, role=None, tool_calls=None), finish_reason=None, index=0, logprobs=None)], created=1737821801, model='deepseek-chat', object='chat.completion.chunk', service_tier=None, system_fingerprint='fp_3a5770e1b4', usage=None)\n",
      "ChatCompletionChunk(id='b637ad5a-c6cb-4dc3-9d5c-0eb02843e780', choices=[Choice(delta=ChoiceDelta(content='###', function_call=None, refusal=None, role=None, tool_calls=None), finish_reason=None, index=0, logprobs=None)], created=1737821801, model='deepseek-chat', object='chat.completion.chunk', service_tier=None, system_fingerprint='fp_3a5770e1b4', usage=None)\n",
      "ChatCompletionChunk(id='b637ad5a-c6cb-4dc3-9d5c-0eb02843e780', choices=[Choice(delta=ChoiceDelta(content=' ', function_call=None, refusal=None, role=None, tool_calls=None), finish_reason=None, index=0, logprobs=None)], created=1737821801, model='deepseek-chat', object='chat.completion.chunk', service_tier=None, system_fingerprint='fp_3a5770e1b4', usage=None)\n",
      "ChatCompletionChunk(id='b637ad5a-c6cb-4dc3-9d5c-0eb02843e780', choices=[Choice(delta=ChoiceDelta(content='2', function_call=None, refusal=None, role=None, tool_calls=None), finish_reason=None, index=0, logprobs=None)], created=1737821801, model='deepseek-chat', object='chat.completion.chunk', service_tier=None, system_fingerprint='fp_3a5770e1b4', usage=None)\n",
      "ChatCompletionChunk(id='b637ad5a-c6cb-4dc3-9d5c-0eb02843e780', choices=[Choice(delta=ChoiceDelta(content='.', function_call=None, refusal=None, role=None, tool_calls=None), finish_reason=None, index=0, logprobs=None)], created=1737821801, model='deepseek-chat', object='chat.completion.chunk', service_tier=None, system_fingerprint='fp_3a5770e1b4', usage=None)\n",
      "ChatCompletionChunk(id='b637ad5a-c6cb-4dc3-9d5c-0eb02843e780', choices=[Choice(delta=ChoiceDelta(content=' **', function_call=None, refusal=None, role=None, tool_calls=None), finish_reason=None, index=0, logprobs=None)], created=1737821801, model='deepseek-chat', object='chat.completion.chunk', service_tier=None, system_fingerprint='fp_3a5770e1b4', usage=None)\n",
      "ChatCompletionChunk(id='b637ad5a-c6cb-4dc3-9d5c-0eb02843e780', choices=[Choice(delta=ChoiceDelta(content='部分', function_call=None, refusal=None, role=None, tool_calls=None), finish_reason=None, index=0, logprobs=None)], created=1737821801, model='deepseek-chat', object='chat.completion.chunk', service_tier=None, system_fingerprint='fp_3a5770e1b4', usage=None)\n",
      "ChatCompletionChunk(id='b637ad5a-c6cb-4dc3-9d5c-0eb02843e780', choices=[Choice(delta=ChoiceDelta(content='微', function_call=None, refusal=None, role=None, tool_calls=None), finish_reason=None, index=0, logprobs=None)], created=1737821801, model='deepseek-chat', object='chat.completion.chunk', service_tier=None, system_fingerprint='fp_3a5770e1b4', usage=None)\n",
      "ChatCompletionChunk(id='b637ad5a-c6cb-4dc3-9d5c-0eb02843e780', choices=[Choice(delta=ChoiceDelta(content='调', function_call=None, refusal=None, role=None, tool_calls=None), finish_reason=None, index=0, logprobs=None)], created=1737821801, model='deepseek-chat', object='chat.completion.chunk', service_tier=None, system_fingerprint='fp_3a5770e1b4', usage=None)\n",
      "ChatCompletionChunk(id='b637ad5a-c6cb-4dc3-9d5c-0eb02843e780', choices=[Choice(delta=ChoiceDelta(content='（', function_call=None, refusal=None, role=None, tool_calls=None), finish_reason=None, index=0, logprobs=None)], created=1737821801, model='deepseek-chat', object='chat.completion.chunk', service_tier=None, system_fingerprint='fp_3a5770e1b4', usage=None)\n",
      "ChatCompletionChunk(id='b637ad5a-c6cb-4dc3-9d5c-0eb02843e780', choices=[Choice(delta=ChoiceDelta(content='Partial', function_call=None, refusal=None, role=None, tool_calls=None), finish_reason=None, index=0, logprobs=None)], created=1737821801, model='deepseek-chat', object='chat.completion.chunk', service_tier=None, system_fingerprint='fp_3a5770e1b4', usage=None)\n",
      "ChatCompletionChunk(id='b637ad5a-c6cb-4dc3-9d5c-0eb02843e780', choices=[Choice(delta=ChoiceDelta(content=' Fine', function_call=None, refusal=None, role=None, tool_calls=None), finish_reason=None, index=0, logprobs=None)], created=1737821801, model='deepseek-chat', object='chat.completion.chunk', service_tier=None, system_fingerprint='fp_3a5770e1b4', usage=None)\n",
      "ChatCompletionChunk(id='b637ad5a-c6cb-4dc3-9d5c-0eb02843e780', choices=[Choice(delta=ChoiceDelta(content='-tuning', function_call=None, refusal=None, role=None, tool_calls=None), finish_reason=None, index=0, logprobs=None)], created=1737821801, model='deepseek-chat', object='chat.completion.chunk', service_tier=None, system_fingerprint='fp_3a5770e1b4', usage=None)\n",
      "ChatCompletionChunk(id='b637ad5a-c6cb-4dc3-9d5c-0eb02843e780', choices=[Choice(delta=ChoiceDelta(content='）', function_call=None, refusal=None, role=None, tool_calls=None), finish_reason=None, index=0, logprobs=None)], created=1737821801, model='deepseek-chat', object='chat.completion.chunk', service_tier=None, system_fingerprint='fp_3a5770e1b4', usage=None)\n",
      "ChatCompletionChunk(id='b637ad5a-c6cb-4dc3-9d5c-0eb02843e780', choices=[Choice(delta=ChoiceDelta(content='**\\n', function_call=None, refusal=None, role=None, tool_calls=None), finish_reason=None, index=0, logprobs=None)], created=1737821801, model='deepseek-chat', object='chat.completion.chunk', service_tier=None, system_fingerprint='fp_3a5770e1b4', usage=None)\n",
      "ChatCompletionChunk(id='b637ad5a-c6cb-4dc3-9d5c-0eb02843e780', choices=[Choice(delta=ChoiceDelta(content='  ', function_call=None, refusal=None, role=None, tool_calls=None), finish_reason=None, index=0, logprobs=None)], created=1737821801, model='deepseek-chat', object='chat.completion.chunk', service_tier=None, system_fingerprint='fp_3a5770e1b4', usage=None)\n",
      "ChatCompletionChunk(id='b637ad5a-c6cb-4dc3-9d5c-0eb02843e780', choices=[Choice(delta=ChoiceDelta(content=' -', function_call=None, refusal=None, role=None, tool_calls=None), finish_reason=None, index=0, logprobs=None)], created=1737821801, model='deepseek-chat', object='chat.completion.chunk', service_tier=None, system_fingerprint='fp_3a5770e1b4', usage=None)\n",
      "ChatCompletionChunk(id='b637ad5a-c6cb-4dc3-9d5c-0eb02843e780', choices=[Choice(delta=ChoiceDelta(content=' **', function_call=None, refusal=None, role=None, tool_calls=None), finish_reason=None, index=0, logprobs=None)], created=1737821801, model='deepseek-chat', object='chat.completion.chunk', service_tier=None, system_fingerprint='fp_3a5770e1b4', usage=None)\n",
      "ChatCompletionChunk(id='b637ad5a-c6cb-4dc3-9d5c-0eb02843e780', choices=[Choice(delta=ChoiceDelta(content='描述', function_call=None, refusal=None, role=None, tool_calls=None), finish_reason=None, index=0, logprobs=None)], created=1737821801, model='deepseek-chat', object='chat.completion.chunk', service_tier=None, system_fingerprint='fp_3a5770e1b4', usage=None)\n",
      "ChatCompletionChunk(id='b637ad5a-c6cb-4dc3-9d5c-0eb02843e780', choices=[Choice(delta=ChoiceDelta(content='**', function_call=None, refusal=None, role=None, tool_calls=None), finish_reason=None, index=0, logprobs=None)], created=1737821801, model='deepseek-chat', object='chat.completion.chunk', service_tier=None, system_fingerprint='fp_3a5770e1b4', usage=None)\n",
      "ChatCompletionChunk(id='b637ad5a-c6cb-4dc3-9d5c-0eb02843e780', choices=[Choice(delta=ChoiceDelta(content='：', function_call=None, refusal=None, role=None, tool_calls=None), finish_reason=None, index=0, logprobs=None)], created=1737821801, model='deepseek-chat', object='chat.completion.chunk', service_tier=None, system_fingerprint='fp_3a5770e1b4', usage=None)\n",
      "ChatCompletionChunk(id='b637ad5a-c6cb-4dc3-9d5c-0eb02843e780', choices=[Choice(delta=ChoiceDelta(content='只', function_call=None, refusal=None, role=None, tool_calls=None), finish_reason=None, index=0, logprobs=None)], created=1737821801, model='deepseek-chat', object='chat.completion.chunk', service_tier=None, system_fingerprint='fp_3a5770e1b4', usage=None)\n",
      "ChatCompletionChunk(id='b637ad5a-c6cb-4dc3-9d5c-0eb02843e780', choices=[Choice(delta=ChoiceDelta(content='对', function_call=None, refusal=None, role=None, tool_calls=None), finish_reason=None, index=0, logprobs=None)], created=1737821801, model='deepseek-chat', object='chat.completion.chunk', service_tier=None, system_fingerprint='fp_3a5770e1b4', usage=None)\n",
      "ChatCompletionChunk(id='b637ad5a-c6cb-4dc3-9d5c-0eb02843e780', choices=[Choice(delta=ChoiceDelta(content='预', function_call=None, refusal=None, role=None, tool_calls=None), finish_reason=None, index=0, logprobs=None)], created=1737821801, model='deepseek-chat', object='chat.completion.chunk', service_tier=None, system_fingerprint='fp_3a5770e1b4', usage=None)\n",
      "ChatCompletionChunk(id='b637ad5a-c6cb-4dc3-9d5c-0eb02843e780', choices=[Choice(delta=ChoiceDelta(content='训练', function_call=None, refusal=None, role=None, tool_calls=None), finish_reason=None, index=0, logprobs=None)], created=1737821801, model='deepseek-chat', object='chat.completion.chunk', service_tier=None, system_fingerprint='fp_3a5770e1b4', usage=None)\n",
      "ChatCompletionChunk(id='b637ad5a-c6cb-4dc3-9d5c-0eb02843e780', choices=[Choice(delta=ChoiceDelta(content='模型', function_call=None, refusal=None, role=None, tool_calls=None), finish_reason=None, index=0, logprobs=None)], created=1737821801, model='deepseek-chat', object='chat.completion.chunk', service_tier=None, system_fingerprint='fp_3a5770e1b4', usage=None)\n",
      "ChatCompletionChunk(id='b637ad5a-c6cb-4dc3-9d5c-0eb02843e780', choices=[Choice(delta=ChoiceDelta(content='的部分', function_call=None, refusal=None, role=None, tool_calls=None), finish_reason=None, index=0, logprobs=None)], created=1737821801, model='deepseek-chat', object='chat.completion.chunk', service_tier=None, system_fingerprint='fp_3a5770e1b4', usage=None)\n",
      "ChatCompletionChunk(id='b637ad5a-c6cb-4dc3-9d5c-0eb02843e780', choices=[Choice(delta=ChoiceDelta(content='层', function_call=None, refusal=None, role=None, tool_calls=None), finish_reason=None, index=0, logprobs=None)], created=1737821801, model='deepseek-chat', object='chat.completion.chunk', service_tier=None, system_fingerprint='fp_3a5770e1b4', usage=None)\n",
      "ChatCompletionChunk(id='b637ad5a-c6cb-4dc3-9d5c-0eb02843e780', choices=[Choice(delta=ChoiceDelta(content='进行', function_call=None, refusal=None, role=None, tool_calls=None), finish_reason=None, index=0, logprobs=None)], created=1737821801, model='deepseek-chat', object='chat.completion.chunk', service_tier=None, system_fingerprint='fp_3a5770e1b4', usage=None)\n",
      "ChatCompletionChunk(id='b637ad5a-c6cb-4dc3-9d5c-0eb02843e780', choices=[Choice(delta=ChoiceDelta(content='微', function_call=None, refusal=None, role=None, tool_calls=None), finish_reason=None, index=0, logprobs=None)], created=1737821801, model='deepseek-chat', object='chat.completion.chunk', service_tier=None, system_fingerprint='fp_3a5770e1b4', usage=None)\n",
      "ChatCompletionChunk(id='b637ad5a-c6cb-4dc3-9d5c-0eb02843e780', choices=[Choice(delta=ChoiceDelta(content='调', function_call=None, refusal=None, role=None, tool_calls=None), finish_reason=None, index=0, logprobs=None)], created=1737821801, model='deepseek-chat', object='chat.completion.chunk', service_tier=None, system_fingerprint='fp_3a5770e1b4', usage=None)\n",
      "ChatCompletionChunk(id='b637ad5a-c6cb-4dc3-9d5c-0eb02843e780', choices=[Choice(delta=ChoiceDelta(content='，', function_call=None, refusal=None, role=None, tool_calls=None), finish_reason=None, index=0, logprobs=None)], created=1737821801, model='deepseek-chat', object='chat.completion.chunk', service_tier=None, system_fingerprint='fp_3a5770e1b4', usage=None)\n",
      "ChatCompletionChunk(id='b637ad5a-c6cb-4dc3-9d5c-0eb02843e780', choices=[Choice(delta=ChoiceDelta(content='通常是', function_call=None, refusal=None, role=None, tool_calls=None), finish_reason=None, index=0, logprobs=None)], created=1737821801, model='deepseek-chat', object='chat.completion.chunk', service_tier=None, system_fingerprint='fp_3a5770e1b4', usage=None)\n",
      "ChatCompletionChunk(id='b637ad5a-c6cb-4dc3-9d5c-0eb02843e780', choices=[Choice(delta=ChoiceDelta(content='最后', function_call=None, refusal=None, role=None, tool_calls=None), finish_reason=None, index=0, logprobs=None)], created=1737821801, model='deepseek-chat', object='chat.completion.chunk', service_tier=None, system_fingerprint='fp_3a5770e1b4', usage=None)\n",
      "ChatCompletionChunk(id='b637ad5a-c6cb-4dc3-9d5c-0eb02843e780', choices=[Choice(delta=ChoiceDelta(content='几', function_call=None, refusal=None, role=None, tool_calls=None), finish_reason=None, index=0, logprobs=None)], created=1737821801, model='deepseek-chat', object='chat.completion.chunk', service_tier=None, system_fingerprint='fp_3a5770e1b4', usage=None)\n",
      "ChatCompletionChunk(id='b637ad5a-c6cb-4dc3-9d5c-0eb02843e780', choices=[Choice(delta=ChoiceDelta(content='层', function_call=None, refusal=None, role=None, tool_calls=None), finish_reason=None, index=0, logprobs=None)], created=1737821801, model='deepseek-chat', object='chat.completion.chunk', service_tier=None, system_fingerprint='fp_3a5770e1b4', usage=None)\n",
      "ChatCompletionChunk(id='b637ad5a-c6cb-4dc3-9d5c-0eb02843e780', choices=[Choice(delta=ChoiceDelta(content='或', function_call=None, refusal=None, role=None, tool_calls=None), finish_reason=None, index=0, logprobs=None)], created=1737821801, model='deepseek-chat', object='chat.completion.chunk', service_tier=None, system_fingerprint='fp_3a5770e1b4', usage=None)\n",
      "ChatCompletionChunk(id='b637ad5a-c6cb-4dc3-9d5c-0eb02843e780', choices=[Choice(delta=ChoiceDelta(content='特定', function_call=None, refusal=None, role=None, tool_calls=None), finish_reason=None, index=0, logprobs=None)], created=1737821801, model='deepseek-chat', object='chat.completion.chunk', service_tier=None, system_fingerprint='fp_3a5770e1b4', usage=None)\n",
      "ChatCompletionChunk(id='b637ad5a-c6cb-4dc3-9d5c-0eb02843e780', choices=[Choice(delta=ChoiceDelta(content='层', function_call=None, refusal=None, role=None, tool_calls=None), finish_reason=None, index=0, logprobs=None)], created=1737821801, model='deepseek-chat', object='chat.completion.chunk', service_tier=None, system_fingerprint='fp_3a5770e1b4', usage=None)\n",
      "ChatCompletionChunk(id='b637ad5a-c6cb-4dc3-9d5c-0eb02843e780', choices=[Choice(delta=ChoiceDelta(content='。\\n', function_call=None, refusal=None, role=None, tool_calls=None), finish_reason=None, index=0, logprobs=None)], created=1737821801, model='deepseek-chat', object='chat.completion.chunk', service_tier=None, system_fingerprint='fp_3a5770e1b4', usage=None)\n",
      "ChatCompletionChunk(id='b637ad5a-c6cb-4dc3-9d5c-0eb02843e780', choices=[Choice(delta=ChoiceDelta(content='  ', function_call=None, refusal=None, role=None, tool_calls=None), finish_reason=None, index=0, logprobs=None)], created=1737821801, model='deepseek-chat', object='chat.completion.chunk', service_tier=None, system_fingerprint='fp_3a5770e1b4', usage=None)\n",
      "ChatCompletionChunk(id='b637ad5a-c6cb-4dc3-9d5c-0eb02843e780', choices=[Choice(delta=ChoiceDelta(content=' -', function_call=None, refusal=None, role=None, tool_calls=None), finish_reason=None, index=0, logprobs=None)], created=1737821801, model='deepseek-chat', object='chat.completion.chunk', service_tier=None, system_fingerprint='fp_3a5770e1b4', usage=None)\n",
      "ChatCompletionChunk(id='b637ad5a-c6cb-4dc3-9d5c-0eb02843e780', choices=[Choice(delta=ChoiceDelta(content=' **', function_call=None, refusal=None, role=None, tool_calls=None), finish_reason=None, index=0, logprobs=None)], created=1737821801, model='deepseek-chat', object='chat.completion.chunk', service_tier=None, system_fingerprint='fp_3a5770e1b4', usage=None)\n",
      "ChatCompletionChunk(id='b637ad5a-c6cb-4dc3-9d5c-0eb02843e780', choices=[Choice(delta=ChoiceDelta(content='优点', function_call=None, refusal=None, role=None, tool_calls=None), finish_reason=None, index=0, logprobs=None)], created=1737821801, model='deepseek-chat', object='chat.completion.chunk', service_tier=None, system_fingerprint='fp_3a5770e1b4', usage=None)\n",
      "ChatCompletionChunk(id='b637ad5a-c6cb-4dc3-9d5c-0eb02843e780', choices=[Choice(delta=ChoiceDelta(content='**', function_call=None, refusal=None, role=None, tool_calls=None), finish_reason=None, index=0, logprobs=None)], created=1737821801, model='deepseek-chat', object='chat.completion.chunk', service_tier=None, system_fingerprint='fp_3a5770e1b4', usage=None)\n",
      "ChatCompletionChunk(id='b637ad5a-c6cb-4dc3-9d5c-0eb02843e780', choices=[Choice(delta=ChoiceDelta(content='：', function_call=None, refusal=None, role=None, tool_calls=None), finish_reason=None, index=0, logprobs=None)], created=1737821801, model='deepseek-chat', object='chat.completion.chunk', service_tier=None, system_fingerprint='fp_3a5770e1b4', usage=None)\n",
      "ChatCompletionChunk(id='b637ad5a-c6cb-4dc3-9d5c-0eb02843e780', choices=[Choice(delta=ChoiceDelta(content='减少', function_call=None, refusal=None, role=None, tool_calls=None), finish_reason=None, index=0, logprobs=None)], created=1737821801, model='deepseek-chat', object='chat.completion.chunk', service_tier=None, system_fingerprint='fp_3a5770e1b4', usage=None)\n",
      "ChatCompletionChunk(id='b637ad5a-c6cb-4dc3-9d5c-0eb02843e780', choices=[Choice(delta=ChoiceDelta(content='计算', function_call=None, refusal=None, role=None, tool_calls=None), finish_reason=None, index=0, logprobs=None)], created=1737821801, model='deepseek-chat', object='chat.completion.chunk', service_tier=None, system_fingerprint='fp_3a5770e1b4', usage=None)\n",
      "ChatCompletionChunk(id='b637ad5a-c6cb-4dc3-9d5c-0eb02843e780', choices=[Choice(delta=ChoiceDelta(content='资源', function_call=None, refusal=None, role=None, tool_calls=None), finish_reason=None, index=0, logprobs=None)], created=1737821801, model='deepseek-chat', object='chat.completion.chunk', service_tier=None, system_fingerprint='fp_3a5770e1b4', usage=None)\n",
      "ChatCompletionChunk(id='b637ad5a-c6cb-4dc3-9d5c-0eb02843e780', choices=[Choice(delta=ChoiceDelta(content='消耗', function_call=None, refusal=None, role=None, tool_calls=None), finish_reason=None, index=0, logprobs=None)], created=1737821801, model='deepseek-chat', object='chat.completion.chunk', service_tier=None, system_fingerprint='fp_3a5770e1b4', usage=None)\n",
      "ChatCompletionChunk(id='b637ad5a-c6cb-4dc3-9d5c-0eb02843e780', choices=[Choice(delta=ChoiceDelta(content='，', function_call=None, refusal=None, role=None, tool_calls=None), finish_reason=None, index=0, logprobs=None)], created=1737821801, model='deepseek-chat', object='chat.completion.chunk', service_tier=None, system_fingerprint='fp_3a5770e1b4', usage=None)\n",
      "ChatCompletionChunk(id='b637ad5a-c6cb-4dc3-9d5c-0eb02843e780', choices=[Choice(delta=ChoiceDelta(content='降低', function_call=None, refusal=None, role=None, tool_calls=None), finish_reason=None, index=0, logprobs=None)], created=1737821801, model='deepseek-chat', object='chat.completion.chunk', service_tier=None, system_fingerprint='fp_3a5770e1b4', usage=None)\n",
      "ChatCompletionChunk(id='b637ad5a-c6cb-4dc3-9d5c-0eb02843e780', choices=[Choice(delta=ChoiceDelta(content='过', function_call=None, refusal=None, role=None, tool_calls=None), finish_reason=None, index=0, logprobs=None)], created=1737821801, model='deepseek-chat', object='chat.completion.chunk', service_tier=None, system_fingerprint='fp_3a5770e1b4', usage=None)\n",
      "ChatCompletionChunk(id='b637ad5a-c6cb-4dc3-9d5c-0eb02843e780', choices=[Choice(delta=ChoiceDelta(content='拟合', function_call=None, refusal=None, role=None, tool_calls=None), finish_reason=None, index=0, logprobs=None)], created=1737821801, model='deepseek-chat', object='chat.completion.chunk', service_tier=None, system_fingerprint='fp_3a5770e1b4', usage=None)\n",
      "ChatCompletionChunk(id='b637ad5a-c6cb-4dc3-9d5c-0eb02843e780', choices=[Choice(delta=ChoiceDelta(content='风险', function_call=None, refusal=None, role=None, tool_calls=None), finish_reason=None, index=0, logprobs=None)], created=1737821801, model='deepseek-chat', object='chat.completion.chunk', service_tier=None, system_fingerprint='fp_3a5770e1b4', usage=None)\n",
      "ChatCompletionChunk(id='b637ad5a-c6cb-4dc3-9d5c-0eb02843e780', choices=[Choice(delta=ChoiceDelta(content='。\\n', function_call=None, refusal=None, role=None, tool_calls=None), finish_reason=None, index=0, logprobs=None)], created=1737821801, model='deepseek-chat', object='chat.completion.chunk', service_tier=None, system_fingerprint='fp_3a5770e1b4', usage=None)\n",
      "ChatCompletionChunk(id='b637ad5a-c6cb-4dc3-9d5c-0eb02843e780', choices=[Choice(delta=ChoiceDelta(content='  ', function_call=None, refusal=None, role=None, tool_calls=None), finish_reason=None, index=0, logprobs=None)], created=1737821801, model='deepseek-chat', object='chat.completion.chunk', service_tier=None, system_fingerprint='fp_3a5770e1b4', usage=None)\n",
      "ChatCompletionChunk(id='b637ad5a-c6cb-4dc3-9d5c-0eb02843e780', choices=[Choice(delta=ChoiceDelta(content=' -', function_call=None, refusal=None, role=None, tool_calls=None), finish_reason=None, index=0, logprobs=None)], created=1737821801, model='deepseek-chat', object='chat.completion.chunk', service_tier=None, system_fingerprint='fp_3a5770e1b4', usage=None)\n",
      "ChatCompletionChunk(id='b637ad5a-c6cb-4dc3-9d5c-0eb02843e780', choices=[Choice(delta=ChoiceDelta(content=' **', function_call=None, refusal=None, role=None, tool_calls=None), finish_reason=None, index=0, logprobs=None)], created=1737821801, model='deepseek-chat', object='chat.completion.chunk', service_tier=None, system_fingerprint='fp_3a5770e1b4', usage=None)\n",
      "ChatCompletionChunk(id='b637ad5a-c6cb-4dc3-9d5c-0eb02843e780', choices=[Choice(delta=ChoiceDelta(content='缺点', function_call=None, refusal=None, role=None, tool_calls=None), finish_reason=None, index=0, logprobs=None)], created=1737821801, model='deepseek-chat', object='chat.completion.chunk', service_tier=None, system_fingerprint='fp_3a5770e1b4', usage=None)\n",
      "ChatCompletionChunk(id='b637ad5a-c6cb-4dc3-9d5c-0eb02843e780', choices=[Choice(delta=ChoiceDelta(content='**', function_call=None, refusal=None, role=None, tool_calls=None), finish_reason=None, index=0, logprobs=None)], created=1737821801, model='deepseek-chat', object='chat.completion.chunk', service_tier=None, system_fingerprint='fp_3a5770e1b4', usage=None)\n",
      "ChatCompletionChunk(id='b637ad5a-c6cb-4dc3-9d5c-0eb02843e780', choices=[Choice(delta=ChoiceDelta(content='：', function_call=None, refusal=None, role=None, tool_calls=None), finish_reason=None, index=0, logprobs=None)], created=1737821801, model='deepseek-chat', object='chat.completion.chunk', service_tier=None, system_fingerprint='fp_3a5770e1b4', usage=None)\n",
      "ChatCompletionChunk(id='b637ad5a-c6cb-4dc3-9d5c-0eb02843e780', choices=[Choice(delta=ChoiceDelta(content='可能', function_call=None, refusal=None, role=None, tool_calls=None), finish_reason=None, index=0, logprobs=None)], created=1737821801, model='deepseek-chat', object='chat.completion.chunk', service_tier=None, system_fingerprint='fp_3a5770e1b4', usage=None)\n",
      "ChatCompletionChunk(id='b637ad5a-c6cb-4dc3-9d5c-0eb02843e780', choices=[Choice(delta=ChoiceDelta(content='无法', function_call=None, refusal=None, role=None, tool_calls=None), finish_reason=None, index=0, logprobs=None)], created=1737821801, model='deepseek-chat', object='chat.completion.chunk', service_tier=None, system_fingerprint='fp_3a5770e1b4', usage=None)\n",
      "ChatCompletionChunk(id='b637ad5a-c6cb-4dc3-9d5c-0eb02843e780', choices=[Choice(delta=ChoiceDelta(content='充分利用', function_call=None, refusal=None, role=None, tool_calls=None), finish_reason=None, index=0, logprobs=None)], created=1737821801, model='deepseek-chat', object='chat.completion.chunk', service_tier=None, system_fingerprint='fp_3a5770e1b4', usage=None)\n",
      "ChatCompletionChunk(id='b637ad5a-c6cb-4dc3-9d5c-0eb02843e780', choices=[Choice(delta=ChoiceDelta(content='预', function_call=None, refusal=None, role=None, tool_calls=None), finish_reason=None, index=0, logprobs=None)], created=1737821801, model='deepseek-chat', object='chat.completion.chunk', service_tier=None, system_fingerprint='fp_3a5770e1b4', usage=None)\n",
      "ChatCompletionChunk(id='b637ad5a-c6cb-4dc3-9d5c-0eb02843e780', choices=[Choice(delta=ChoiceDelta(content='训练', function_call=None, refusal=None, role=None, tool_calls=None), finish_reason=None, index=0, logprobs=None)], created=1737821801, model='deepseek-chat', object='chat.completion.chunk', service_tier=None, system_fingerprint='fp_3a5770e1b4', usage=None)\n",
      "ChatCompletionChunk(id='b637ad5a-c6cb-4dc3-9d5c-0eb02843e780', choices=[Choice(delta=ChoiceDelta(content='模型', function_call=None, refusal=None, role=None, tool_calls=None), finish_reason=None, index=0, logprobs=None)], created=1737821801, model='deepseek-chat', object='chat.completion.chunk', service_tier=None, system_fingerprint='fp_3a5770e1b4', usage=None)\n",
      "ChatCompletionChunk(id='b637ad5a-c6cb-4dc3-9d5c-0eb02843e780', choices=[Choice(delta=ChoiceDelta(content='的所有', function_call=None, refusal=None, role=None, tool_calls=None), finish_reason=None, index=0, logprobs=None)], created=1737821801, model='deepseek-chat', object='chat.completion.chunk', service_tier=None, system_fingerprint='fp_3a5770e1b4', usage=None)\n",
      "ChatCompletionChunk(id='b637ad5a-c6cb-4dc3-9d5c-0eb02843e780', choices=[Choice(delta=ChoiceDelta(content='知识', function_call=None, refusal=None, role=None, tool_calls=None), finish_reason=None, index=0, logprobs=None)], created=1737821801, model='deepseek-chat', object='chat.completion.chunk', service_tier=None, system_fingerprint='fp_3a5770e1b4', usage=None)\n",
      "ChatCompletionChunk(id='b637ad5a-c6cb-4dc3-9d5c-0eb02843e780', choices=[Choice(delta=ChoiceDelta(content='。\\n\\n', function_call=None, refusal=None, role=None, tool_calls=None), finish_reason=None, index=0, logprobs=None)], created=1737821801, model='deepseek-chat', object='chat.completion.chunk', service_tier=None, system_fingerprint='fp_3a5770e1b4', usage=None)\n",
      "ChatCompletionChunk(id='b637ad5a-c6cb-4dc3-9d5c-0eb02843e780', choices=[Choice(delta=ChoiceDelta(content='###', function_call=None, refusal=None, role=None, tool_calls=None), finish_reason=None, index=0, logprobs=None)], created=1737821801, model='deepseek-chat', object='chat.completion.chunk', service_tier=None, system_fingerprint='fp_3a5770e1b4', usage=None)\n",
      "ChatCompletionChunk(id='b637ad5a-c6cb-4dc3-9d5c-0eb02843e780', choices=[Choice(delta=ChoiceDelta(content=' ', function_call=None, refusal=None, role=None, tool_calls=None), finish_reason=None, index=0, logprobs=None)], created=1737821801, model='deepseek-chat', object='chat.completion.chunk', service_tier=None, system_fingerprint='fp_3a5770e1b4', usage=None)\n",
      "ChatCompletionChunk(id='b637ad5a-c6cb-4dc3-9d5c-0eb02843e780', choices=[Choice(delta=ChoiceDelta(content='3', function_call=None, refusal=None, role=None, tool_calls=None), finish_reason=None, index=0, logprobs=None)], created=1737821801, model='deepseek-chat', object='chat.completion.chunk', service_tier=None, system_fingerprint='fp_3a5770e1b4', usage=None)\n",
      "ChatCompletionChunk(id='b637ad5a-c6cb-4dc3-9d5c-0eb02843e780', choices=[Choice(delta=ChoiceDelta(content='.', function_call=None, refusal=None, role=None, tool_calls=None), finish_reason=None, index=0, logprobs=None)], created=1737821801, model='deepseek-chat', object='chat.completion.chunk', service_tier=None, system_fingerprint='fp_3a5770e1b4', usage=None)\n",
      "ChatCompletionChunk(id='b637ad5a-c6cb-4dc3-9d5c-0eb02843e780', choices=[Choice(delta=ChoiceDelta(content=' **', function_call=None, refusal=None, role=None, tool_calls=None), finish_reason=None, index=0, logprobs=None)], created=1737821801, model='deepseek-chat', object='chat.completion.chunk', service_tier=None, system_fingerprint='fp_3a5770e1b4', usage=None)\n",
      "ChatCompletionChunk(id='b637ad5a-c6cb-4dc3-9d5c-0eb02843e780', choices=[Choice(delta=ChoiceDelta(content='冻结', function_call=None, refusal=None, role=None, tool_calls=None), finish_reason=None, index=0, logprobs=None)], created=1737821801, model='deepseek-chat', object='chat.completion.chunk', service_tier=None, system_fingerprint='fp_3a5770e1b4', usage=None)\n",
      "ChatCompletionChunk(id='b637ad5a-c6cb-4dc3-9d5c-0eb02843e780', choices=[Choice(delta=ChoiceDelta(content='微', function_call=None, refusal=None, role=None, tool_calls=None), finish_reason=None, index=0, logprobs=None)], created=1737821801, model='deepseek-chat', object='chat.completion.chunk', service_tier=None, system_fingerprint='fp_3a5770e1b4', usage=None)\n",
      "ChatCompletionChunk(id='b637ad5a-c6cb-4dc3-9d5c-0eb02843e780', choices=[Choice(delta=ChoiceDelta(content='调', function_call=None, refusal=None, role=None, tool_calls=None), finish_reason=None, index=0, logprobs=None)], created=1737821801, model='deepseek-chat', object='chat.completion.chunk', service_tier=None, system_fingerprint='fp_3a5770e1b4', usage=None)\n",
      "ChatCompletionChunk(id='b637ad5a-c6cb-4dc3-9d5c-0eb02843e780', choices=[Choice(delta=ChoiceDelta(content='（', function_call=None, refusal=None, role=None, tool_calls=None), finish_reason=None, index=0, logprobs=None)], created=1737821801, model='deepseek-chat', object='chat.completion.chunk', service_tier=None, system_fingerprint='fp_3a5770e1b4', usage=None)\n",
      "ChatCompletionChunk(id='b637ad5a-c6cb-4dc3-9d5c-0eb02843e780', choices=[Choice(delta=ChoiceDelta(content='Free', function_call=None, refusal=None, role=None, tool_calls=None), finish_reason=None, index=0, logprobs=None)], created=1737821801, model='deepseek-chat', object='chat.completion.chunk', service_tier=None, system_fingerprint='fp_3a5770e1b4', usage=None)\n",
      "ChatCompletionChunk(id='b637ad5a-c6cb-4dc3-9d5c-0eb02843e780', choices=[Choice(delta=ChoiceDelta(content='ze', function_call=None, refusal=None, role=None, tool_calls=None), finish_reason=None, index=0, logprobs=None)], created=1737821801, model='deepseek-chat', object='chat.completion.chunk', service_tier=None, system_fingerprint='fp_3a5770e1b4', usage=None)\n",
      "ChatCompletionChunk(id='b637ad5a-c6cb-4dc3-9d5c-0eb02843e780', choices=[Choice(delta=ChoiceDelta(content=' Fine', function_call=None, refusal=None, role=None, tool_calls=None), finish_reason=None, index=0, logprobs=None)], created=1737821801, model='deepseek-chat', object='chat.completion.chunk', service_tier=None, system_fingerprint='fp_3a5770e1b4', usage=None)\n",
      "ChatCompletionChunk(id='b637ad5a-c6cb-4dc3-9d5c-0eb02843e780', choices=[Choice(delta=ChoiceDelta(content='-tuning', function_call=None, refusal=None, role=None, tool_calls=None), finish_reason=None, index=0, logprobs=None)], created=1737821801, model='deepseek-chat', object='chat.completion.chunk', service_tier=None, system_fingerprint='fp_3a5770e1b4', usage=None)\n",
      "ChatCompletionChunk(id='b637ad5a-c6cb-4dc3-9d5c-0eb02843e780', choices=[Choice(delta=ChoiceDelta(content='）', function_call=None, refusal=None, role=None, tool_calls=None), finish_reason=None, index=0, logprobs=None)], created=1737821801, model='deepseek-chat', object='chat.completion.chunk', service_tier=None, system_fingerprint='fp_3a5770e1b4', usage=None)\n",
      "ChatCompletionChunk(id='b637ad5a-c6cb-4dc3-9d5c-0eb02843e780', choices=[Choice(delta=ChoiceDelta(content='**\\n', function_call=None, refusal=None, role=None, tool_calls=None), finish_reason=None, index=0, logprobs=None)], created=1737821801, model='deepseek-chat', object='chat.completion.chunk', service_tier=None, system_fingerprint='fp_3a5770e1b4', usage=None)\n",
      "ChatCompletionChunk(id='b637ad5a-c6cb-4dc3-9d5c-0eb02843e780', choices=[Choice(delta=ChoiceDelta(content='  ', function_call=None, refusal=None, role=None, tool_calls=None), finish_reason=None, index=0, logprobs=None)], created=1737821801, model='deepseek-chat', object='chat.completion.chunk', service_tier=None, system_fingerprint='fp_3a5770e1b4', usage=None)\n",
      "ChatCompletionChunk(id='b637ad5a-c6cb-4dc3-9d5c-0eb02843e780', choices=[Choice(delta=ChoiceDelta(content=' -', function_call=None, refusal=None, role=None, tool_calls=None), finish_reason=None, index=0, logprobs=None)], created=1737821801, model='deepseek-chat', object='chat.completion.chunk', service_tier=None, system_fingerprint='fp_3a5770e1b4', usage=None)\n",
      "ChatCompletionChunk(id='b637ad5a-c6cb-4dc3-9d5c-0eb02843e780', choices=[Choice(delta=ChoiceDelta(content=' **', function_call=None, refusal=None, role=None, tool_calls=None), finish_reason=None, index=0, logprobs=None)], created=1737821801, model='deepseek-chat', object='chat.completion.chunk', service_tier=None, system_fingerprint='fp_3a5770e1b4', usage=None)\n",
      "ChatCompletionChunk(id='b637ad5a-c6cb-4dc3-9d5c-0eb02843e780', choices=[Choice(delta=ChoiceDelta(content='描述', function_call=None, refusal=None, role=None, tool_calls=None), finish_reason=None, index=0, logprobs=None)], created=1737821801, model='deepseek-chat', object='chat.completion.chunk', service_tier=None, system_fingerprint='fp_3a5770e1b4', usage=None)\n",
      "ChatCompletionChunk(id='b637ad5a-c6cb-4dc3-9d5c-0eb02843e780', choices=[Choice(delta=ChoiceDelta(content='**', function_call=None, refusal=None, role=None, tool_calls=None), finish_reason=None, index=0, logprobs=None)], created=1737821801, model='deepseek-chat', object='chat.completion.chunk', service_tier=None, system_fingerprint='fp_3a5770e1b4', usage=None)\n",
      "ChatCompletionChunk(id='b637ad5a-c6cb-4dc3-9d5c-0eb02843e780', choices=[Choice(delta=ChoiceDelta(content='：', function_call=None, refusal=None, role=None, tool_calls=None), finish_reason=None, index=0, logprobs=None)], created=1737821801, model='deepseek-chat', object='chat.completion.chunk', service_tier=None, system_fingerprint='fp_3a5770e1b4', usage=None)\n",
      "ChatCompletionChunk(id='b637ad5a-c6cb-4dc3-9d5c-0eb02843e780', choices=[Choice(delta=ChoiceDelta(content='冻结', function_call=None, refusal=None, role=None, tool_calls=None), finish_reason=None, index=0, logprobs=None)], created=1737821801, model='deepseek-chat', object='chat.completion.chunk', service_tier=None, system_fingerprint='fp_3a5770e1b4', usage=None)\n",
      "ChatCompletionChunk(id='b637ad5a-c6cb-4dc3-9d5c-0eb02843e780', choices=[Choice(delta=ChoiceDelta(content='预', function_call=None, refusal=None, role=None, tool_calls=None), finish_reason=None, index=0, logprobs=None)], created=1737821801, model='deepseek-chat', object='chat.completion.chunk', service_tier=None, system_fingerprint='fp_3a5770e1b4', usage=None)\n",
      "ChatCompletionChunk(id='b637ad5a-c6cb-4dc3-9d5c-0eb02843e780', choices=[Choice(delta=ChoiceDelta(content='训练', function_call=None, refusal=None, role=None, tool_calls=None), finish_reason=None, index=0, logprobs=None)], created=1737821801, model='deepseek-chat', object='chat.completion.chunk', service_tier=None, system_fingerprint='fp_3a5770e1b4', usage=None)\n",
      "ChatCompletionChunk(id='b637ad5a-c6cb-4dc3-9d5c-0eb02843e780', choices=[Choice(delta=ChoiceDelta(content='模型', function_call=None, refusal=None, role=None, tool_calls=None), finish_reason=None, index=0, logprobs=None)], created=1737821801, model='deepseek-chat', object='chat.completion.chunk', service_tier=None, system_fingerprint='fp_3a5770e1b4', usage=None)\n",
      "ChatCompletionChunk(id='b637ad5a-c6cb-4dc3-9d5c-0eb02843e780', choices=[Choice(delta=ChoiceDelta(content='的大部分', function_call=None, refusal=None, role=None, tool_calls=None), finish_reason=None, index=0, logprobs=None)], created=1737821801, model='deepseek-chat', object='chat.completion.chunk', service_tier=None, system_fingerprint='fp_3a5770e1b4', usage=None)\n",
      "ChatCompletionChunk(id='b637ad5a-c6cb-4dc3-9d5c-0eb02843e780', choices=[Choice(delta=ChoiceDelta(content='参数', function_call=None, refusal=None, role=None, tool_calls=None), finish_reason=None, index=0, logprobs=None)], created=1737821801, model='deepseek-chat', object='chat.completion.chunk', service_tier=None, system_fingerprint='fp_3a5770e1b4', usage=None)\n",
      "ChatCompletionChunk(id='b637ad5a-c6cb-4dc3-9d5c-0eb02843e780', choices=[Choice(delta=ChoiceDelta(content='，', function_call=None, refusal=None, role=None, tool_calls=None), finish_reason=None, index=0, logprobs=None)], created=1737821801, model='deepseek-chat', object='chat.completion.chunk', service_tier=None, system_fingerprint='fp_3a5770e1b4', usage=None)\n",
      "ChatCompletionChunk(id='b637ad5a-c6cb-4dc3-9d5c-0eb02843e780', choices=[Choice(delta=ChoiceDelta(content='只', function_call=None, refusal=None, role=None, tool_calls=None), finish_reason=None, index=0, logprobs=None)], created=1737821801, model='deepseek-chat', object='chat.completion.chunk', service_tier=None, system_fingerprint='fp_3a5770e1b4', usage=None)\n",
      "ChatCompletionChunk(id='b637ad5a-c6cb-4dc3-9d5c-0eb02843e780', choices=[Choice(delta=ChoiceDelta(content='微', function_call=None, refusal=None, role=None, tool_calls=None), finish_reason=None, index=0, logprobs=None)], created=1737821801, model='deepseek-chat', object='chat.completion.chunk', service_tier=None, system_fingerprint='fp_3a5770e1b4', usage=None)\n",
      "ChatCompletionChunk(id='b637ad5a-c6cb-4dc3-9d5c-0eb02843e780', choices=[Choice(delta=ChoiceDelta(content='调', function_call=None, refusal=None, role=None, tool_calls=None), finish_reason=None, index=0, logprobs=None)], created=1737821801, model='deepseek-chat', object='chat.completion.chunk', service_tier=None, system_fingerprint='fp_3a5770e1b4', usage=None)\n",
      "ChatCompletionChunk(id='b637ad5a-c6cb-4dc3-9d5c-0eb02843e780', choices=[Choice(delta=ChoiceDelta(content='最后', function_call=None, refusal=None, role=None, tool_calls=None), finish_reason=None, index=0, logprobs=None)], created=1737821801, model='deepseek-chat', object='chat.completion.chunk', service_tier=None, system_fingerprint='fp_3a5770e1b4', usage=None)\n",
      "ChatCompletionChunk(id='b637ad5a-c6cb-4dc3-9d5c-0eb02843e780', choices=[Choice(delta=ChoiceDelta(content='几', function_call=None, refusal=None, role=None, tool_calls=None), finish_reason=None, index=0, logprobs=None)], created=1737821801, model='deepseek-chat', object='chat.completion.chunk', service_tier=None, system_fingerprint='fp_3a5770e1b4', usage=None)\n",
      "ChatCompletionChunk(id='b637ad5a-c6cb-4dc3-9d5c-0eb02843e780', choices=[Choice(delta=ChoiceDelta(content='层', function_call=None, refusal=None, role=None, tool_calls=None), finish_reason=None, index=0, logprobs=None)], created=1737821801, model='deepseek-chat', object='chat.completion.chunk', service_tier=None, system_fingerprint='fp_3a5770e1b4', usage=None)\n",
      "ChatCompletionChunk(id='b637ad5a-c6cb-4dc3-9d5c-0eb02843e780', choices=[Choice(delta=ChoiceDelta(content='或', function_call=None, refusal=None, role=None, tool_calls=None), finish_reason=None, index=0, logprobs=None)], created=1737821801, model='deepseek-chat', object='chat.completion.chunk', service_tier=None, system_fingerprint='fp_3a5770e1b4', usage=None)\n",
      "ChatCompletionChunk(id='b637ad5a-c6cb-4dc3-9d5c-0eb02843e780', choices=[Choice(delta=ChoiceDelta(content='特定', function_call=None, refusal=None, role=None, tool_calls=None), finish_reason=None, index=0, logprobs=None)], created=1737821801, model='deepseek-chat', object='chat.completion.chunk', service_tier=None, system_fingerprint='fp_3a5770e1b4', usage=None)\n",
      "ChatCompletionChunk(id='b637ad5a-c6cb-4dc3-9d5c-0eb02843e780', choices=[Choice(delta=ChoiceDelta(content='层', function_call=None, refusal=None, role=None, tool_calls=None), finish_reason=None, index=0, logprobs=None)], created=1737821801, model='deepseek-chat', object='chat.completion.chunk', service_tier=None, system_fingerprint='fp_3a5770e1b4', usage=None)\n",
      "ChatCompletionChunk(id='b637ad5a-c6cb-4dc3-9d5c-0eb02843e780', choices=[Choice(delta=ChoiceDelta(content='。\\n', function_call=None, refusal=None, role=None, tool_calls=None), finish_reason=None, index=0, logprobs=None)], created=1737821801, model='deepseek-chat', object='chat.completion.chunk', service_tier=None, system_fingerprint='fp_3a5770e1b4', usage=None)\n",
      "ChatCompletionChunk(id='b637ad5a-c6cb-4dc3-9d5c-0eb02843e780', choices=[Choice(delta=ChoiceDelta(content='  ', function_call=None, refusal=None, role=None, tool_calls=None), finish_reason=None, index=0, logprobs=None)], created=1737821801, model='deepseek-chat', object='chat.completion.chunk', service_tier=None, system_fingerprint='fp_3a5770e1b4', usage=None)\n",
      "ChatCompletionChunk(id='b637ad5a-c6cb-4dc3-9d5c-0eb02843e780', choices=[Choice(delta=ChoiceDelta(content=' -', function_call=None, refusal=None, role=None, tool_calls=None), finish_reason=None, index=0, logprobs=None)], created=1737821801, model='deepseek-chat', object='chat.completion.chunk', service_tier=None, system_fingerprint='fp_3a5770e1b4', usage=None)\n",
      "ChatCompletionChunk(id='b637ad5a-c6cb-4dc3-9d5c-0eb02843e780', choices=[Choice(delta=ChoiceDelta(content=' **', function_call=None, refusal=None, role=None, tool_calls=None), finish_reason=None, index=0, logprobs=None)], created=1737821801, model='deepseek-chat', object='chat.completion.chunk', service_tier=None, system_fingerprint='fp_3a5770e1b4', usage=None)\n",
      "ChatCompletionChunk(id='b637ad5a-c6cb-4dc3-9d5c-0eb02843e780', choices=[Choice(delta=ChoiceDelta(content='优点', function_call=None, refusal=None, role=None, tool_calls=None), finish_reason=None, index=0, logprobs=None)], created=1737821801, model='deepseek-chat', object='chat.completion.chunk', service_tier=None, system_fingerprint='fp_3a5770e1b4', usage=None)\n",
      "ChatCompletionChunk(id='b637ad5a-c6cb-4dc3-9d5c-0eb02843e780', choices=[Choice(delta=ChoiceDelta(content='**', function_call=None, refusal=None, role=None, tool_calls=None), finish_reason=None, index=0, logprobs=None)], created=1737821801, model='deepseek-chat', object='chat.completion.chunk', service_tier=None, system_fingerprint='fp_3a5770e1b4', usage=None)\n",
      "ChatCompletionChunk(id='b637ad5a-c6cb-4dc3-9d5c-0eb02843e780', choices=[Choice(delta=ChoiceDelta(content='：', function_call=None, refusal=None, role=None, tool_calls=None), finish_reason=None, index=0, logprobs=None)], created=1737821801, model='deepseek-chat', object='chat.completion.chunk', service_tier=None, system_fingerprint='fp_3a5770e1b4', usage=None)\n",
      "ChatCompletionChunk(id='b637ad5a-c6cb-4dc3-9d5c-0eb02843e780', choices=[Choice(delta=ChoiceDelta(content='计算', function_call=None, refusal=None, role=None, tool_calls=None), finish_reason=None, index=0, logprobs=None)], created=1737821801, model='deepseek-chat', object='chat.completion.chunk', service_tier=None, system_fingerprint='fp_3a5770e1b4', usage=None)\n",
      "ChatCompletionChunk(id='b637ad5a-c6cb-4dc3-9d5c-0eb02843e780', choices=[Choice(delta=ChoiceDelta(content='资源', function_call=None, refusal=None, role=None, tool_calls=None), finish_reason=None, index=0, logprobs=None)], created=1737821801, model='deepseek-chat', object='chat.completion.chunk', service_tier=None, system_fingerprint='fp_3a5770e1b4', usage=None)\n",
      "ChatCompletionChunk(id='b637ad5a-c6cb-4dc3-9d5c-0eb02843e780', choices=[Choice(delta=ChoiceDelta(content='消耗', function_call=None, refusal=None, role=None, tool_calls=None), finish_reason=None, index=0, logprobs=None)], created=1737821801, model='deepseek-chat', object='chat.completion.chunk', service_tier=None, system_fingerprint='fp_3a5770e1b4', usage=None)\n",
      "ChatCompletionChunk(id='b637ad5a-c6cb-4dc3-9d5c-0eb02843e780', choices=[Choice(delta=ChoiceDelta(content='小', function_call=None, refusal=None, role=None, tool_calls=None), finish_reason=None, index=0, logprobs=None)], created=1737821801, model='deepseek-chat', object='chat.completion.chunk', service_tier=None, system_fingerprint='fp_3a5770e1b4', usage=None)\n",
      "ChatCompletionChunk(id='b637ad5a-c6cb-4dc3-9d5c-0eb02843e780', choices=[Choice(delta=ChoiceDelta(content='，', function_call=None, refusal=None, role=None, tool_calls=None), finish_reason=None, index=0, logprobs=None)], created=1737821801, model='deepseek-chat', object='chat.completion.chunk', service_tier=None, system_fingerprint='fp_3a5770e1b4', usage=None)\n",
      "ChatCompletionChunk(id='b637ad5a-c6cb-4dc3-9d5c-0eb02843e780', choices=[Choice(delta=ChoiceDelta(content='适合', function_call=None, refusal=None, role=None, tool_calls=None), finish_reason=None, index=0, logprobs=None)], created=1737821801, model='deepseek-chat', object='chat.completion.chunk', service_tier=None, system_fingerprint='fp_3a5770e1b4', usage=None)\n",
      "ChatCompletionChunk(id='b637ad5a-c6cb-4dc3-9d5c-0eb02843e780', choices=[Choice(delta=ChoiceDelta(content='小', function_call=None, refusal=None, role=None, tool_calls=None), finish_reason=None, index=0, logprobs=None)], created=1737821801, model='deepseek-chat', object='chat.completion.chunk', service_tier=None, system_fingerprint='fp_3a5770e1b4', usage=None)\n",
      "ChatCompletionChunk(id='b637ad5a-c6cb-4dc3-9d5c-0eb02843e780', choices=[Choice(delta=ChoiceDelta(content='数据集', function_call=None, refusal=None, role=None, tool_calls=None), finish_reason=None, index=0, logprobs=None)], created=1737821801, model='deepseek-chat', object='chat.completion.chunk', service_tier=None, system_fingerprint='fp_3a5770e1b4', usage=None)\n",
      "ChatCompletionChunk(id='b637ad5a-c6cb-4dc3-9d5c-0eb02843e780', choices=[Choice(delta=ChoiceDelta(content='。\\n', function_call=None, refusal=None, role=None, tool_calls=None), finish_reason=None, index=0, logprobs=None)], created=1737821801, model='deepseek-chat', object='chat.completion.chunk', service_tier=None, system_fingerprint='fp_3a5770e1b4', usage=None)\n",
      "ChatCompletionChunk(id='b637ad5a-c6cb-4dc3-9d5c-0eb02843e780', choices=[Choice(delta=ChoiceDelta(content='  ', function_call=None, refusal=None, role=None, tool_calls=None), finish_reason=None, index=0, logprobs=None)], created=1737821801, model='deepseek-chat', object='chat.completion.chunk', service_tier=None, system_fingerprint='fp_3a5770e1b4', usage=None)\n",
      "ChatCompletionChunk(id='b637ad5a-c6cb-4dc3-9d5c-0eb02843e780', choices=[Choice(delta=ChoiceDelta(content=' -', function_call=None, refusal=None, role=None, tool_calls=None), finish_reason=None, index=0, logprobs=None)], created=1737821801, model='deepseek-chat', object='chat.completion.chunk', service_tier=None, system_fingerprint='fp_3a5770e1b4', usage=None)\n",
      "ChatCompletionChunk(id='b637ad5a-c6cb-4dc3-9d5c-0eb02843e780', choices=[Choice(delta=ChoiceDelta(content=' **', function_call=None, refusal=None, role=None, tool_calls=None), finish_reason=None, index=0, logprobs=None)], created=1737821801, model='deepseek-chat', object='chat.completion.chunk', service_tier=None, system_fingerprint='fp_3a5770e1b4', usage=None)\n",
      "ChatCompletionChunk(id='b637ad5a-c6cb-4dc3-9d5c-0eb02843e780', choices=[Choice(delta=ChoiceDelta(content='缺点', function_call=None, refusal=None, role=None, tool_calls=None), finish_reason=None, index=0, logprobs=None)], created=1737821801, model='deepseek-chat', object='chat.completion.chunk', service_tier=None, system_fingerprint='fp_3a5770e1b4', usage=None)\n",
      "ChatCompletionChunk(id='b637ad5a-c6cb-4dc3-9d5c-0eb02843e780', choices=[Choice(delta=ChoiceDelta(content='**', function_call=None, refusal=None, role=None, tool_calls=None), finish_reason=None, index=0, logprobs=None)], created=1737821801, model='deepseek-chat', object='chat.completion.chunk', service_tier=None, system_fingerprint='fp_3a5770e1b4', usage=None)\n",
      "ChatCompletionChunk(id='b637ad5a-c6cb-4dc3-9d5c-0eb02843e780', choices=[Choice(delta=ChoiceDelta(content='：', function_call=None, refusal=None, role=None, tool_calls=None), finish_reason=None, index=0, logprobs=None)], created=1737821801, model='deepseek-chat', object='chat.completion.chunk', service_tier=None, system_fingerprint='fp_3a5770e1b4', usage=None)\n",
      "ChatCompletionChunk(id='b637ad5a-c6cb-4dc3-9d5c-0eb02843e780', choices=[Choice(delta=ChoiceDelta(content='模型', function_call=None, refusal=None, role=None, tool_calls=None), finish_reason=None, index=0, logprobs=None)], created=1737821801, model='deepseek-chat', object='chat.completion.chunk', service_tier=None, system_fingerprint='fp_3a5770e1b4', usage=None)\n",
      "ChatCompletionChunk(id='b637ad5a-c6cb-4dc3-9d5c-0eb02843e780', choices=[Choice(delta=ChoiceDelta(content='适应性', function_call=None, refusal=None, role=None, tool_calls=None), finish_reason=None, index=0, logprobs=None)], created=1737821801, model='deepseek-chat', object='chat.completion.chunk', service_tier=None, system_fingerprint='fp_3a5770e1b4', usage=None)\n",
      "ChatCompletionChunk(id='b637ad5a-c6cb-4dc3-9d5c-0eb02843e780', choices=[Choice(delta=ChoiceDelta(content='较差', function_call=None, refusal=None, role=None, tool_calls=None), finish_reason=None, index=0, logprobs=None)], created=1737821801, model='deepseek-chat', object='chat.completion.chunk', service_tier=None, system_fingerprint='fp_3a5770e1b4', usage=None)\n",
      "ChatCompletionChunk(id='b637ad5a-c6cb-4dc3-9d5c-0eb02843e780', choices=[Choice(delta=ChoiceDelta(content='，', function_call=None, refusal=None, role=None, tool_calls=None), finish_reason=None, index=0, logprobs=None)], created=1737821801, model='deepseek-chat', object='chat.completion.chunk', service_tier=None, system_fingerprint='fp_3a5770e1b4', usage=None)\n",
      "ChatCompletionChunk(id='b637ad5a-c6cb-4dc3-9d5c-0eb02843e780', choices=[Choice(delta=ChoiceDelta(content='可能', function_call=None, refusal=None, role=None, tool_calls=None), finish_reason=None, index=0, logprobs=None)], created=1737821801, model='deepseek-chat', object='chat.completion.chunk', service_tier=None, system_fingerprint='fp_3a5770e1b4', usage=None)\n",
      "ChatCompletionChunk(id='b637ad5a-c6cb-4dc3-9d5c-0eb02843e780', choices=[Choice(delta=ChoiceDelta(content='无法', function_call=None, refusal=None, role=None, tool_calls=None), finish_reason=None, index=0, logprobs=None)], created=1737821801, model='deepseek-chat', object='chat.completion.chunk', service_tier=None, system_fingerprint='fp_3a5770e1b4', usage=None)\n",
      "ChatCompletionChunk(id='b637ad5a-c6cb-4dc3-9d5c-0eb02843e780', choices=[Choice(delta=ChoiceDelta(content='充分', function_call=None, refusal=None, role=None, tool_calls=None), finish_reason=None, index=0, logprobs=None)], created=1737821801, model='deepseek-chat', object='chat.completion.chunk', service_tier=None, system_fingerprint='fp_3a5770e1b4', usage=None)\n",
      "ChatCompletionChunk(id='b637ad5a-c6cb-4dc3-9d5c-0eb02843e780', choices=[Choice(delta=ChoiceDelta(content='适应', function_call=None, refusal=None, role=None, tool_calls=None), finish_reason=None, index=0, logprobs=None)], created=1737821801, model='deepseek-chat', object='chat.completion.chunk', service_tier=None, system_fingerprint='fp_3a5770e1b4', usage=None)\n",
      "ChatCompletionChunk(id='b637ad5a-c6cb-4dc3-9d5c-0eb02843e780', choices=[Choice(delta=ChoiceDelta(content='目标任务', function_call=None, refusal=None, role=None, tool_calls=None), finish_reason=None, index=0, logprobs=None)], created=1737821801, model='deepseek-chat', object='chat.completion.chunk', service_tier=None, system_fingerprint='fp_3a5770e1b4', usage=None)\n",
      "ChatCompletionChunk(id='b637ad5a-c6cb-4dc3-9d5c-0eb02843e780', choices=[Choice(delta=ChoiceDelta(content='。\\n\\n', function_call=None, refusal=None, role=None, tool_calls=None), finish_reason=None, index=0, logprobs=None)], created=1737821801, model='deepseek-chat', object='chat.completion.chunk', service_tier=None, system_fingerprint='fp_3a5770e1b4', usage=None)\n",
      "ChatCompletionChunk(id='b637ad5a-c6cb-4dc3-9d5c-0eb02843e780', choices=[Choice(delta=ChoiceDelta(content='###', function_call=None, refusal=None, role=None, tool_calls=None), finish_reason=None, index=0, logprobs=None)], created=1737821801, model='deepseek-chat', object='chat.completion.chunk', service_tier=None, system_fingerprint='fp_3a5770e1b4', usage=None)\n",
      "ChatCompletionChunk(id='b637ad5a-c6cb-4dc3-9d5c-0eb02843e780', choices=[Choice(delta=ChoiceDelta(content=' ', function_call=None, refusal=None, role=None, tool_calls=None), finish_reason=None, index=0, logprobs=None)], created=1737821801, model='deepseek-chat', object='chat.completion.chunk', service_tier=None, system_fingerprint='fp_3a5770e1b4', usage=None)\n",
      "ChatCompletionChunk(id='b637ad5a-c6cb-4dc3-9d5c-0eb02843e780', choices=[Choice(delta=ChoiceDelta(content='4', function_call=None, refusal=None, role=None, tool_calls=None), finish_reason=None, index=0, logprobs=None)], created=1737821801, model='deepseek-chat', object='chat.completion.chunk', service_tier=None, system_fingerprint='fp_3a5770e1b4', usage=None)\n",
      "ChatCompletionChunk(id='b637ad5a-c6cb-4dc3-9d5c-0eb02843e780', choices=[Choice(delta=ChoiceDelta(content='.', function_call=None, refusal=None, role=None, tool_calls=None), finish_reason=None, index=0, logprobs=None)], created=1737821801, model='deepseek-chat', object='chat.completion.chunk', service_tier=None, system_fingerprint='fp_3a5770e1b4', usage=None)\n",
      "ChatCompletionChunk(id='b637ad5a-c6cb-4dc3-9d5c-0eb02843e780', choices=[Choice(delta=ChoiceDelta(content=' **', function_call=None, refusal=None, role=None, tool_calls=None), finish_reason=None, index=0, logprobs=None)], created=1737821801, model='deepseek-chat', object='chat.completion.chunk', service_tier=None, system_fingerprint='fp_3a5770e1b4', usage=None)\n",
      "ChatCompletionChunk(id='b637ad5a-c6cb-4dc3-9d5c-0eb02843e780', choices=[Choice(delta=ChoiceDelta(content='适配', function_call=None, refusal=None, role=None, tool_calls=None), finish_reason=None, index=0, logprobs=None)], created=1737821801, model='deepseek-chat', object='chat.completion.chunk', service_tier=None, system_fingerprint='fp_3a5770e1b4', usage=None)\n",
      "ChatCompletionChunk(id='b637ad5a-c6cb-4dc3-9d5c-0eb02843e780', choices=[Choice(delta=ChoiceDelta(content='器', function_call=None, refusal=None, role=None, tool_calls=None), finish_reason=None, index=0, logprobs=None)], created=1737821801, model='deepseek-chat', object='chat.completion.chunk', service_tier=None, system_fingerprint='fp_3a5770e1b4', usage=None)\n",
      "ChatCompletionChunk(id='b637ad5a-c6cb-4dc3-9d5c-0eb02843e780', choices=[Choice(delta=ChoiceDelta(content='微', function_call=None, refusal=None, role=None, tool_calls=None), finish_reason=None, index=0, logprobs=None)], created=1737821801, model='deepseek-chat', object='chat.completion.chunk', service_tier=None, system_fingerprint='fp_3a5770e1b4', usage=None)\n",
      "ChatCompletionChunk(id='b637ad5a-c6cb-4dc3-9d5c-0eb02843e780', choices=[Choice(delta=ChoiceDelta(content='调', function_call=None, refusal=None, role=None, tool_calls=None), finish_reason=None, index=0, logprobs=None)], created=1737821801, model='deepseek-chat', object='chat.completion.chunk', service_tier=None, system_fingerprint='fp_3a5770e1b4', usage=None)\n",
      "ChatCompletionChunk(id='b637ad5a-c6cb-4dc3-9d5c-0eb02843e780', choices=[Choice(delta=ChoiceDelta(content='（', function_call=None, refusal=None, role=None, tool_calls=None), finish_reason=None, index=0, logprobs=None)], created=1737821801, model='deepseek-chat', object='chat.completion.chunk', service_tier=None, system_fingerprint='fp_3a5770e1b4', usage=None)\n",
      "ChatCompletionChunk(id='b637ad5a-c6cb-4dc3-9d5c-0eb02843e780', choices=[Choice(delta=ChoiceDelta(content='Adapter', function_call=None, refusal=None, role=None, tool_calls=None), finish_reason=None, index=0, logprobs=None)], created=1737821801, model='deepseek-chat', object='chat.completion.chunk', service_tier=None, system_fingerprint='fp_3a5770e1b4', usage=None)\n",
      "ChatCompletionChunk(id='b637ad5a-c6cb-4dc3-9d5c-0eb02843e780', choices=[Choice(delta=ChoiceDelta(content=' Fine', function_call=None, refusal=None, role=None, tool_calls=None), finish_reason=None, index=0, logprobs=None)], created=1737821801, model='deepseek-chat', object='chat.completion.chunk', service_tier=None, system_fingerprint='fp_3a5770e1b4', usage=None)\n",
      "ChatCompletionChunk(id='b637ad5a-c6cb-4dc3-9d5c-0eb02843e780', choices=[Choice(delta=ChoiceDelta(content='-tuning', function_call=None, refusal=None, role=None, tool_calls=None), finish_reason=None, index=0, logprobs=None)], created=1737821801, model='deepseek-chat', object='chat.completion.chunk', service_tier=None, system_fingerprint='fp_3a5770e1b4', usage=None)\n",
      "ChatCompletionChunk(id='b637ad5a-c6cb-4dc3-9d5c-0eb02843e780', choices=[Choice(delta=ChoiceDelta(content='）', function_call=None, refusal=None, role=None, tool_calls=None), finish_reason=None, index=0, logprobs=None)], created=1737821801, model='deepseek-chat', object='chat.completion.chunk', service_tier=None, system_fingerprint='fp_3a5770e1b4', usage=None)\n",
      "ChatCompletionChunk(id='b637ad5a-c6cb-4dc3-9d5c-0eb02843e780', choices=[Choice(delta=ChoiceDelta(content='**\\n', function_call=None, refusal=None, role=None, tool_calls=None), finish_reason=None, index=0, logprobs=None)], created=1737821801, model='deepseek-chat', object='chat.completion.chunk', service_tier=None, system_fingerprint='fp_3a5770e1b4', usage=None)\n",
      "ChatCompletionChunk(id='b637ad5a-c6cb-4dc3-9d5c-0eb02843e780', choices=[Choice(delta=ChoiceDelta(content='  ', function_call=None, refusal=None, role=None, tool_calls=None), finish_reason=None, index=0, logprobs=None)], created=1737821801, model='deepseek-chat', object='chat.completion.chunk', service_tier=None, system_fingerprint='fp_3a5770e1b4', usage=None)\n",
      "ChatCompletionChunk(id='b637ad5a-c6cb-4dc3-9d5c-0eb02843e780', choices=[Choice(delta=ChoiceDelta(content=' -', function_call=None, refusal=None, role=None, tool_calls=None), finish_reason=None, index=0, logprobs=None)], created=1737821801, model='deepseek-chat', object='chat.completion.chunk', service_tier=None, system_fingerprint='fp_3a5770e1b4', usage=None)\n",
      "ChatCompletionChunk(id='b637ad5a-c6cb-4dc3-9d5c-0eb02843e780', choices=[Choice(delta=ChoiceDelta(content=' **', function_call=None, refusal=None, role=None, tool_calls=None), finish_reason=None, index=0, logprobs=None)], created=1737821801, model='deepseek-chat', object='chat.completion.chunk', service_tier=None, system_fingerprint='fp_3a5770e1b4', usage=None)\n",
      "ChatCompletionChunk(id='b637ad5a-c6cb-4dc3-9d5c-0eb02843e780', choices=[Choice(delta=ChoiceDelta(content='描述', function_call=None, refusal=None, role=None, tool_calls=None), finish_reason=None, index=0, logprobs=None)], created=1737821801, model='deepseek-chat', object='chat.completion.chunk', service_tier=None, system_fingerprint='fp_3a5770e1b4', usage=None)\n",
      "ChatCompletionChunk(id='b637ad5a-c6cb-4dc3-9d5c-0eb02843e780', choices=[Choice(delta=ChoiceDelta(content='**', function_call=None, refusal=None, role=None, tool_calls=None), finish_reason=None, index=0, logprobs=None)], created=1737821801, model='deepseek-chat', object='chat.completion.chunk', service_tier=None, system_fingerprint='fp_3a5770e1b4', usage=None)\n",
      "ChatCompletionChunk(id='b637ad5a-c6cb-4dc3-9d5c-0eb02843e780', choices=[Choice(delta=ChoiceDelta(content='：', function_call=None, refusal=None, role=None, tool_calls=None), finish_reason=None, index=0, logprobs=None)], created=1737821801, model='deepseek-chat', object='chat.completion.chunk', service_tier=None, system_fingerprint='fp_3a5770e1b4', usage=None)\n",
      "ChatCompletionChunk(id='b637ad5a-c6cb-4dc3-9d5c-0eb02843e780', choices=[Choice(delta=ChoiceDelta(content='在', function_call=None, refusal=None, role=None, tool_calls=None), finish_reason=None, index=0, logprobs=None)], created=1737821801, model='deepseek-chat', object='chat.completion.chunk', service_tier=None, system_fingerprint='fp_3a5770e1b4', usage=None)\n",
      "ChatCompletionChunk(id='b637ad5a-c6cb-4dc3-9d5c-0eb02843e780', choices=[Choice(delta=ChoiceDelta(content='预', function_call=None, refusal=None, role=None, tool_calls=None), finish_reason=None, index=0, logprobs=None)], created=1737821801, model='deepseek-chat', object='chat.completion.chunk', service_tier=None, system_fingerprint='fp_3a5770e1b4', usage=None)\n",
      "ChatCompletionChunk(id='b637ad5a-c6cb-4dc3-9d5c-0eb02843e780', choices=[Choice(delta=ChoiceDelta(content='训练', function_call=None, refusal=None, role=None, tool_calls=None), finish_reason=None, index=0, logprobs=None)], created=1737821801, model='deepseek-chat', object='chat.completion.chunk', service_tier=None, system_fingerprint='fp_3a5770e1b4', usage=None)\n",
      "ChatCompletionChunk(id='b637ad5a-c6cb-4dc3-9d5c-0eb02843e780', choices=[Choice(delta=ChoiceDelta(content='模型的', function_call=None, refusal=None, role=None, tool_calls=None), finish_reason=None, index=0, logprobs=None)], created=1737821801, model='deepseek-chat', object='chat.completion.chunk', service_tier=None, system_fingerprint='fp_3a5770e1b4', usage=None)\n",
      "ChatCompletionChunk(id='b637ad5a-c6cb-4dc3-9d5c-0eb02843e780', choices=[Choice(delta=ChoiceDelta(content='每一', function_call=None, refusal=None, role=None, tool_calls=None), finish_reason=None, index=0, logprobs=None)], created=1737821801, model='deepseek-chat', object='chat.completion.chunk', service_tier=None, system_fingerprint='fp_3a5770e1b4', usage=None)\n",
      "ChatCompletionChunk(id='b637ad5a-c6cb-4dc3-9d5c-0eb02843e780', choices=[Choice(delta=ChoiceDelta(content='层', function_call=None, refusal=None, role=None, tool_calls=None), finish_reason=None, index=0, logprobs=None)], created=1737821801, model='deepseek-chat', object='chat.completion.chunk', service_tier=None, system_fingerprint='fp_3a5770e1b4', usage=None)\n",
      "ChatCompletionChunk(id='b637ad5a-c6cb-4dc3-9d5c-0eb02843e780', choices=[Choice(delta=ChoiceDelta(content='或', function_call=None, refusal=None, role=None, tool_calls=None), finish_reason=None, index=0, logprobs=None)], created=1737821801, model='deepseek-chat', object='chat.completion.chunk', service_tier=None, system_fingerprint='fp_3a5770e1b4', usage=None)\n",
      "ChatCompletionChunk(id='b637ad5a-c6cb-4dc3-9d5c-0eb02843e780', choices=[Choice(delta=ChoiceDelta(content='某些', function_call=None, refusal=None, role=None, tool_calls=None), finish_reason=None, index=0, logprobs=None)], created=1737821801, model='deepseek-chat', object='chat.completion.chunk', service_tier=None, system_fingerprint='fp_3a5770e1b4', usage=None)\n",
      "ChatCompletionChunk(id='b637ad5a-c6cb-4dc3-9d5c-0eb02843e780', choices=[Choice(delta=ChoiceDelta(content='层', function_call=None, refusal=None, role=None, tool_calls=None), finish_reason=None, index=0, logprobs=None)], created=1737821801, model='deepseek-chat', object='chat.completion.chunk', service_tier=None, system_fingerprint='fp_3a5770e1b4', usage=None)\n",
      "ChatCompletionChunk(id='b637ad5a-c6cb-4dc3-9d5c-0eb02843e780', choices=[Choice(delta=ChoiceDelta(content='中', function_call=None, refusal=None, role=None, tool_calls=None), finish_reason=None, index=0, logprobs=None)], created=1737821801, model='deepseek-chat', object='chat.completion.chunk', service_tier=None, system_fingerprint='fp_3a5770e1b4', usage=None)\n",
      "ChatCompletionChunk(id='b637ad5a-c6cb-4dc3-9d5c-0eb02843e780', choices=[Choice(delta=ChoiceDelta(content='插入', function_call=None, refusal=None, role=None, tool_calls=None), finish_reason=None, index=0, logprobs=None)], created=1737821801, model='deepseek-chat', object='chat.completion.chunk', service_tier=None, system_fingerprint='fp_3a5770e1b4', usage=None)\n",
      "ChatCompletionChunk(id='b637ad5a-c6cb-4dc3-9d5c-0eb02843e780', choices=[Choice(delta=ChoiceDelta(content='小的', function_call=None, refusal=None, role=None, tool_calls=None), finish_reason=None, index=0, logprobs=None)], created=1737821801, model='deepseek-chat', object='chat.completion.chunk', service_tier=None, system_fingerprint='fp_3a5770e1b4', usage=None)\n",
      "ChatCompletionChunk(id='b637ad5a-c6cb-4dc3-9d5c-0eb02843e780', choices=[Choice(delta=ChoiceDelta(content='适配', function_call=None, refusal=None, role=None, tool_calls=None), finish_reason=None, index=0, logprobs=None)], created=1737821801, model='deepseek-chat', object='chat.completion.chunk', service_tier=None, system_fingerprint='fp_3a5770e1b4', usage=None)\n",
      "ChatCompletionChunk(id='b637ad5a-c6cb-4dc3-9d5c-0eb02843e780', choices=[Choice(delta=ChoiceDelta(content='器', function_call=None, refusal=None, role=None, tool_calls=None), finish_reason=None, index=0, logprobs=None)], created=1737821801, model='deepseek-chat', object='chat.completion.chunk', service_tier=None, system_fingerprint='fp_3a5770e1b4', usage=None)\n",
      "ChatCompletionChunk(id='b637ad5a-c6cb-4dc3-9d5c-0eb02843e780', choices=[Choice(delta=ChoiceDelta(content='模块', function_call=None, refusal=None, role=None, tool_calls=None), finish_reason=None, index=0, logprobs=None)], created=1737821801, model='deepseek-chat', object='chat.completion.chunk', service_tier=None, system_fingerprint='fp_3a5770e1b4', usage=None)\n",
      "ChatCompletionChunk(id='b637ad5a-c6cb-4dc3-9d5c-0eb02843e780', choices=[Choice(delta=ChoiceDelta(content='，', function_call=None, refusal=None, role=None, tool_calls=None), finish_reason=None, index=0, logprobs=None)], created=1737821801, model='deepseek-chat', object='chat.completion.chunk', service_tier=None, system_fingerprint='fp_3a5770e1b4', usage=None)\n",
      "ChatCompletionChunk(id='b637ad5a-c6cb-4dc3-9d5c-0eb02843e780', choices=[Choice(delta=ChoiceDelta(content='只', function_call=None, refusal=None, role=None, tool_calls=None), finish_reason=None, index=0, logprobs=None)], created=1737821801, model='deepseek-chat', object='chat.completion.chunk', service_tier=None, system_fingerprint='fp_3a5770e1b4', usage=None)\n",
      "ChatCompletionChunk(id='b637ad5a-c6cb-4dc3-9d5c-0eb02843e780', choices=[Choice(delta=ChoiceDelta(content='微', function_call=None, refusal=None, role=None, tool_calls=None), finish_reason=None, index=0, logprobs=None)], created=1737821801, model='deepseek-chat', object='chat.completion.chunk', service_tier=None, system_fingerprint='fp_3a5770e1b4', usage=None)\n",
      "ChatCompletionChunk(id='b637ad5a-c6cb-4dc3-9d5c-0eb02843e780', choices=[Choice(delta=ChoiceDelta(content='调', function_call=None, refusal=None, role=None, tool_calls=None), finish_reason=None, index=0, logprobs=None)], created=1737821801, model='deepseek-chat', object='chat.completion.chunk', service_tier=None, system_fingerprint='fp_3a5770e1b4', usage=None)\n",
      "ChatCompletionChunk(id='b637ad5a-c6cb-4dc3-9d5c-0eb02843e780', choices=[Choice(delta=ChoiceDelta(content='这些', function_call=None, refusal=None, role=None, tool_calls=None), finish_reason=None, index=0, logprobs=None)], created=1737821801, model='deepseek-chat', object='chat.completion.chunk', service_tier=None, system_fingerprint='fp_3a5770e1b4', usage=None)\n",
      "ChatCompletionChunk(id='b637ad5a-c6cb-4dc3-9d5c-0eb02843e780', choices=[Choice(delta=ChoiceDelta(content='适配', function_call=None, refusal=None, role=None, tool_calls=None), finish_reason=None, index=0, logprobs=None)], created=1737821801, model='deepseek-chat', object='chat.completion.chunk', service_tier=None, system_fingerprint='fp_3a5770e1b4', usage=None)\n",
      "ChatCompletionChunk(id='b637ad5a-c6cb-4dc3-9d5c-0eb02843e780', choices=[Choice(delta=ChoiceDelta(content='器', function_call=None, refusal=None, role=None, tool_calls=None), finish_reason=None, index=0, logprobs=None)], created=1737821801, model='deepseek-chat', object='chat.completion.chunk', service_tier=None, system_fingerprint='fp_3a5770e1b4', usage=None)\n",
      "ChatCompletionChunk(id='b637ad5a-c6cb-4dc3-9d5c-0eb02843e780', choices=[Choice(delta=ChoiceDelta(content='模块', function_call=None, refusal=None, role=None, tool_calls=None), finish_reason=None, index=0, logprobs=None)], created=1737821801, model='deepseek-chat', object='chat.completion.chunk', service_tier=None, system_fingerprint='fp_3a5770e1b4', usage=None)\n",
      "ChatCompletionChunk(id='b637ad5a-c6cb-4dc3-9d5c-0eb02843e780', choices=[Choice(delta=ChoiceDelta(content='。\\n', function_call=None, refusal=None, role=None, tool_calls=None), finish_reason=None, index=0, logprobs=None)], created=1737821801, model='deepseek-chat', object='chat.completion.chunk', service_tier=None, system_fingerprint='fp_3a5770e1b4', usage=None)\n",
      "ChatCompletionChunk(id='b637ad5a-c6cb-4dc3-9d5c-0eb02843e780', choices=[Choice(delta=ChoiceDelta(content='  ', function_call=None, refusal=None, role=None, tool_calls=None), finish_reason=None, index=0, logprobs=None)], created=1737821801, model='deepseek-chat', object='chat.completion.chunk', service_tier=None, system_fingerprint='fp_3a5770e1b4', usage=None)\n",
      "ChatCompletionChunk(id='b637ad5a-c6cb-4dc3-9d5c-0eb02843e780', choices=[Choice(delta=ChoiceDelta(content=' -', function_call=None, refusal=None, role=None, tool_calls=None), finish_reason=None, index=0, logprobs=None)], created=1737821801, model='deepseek-chat', object='chat.completion.chunk', service_tier=None, system_fingerprint='fp_3a5770e1b4', usage=None)\n",
      "ChatCompletionChunk(id='b637ad5a-c6cb-4dc3-9d5c-0eb02843e780', choices=[Choice(delta=ChoiceDelta(content=' **', function_call=None, refusal=None, role=None, tool_calls=None), finish_reason=None, index=0, logprobs=None)], created=1737821801, model='deepseek-chat', object='chat.completion.chunk', service_tier=None, system_fingerprint='fp_3a5770e1b4', usage=None)\n",
      "ChatCompletionChunk(id='b637ad5a-c6cb-4dc3-9d5c-0eb02843e780', choices=[Choice(delta=ChoiceDelta(content='优点', function_call=None, refusal=None, role=None, tool_calls=None), finish_reason=None, index=0, logprobs=None)], created=1737821801, model='deepseek-chat', object='chat.completion.chunk', service_tier=None, system_fingerprint='fp_3a5770e1b4', usage=None)\n",
      "ChatCompletionChunk(id='b637ad5a-c6cb-4dc3-9d5c-0eb02843e780', choices=[Choice(delta=ChoiceDelta(content='**', function_call=None, refusal=None, role=None, tool_calls=None), finish_reason=None, index=0, logprobs=None)], created=1737821801, model='deepseek-chat', object='chat.completion.chunk', service_tier=None, system_fingerprint='fp_3a5770e1b4', usage=None)\n",
      "ChatCompletionChunk(id='b637ad5a-c6cb-4dc3-9d5c-0eb02843e780', choices=[Choice(delta=ChoiceDelta(content='：', function_call=None, refusal=None, role=None, tool_calls=None), finish_reason=None, index=0, logprobs=None)], created=1737821801, model='deepseek-chat', object='chat.completion.chunk', service_tier=None, system_fingerprint='fp_3a5770e1b4', usage=None)\n",
      "ChatCompletionChunk(id='b637ad5a-c6cb-4dc3-9d5c-0eb02843e780', choices=[Choice(delta=ChoiceDelta(content='参数', function_call=None, refusal=None, role=None, tool_calls=None), finish_reason=None, index=0, logprobs=None)], created=1737821801, model='deepseek-chat', object='chat.completion.chunk', service_tier=None, system_fingerprint='fp_3a5770e1b4', usage=None)\n",
      "ChatCompletionChunk(id='b637ad5a-c6cb-4dc3-9d5c-0eb02843e780', choices=[Choice(delta=ChoiceDelta(content='效率', function_call=None, refusal=None, role=None, tool_calls=None), finish_reason=None, index=0, logprobs=None)], created=1737821801, model='deepseek-chat', object='chat.completion.chunk', service_tier=None, system_fingerprint='fp_3a5770e1b4', usage=None)\n",
      "ChatCompletionChunk(id='b637ad5a-c6cb-4dc3-9d5c-0eb02843e780', choices=[Choice(delta=ChoiceDelta(content='高', function_call=None, refusal=None, role=None, tool_calls=None), finish_reason=None, index=0, logprobs=None)], created=1737821801, model='deepseek-chat', object='chat.completion.chunk', service_tier=None, system_fingerprint='fp_3a5770e1b4', usage=None)\n",
      "ChatCompletionChunk(id='b637ad5a-c6cb-4dc3-9d5c-0eb02843e780', choices=[Choice(delta=ChoiceDelta(content='，', function_call=None, refusal=None, role=None, tool_calls=None), finish_reason=None, index=0, logprobs=None)], created=1737821801, model='deepseek-chat', object='chat.completion.chunk', service_tier=None, system_fingerprint='fp_3a5770e1b4', usage=None)\n",
      "ChatCompletionChunk(id='b637ad5a-c6cb-4dc3-9d5c-0eb02843e780', choices=[Choice(delta=ChoiceDelta(content='适合', function_call=None, refusal=None, role=None, tool_calls=None), finish_reason=None, index=0, logprobs=None)], created=1737821801, model='deepseek-chat', object='chat.completion.chunk', service_tier=None, system_fingerprint='fp_3a5770e1b4', usage=None)\n",
      "ChatCompletionChunk(id='b637ad5a-c6cb-4dc3-9d5c-0eb02843e780', choices=[Choice(delta=ChoiceDelta(content='多', function_call=None, refusal=None, role=None, tool_calls=None), finish_reason=None, index=0, logprobs=None)], created=1737821801, model='deepseek-chat', object='chat.completion.chunk', service_tier=None, system_fingerprint='fp_3a5770e1b4', usage=None)\n",
      "ChatCompletionChunk(id='b637ad5a-c6cb-4dc3-9d5c-0eb02843e780', choices=[Choice(delta=ChoiceDelta(content='任务', function_call=None, refusal=None, role=None, tool_calls=None), finish_reason=None, index=0, logprobs=None)], created=1737821801, model='deepseek-chat', object='chat.completion.chunk', service_tier=None, system_fingerprint='fp_3a5770e1b4', usage=None)\n",
      "ChatCompletionChunk(id='b637ad5a-c6cb-4dc3-9d5c-0eb02843e780', choices=[Choice(delta=ChoiceDelta(content='学习', function_call=None, refusal=None, role=None, tool_calls=None), finish_reason=None, index=0, logprobs=None)], created=1737821801, model='deepseek-chat', object='chat.completion.chunk', service_tier=None, system_fingerprint='fp_3a5770e1b4', usage=None)\n",
      "ChatCompletionChunk(id='b637ad5a-c6cb-4dc3-9d5c-0eb02843e780', choices=[Choice(delta=ChoiceDelta(content='。\\n', function_call=None, refusal=None, role=None, tool_calls=None), finish_reason=None, index=0, logprobs=None)], created=1737821801, model='deepseek-chat', object='chat.completion.chunk', service_tier=None, system_fingerprint='fp_3a5770e1b4', usage=None)\n",
      "ChatCompletionChunk(id='b637ad5a-c6cb-4dc3-9d5c-0eb02843e780', choices=[Choice(delta=ChoiceDelta(content='  ', function_call=None, refusal=None, role=None, tool_calls=None), finish_reason=None, index=0, logprobs=None)], created=1737821801, model='deepseek-chat', object='chat.completion.chunk', service_tier=None, system_fingerprint='fp_3a5770e1b4', usage=None)\n",
      "ChatCompletionChunk(id='b637ad5a-c6cb-4dc3-9d5c-0eb02843e780', choices=[Choice(delta=ChoiceDelta(content=' -', function_call=None, refusal=None, role=None, tool_calls=None), finish_reason=None, index=0, logprobs=None)], created=1737821801, model='deepseek-chat', object='chat.completion.chunk', service_tier=None, system_fingerprint='fp_3a5770e1b4', usage=None)\n",
      "ChatCompletionChunk(id='b637ad5a-c6cb-4dc3-9d5c-0eb02843e780', choices=[Choice(delta=ChoiceDelta(content=' **', function_call=None, refusal=None, role=None, tool_calls=None), finish_reason=None, index=0, logprobs=None)], created=1737821801, model='deepseek-chat', object='chat.completion.chunk', service_tier=None, system_fingerprint='fp_3a5770e1b4', usage=None)\n",
      "ChatCompletionChunk(id='b637ad5a-c6cb-4dc3-9d5c-0eb02843e780', choices=[Choice(delta=ChoiceDelta(content='缺点', function_call=None, refusal=None, role=None, tool_calls=None), finish_reason=None, index=0, logprobs=None)], created=1737821801, model='deepseek-chat', object='chat.completion.chunk', service_tier=None, system_fingerprint='fp_3a5770e1b4', usage=None)\n",
      "ChatCompletionChunk(id='b637ad5a-c6cb-4dc3-9d5c-0eb02843e780', choices=[Choice(delta=ChoiceDelta(content='**', function_call=None, refusal=None, role=None, tool_calls=None), finish_reason=None, index=0, logprobs=None)], created=1737821801, model='deepseek-chat', object='chat.completion.chunk', service_tier=None, system_fingerprint='fp_3a5770e1b4', usage=None)\n",
      "ChatCompletionChunk(id='b637ad5a-c6cb-4dc3-9d5c-0eb02843e780', choices=[Choice(delta=ChoiceDelta(content='：', function_call=None, refusal=None, role=None, tool_calls=None), finish_reason=None, index=0, logprobs=None)], created=1737821801, model='deepseek-chat', object='chat.completion.chunk', service_tier=None, system_fingerprint='fp_3a5770e1b4', usage=None)\n",
      "ChatCompletionChunk(id='b637ad5a-c6cb-4dc3-9d5c-0eb02843e780', choices=[Choice(delta=ChoiceDelta(content='需要', function_call=None, refusal=None, role=None, tool_calls=None), finish_reason=None, index=0, logprobs=None)], created=1737821801, model='deepseek-chat', object='chat.completion.chunk', service_tier=None, system_fingerprint='fp_3a5770e1b4', usage=None)\n",
      "ChatCompletionChunk(id='b637ad5a-c6cb-4dc3-9d5c-0eb02843e780', choices=[Choice(delta=ChoiceDelta(content='设计', function_call=None, refusal=None, role=None, tool_calls=None), finish_reason=None, index=0, logprobs=None)], created=1737821801, model='deepseek-chat', object='chat.completion.chunk', service_tier=None, system_fingerprint='fp_3a5770e1b4', usage=None)\n",
      "ChatCompletionChunk(id='b637ad5a-c6cb-4dc3-9d5c-0eb02843e780', choices=[Choice(delta=ChoiceDelta(content='适配', function_call=None, refusal=None, role=None, tool_calls=None), finish_reason=None, index=0, logprobs=None)], created=1737821801, model='deepseek-chat', object='chat.completion.chunk', service_tier=None, system_fingerprint='fp_3a5770e1b4', usage=None)\n",
      "ChatCompletionChunk(id='b637ad5a-c6cb-4dc3-9d5c-0eb02843e780', choices=[Choice(delta=ChoiceDelta(content='器', function_call=None, refusal=None, role=None, tool_calls=None), finish_reason=None, index=0, logprobs=None)], created=1737821801, model='deepseek-chat', object='chat.completion.chunk', service_tier=None, system_fingerprint='fp_3a5770e1b4', usage=None)\n",
      "ChatCompletionChunk(id='b637ad5a-c6cb-4dc3-9d5c-0eb02843e780', choices=[Choice(delta=ChoiceDelta(content='模块', function_call=None, refusal=None, role=None, tool_calls=None), finish_reason=None, index=0, logprobs=None)], created=1737821801, model='deepseek-chat', object='chat.completion.chunk', service_tier=None, system_fingerprint='fp_3a5770e1b4', usage=None)\n",
      "ChatCompletionChunk(id='b637ad5a-c6cb-4dc3-9d5c-0eb02843e780', choices=[Choice(delta=ChoiceDelta(content='，', function_call=None, refusal=None, role=None, tool_calls=None), finish_reason=None, index=0, logprobs=None)], created=1737821801, model='deepseek-chat', object='chat.completion.chunk', service_tier=None, system_fingerprint='fp_3a5770e1b4', usage=None)\n",
      "ChatCompletionChunk(id='b637ad5a-c6cb-4dc3-9d5c-0eb02843e780', choices=[Choice(delta=ChoiceDelta(content='可能', function_call=None, refusal=None, role=None, tool_calls=None), finish_reason=None, index=0, logprobs=None)], created=1737821801, model='deepseek-chat', object='chat.completion.chunk', service_tier=None, system_fingerprint='fp_3a5770e1b4', usage=None)\n",
      "ChatCompletionChunk(id='b637ad5a-c6cb-4dc3-9d5c-0eb02843e780', choices=[Choice(delta=ChoiceDelta(content='增加', function_call=None, refusal=None, role=None, tool_calls=None), finish_reason=None, index=0, logprobs=None)], created=1737821801, model='deepseek-chat', object='chat.completion.chunk', service_tier=None, system_fingerprint='fp_3a5770e1b4', usage=None)\n",
      "ChatCompletionChunk(id='b637ad5a-c6cb-4dc3-9d5c-0eb02843e780', choices=[Choice(delta=ChoiceDelta(content='模型', function_call=None, refusal=None, role=None, tool_calls=None), finish_reason=None, index=0, logprobs=None)], created=1737821801, model='deepseek-chat', object='chat.completion.chunk', service_tier=None, system_fingerprint='fp_3a5770e1b4', usage=None)\n",
      "ChatCompletionChunk(id='b637ad5a-c6cb-4dc3-9d5c-0eb02843e780', choices=[Choice(delta=ChoiceDelta(content='复杂性', function_call=None, refusal=None, role=None, tool_calls=None), finish_reason=None, index=0, logprobs=None)], created=1737821801, model='deepseek-chat', object='chat.completion.chunk', service_tier=None, system_fingerprint='fp_3a5770e1b4', usage=None)\n",
      "ChatCompletionChunk(id='b637ad5a-c6cb-4dc3-9d5c-0eb02843e780', choices=[Choice(delta=ChoiceDelta(content='。\\n\\n', function_call=None, refusal=None, role=None, tool_calls=None), finish_reason=None, index=0, logprobs=None)], created=1737821801, model='deepseek-chat', object='chat.completion.chunk', service_tier=None, system_fingerprint='fp_3a5770e1b4', usage=None)\n",
      "ChatCompletionChunk(id='b637ad5a-c6cb-4dc3-9d5c-0eb02843e780', choices=[Choice(delta=ChoiceDelta(content='###', function_call=None, refusal=None, role=None, tool_calls=None), finish_reason=None, index=0, logprobs=None)], created=1737821801, model='deepseek-chat', object='chat.completion.chunk', service_tier=None, system_fingerprint='fp_3a5770e1b4', usage=None)\n",
      "ChatCompletionChunk(id='b637ad5a-c6cb-4dc3-9d5c-0eb02843e780', choices=[Choice(delta=ChoiceDelta(content=' ', function_call=None, refusal=None, role=None, tool_calls=None), finish_reason=None, index=0, logprobs=None)], created=1737821801, model='deepseek-chat', object='chat.completion.chunk', service_tier=None, system_fingerprint='fp_3a5770e1b4', usage=None)\n",
      "ChatCompletionChunk(id='b637ad5a-c6cb-4dc3-9d5c-0eb02843e780', choices=[Choice(delta=ChoiceDelta(content='5', function_call=None, refusal=None, role=None, tool_calls=None), finish_reason=None, index=0, logprobs=None)], created=1737821801, model='deepseek-chat', object='chat.completion.chunk', service_tier=None, system_fingerprint='fp_3a5770e1b4', usage=None)\n",
      "ChatCompletionChunk(id='b637ad5a-c6cb-4dc3-9d5c-0eb02843e780', choices=[Choice(delta=ChoiceDelta(content='.', function_call=None, refusal=None, role=None, tool_calls=None), finish_reason=None, index=0, logprobs=None)], created=1737821801, model='deepseek-chat', object='chat.completion.chunk', service_tier=None, system_fingerprint='fp_3a5770e1b4', usage=None)\n",
      "ChatCompletionChunk(id='b637ad5a-c6cb-4dc3-9d5c-0eb02843e780', choices=[Choice(delta=ChoiceDelta(content=' **', function_call=None, refusal=None, role=None, tool_calls=None), finish_reason=None, index=0, logprobs=None)], created=1737821801, model='deepseek-chat', object='chat.completion.chunk', service_tier=None, system_fingerprint='fp_3a5770e1b4', usage=None)\n",
      "ChatCompletionChunk(id='b637ad5a-c6cb-4dc3-9d5c-0eb02843e780', choices=[Choice(delta=ChoiceDelta(content='提示', function_call=None, refusal=None, role=None, tool_calls=None), finish_reason=None, index=0, logprobs=None)], created=1737821801, model='deepseek-chat', object='chat.completion.chunk', service_tier=None, system_fingerprint='fp_3a5770e1b4', usage=None)\n",
      "ChatCompletionChunk(id='b637ad5a-c6cb-4dc3-9d5c-0eb02843e780', choices=[Choice(delta=ChoiceDelta(content='微', function_call=None, refusal=None, role=None, tool_calls=None), finish_reason=None, index=0, logprobs=None)], created=1737821801, model='deepseek-chat', object='chat.completion.chunk', service_tier=None, system_fingerprint='fp_3a5770e1b4', usage=None)\n",
      "ChatCompletionChunk(id='b637ad5a-c6cb-4dc3-9d5c-0eb02843e780', choices=[Choice(delta=ChoiceDelta(content='调', function_call=None, refusal=None, role=None, tool_calls=None), finish_reason=None, index=0, logprobs=None)], created=1737821801, model='deepseek-chat', object='chat.completion.chunk', service_tier=None, system_fingerprint='fp_3a5770e1b4', usage=None)\n",
      "ChatCompletionChunk(id='b637ad5a-c6cb-4dc3-9d5c-0eb02843e780', choices=[Choice(delta=ChoiceDelta(content='（', function_call=None, refusal=None, role=None, tool_calls=None), finish_reason=None, index=0, logprobs=None)], created=1737821801, model='deepseek-chat', object='chat.completion.chunk', service_tier=None, system_fingerprint='fp_3a5770e1b4', usage=None)\n",
      "ChatCompletionChunk(id='b637ad5a-c6cb-4dc3-9d5c-0eb02843e780', choices=[Choice(delta=ChoiceDelta(content='Prompt', function_call=None, refusal=None, role=None, tool_calls=None), finish_reason=None, index=0, logprobs=None)], created=1737821801, model='deepseek-chat', object='chat.completion.chunk', service_tier=None, system_fingerprint='fp_3a5770e1b4', usage=None)\n",
      "ChatCompletionChunk(id='b637ad5a-c6cb-4dc3-9d5c-0eb02843e780', choices=[Choice(delta=ChoiceDelta(content=' Fine', function_call=None, refusal=None, role=None, tool_calls=None), finish_reason=None, index=0, logprobs=None)], created=1737821801, model='deepseek-chat', object='chat.completion.chunk', service_tier=None, system_fingerprint='fp_3a5770e1b4', usage=None)\n",
      "ChatCompletionChunk(id='b637ad5a-c6cb-4dc3-9d5c-0eb02843e780', choices=[Choice(delta=ChoiceDelta(content='-tuning', function_call=None, refusal=None, role=None, tool_calls=None), finish_reason=None, index=0, logprobs=None)], created=1737821801, model='deepseek-chat', object='chat.completion.chunk', service_tier=None, system_fingerprint='fp_3a5770e1b4', usage=None)\n",
      "ChatCompletionChunk(id='b637ad5a-c6cb-4dc3-9d5c-0eb02843e780', choices=[Choice(delta=ChoiceDelta(content='）', function_call=None, refusal=None, role=None, tool_calls=None), finish_reason=None, index=0, logprobs=None)], created=1737821801, model='deepseek-chat', object='chat.completion.chunk', service_tier=None, system_fingerprint='fp_3a5770e1b4', usage=None)\n",
      "ChatCompletionChunk(id='b637ad5a-c6cb-4dc3-9d5c-0eb02843e780', choices=[Choice(delta=ChoiceDelta(content='**\\n', function_call=None, refusal=None, role=None, tool_calls=None), finish_reason=None, index=0, logprobs=None)], created=1737821801, model='deepseek-chat', object='chat.completion.chunk', service_tier=None, system_fingerprint='fp_3a5770e1b4', usage=None)\n",
      "ChatCompletionChunk(id='b637ad5a-c6cb-4dc3-9d5c-0eb02843e780', choices=[Choice(delta=ChoiceDelta(content='  ', function_call=None, refusal=None, role=None, tool_calls=None), finish_reason=None, index=0, logprobs=None)], created=1737821801, model='deepseek-chat', object='chat.completion.chunk', service_tier=None, system_fingerprint='fp_3a5770e1b4', usage=None)\n",
      "ChatCompletionChunk(id='b637ad5a-c6cb-4dc3-9d5c-0eb02843e780', choices=[Choice(delta=ChoiceDelta(content=' -', function_call=None, refusal=None, role=None, tool_calls=None), finish_reason=None, index=0, logprobs=None)], created=1737821801, model='deepseek-chat', object='chat.completion.chunk', service_tier=None, system_fingerprint='fp_3a5770e1b4', usage=None)\n",
      "ChatCompletionChunk(id='b637ad5a-c6cb-4dc3-9d5c-0eb02843e780', choices=[Choice(delta=ChoiceDelta(content=' **', function_call=None, refusal=None, role=None, tool_calls=None), finish_reason=None, index=0, logprobs=None)], created=1737821801, model='deepseek-chat', object='chat.completion.chunk', service_tier=None, system_fingerprint='fp_3a5770e1b4', usage=None)\n",
      "ChatCompletionChunk(id='b637ad5a-c6cb-4dc3-9d5c-0eb02843e780', choices=[Choice(delta=ChoiceDelta(content='描述', function_call=None, refusal=None, role=None, tool_calls=None), finish_reason=None, index=0, logprobs=None)], created=1737821801, model='deepseek-chat', object='chat.completion.chunk', service_tier=None, system_fingerprint='fp_3a5770e1b4', usage=None)\n",
      "ChatCompletionChunk(id='b637ad5a-c6cb-4dc3-9d5c-0eb02843e780', choices=[Choice(delta=ChoiceDelta(content='**', function_call=None, refusal=None, role=None, tool_calls=None), finish_reason=None, index=0, logprobs=None)], created=1737821801, model='deepseek-chat', object='chat.completion.chunk', service_tier=None, system_fingerprint='fp_3a5770e1b4', usage=None)\n",
      "ChatCompletionChunk(id='b637ad5a-c6cb-4dc3-9d5c-0eb02843e780', choices=[Choice(delta=ChoiceDelta(content='：', function_call=None, refusal=None, role=None, tool_calls=None), finish_reason=None, index=0, logprobs=None)], created=1737821801, model='deepseek-chat', object='chat.completion.chunk', service_tier=None, system_fingerprint='fp_3a5770e1b4', usage=None)\n",
      "ChatCompletionChunk(id='b637ad5a-c6cb-4dc3-9d5c-0eb02843e780', choices=[Choice(delta=ChoiceDelta(content='通过', function_call=None, refusal=None, role=None, tool_calls=None), finish_reason=None, index=0, logprobs=None)], created=1737821801, model='deepseek-chat', object='chat.completion.chunk', service_tier=None, system_fingerprint='fp_3a5770e1b4', usage=None)\n",
      "ChatCompletionChunk(id='b637ad5a-c6cb-4dc3-9d5c-0eb02843e780', choices=[Choice(delta=ChoiceDelta(content='设计', function_call=None, refusal=None, role=None, tool_calls=None), finish_reason=None, index=0, logprobs=None)], created=1737821801, model='deepseek-chat', object='chat.completion.chunk', service_tier=None, system_fingerprint='fp_3a5770e1b4', usage=None)\n",
      "ChatCompletionChunk(id='b637ad5a-c6cb-4dc3-9d5c-0eb02843e780', choices=[Choice(delta=ChoiceDelta(content='特定的', function_call=None, refusal=None, role=None, tool_calls=None), finish_reason=None, index=0, logprobs=None)], created=1737821801, model='deepseek-chat', object='chat.completion.chunk', service_tier=None, system_fingerprint='fp_3a5770e1b4', usage=None)\n",
      "ChatCompletionChunk(id='b637ad5a-c6cb-4dc3-9d5c-0eb02843e780', choices=[Choice(delta=ChoiceDelta(content='提示', function_call=None, refusal=None, role=None, tool_calls=None), finish_reason=None, index=0, logprobs=None)], created=1737821801, model='deepseek-chat', object='chat.completion.chunk', service_tier=None, system_fingerprint='fp_3a5770e1b4', usage=None)\n",
      "ChatCompletionChunk(id='b637ad5a-c6cb-4dc3-9d5c-0eb02843e780', choices=[Choice(delta=ChoiceDelta(content='（', function_call=None, refusal=None, role=None, tool_calls=None), finish_reason=None, index=0, logprobs=None)], created=1737821801, model='deepseek-chat', object='chat.completion.chunk', service_tier=None, system_fingerprint='fp_3a5770e1b4', usage=None)\n",
      "ChatCompletionChunk(id='b637ad5a-c6cb-4dc3-9d5c-0eb02843e780', choices=[Choice(delta=ChoiceDelta(content='Prompt', function_call=None, refusal=None, role=None, tool_calls=None), finish_reason=None, index=0, logprobs=None)], created=1737821801, model='deepseek-chat', object='chat.completion.chunk', service_tier=None, system_fingerprint='fp_3a5770e1b4', usage=None)\n",
      "ChatCompletionChunk(id='b637ad5a-c6cb-4dc3-9d5c-0eb02843e780', choices=[Choice(delta=ChoiceDelta(content='）', function_call=None, refusal=None, role=None, tool_calls=None), finish_reason=None, index=0, logprobs=None)], created=1737821801, model='deepseek-chat', object='chat.completion.chunk', service_tier=None, system_fingerprint='fp_3a5770e1b4', usage=None)\n",
      "ChatCompletionChunk(id='b637ad5a-c6cb-4dc3-9d5c-0eb02843e780', choices=[Choice(delta=ChoiceDelta(content='来', function_call=None, refusal=None, role=None, tool_calls=None), finish_reason=None, index=0, logprobs=None)], created=1737821801, model='deepseek-chat', object='chat.completion.chunk', service_tier=None, system_fingerprint='fp_3a5770e1b4', usage=None)\n",
      "ChatCompletionChunk(id='b637ad5a-c6cb-4dc3-9d5c-0eb02843e780', choices=[Choice(delta=ChoiceDelta(content='引导', function_call=None, refusal=None, role=None, tool_calls=None), finish_reason=None, index=0, logprobs=None)], created=1737821801, model='deepseek-chat', object='chat.completion.chunk', service_tier=None, system_fingerprint='fp_3a5770e1b4', usage=None)\n",
      "ChatCompletionChunk(id='b637ad5a-c6cb-4dc3-9d5c-0eb02843e780', choices=[Choice(delta=ChoiceDelta(content='模型', function_call=None, refusal=None, role=None, tool_calls=None), finish_reason=None, index=0, logprobs=None)], created=1737821801, model='deepseek-chat', object='chat.completion.chunk', service_tier=None, system_fingerprint='fp_3a5770e1b4', usage=None)\n",
      "ChatCompletionChunk(id='b637ad5a-c6cb-4dc3-9d5c-0eb02843e780', choices=[Choice(delta=ChoiceDelta(content='生成', function_call=None, refusal=None, role=None, tool_calls=None), finish_reason=None, index=0, logprobs=None)], created=1737821801, model='deepseek-chat', object='chat.completion.chunk', service_tier=None, system_fingerprint='fp_3a5770e1b4', usage=None)\n",
      "ChatCompletionChunk(id='b637ad5a-c6cb-4dc3-9d5c-0eb02843e780', choices=[Choice(delta=ChoiceDelta(content='期望', function_call=None, refusal=None, role=None, tool_calls=None), finish_reason=None, index=0, logprobs=None)], created=1737821801, model='deepseek-chat', object='chat.completion.chunk', service_tier=None, system_fingerprint='fp_3a5770e1b4', usage=None)\n",
      "ChatCompletionChunk(id='b637ad5a-c6cb-4dc3-9d5c-0eb02843e780', choices=[Choice(delta=ChoiceDelta(content='的输出', function_call=None, refusal=None, role=None, tool_calls=None), finish_reason=None, index=0, logprobs=None)], created=1737821801, model='deepseek-chat', object='chat.completion.chunk', service_tier=None, system_fingerprint='fp_3a5770e1b4', usage=None)\n",
      "ChatCompletionChunk(id='b637ad5a-c6cb-4dc3-9d5c-0eb02843e780', choices=[Choice(delta=ChoiceDelta(content='，', function_call=None, refusal=None, role=None, tool_calls=None), finish_reason=None, index=0, logprobs=None)], created=1737821801, model='deepseek-chat', object='chat.completion.chunk', service_tier=None, system_fingerprint='fp_3a5770e1b4', usage=None)\n",
      "ChatCompletionChunk(id='b637ad5a-c6cb-4dc3-9d5c-0eb02843e780', choices=[Choice(delta=ChoiceDelta(content='而不', function_call=None, refusal=None, role=None, tool_calls=None), finish_reason=None, index=0, logprobs=None)], created=1737821801, model='deepseek-chat', object='chat.completion.chunk', service_tier=None, system_fingerprint='fp_3a5770e1b4', usage=None)\n",
      "ChatCompletionChunk(id='b637ad5a-c6cb-4dc3-9d5c-0eb02843e780', choices=[Choice(delta=ChoiceDelta(content='直接', function_call=None, refusal=None, role=None, tool_calls=None), finish_reason=None, index=0, logprobs=None)], created=1737821801, model='deepseek-chat', object='chat.completion.chunk', service_tier=None, system_fingerprint='fp_3a5770e1b4', usage=None)\n",
      "ChatCompletionChunk(id='b637ad5a-c6cb-4dc3-9d5c-0eb02843e780', choices=[Choice(delta=ChoiceDelta(content='修改', function_call=None, refusal=None, role=None, tool_calls=None), finish_reason=None, index=0, logprobs=None)], created=1737821801, model='deepseek-chat', object='chat.completion.chunk', service_tier=None, system_fingerprint='fp_3a5770e1b4', usage=None)\n",
      "ChatCompletionChunk(id='b637ad5a-c6cb-4dc3-9d5c-0eb02843e780', choices=[Choice(delta=ChoiceDelta(content='模型', function_call=None, refusal=None, role=None, tool_calls=None), finish_reason=None, index=0, logprobs=None)], created=1737821801, model='deepseek-chat', object='chat.completion.chunk', service_tier=None, system_fingerprint='fp_3a5770e1b4', usage=None)\n",
      "ChatCompletionChunk(id='b637ad5a-c6cb-4dc3-9d5c-0eb02843e780', choices=[Choice(delta=ChoiceDelta(content='参数', function_call=None, refusal=None, role=None, tool_calls=None), finish_reason=None, index=0, logprobs=None)], created=1737821801, model='deepseek-chat', object='chat.completion.chunk', service_tier=None, system_fingerprint='fp_3a5770e1b4', usage=None)\n",
      "ChatCompletionChunk(id='b637ad5a-c6cb-4dc3-9d5c-0eb02843e780', choices=[Choice(delta=ChoiceDelta(content='。\\n', function_call=None, refusal=None, role=None, tool_calls=None), finish_reason=None, index=0, logprobs=None)], created=1737821801, model='deepseek-chat', object='chat.completion.chunk', service_tier=None, system_fingerprint='fp_3a5770e1b4', usage=None)\n",
      "ChatCompletionChunk(id='b637ad5a-c6cb-4dc3-9d5c-0eb02843e780', choices=[Choice(delta=ChoiceDelta(content='  ', function_call=None, refusal=None, role=None, tool_calls=None), finish_reason=None, index=0, logprobs=None)], created=1737821801, model='deepseek-chat', object='chat.completion.chunk', service_tier=None, system_fingerprint='fp_3a5770e1b4', usage=None)\n",
      "ChatCompletionChunk(id='b637ad5a-c6cb-4dc3-9d5c-0eb02843e780', choices=[Choice(delta=ChoiceDelta(content=' -', function_call=None, refusal=None, role=None, tool_calls=None), finish_reason=None, index=0, logprobs=None)], created=1737821801, model='deepseek-chat', object='chat.completion.chunk', service_tier=None, system_fingerprint='fp_3a5770e1b4', usage=None)\n",
      "ChatCompletionChunk(id='b637ad5a-c6cb-4dc3-9d5c-0eb02843e780', choices=[Choice(delta=ChoiceDelta(content=' **', function_call=None, refusal=None, role=None, tool_calls=None), finish_reason=None, index=0, logprobs=None)], created=1737821801, model='deepseek-chat', object='chat.completion.chunk', service_tier=None, system_fingerprint='fp_3a5770e1b4', usage=None)\n",
      "ChatCompletionChunk(id='b637ad5a-c6cb-4dc3-9d5c-0eb02843e780', choices=[Choice(delta=ChoiceDelta(content='优点', function_call=None, refusal=None, role=None, tool_calls=None), finish_reason=None, index=0, logprobs=None)], created=1737821801, model='deepseek-chat', object='chat.completion.chunk', service_tier=None, system_fingerprint='fp_3a5770e1b4', usage=None)\n",
      "ChatCompletionChunk(id='b637ad5a-c6cb-4dc3-9d5c-0eb02843e780', choices=[Choice(delta=ChoiceDelta(content='**', function_call=None, refusal=None, role=None, tool_calls=None), finish_reason=None, index=0, logprobs=None)], created=1737821801, model='deepseek-chat', object='chat.completion.chunk', service_tier=None, system_fingerprint='fp_3a5770e1b4', usage=None)\n",
      "ChatCompletionChunk(id='b637ad5a-c6cb-4dc3-9d5c-0eb02843e780', choices=[Choice(delta=ChoiceDelta(content='：', function_call=None, refusal=None, role=None, tool_calls=None), finish_reason=None, index=0, logprobs=None)], created=1737821801, model='deepseek-chat', object='chat.completion.chunk', service_tier=None, system_fingerprint='fp_3a5770e1b4', usage=None)\n",
      "ChatCompletionChunk(id='b637ad5a-c6cb-4dc3-9d5c-0eb02843e780', choices=[Choice(delta=ChoiceDelta(content='无需', function_call=None, refusal=None, role=None, tool_calls=None), finish_reason=None, index=0, logprobs=None)], created=1737821801, model='deepseek-chat', object='chat.completion.chunk', service_tier=None, system_fingerprint='fp_3a5770e1b4', usage=None)\n",
      "ChatCompletionChunk(id='b637ad5a-c6cb-4dc3-9d5c-0eb02843e780', choices=[Choice(delta=ChoiceDelta(content='修改', function_call=None, refusal=None, role=None, tool_calls=None), finish_reason=None, index=0, logprobs=None)], created=1737821801, model='deepseek-chat', object='chat.completion.chunk', service_tier=None, system_fingerprint='fp_3a5770e1b4', usage=None)\n",
      "ChatCompletionChunk(id='b637ad5a-c6cb-4dc3-9d5c-0eb02843e780', choices=[Choice(delta=ChoiceDelta(content='模型', function_call=None, refusal=None, role=None, tool_calls=None), finish_reason=None, index=0, logprobs=None)], created=1737821801, model='deepseek-chat', object='chat.completion.chunk', service_tier=None, system_fingerprint='fp_3a5770e1b4', usage=None)\n",
      "ChatCompletionChunk(id='b637ad5a-c6cb-4dc3-9d5c-0eb02843e780', choices=[Choice(delta=ChoiceDelta(content='参数', function_call=None, refusal=None, role=None, tool_calls=None), finish_reason=None, index=0, logprobs=None)], created=1737821801, model='deepseek-chat', object='chat.completion.chunk', service_tier=None, system_fingerprint='fp_3a5770e1b4', usage=None)\n",
      "ChatCompletionChunk(id='b637ad5a-c6cb-4dc3-9d5c-0eb02843e780', choices=[Choice(delta=ChoiceDelta(content='，', function_call=None, refusal=None, role=None, tool_calls=None), finish_reason=None, index=0, logprobs=None)], created=1737821801, model='deepseek-chat', object='chat.completion.chunk', service_tier=None, system_fingerprint='fp_3a5770e1b4', usage=None)\n",
      "ChatCompletionChunk(id='b637ad5a-c6cb-4dc3-9d5c-0eb02843e780', choices=[Choice(delta=ChoiceDelta(content='适合', function_call=None, refusal=None, role=None, tool_calls=None), finish_reason=None, index=0, logprobs=None)], created=1737821801, model='deepseek-chat', object='chat.completion.chunk', service_tier=None, system_fingerprint='fp_3a5770e1b4', usage=None)\n",
      "ChatCompletionChunk(id='b637ad5a-c6cb-4dc3-9d5c-0eb02843e780', choices=[Choice(delta=ChoiceDelta(content='少', function_call=None, refusal=None, role=None, tool_calls=None), finish_reason=None, index=0, logprobs=None)], created=1737821801, model='deepseek-chat', object='chat.completion.chunk', service_tier=None, system_fingerprint='fp_3a5770e1b4', usage=None)\n",
      "ChatCompletionChunk(id='b637ad5a-c6cb-4dc3-9d5c-0eb02843e780', choices=[Choice(delta=ChoiceDelta(content='样本', function_call=None, refusal=None, role=None, tool_calls=None), finish_reason=None, index=0, logprobs=None)], created=1737821801, model='deepseek-chat', object='chat.completion.chunk', service_tier=None, system_fingerprint='fp_3a5770e1b4', usage=None)\n",
      "ChatCompletionChunk(id='b637ad5a-c6cb-4dc3-9d5c-0eb02843e780', choices=[Choice(delta=ChoiceDelta(content='学习', function_call=None, refusal=None, role=None, tool_calls=None), finish_reason=None, index=0, logprobs=None)], created=1737821801, model='deepseek-chat', object='chat.completion.chunk', service_tier=None, system_fingerprint='fp_3a5770e1b4', usage=None)\n",
      "ChatCompletionChunk(id='b637ad5a-c6cb-4dc3-9d5c-0eb02843e780', choices=[Choice(delta=ChoiceDelta(content='。\\n', function_call=None, refusal=None, role=None, tool_calls=None), finish_reason=None, index=0, logprobs=None)], created=1737821801, model='deepseek-chat', object='chat.completion.chunk', service_tier=None, system_fingerprint='fp_3a5770e1b4', usage=None)\n",
      "ChatCompletionChunk(id='b637ad5a-c6cb-4dc3-9d5c-0eb02843e780', choices=[Choice(delta=ChoiceDelta(content='  ', function_call=None, refusal=None, role=None, tool_calls=None), finish_reason=None, index=0, logprobs=None)], created=1737821801, model='deepseek-chat', object='chat.completion.chunk', service_tier=None, system_fingerprint='fp_3a5770e1b4', usage=None)\n",
      "ChatCompletionChunk(id='b637ad5a-c6cb-4dc3-9d5c-0eb02843e780', choices=[Choice(delta=ChoiceDelta(content=' -', function_call=None, refusal=None, role=None, tool_calls=None), finish_reason=None, index=0, logprobs=None)], created=1737821801, model='deepseek-chat', object='chat.completion.chunk', service_tier=None, system_fingerprint='fp_3a5770e1b4', usage=None)\n",
      "ChatCompletionChunk(id='b637ad5a-c6cb-4dc3-9d5c-0eb02843e780', choices=[Choice(delta=ChoiceDelta(content=' **', function_call=None, refusal=None, role=None, tool_calls=None), finish_reason=None, index=0, logprobs=None)], created=1737821801, model='deepseek-chat', object='chat.completion.chunk', service_tier=None, system_fingerprint='fp_3a5770e1b4', usage=None)\n",
      "ChatCompletionChunk(id='b637ad5a-c6cb-4dc3-9d5c-0eb02843e780', choices=[Choice(delta=ChoiceDelta(content='缺点', function_call=None, refusal=None, role=None, tool_calls=None), finish_reason=None, index=0, logprobs=None)], created=1737821801, model='deepseek-chat', object='chat.completion.chunk', service_tier=None, system_fingerprint='fp_3a5770e1b4', usage=None)\n",
      "ChatCompletionChunk(id='b637ad5a-c6cb-4dc3-9d5c-0eb02843e780', choices=[Choice(delta=ChoiceDelta(content='**', function_call=None, refusal=None, role=None, tool_calls=None), finish_reason=None, index=0, logprobs=None)], created=1737821801, model='deepseek-chat', object='chat.completion.chunk', service_tier=None, system_fingerprint='fp_3a5770e1b4', usage=None)\n",
      "ChatCompletionChunk(id='b637ad5a-c6cb-4dc3-9d5c-0eb02843e780', choices=[Choice(delta=ChoiceDelta(content='：', function_call=None, refusal=None, role=None, tool_calls=None), finish_reason=None, index=0, logprobs=None)], created=1737821801, model='deepseek-chat', object='chat.completion.chunk', service_tier=None, system_fingerprint='fp_3a5770e1b4', usage=None)\n",
      "ChatCompletionChunk(id='b637ad5a-c6cb-4dc3-9d5c-0eb02843e780', choices=[Choice(delta=ChoiceDelta(content='提示', function_call=None, refusal=None, role=None, tool_calls=None), finish_reason=None, index=0, logprobs=None)], created=1737821801, model='deepseek-chat', object='chat.completion.chunk', service_tier=None, system_fingerprint='fp_3a5770e1b4', usage=None)\n",
      "ChatCompletionChunk(id='b637ad5a-c6cb-4dc3-9d5c-0eb02843e780', choices=[Choice(delta=ChoiceDelta(content='设计', function_call=None, refusal=None, role=None, tool_calls=None), finish_reason=None, index=0, logprobs=None)], created=1737821801, model='deepseek-chat', object='chat.completion.chunk', service_tier=None, system_fingerprint='fp_3a5770e1b4', usage=None)\n",
      "ChatCompletionChunk(id='b637ad5a-c6cb-4dc3-9d5c-0eb02843e780', choices=[Choice(delta=ChoiceDelta(content='需要', function_call=None, refusal=None, role=None, tool_calls=None), finish_reason=None, index=0, logprobs=None)], created=1737821801, model='deepseek-chat', object='chat.completion.chunk', service_tier=None, system_fingerprint='fp_3a5770e1b4', usage=None)\n",
      "ChatCompletionChunk(id='b637ad5a-c6cb-4dc3-9d5c-0eb02843e780', choices=[Choice(delta=ChoiceDelta(content='技巧', function_call=None, refusal=None, role=None, tool_calls=None), finish_reason=None, index=0, logprobs=None)], created=1737821801, model='deepseek-chat', object='chat.completion.chunk', service_tier=None, system_fingerprint='fp_3a5770e1b4', usage=None)\n",
      "ChatCompletionChunk(id='b637ad5a-c6cb-4dc3-9d5c-0eb02843e780', choices=[Choice(delta=ChoiceDelta(content='，', function_call=None, refusal=None, role=None, tool_calls=None), finish_reason=None, index=0, logprobs=None)], created=1737821801, model='deepseek-chat', object='chat.completion.chunk', service_tier=None, system_fingerprint='fp_3a5770e1b4', usage=None)\n",
      "ChatCompletionChunk(id='b637ad5a-c6cb-4dc3-9d5c-0eb02843e780', choices=[Choice(delta=ChoiceDelta(content='可能', function_call=None, refusal=None, role=None, tool_calls=None), finish_reason=None, index=0, logprobs=None)], created=1737821801, model='deepseek-chat', object='chat.completion.chunk', service_tier=None, system_fingerprint='fp_3a5770e1b4', usage=None)\n",
      "ChatCompletionChunk(id='b637ad5a-c6cb-4dc3-9d5c-0eb02843e780', choices=[Choice(delta=ChoiceDelta(content='无法', function_call=None, refusal=None, role=None, tool_calls=None), finish_reason=None, index=0, logprobs=None)], created=1737821801, model='deepseek-chat', object='chat.completion.chunk', service_tier=None, system_fingerprint='fp_3a5770e1b4', usage=None)\n",
      "ChatCompletionChunk(id='b637ad5a-c6cb-4dc3-9d5c-0eb02843e780', choices=[Choice(delta=ChoiceDelta(content='完全', function_call=None, refusal=None, role=None, tool_calls=None), finish_reason=None, index=0, logprobs=None)], created=1737821801, model='deepseek-chat', object='chat.completion.chunk', service_tier=None, system_fingerprint='fp_3a5770e1b4', usage=None)\n",
      "ChatCompletionChunk(id='b637ad5a-c6cb-4dc3-9d5c-0eb02843e780', choices=[Choice(delta=ChoiceDelta(content='适应', function_call=None, refusal=None, role=None, tool_calls=None), finish_reason=None, index=0, logprobs=None)], created=1737821801, model='deepseek-chat', object='chat.completion.chunk', service_tier=None, system_fingerprint='fp_3a5770e1b4', usage=None)\n",
      "ChatCompletionChunk(id='b637ad5a-c6cb-4dc3-9d5c-0eb02843e780', choices=[Choice(delta=ChoiceDelta(content='复杂', function_call=None, refusal=None, role=None, tool_calls=None), finish_reason=None, index=0, logprobs=None)], created=1737821801, model='deepseek-chat', object='chat.completion.chunk', service_tier=None, system_fingerprint='fp_3a5770e1b4', usage=None)\n",
      "ChatCompletionChunk(id='b637ad5a-c6cb-4dc3-9d5c-0eb02843e780', choices=[Choice(delta=ChoiceDelta(content='任务', function_call=None, refusal=None, role=None, tool_calls=None), finish_reason=None, index=0, logprobs=None)], created=1737821801, model='deepseek-chat', object='chat.completion.chunk', service_tier=None, system_fingerprint='fp_3a5770e1b4', usage=None)\n",
      "ChatCompletionChunk(id='b637ad5a-c6cb-4dc3-9d5c-0eb02843e780', choices=[Choice(delta=ChoiceDelta(content='。\\n\\n', function_call=None, refusal=None, role=None, tool_calls=None), finish_reason=None, index=0, logprobs=None)], created=1737821801, model='deepseek-chat', object='chat.completion.chunk', service_tier=None, system_fingerprint='fp_3a5770e1b4', usage=None)\n",
      "ChatCompletionChunk(id='b637ad5a-c6cb-4dc3-9d5c-0eb02843e780', choices=[Choice(delta=ChoiceDelta(content='###', function_call=None, refusal=None, role=None, tool_calls=None), finish_reason=None, index=0, logprobs=None)], created=1737821801, model='deepseek-chat', object='chat.completion.chunk', service_tier=None, system_fingerprint='fp_3a5770e1b4', usage=None)\n",
      "ChatCompletionChunk(id='b637ad5a-c6cb-4dc3-9d5c-0eb02843e780', choices=[Choice(delta=ChoiceDelta(content=' ', function_call=None, refusal=None, role=None, tool_calls=None), finish_reason=None, index=0, logprobs=None)], created=1737821801, model='deepseek-chat', object='chat.completion.chunk', service_tier=None, system_fingerprint='fp_3a5770e1b4', usage=None)\n",
      "ChatCompletionChunk(id='b637ad5a-c6cb-4dc3-9d5c-0eb02843e780', choices=[Choice(delta=ChoiceDelta(content='6', function_call=None, refusal=None, role=None, tool_calls=None), finish_reason=None, index=0, logprobs=None)], created=1737821801, model='deepseek-chat', object='chat.completion.chunk', service_tier=None, system_fingerprint='fp_3a5770e1b4', usage=None)\n",
      "ChatCompletionChunk(id='b637ad5a-c6cb-4dc3-9d5c-0eb02843e780', choices=[Choice(delta=ChoiceDelta(content='.', function_call=None, refusal=None, role=None, tool_calls=None), finish_reason=None, index=0, logprobs=None)], created=1737821801, model='deepseek-chat', object='chat.completion.chunk', service_tier=None, system_fingerprint='fp_3a5770e1b4', usage=None)\n",
      "ChatCompletionChunk(id='b637ad5a-c6cb-4dc3-9d5c-0eb02843e780', choices=[Choice(delta=ChoiceDelta(content=' **', function_call=None, refusal=None, role=None, tool_calls=None), finish_reason=None, index=0, logprobs=None)], created=1737821801, model='deepseek-chat', object='chat.completion.chunk', service_tier=None, system_fingerprint='fp_3a5770e1b4', usage=None)\n",
      "ChatCompletionChunk(id='b637ad5a-c6cb-4dc3-9d5c-0eb02843e780', choices=[Choice(delta=ChoiceDelta(content='低', function_call=None, refusal=None, role=None, tool_calls=None), finish_reason=None, index=0, logprobs=None)], created=1737821801, model='deepseek-chat', object='chat.completion.chunk', service_tier=None, system_fingerprint='fp_3a5770e1b4', usage=None)\n",
      "ChatCompletionChunk(id='b637ad5a-c6cb-4dc3-9d5c-0eb02843e780', choices=[Choice(delta=ChoiceDelta(content='秩', function_call=None, refusal=None, role=None, tool_calls=None), finish_reason=None, index=0, logprobs=None)], created=1737821801, model='deepseek-chat', object='chat.completion.chunk', service_tier=None, system_fingerprint='fp_3a5770e1b4', usage=None)\n",
      "ChatCompletionChunk(id='b637ad5a-c6cb-4dc3-9d5c-0eb02843e780', choices=[Choice(delta=ChoiceDelta(content='适应', function_call=None, refusal=None, role=None, tool_calls=None), finish_reason=None, index=0, logprobs=None)], created=1737821801, model='deepseek-chat', object='chat.completion.chunk', service_tier=None, system_fingerprint='fp_3a5770e1b4', usage=None)\n",
      "ChatCompletionChunk(id='b637ad5a-c6cb-4dc3-9d5c-0eb02843e780', choices=[Choice(delta=ChoiceDelta(content='（', function_call=None, refusal=None, role=None, tool_calls=None), finish_reason=None, index=0, logprobs=None)], created=1737821801, model='deepseek-chat', object='chat.completion.chunk', service_tier=None, system_fingerprint='fp_3a5770e1b4', usage=None)\n",
      "ChatCompletionChunk(id='b637ad5a-c6cb-4dc3-9d5c-0eb02843e780', choices=[Choice(delta=ChoiceDelta(content='Low', function_call=None, refusal=None, role=None, tool_calls=None), finish_reason=None, index=0, logprobs=None)], created=1737821801, model='deepseek-chat', object='chat.completion.chunk', service_tier=None, system_fingerprint='fp_3a5770e1b4', usage=None)\n",
      "ChatCompletionChunk(id='b637ad5a-c6cb-4dc3-9d5c-0eb02843e780', choices=[Choice(delta=ChoiceDelta(content='-R', function_call=None, refusal=None, role=None, tool_calls=None), finish_reason=None, index=0, logprobs=None)], created=1737821801, model='deepseek-chat', object='chat.completion.chunk', service_tier=None, system_fingerprint='fp_3a5770e1b4', usage=None)\n",
      "ChatCompletionChunk(id='b637ad5a-c6cb-4dc3-9d5c-0eb02843e780', choices=[Choice(delta=ChoiceDelta(content='ank', function_call=None, refusal=None, role=None, tool_calls=None), finish_reason=None, index=0, logprobs=None)], created=1737821801, model='deepseek-chat', object='chat.completion.chunk', service_tier=None, system_fingerprint='fp_3a5770e1b4', usage=None)\n",
      "ChatCompletionChunk(id='b637ad5a-c6cb-4dc3-9d5c-0eb02843e780', choices=[Choice(delta=ChoiceDelta(content=' Adaptation', function_call=None, refusal=None, role=None, tool_calls=None), finish_reason=None, index=0, logprobs=None)], created=1737821801, model='deepseek-chat', object='chat.completion.chunk', service_tier=None, system_fingerprint='fp_3a5770e1b4', usage=None)\n",
      "ChatCompletionChunk(id='b637ad5a-c6cb-4dc3-9d5c-0eb02843e780', choices=[Choice(delta=ChoiceDelta(content=',', function_call=None, refusal=None, role=None, tool_calls=None), finish_reason=None, index=0, logprobs=None)], created=1737821801, model='deepseek-chat', object='chat.completion.chunk', service_tier=None, system_fingerprint='fp_3a5770e1b4', usage=None)\n",
      "ChatCompletionChunk(id='b637ad5a-c6cb-4dc3-9d5c-0eb02843e780', choices=[Choice(delta=ChoiceDelta(content=' Lo', function_call=None, refusal=None, role=None, tool_calls=None), finish_reason=None, index=0, logprobs=None)], created=1737821801, model='deepseek-chat', object='chat.completion.chunk', service_tier=None, system_fingerprint='fp_3a5770e1b4', usage=None)\n",
      "ChatCompletionChunk(id='b637ad5a-c6cb-4dc3-9d5c-0eb02843e780', choices=[Choice(delta=ChoiceDelta(content='RA', function_call=None, refusal=None, role=None, tool_calls=None), finish_reason=None, index=0, logprobs=None)], created=1737821801, model='deepseek-chat', object='chat.completion.chunk', service_tier=None, system_fingerprint='fp_3a5770e1b4', usage=None)\n",
      "ChatCompletionChunk(id='b637ad5a-c6cb-4dc3-9d5c-0eb02843e780', choices=[Choice(delta=ChoiceDelta(content='）', function_call=None, refusal=None, role=None, tool_calls=None), finish_reason=None, index=0, logprobs=None)], created=1737821801, model='deepseek-chat', object='chat.completion.chunk', service_tier=None, system_fingerprint='fp_3a5770e1b4', usage=None)\n",
      "ChatCompletionChunk(id='b637ad5a-c6cb-4dc3-9d5c-0eb02843e780', choices=[Choice(delta=ChoiceDelta(content='**\\n', function_call=None, refusal=None, role=None, tool_calls=None), finish_reason=None, index=0, logprobs=None)], created=1737821801, model='deepseek-chat', object='chat.completion.chunk', service_tier=None, system_fingerprint='fp_3a5770e1b4', usage=None)\n",
      "ChatCompletionChunk(id='b637ad5a-c6cb-4dc3-9d5c-0eb02843e780', choices=[Choice(delta=ChoiceDelta(content='  ', function_call=None, refusal=None, role=None, tool_calls=None), finish_reason=None, index=0, logprobs=None)], created=1737821801, model='deepseek-chat', object='chat.completion.chunk', service_tier=None, system_fingerprint='fp_3a5770e1b4', usage=None)\n",
      "ChatCompletionChunk(id='b637ad5a-c6cb-4dc3-9d5c-0eb02843e780', choices=[Choice(delta=ChoiceDelta(content=' -', function_call=None, refusal=None, role=None, tool_calls=None), finish_reason=None, index=0, logprobs=None)], created=1737821801, model='deepseek-chat', object='chat.completion.chunk', service_tier=None, system_fingerprint='fp_3a5770e1b4', usage=None)\n",
      "ChatCompletionChunk(id='b637ad5a-c6cb-4dc3-9d5c-0eb02843e780', choices=[Choice(delta=ChoiceDelta(content=' **', function_call=None, refusal=None, role=None, tool_calls=None), finish_reason=None, index=0, logprobs=None)], created=1737821801, model='deepseek-chat', object='chat.completion.chunk', service_tier=None, system_fingerprint='fp_3a5770e1b4', usage=None)\n",
      "ChatCompletionChunk(id='b637ad5a-c6cb-4dc3-9d5c-0eb02843e780', choices=[Choice(delta=ChoiceDelta(content='描述', function_call=None, refusal=None, role=None, tool_calls=None), finish_reason=None, index=0, logprobs=None)], created=1737821801, model='deepseek-chat', object='chat.completion.chunk', service_tier=None, system_fingerprint='fp_3a5770e1b4', usage=None)\n",
      "ChatCompletionChunk(id='b637ad5a-c6cb-4dc3-9d5c-0eb02843e780', choices=[Choice(delta=ChoiceDelta(content='**', function_call=None, refusal=None, role=None, tool_calls=None), finish_reason=None, index=0, logprobs=None)], created=1737821801, model='deepseek-chat', object='chat.completion.chunk', service_tier=None, system_fingerprint='fp_3a5770e1b4', usage=None)\n",
      "ChatCompletionChunk(id='b637ad5a-c6cb-4dc3-9d5c-0eb02843e780', choices=[Choice(delta=ChoiceDelta(content='：', function_call=None, refusal=None, role=None, tool_calls=None), finish_reason=None, index=0, logprobs=None)], created=1737821801, model='deepseek-chat', object='chat.completion.chunk', service_tier=None, system_fingerprint='fp_3a5770e1b4', usage=None)\n",
      "ChatCompletionChunk(id='b637ad5a-c6cb-4dc3-9d5c-0eb02843e780', choices=[Choice(delta=ChoiceDelta(content='通过', function_call=None, refusal=None, role=None, tool_calls=None), finish_reason=None, index=0, logprobs=None)], created=1737821801, model='deepseek-chat', object='chat.completion.chunk', service_tier=None, system_fingerprint='fp_3a5770e1b4', usage=None)\n",
      "ChatCompletionChunk(id='b637ad5a-c6cb-4dc3-9d5c-0eb02843e780', choices=[Choice(delta=ChoiceDelta(content='低', function_call=None, refusal=None, role=None, tool_calls=None), finish_reason=None, index=0, logprobs=None)], created=1737821801, model='deepseek-chat', object='chat.completion.chunk', service_tier=None, system_fingerprint='fp_3a5770e1b4', usage=None)\n",
      "ChatCompletionChunk(id='b637ad5a-c6cb-4dc3-9d5c-0eb02843e780', choices=[Choice(delta=ChoiceDelta(content='秩', function_call=None, refusal=None, role=None, tool_calls=None), finish_reason=None, index=0, logprobs=None)], created=1737821801, model='deepseek-chat', object='chat.completion.chunk', service_tier=None, system_fingerprint='fp_3a5770e1b4', usage=None)\n",
      "ChatCompletionChunk(id='b637ad5a-c6cb-4dc3-9d5c-0eb02843e780', choices=[Choice(delta=ChoiceDelta(content='分解', function_call=None, refusal=None, role=None, tool_calls=None), finish_reason=None, index=0, logprobs=None)], created=1737821801, model='deepseek-chat', object='chat.completion.chunk', service_tier=None, system_fingerprint='fp_3a5770e1b4', usage=None)\n",
      "ChatCompletionChunk(id='b637ad5a-c6cb-4dc3-9d5c-0eb02843e780', choices=[Choice(delta=ChoiceDelta(content='来', function_call=None, refusal=None, role=None, tool_calls=None), finish_reason=None, index=0, logprobs=None)], created=1737821801, model='deepseek-chat', object='chat.completion.chunk', service_tier=None, system_fingerprint='fp_3a5770e1b4', usage=None)\n",
      "ChatCompletionChunk(id='b637ad5a-c6cb-4dc3-9d5c-0eb02843e780', choices=[Choice(delta=ChoiceDelta(content='微', function_call=None, refusal=None, role=None, tool_calls=None), finish_reason=None, index=0, logprobs=None)], created=1737821801, model='deepseek-chat', object='chat.completion.chunk', service_tier=None, system_fingerprint='fp_3a5770e1b4', usage=None)\n",
      "ChatCompletionChunk(id='b637ad5a-c6cb-4dc3-9d5c-0eb02843e780', choices=[Choice(delta=ChoiceDelta(content='调', function_call=None, refusal=None, role=None, tool_calls=None), finish_reason=None, index=0, logprobs=None)], created=1737821801, model='deepseek-chat', object='chat.completion.chunk', service_tier=None, system_fingerprint='fp_3a5770e1b4', usage=None)\n",
      "ChatCompletionChunk(id='b637ad5a-c6cb-4dc3-9d5c-0eb02843e780', choices=[Choice(delta=ChoiceDelta(content='模型', function_call=None, refusal=None, role=None, tool_calls=None), finish_reason=None, index=0, logprobs=None)], created=1737821801, model='deepseek-chat', object='chat.completion.chunk', service_tier=None, system_fingerprint='fp_3a5770e1b4', usage=None)\n",
      "ChatCompletionChunk(id='b637ad5a-c6cb-4dc3-9d5c-0eb02843e780', choices=[Choice(delta=ChoiceDelta(content='参数', function_call=None, refusal=None, role=None, tool_calls=None), finish_reason=None, index=0, logprobs=None)], created=1737821801, model='deepseek-chat', object='chat.completion.chunk', service_tier=None, system_fingerprint='fp_3a5770e1b4', usage=None)\n",
      "ChatCompletionChunk(id='b637ad5a-c6cb-4dc3-9d5c-0eb02843e780', choices=[Choice(delta=ChoiceDelta(content='，', function_call=None, refusal=None, role=None, tool_calls=None), finish_reason=None, index=0, logprobs=None)], created=1737821801, model='deepseek-chat', object='chat.completion.chunk', service_tier=None, system_fingerprint='fp_3a5770e1b4', usage=None)\n",
      "ChatCompletionChunk(id='b637ad5a-c6cb-4dc3-9d5c-0eb02843e780', choices=[Choice(delta=ChoiceDelta(content='减少', function_call=None, refusal=None, role=None, tool_calls=None), finish_reason=None, index=0, logprobs=None)], created=1737821801, model='deepseek-chat', object='chat.completion.chunk', service_tier=None, system_fingerprint='fp_3a5770e1b4', usage=None)\n",
      "ChatCompletionChunk(id='b637ad5a-c6cb-4dc3-9d5c-0eb02843e780', choices=[Choice(delta=ChoiceDelta(content='参', function_call=None, refusal=None, role=None, tool_calls=None), finish_reason=None, index=0, logprobs=None)], created=1737821801, model='deepseek-chat', object='chat.completion.chunk', service_tier=None, system_fingerprint='fp_3a5770e1b4', usage=None)\n",
      "ChatCompletionChunk(id='b637ad5a-c6cb-4dc3-9d5c-0eb02843e780', choices=[Choice(delta=ChoiceDelta(content='数量和', function_call=None, refusal=None, role=None, tool_calls=None), finish_reason=None, index=0, logprobs=None)], created=1737821801, model='deepseek-chat', object='chat.completion.chunk', service_tier=None, system_fingerprint='fp_3a5770e1b4', usage=None)\n",
      "ChatCompletionChunk(id='b637ad5a-c6cb-4dc3-9d5c-0eb02843e780', choices=[Choice(delta=ChoiceDelta(content='计算', function_call=None, refusal=None, role=None, tool_calls=None), finish_reason=None, index=0, logprobs=None)], created=1737821801, model='deepseek-chat', object='chat.completion.chunk', service_tier=None, system_fingerprint='fp_3a5770e1b4', usage=None)\n",
      "ChatCompletionChunk(id='b637ad5a-c6cb-4dc3-9d5c-0eb02843e780', choices=[Choice(delta=ChoiceDelta(content='量', function_call=None, refusal=None, role=None, tool_calls=None), finish_reason=None, index=0, logprobs=None)], created=1737821801, model='deepseek-chat', object='chat.completion.chunk', service_tier=None, system_fingerprint='fp_3a5770e1b4', usage=None)\n",
      "ChatCompletionChunk(id='b637ad5a-c6cb-4dc3-9d5c-0eb02843e780', choices=[Choice(delta=ChoiceDelta(content='。\\n', function_call=None, refusal=None, role=None, tool_calls=None), finish_reason=None, index=0, logprobs=None)], created=1737821801, model='deepseek-chat', object='chat.completion.chunk', service_tier=None, system_fingerprint='fp_3a5770e1b4', usage=None)\n",
      "ChatCompletionChunk(id='b637ad5a-c6cb-4dc3-9d5c-0eb02843e780', choices=[Choice(delta=ChoiceDelta(content='  ', function_call=None, refusal=None, role=None, tool_calls=None), finish_reason=None, index=0, logprobs=None)], created=1737821801, model='deepseek-chat', object='chat.completion.chunk', service_tier=None, system_fingerprint='fp_3a5770e1b4', usage=None)\n",
      "ChatCompletionChunk(id='b637ad5a-c6cb-4dc3-9d5c-0eb02843e780', choices=[Choice(delta=ChoiceDelta(content=' -', function_call=None, refusal=None, role=None, tool_calls=None), finish_reason=None, index=0, logprobs=None)], created=1737821801, model='deepseek-chat', object='chat.completion.chunk', service_tier=None, system_fingerprint='fp_3a5770e1b4', usage=None)\n",
      "ChatCompletionChunk(id='b637ad5a-c6cb-4dc3-9d5c-0eb02843e780', choices=[Choice(delta=ChoiceDelta(content=' **', function_call=None, refusal=None, role=None, tool_calls=None), finish_reason=None, index=0, logprobs=None)], created=1737821801, model='deepseek-chat', object='chat.completion.chunk', service_tier=None, system_fingerprint='fp_3a5770e1b4', usage=None)\n",
      "ChatCompletionChunk(id='b637ad5a-c6cb-4dc3-9d5c-0eb02843e780', choices=[Choice(delta=ChoiceDelta(content='优点', function_call=None, refusal=None, role=None, tool_calls=None), finish_reason=None, index=0, logprobs=None)], created=1737821801, model='deepseek-chat', object='chat.completion.chunk', service_tier=None, system_fingerprint='fp_3a5770e1b4', usage=None)\n",
      "ChatCompletionChunk(id='b637ad5a-c6cb-4dc3-9d5c-0eb02843e780', choices=[Choice(delta=ChoiceDelta(content='**', function_call=None, refusal=None, role=None, tool_calls=None), finish_reason=None, index=0, logprobs=None)], created=1737821801, model='deepseek-chat', object='chat.completion.chunk', service_tier=None, system_fingerprint='fp_3a5770e1b4', usage=None)\n",
      "ChatCompletionChunk(id='b637ad5a-c6cb-4dc3-9d5c-0eb02843e780', choices=[Choice(delta=ChoiceDelta(content='：', function_call=None, refusal=None, role=None, tool_calls=None), finish_reason=None, index=0, logprobs=None)], created=1737821801, model='deepseek-chat', object='chat.completion.chunk', service_tier=None, system_fingerprint='fp_3a5770e1b4', usage=None)\n",
      "ChatCompletionChunk(id='b637ad5a-c6cb-4dc3-9d5c-0eb02843e780', choices=[Choice(delta=ChoiceDelta(content='参数', function_call=None, refusal=None, role=None, tool_calls=None), finish_reason=None, index=0, logprobs=None)], created=1737821801, model='deepseek-chat', object='chat.completion.chunk', service_tier=None, system_fingerprint='fp_3a5770e1b4', usage=None)\n",
      "ChatCompletionChunk(id='b637ad5a-c6cb-4dc3-9d5c-0eb02843e780', choices=[Choice(delta=ChoiceDelta(content='效率', function_call=None, refusal=None, role=None, tool_calls=None), finish_reason=None, index=0, logprobs=None)], created=1737821801, model='deepseek-chat', object='chat.completion.chunk', service_tier=None, system_fingerprint='fp_3a5770e1b4', usage=None)\n",
      "ChatCompletionChunk(id='b637ad5a-c6cb-4dc3-9d5c-0eb02843e780', choices=[Choice(delta=ChoiceDelta(content='高', function_call=None, refusal=None, role=None, tool_calls=None), finish_reason=None, index=0, logprobs=None)], created=1737821801, model='deepseek-chat', object='chat.completion.chunk', service_tier=None, system_fingerprint='fp_3a5770e1b4', usage=None)\n",
      "ChatCompletionChunk(id='b637ad5a-c6cb-4dc3-9d5c-0eb02843e780', choices=[Choice(delta=ChoiceDelta(content='，', function_call=None, refusal=None, role=None, tool_calls=None), finish_reason=None, index=0, logprobs=None)], created=1737821801, model='deepseek-chat', object='chat.completion.chunk', service_tier=None, system_fingerprint='fp_3a5770e1b4', usage=None)\n",
      "ChatCompletionChunk(id='b637ad5a-c6cb-4dc3-9d5c-0eb02843e780', choices=[Choice(delta=ChoiceDelta(content='适合', function_call=None, refusal=None, role=None, tool_calls=None), finish_reason=None, index=0, logprobs=None)], created=1737821801, model='deepseek-chat', object='chat.completion.chunk', service_tier=None, system_fingerprint='fp_3a5770e1b4', usage=None)\n",
      "ChatCompletionChunk(id='b637ad5a-c6cb-4dc3-9d5c-0eb02843e780', choices=[Choice(delta=ChoiceDelta(content='大规模', function_call=None, refusal=None, role=None, tool_calls=None), finish_reason=None, index=0, logprobs=None)], created=1737821801, model='deepseek-chat', object='chat.completion.chunk', service_tier=None, system_fingerprint='fp_3a5770e1b4', usage=None)\n",
      "ChatCompletionChunk(id='b637ad5a-c6cb-4dc3-9d5c-0eb02843e780', choices=[Choice(delta=ChoiceDelta(content='模型', function_call=None, refusal=None, role=None, tool_calls=None), finish_reason=None, index=0, logprobs=None)], created=1737821801, model='deepseek-chat', object='chat.completion.chunk', service_tier=None, system_fingerprint='fp_3a5770e1b4', usage=None)\n",
      "ChatCompletionChunk(id='b637ad5a-c6cb-4dc3-9d5c-0eb02843e780', choices=[Choice(delta=ChoiceDelta(content='。\\n', function_call=None, refusal=None, role=None, tool_calls=None), finish_reason=None, index=0, logprobs=None)], created=1737821801, model='deepseek-chat', object='chat.completion.chunk', service_tier=None, system_fingerprint='fp_3a5770e1b4', usage=None)\n",
      "ChatCompletionChunk(id='b637ad5a-c6cb-4dc3-9d5c-0eb02843e780', choices=[Choice(delta=ChoiceDelta(content='  ', function_call=None, refusal=None, role=None, tool_calls=None), finish_reason=None, index=0, logprobs=None)], created=1737821801, model='deepseek-chat', object='chat.completion.chunk', service_tier=None, system_fingerprint='fp_3a5770e1b4', usage=None)\n",
      "ChatCompletionChunk(id='b637ad5a-c6cb-4dc3-9d5c-0eb02843e780', choices=[Choice(delta=ChoiceDelta(content=' -', function_call=None, refusal=None, role=None, tool_calls=None), finish_reason=None, index=0, logprobs=None)], created=1737821801, model='deepseek-chat', object='chat.completion.chunk', service_tier=None, system_fingerprint='fp_3a5770e1b4', usage=None)\n",
      "ChatCompletionChunk(id='b637ad5a-c6cb-4dc3-9d5c-0eb02843e780', choices=[Choice(delta=ChoiceDelta(content=' **', function_call=None, refusal=None, role=None, tool_calls=None), finish_reason=None, index=0, logprobs=None)], created=1737821801, model='deepseek-chat', object='chat.completion.chunk', service_tier=None, system_fingerprint='fp_3a5770e1b4', usage=None)\n",
      "ChatCompletionChunk(id='b637ad5a-c6cb-4dc3-9d5c-0eb02843e780', choices=[Choice(delta=ChoiceDelta(content='缺点', function_call=None, refusal=None, role=None, tool_calls=None), finish_reason=None, index=0, logprobs=None)], created=1737821801, model='deepseek-chat', object='chat.completion.chunk', service_tier=None, system_fingerprint='fp_3a5770e1b4', usage=None)\n",
      "ChatCompletionChunk(id='b637ad5a-c6cb-4dc3-9d5c-0eb02843e780', choices=[Choice(delta=ChoiceDelta(content='**', function_call=None, refusal=None, role=None, tool_calls=None), finish_reason=None, index=0, logprobs=None)], created=1737821801, model='deepseek-chat', object='chat.completion.chunk', service_tier=None, system_fingerprint='fp_3a5770e1b4', usage=None)\n",
      "ChatCompletionChunk(id='b637ad5a-c6cb-4dc3-9d5c-0eb02843e780', choices=[Choice(delta=ChoiceDelta(content='：', function_call=None, refusal=None, role=None, tool_calls=None), finish_reason=None, index=0, logprobs=None)], created=1737821801, model='deepseek-chat', object='chat.completion.chunk', service_tier=None, system_fingerprint='fp_3a5770e1b4', usage=None)\n",
      "ChatCompletionChunk(id='b637ad5a-c6cb-4dc3-9d5c-0eb02843e780', choices=[Choice(delta=ChoiceDelta(content='需要', function_call=None, refusal=None, role=None, tool_calls=None), finish_reason=None, index=0, logprobs=None)], created=1737821801, model='deepseek-chat', object='chat.completion.chunk', service_tier=None, system_fingerprint='fp_3a5770e1b4', usage=None)\n",
      "ChatCompletionChunk(id='b637ad5a-c6cb-4dc3-9d5c-0eb02843e780', choices=[Choice(delta=ChoiceDelta(content='设计', function_call=None, refusal=None, role=None, tool_calls=None), finish_reason=None, index=0, logprobs=None)], created=1737821801, model='deepseek-chat', object='chat.completion.chunk', service_tier=None, system_fingerprint='fp_3a5770e1b4', usage=None)\n",
      "ChatCompletionChunk(id='b637ad5a-c6cb-4dc3-9d5c-0eb02843e780', choices=[Choice(delta=ChoiceDelta(content='低', function_call=None, refusal=None, role=None, tool_calls=None), finish_reason=None, index=0, logprobs=None)], created=1737821801, model='deepseek-chat', object='chat.completion.chunk', service_tier=None, system_fingerprint='fp_3a5770e1b4', usage=None)\n",
      "ChatCompletionChunk(id='b637ad5a-c6cb-4dc3-9d5c-0eb02843e780', choices=[Choice(delta=ChoiceDelta(content='秩', function_call=None, refusal=None, role=None, tool_calls=None), finish_reason=None, index=0, logprobs=None)], created=1737821801, model='deepseek-chat', object='chat.completion.chunk', service_tier=None, system_fingerprint='fp_3a5770e1b4', usage=None)\n",
      "ChatCompletionChunk(id='b637ad5a-c6cb-4dc3-9d5c-0eb02843e780', choices=[Choice(delta=ChoiceDelta(content='分解', function_call=None, refusal=None, role=None, tool_calls=None), finish_reason=None, index=0, logprobs=None)], created=1737821801, model='deepseek-chat', object='chat.completion.chunk', service_tier=None, system_fingerprint='fp_3a5770e1b4', usage=None)\n",
      "ChatCompletionChunk(id='b637ad5a-c6cb-4dc3-9d5c-0eb02843e780', choices=[Choice(delta=ChoiceDelta(content='策略', function_call=None, refusal=None, role=None, tool_calls=None), finish_reason=None, index=0, logprobs=None)], created=1737821801, model='deepseek-chat', object='chat.completion.chunk', service_tier=None, system_fingerprint='fp_3a5770e1b4', usage=None)\n",
      "ChatCompletionChunk(id='b637ad5a-c6cb-4dc3-9d5c-0eb02843e780', choices=[Choice(delta=ChoiceDelta(content='，', function_call=None, refusal=None, role=None, tool_calls=None), finish_reason=None, index=0, logprobs=None)], created=1737821801, model='deepseek-chat', object='chat.completion.chunk', service_tier=None, system_fingerprint='fp_3a5770e1b4', usage=None)\n",
      "ChatCompletionChunk(id='b637ad5a-c6cb-4dc3-9d5c-0eb02843e780', choices=[Choice(delta=ChoiceDelta(content='可能', function_call=None, refusal=None, role=None, tool_calls=None), finish_reason=None, index=0, logprobs=None)], created=1737821801, model='deepseek-chat', object='chat.completion.chunk', service_tier=None, system_fingerprint='fp_3a5770e1b4', usage=None)\n",
      "ChatCompletionChunk(id='b637ad5a-c6cb-4dc3-9d5c-0eb02843e780', choices=[Choice(delta=ChoiceDelta(content='影响', function_call=None, refusal=None, role=None, tool_calls=None), finish_reason=None, index=0, logprobs=None)], created=1737821801, model='deepseek-chat', object='chat.completion.chunk', service_tier=None, system_fingerprint='fp_3a5770e1b4', usage=None)\n",
      "ChatCompletionChunk(id='b637ad5a-c6cb-4dc3-9d5c-0eb02843e780', choices=[Choice(delta=ChoiceDelta(content='模型', function_call=None, refusal=None, role=None, tool_calls=None), finish_reason=None, index=0, logprobs=None)], created=1737821801, model='deepseek-chat', object='chat.completion.chunk', service_tier=None, system_fingerprint='fp_3a5770e1b4', usage=None)\n",
      "ChatCompletionChunk(id='b637ad5a-c6cb-4dc3-9d5c-0eb02843e780', choices=[Choice(delta=ChoiceDelta(content='性能', function_call=None, refusal=None, role=None, tool_calls=None), finish_reason=None, index=0, logprobs=None)], created=1737821801, model='deepseek-chat', object='chat.completion.chunk', service_tier=None, system_fingerprint='fp_3a5770e1b4', usage=None)\n",
      "ChatCompletionChunk(id='b637ad5a-c6cb-4dc3-9d5c-0eb02843e780', choices=[Choice(delta=ChoiceDelta(content='。\\n\\n', function_call=None, refusal=None, role=None, tool_calls=None), finish_reason=None, index=0, logprobs=None)], created=1737821801, model='deepseek-chat', object='chat.completion.chunk', service_tier=None, system_fingerprint='fp_3a5770e1b4', usage=None)\n",
      "ChatCompletionChunk(id='b637ad5a-c6cb-4dc3-9d5c-0eb02843e780', choices=[Choice(delta=ChoiceDelta(content='###', function_call=None, refusal=None, role=None, tool_calls=None), finish_reason=None, index=0, logprobs=None)], created=1737821801, model='deepseek-chat', object='chat.completion.chunk', service_tier=None, system_fingerprint='fp_3a5770e1b4', usage=None)\n",
      "ChatCompletionChunk(id='b637ad5a-c6cb-4dc3-9d5c-0eb02843e780', choices=[Choice(delta=ChoiceDelta(content=' ', function_call=None, refusal=None, role=None, tool_calls=None), finish_reason=None, index=0, logprobs=None)], created=1737821801, model='deepseek-chat', object='chat.completion.chunk', service_tier=None, system_fingerprint='fp_3a5770e1b4', usage=None)\n",
      "ChatCompletionChunk(id='b637ad5a-c6cb-4dc3-9d5c-0eb02843e780', choices=[Choice(delta=ChoiceDelta(content='7', function_call=None, refusal=None, role=None, tool_calls=None), finish_reason=None, index=0, logprobs=None)], created=1737821801, model='deepseek-chat', object='chat.completion.chunk', service_tier=None, system_fingerprint='fp_3a5770e1b4', usage=None)\n",
      "ChatCompletionChunk(id='b637ad5a-c6cb-4dc3-9d5c-0eb02843e780', choices=[Choice(delta=ChoiceDelta(content='.', function_call=None, refusal=None, role=None, tool_calls=None), finish_reason=None, index=0, logprobs=None)], created=1737821801, model='deepseek-chat', object='chat.completion.chunk', service_tier=None, system_fingerprint='fp_3a5770e1b4', usage=None)\n",
      "ChatCompletionChunk(id='b637ad5a-c6cb-4dc3-9d5c-0eb02843e780', choices=[Choice(delta=ChoiceDelta(content=' **', function_call=None, refusal=None, role=None, tool_calls=None), finish_reason=None, index=0, logprobs=None)], created=1737821801, model='deepseek-chat', object='chat.completion.chunk', service_tier=None, system_fingerprint='fp_3a5770e1b4', usage=None)\n",
      "ChatCompletionChunk(id='b637ad5a-c6cb-4dc3-9d5c-0eb02843e780', choices=[Choice(delta=ChoiceDelta(content='知识', function_call=None, refusal=None, role=None, tool_calls=None), finish_reason=None, index=0, logprobs=None)], created=1737821801, model='deepseek-chat', object='chat.completion.chunk', service_tier=None, system_fingerprint='fp_3a5770e1b4', usage=None)\n",
      "ChatCompletionChunk(id='b637ad5a-c6cb-4dc3-9d5c-0eb02843e780', choices=[Choice(delta=ChoiceDelta(content='蒸馏', function_call=None, refusal=None, role=None, tool_calls=None), finish_reason=None, index=0, logprobs=None)], created=1737821801, model='deepseek-chat', object='chat.completion.chunk', service_tier=None, system_fingerprint='fp_3a5770e1b4', usage=None)\n",
      "ChatCompletionChunk(id='b637ad5a-c6cb-4dc3-9d5c-0eb02843e780', choices=[Choice(delta=ChoiceDelta(content='（', function_call=None, refusal=None, role=None, tool_calls=None), finish_reason=None, index=0, logprobs=None)], created=1737821801, model='deepseek-chat', object='chat.completion.chunk', service_tier=None, system_fingerprint='fp_3a5770e1b4', usage=None)\n",
      "ChatCompletionChunk(id='b637ad5a-c6cb-4dc3-9d5c-0eb02843e780', choices=[Choice(delta=ChoiceDelta(content='Knowledge', function_call=None, refusal=None, role=None, tool_calls=None), finish_reason=None, index=0, logprobs=None)], created=1737821801, model='deepseek-chat', object='chat.completion.chunk', service_tier=None, system_fingerprint='fp_3a5770e1b4', usage=None)\n",
      "ChatCompletionChunk(id='b637ad5a-c6cb-4dc3-9d5c-0eb02843e780', choices=[Choice(delta=ChoiceDelta(content=' Dist', function_call=None, refusal=None, role=None, tool_calls=None), finish_reason=None, index=0, logprobs=None)], created=1737821801, model='deepseek-chat', object='chat.completion.chunk', service_tier=None, system_fingerprint='fp_3a5770e1b4', usage=None)\n",
      "ChatCompletionChunk(id='b637ad5a-c6cb-4dc3-9d5c-0eb02843e780', choices=[Choice(delta=ChoiceDelta(content='illation', function_call=None, refusal=None, role=None, tool_calls=None), finish_reason=None, index=0, logprobs=None)], created=1737821801, model='deepseek-chat', object='chat.completion.chunk', service_tier=None, system_fingerprint='fp_3a5770e1b4', usage=None)\n",
      "ChatCompletionChunk(id='b637ad5a-c6cb-4dc3-9d5c-0eb02843e780', choices=[Choice(delta=ChoiceDelta(content='）', function_call=None, refusal=None, role=None, tool_calls=None), finish_reason=None, index=0, logprobs=None)], created=1737821801, model='deepseek-chat', object='chat.completion.chunk', service_tier=None, system_fingerprint='fp_3a5770e1b4', usage=None)\n",
      "ChatCompletionChunk(id='b637ad5a-c6cb-4dc3-9d5c-0eb02843e780', choices=[Choice(delta=ChoiceDelta(content='**\\n', function_call=None, refusal=None, role=None, tool_calls=None), finish_reason=None, index=0, logprobs=None)], created=1737821801, model='deepseek-chat', object='chat.completion.chunk', service_tier=None, system_fingerprint='fp_3a5770e1b4', usage=None)\n",
      "ChatCompletionChunk(id='b637ad5a-c6cb-4dc3-9d5c-0eb02843e780', choices=[Choice(delta=ChoiceDelta(content='  ', function_call=None, refusal=None, role=None, tool_calls=None), finish_reason=None, index=0, logprobs=None)], created=1737821801, model='deepseek-chat', object='chat.completion.chunk', service_tier=None, system_fingerprint='fp_3a5770e1b4', usage=None)\n",
      "ChatCompletionChunk(id='b637ad5a-c6cb-4dc3-9d5c-0eb02843e780', choices=[Choice(delta=ChoiceDelta(content=' -', function_call=None, refusal=None, role=None, tool_calls=None), finish_reason=None, index=0, logprobs=None)], created=1737821801, model='deepseek-chat', object='chat.completion.chunk', service_tier=None, system_fingerprint='fp_3a5770e1b4', usage=None)\n",
      "ChatCompletionChunk(id='b637ad5a-c6cb-4dc3-9d5c-0eb02843e780', choices=[Choice(delta=ChoiceDelta(content=' **', function_call=None, refusal=None, role=None, tool_calls=None), finish_reason=None, index=0, logprobs=None)], created=1737821801, model='deepseek-chat', object='chat.completion.chunk', service_tier=None, system_fingerprint='fp_3a5770e1b4', usage=None)\n",
      "ChatCompletionChunk(id='b637ad5a-c6cb-4dc3-9d5c-0eb02843e780', choices=[Choice(delta=ChoiceDelta(content='描述', function_call=None, refusal=None, role=None, tool_calls=None), finish_reason=None, index=0, logprobs=None)], created=1737821801, model='deepseek-chat', object='chat.completion.chunk', service_tier=None, system_fingerprint='fp_3a5770e1b4', usage=None)\n",
      "ChatCompletionChunk(id='b637ad5a-c6cb-4dc3-9d5c-0eb02843e780', choices=[Choice(delta=ChoiceDelta(content='**', function_call=None, refusal=None, role=None, tool_calls=None), finish_reason=None, index=0, logprobs=None)], created=1737821801, model='deepseek-chat', object='chat.completion.chunk', service_tier=None, system_fingerprint='fp_3a5770e1b4', usage=None)\n",
      "ChatCompletionChunk(id='b637ad5a-c6cb-4dc3-9d5c-0eb02843e780', choices=[Choice(delta=ChoiceDelta(content='：', function_call=None, refusal=None, role=None, tool_calls=None), finish_reason=None, index=0, logprobs=None)], created=1737821801, model='deepseek-chat', object='chat.completion.chunk', service_tier=None, system_fingerprint='fp_3a5770e1b4', usage=None)\n",
      "ChatCompletionChunk(id='b637ad5a-c6cb-4dc3-9d5c-0eb02843e780', choices=[Choice(delta=ChoiceDelta(content='使用', function_call=None, refusal=None, role=None, tool_calls=None), finish_reason=None, index=0, logprobs=None)], created=1737821801, model='deepseek-chat', object='chat.completion.chunk', service_tier=None, system_fingerprint='fp_3a5770e1b4', usage=None)\n",
      "ChatCompletionChunk(id='b637ad5a-c6cb-4dc3-9d5c-0eb02843e780', choices=[Choice(delta=ChoiceDelta(content='一个大', function_call=None, refusal=None, role=None, tool_calls=None), finish_reason=None, index=0, logprobs=None)], created=1737821801, model='deepseek-chat', object='chat.completion.chunk', service_tier=None, system_fingerprint='fp_3a5770e1b4', usage=None)\n",
      "ChatCompletionChunk(id='b637ad5a-c6cb-4dc3-9d5c-0eb02843e780', choices=[Choice(delta=ChoiceDelta(content='模型', function_call=None, refusal=None, role=None, tool_calls=None), finish_reason=None, index=0, logprobs=None)], created=1737821801, model='deepseek-chat', object='chat.completion.chunk', service_tier=None, system_fingerprint='fp_3a5770e1b4', usage=None)\n",
      "ChatCompletionChunk(id='b637ad5a-c6cb-4dc3-9d5c-0eb02843e780', choices=[Choice(delta=ChoiceDelta(content='（', function_call=None, refusal=None, role=None, tool_calls=None), finish_reason=None, index=0, logprobs=None)], created=1737821801, model='deepseek-chat', object='chat.completion.chunk', service_tier=None, system_fingerprint='fp_3a5770e1b4', usage=None)\n",
      "ChatCompletionChunk(id='b637ad5a-c6cb-4dc3-9d5c-0eb02843e780', choices=[Choice(delta=ChoiceDelta(content='教师', function_call=None, refusal=None, role=None, tool_calls=None), finish_reason=None, index=0, logprobs=None)], created=1737821801, model='deepseek-chat', object='chat.completion.chunk', service_tier=None, system_fingerprint='fp_3a5770e1b4', usage=None)\n",
      "ChatCompletionChunk(id='b637ad5a-c6cb-4dc3-9d5c-0eb02843e780', choices=[Choice(delta=ChoiceDelta(content='模型', function_call=None, refusal=None, role=None, tool_calls=None), finish_reason=None, index=0, logprobs=None)], created=1737821801, model='deepseek-chat', object='chat.completion.chunk', service_tier=None, system_fingerprint='fp_3a5770e1b4', usage=None)\n",
      "ChatCompletionChunk(id='b637ad5a-c6cb-4dc3-9d5c-0eb02843e780', choices=[Choice(delta=ChoiceDelta(content='）', function_call=None, refusal=None, role=None, tool_calls=None), finish_reason=None, index=0, logprobs=None)], created=1737821801, model='deepseek-chat', object='chat.completion.chunk', service_tier=None, system_fingerprint='fp_3a5770e1b4', usage=None)\n",
      "ChatCompletionChunk(id='b637ad5a-c6cb-4dc3-9d5c-0eb02843e780', choices=[Choice(delta=ChoiceDelta(content='来', function_call=None, refusal=None, role=None, tool_calls=None), finish_reason=None, index=0, logprobs=None)], created=1737821801, model='deepseek-chat', object='chat.completion.chunk', service_tier=None, system_fingerprint='fp_3a5770e1b4', usage=None)\n",
      "ChatCompletionChunk(id='b637ad5a-c6cb-4dc3-9d5c-0eb02843e780', choices=[Choice(delta=ChoiceDelta(content='指导', function_call=None, refusal=None, role=None, tool_calls=None), finish_reason=None, index=0, logprobs=None)], created=1737821801, model='deepseek-chat', object='chat.completion.chunk', service_tier=None, system_fingerprint='fp_3a5770e1b4', usage=None)\n",
      "ChatCompletionChunk(id='b637ad5a-c6cb-4dc3-9d5c-0eb02843e780', choices=[Choice(delta=ChoiceDelta(content='一个小', function_call=None, refusal=None, role=None, tool_calls=None), finish_reason=None, index=0, logprobs=None)], created=1737821801, model='deepseek-chat', object='chat.completion.chunk', service_tier=None, system_fingerprint='fp_3a5770e1b4', usage=None)\n",
      "ChatCompletionChunk(id='b637ad5a-c6cb-4dc3-9d5c-0eb02843e780', choices=[Choice(delta=ChoiceDelta(content='模型', function_call=None, refusal=None, role=None, tool_calls=None), finish_reason=None, index=0, logprobs=None)], created=1737821801, model='deepseek-chat', object='chat.completion.chunk', service_tier=None, system_fingerprint='fp_3a5770e1b4', usage=None)\n",
      "ChatCompletionChunk(id='b637ad5a-c6cb-4dc3-9d5c-0eb02843e780', choices=[Choice(delta=ChoiceDelta(content='（', function_call=None, refusal=None, role=None, tool_calls=None), finish_reason=None, index=0, logprobs=None)], created=1737821801, model='deepseek-chat', object='chat.completion.chunk', service_tier=None, system_fingerprint='fp_3a5770e1b4', usage=None)\n",
      "ChatCompletionChunk(id='b637ad5a-c6cb-4dc3-9d5c-0eb02843e780', choices=[Choice(delta=ChoiceDelta(content='学生', function_call=None, refusal=None, role=None, tool_calls=None), finish_reason=None, index=0, logprobs=None)], created=1737821801, model='deepseek-chat', object='chat.completion.chunk', service_tier=None, system_fingerprint='fp_3a5770e1b4', usage=None)\n",
      "ChatCompletionChunk(id='b637ad5a-c6cb-4dc3-9d5c-0eb02843e780', choices=[Choice(delta=ChoiceDelta(content='模型', function_call=None, refusal=None, role=None, tool_calls=None), finish_reason=None, index=0, logprobs=None)], created=1737821801, model='deepseek-chat', object='chat.completion.chunk', service_tier=None, system_fingerprint='fp_3a5770e1b4', usage=None)\n",
      "ChatCompletionChunk(id='b637ad5a-c6cb-4dc3-9d5c-0eb02843e780', choices=[Choice(delta=ChoiceDelta(content='）', function_call=None, refusal=None, role=None, tool_calls=None), finish_reason=None, index=0, logprobs=None)], created=1737821801, model='deepseek-chat', object='chat.completion.chunk', service_tier=None, system_fingerprint='fp_3a5770e1b4', usage=None)\n",
      "ChatCompletionChunk(id='b637ad5a-c6cb-4dc3-9d5c-0eb02843e780', choices=[Choice(delta=ChoiceDelta(content='的训练', function_call=None, refusal=None, role=None, tool_calls=None), finish_reason=None, index=0, logprobs=None)], created=1737821801, model='deepseek-chat', object='chat.completion.chunk', service_tier=None, system_fingerprint='fp_3a5770e1b4', usage=None)\n",
      "ChatCompletionChunk(id='b637ad5a-c6cb-4dc3-9d5c-0eb02843e780', choices=[Choice(delta=ChoiceDelta(content='，', function_call=None, refusal=None, role=None, tool_calls=None), finish_reason=None, index=0, logprobs=None)], created=1737821801, model='deepseek-chat', object='chat.completion.chunk', service_tier=None, system_fingerprint='fp_3a5770e1b4', usage=None)\n",
      "ChatCompletionChunk(id='b637ad5a-c6cb-4dc3-9d5c-0eb02843e780', choices=[Choice(delta=ChoiceDelta(content='学生', function_call=None, refusal=None, role=None, tool_calls=None), finish_reason=None, index=0, logprobs=None)], created=1737821801, model='deepseek-chat', object='chat.completion.chunk', service_tier=None, system_fingerprint='fp_3a5770e1b4', usage=None)\n",
      "ChatCompletionChunk(id='b637ad5a-c6cb-4dc3-9d5c-0eb02843e780', choices=[Choice(delta=ChoiceDelta(content='模型', function_call=None, refusal=None, role=None, tool_calls=None), finish_reason=None, index=0, logprobs=None)], created=1737821801, model='deepseek-chat', object='chat.completion.chunk', service_tier=None, system_fingerprint='fp_3a5770e1b4', usage=None)\n",
      "ChatCompletionChunk(id='b637ad5a-c6cb-4dc3-9d5c-0eb02843e780', choices=[Choice(delta=ChoiceDelta(content='通过', function_call=None, refusal=None, role=None, tool_calls=None), finish_reason=None, index=0, logprobs=None)], created=1737821801, model='deepseek-chat', object='chat.completion.chunk', service_tier=None, system_fingerprint='fp_3a5770e1b4', usage=None)\n",
      "ChatCompletionChunk(id='b637ad5a-c6cb-4dc3-9d5c-0eb02843e780', choices=[Choice(delta=ChoiceDelta(content='模仿', function_call=None, refusal=None, role=None, tool_calls=None), finish_reason=None, index=0, logprobs=None)], created=1737821801, model='deepseek-chat', object='chat.completion.chunk', service_tier=None, system_fingerprint='fp_3a5770e1b4', usage=None)\n",
      "ChatCompletionChunk(id='b637ad5a-c6cb-4dc3-9d5c-0eb02843e780', choices=[Choice(delta=ChoiceDelta(content='教师', function_call=None, refusal=None, role=None, tool_calls=None), finish_reason=None, index=0, logprobs=None)], created=1737821801, model='deepseek-chat', object='chat.completion.chunk', service_tier=None, system_fingerprint='fp_3a5770e1b4', usage=None)\n",
      "ChatCompletionChunk(id='b637ad5a-c6cb-4dc3-9d5c-0eb02843e780', choices=[Choice(delta=ChoiceDelta(content='模型的', function_call=None, refusal=None, role=None, tool_calls=None), finish_reason=None, index=0, logprobs=None)], created=1737821801, model='deepseek-chat', object='chat.completion.chunk', service_tier=None, system_fingerprint='fp_3a5770e1b4', usage=None)\n",
      "ChatCompletionChunk(id='b637ad5a-c6cb-4dc3-9d5c-0eb02843e780', choices=[Choice(delta=ChoiceDelta(content='输', function_call=None, refusal=None, role=None, tool_calls=None), finish_reason=None, index=0, logprobs=None)], created=1737821801, model='deepseek-chat', object='chat.completion.chunk', service_tier=None, system_fingerprint='fp_3a5770e1b4', usage=None)\n",
      "ChatCompletionChunk(id='b637ad5a-c6cb-4dc3-9d5c-0eb02843e780', choices=[Choice(delta=ChoiceDelta(content='出来', function_call=None, refusal=None, role=None, tool_calls=None), finish_reason=None, index=0, logprobs=None)], created=1737821801, model='deepseek-chat', object='chat.completion.chunk', service_tier=None, system_fingerprint='fp_3a5770e1b4', usage=None)\n",
      "ChatCompletionChunk(id='b637ad5a-c6cb-4dc3-9d5c-0eb02843e780', choices=[Choice(delta=ChoiceDelta(content='学习', function_call=None, refusal=None, role=None, tool_calls=None), finish_reason=None, index=0, logprobs=None)], created=1737821801, model='deepseek-chat', object='chat.completion.chunk', service_tier=None, system_fingerprint='fp_3a5770e1b4', usage=None)\n",
      "ChatCompletionChunk(id='b637ad5a-c6cb-4dc3-9d5c-0eb02843e780', choices=[Choice(delta=ChoiceDelta(content='。\\n', function_call=None, refusal=None, role=None, tool_calls=None), finish_reason=None, index=0, logprobs=None)], created=1737821801, model='deepseek-chat', object='chat.completion.chunk', service_tier=None, system_fingerprint='fp_3a5770e1b4', usage=None)\n",
      "ChatCompletionChunk(id='b637ad5a-c6cb-4dc3-9d5c-0eb02843e780', choices=[Choice(delta=ChoiceDelta(content='  ', function_call=None, refusal=None, role=None, tool_calls=None), finish_reason=None, index=0, logprobs=None)], created=1737821801, model='deepseek-chat', object='chat.completion.chunk', service_tier=None, system_fingerprint='fp_3a5770e1b4', usage=None)\n",
      "ChatCompletionChunk(id='b637ad5a-c6cb-4dc3-9d5c-0eb02843e780', choices=[Choice(delta=ChoiceDelta(content=' -', function_call=None, refusal=None, role=None, tool_calls=None), finish_reason=None, index=0, logprobs=None)], created=1737821801, model='deepseek-chat', object='chat.completion.chunk', service_tier=None, system_fingerprint='fp_3a5770e1b4', usage=None)\n",
      "ChatCompletionChunk(id='b637ad5a-c6cb-4dc3-9d5c-0eb02843e780', choices=[Choice(delta=ChoiceDelta(content=' **', function_call=None, refusal=None, role=None, tool_calls=None), finish_reason=None, index=0, logprobs=None)], created=1737821801, model='deepseek-chat', object='chat.completion.chunk', service_tier=None, system_fingerprint='fp_3a5770e1b4', usage=None)\n",
      "ChatCompletionChunk(id='b637ad5a-c6cb-4dc3-9d5c-0eb02843e780', choices=[Choice(delta=ChoiceDelta(content='优点', function_call=None, refusal=None, role=None, tool_calls=None), finish_reason=None, index=0, logprobs=None)], created=1737821801, model='deepseek-chat', object='chat.completion.chunk', service_tier=None, system_fingerprint='fp_3a5770e1b4', usage=None)\n",
      "ChatCompletionChunk(id='b637ad5a-c6cb-4dc3-9d5c-0eb02843e780', choices=[Choice(delta=ChoiceDelta(content='**', function_call=None, refusal=None, role=None, tool_calls=None), finish_reason=None, index=0, logprobs=None)], created=1737821801, model='deepseek-chat', object='chat.completion.chunk', service_tier=None, system_fingerprint='fp_3a5770e1b4', usage=None)\n",
      "ChatCompletionChunk(id='b637ad5a-c6cb-4dc3-9d5c-0eb02843e780', choices=[Choice(delta=ChoiceDelta(content='：', function_call=None, refusal=None, role=None, tool_calls=None), finish_reason=None, index=0, logprobs=None)], created=1737821801, model='deepseek-chat', object='chat.completion.chunk', service_tier=None, system_fingerprint='fp_3a5770e1b4', usage=None)\n",
      "ChatCompletionChunk(id='b637ad5a-c6cb-4dc3-9d5c-0eb02843e780', choices=[Choice(delta=ChoiceDelta(content='减少', function_call=None, refusal=None, role=None, tool_calls=None), finish_reason=None, index=0, logprobs=None)], created=1737821801, model='deepseek-chat', object='chat.completion.chunk', service_tier=None, system_fingerprint='fp_3a5770e1b4', usage=None)\n",
      "ChatCompletionChunk(id='b637ad5a-c6cb-4dc3-9d5c-0eb02843e780', choices=[Choice(delta=ChoiceDelta(content='模型', function_call=None, refusal=None, role=None, tool_calls=None), finish_reason=None, index=0, logprobs=None)], created=1737821801, model='deepseek-chat', object='chat.completion.chunk', service_tier=None, system_fingerprint='fp_3a5770e1b4', usage=None)\n",
      "ChatCompletionChunk(id='b637ad5a-c6cb-4dc3-9d5c-0eb02843e780', choices=[Choice(delta=ChoiceDelta(content='大小', function_call=None, refusal=None, role=None, tool_calls=None), finish_reason=None, index=0, logprobs=None)], created=1737821801, model='deepseek-chat', object='chat.completion.chunk', service_tier=None, system_fingerprint='fp_3a5770e1b4', usage=None)\n",
      "ChatCompletionChunk(id='b637ad5a-c6cb-4dc3-9d5c-0eb02843e780', choices=[Choice(delta=ChoiceDelta(content='和', function_call=None, refusal=None, role=None, tool_calls=None), finish_reason=None, index=0, logprobs=None)], created=1737821801, model='deepseek-chat', object='chat.completion.chunk', service_tier=None, system_fingerprint='fp_3a5770e1b4', usage=None)\n",
      "ChatCompletionChunk(id='b637ad5a-c6cb-4dc3-9d5c-0eb02843e780', choices=[Choice(delta=ChoiceDelta(content='计算', function_call=None, refusal=None, role=None, tool_calls=None), finish_reason=None, index=0, logprobs=None)], created=1737821801, model='deepseek-chat', object='chat.completion.chunk', service_tier=None, system_fingerprint='fp_3a5770e1b4', usage=None)\n",
      "ChatCompletionChunk(id='b637ad5a-c6cb-4dc3-9d5c-0eb02843e780', choices=[Choice(delta=ChoiceDelta(content='资源', function_call=None, refusal=None, role=None, tool_calls=None), finish_reason=None, index=0, logprobs=None)], created=1737821801, model='deepseek-chat', object='chat.completion.chunk', service_tier=None, system_fingerprint='fp_3a5770e1b4', usage=None)\n",
      "ChatCompletionChunk(id='b637ad5a-c6cb-4dc3-9d5c-0eb02843e780', choices=[Choice(delta=ChoiceDelta(content='消耗', function_call=None, refusal=None, role=None, tool_calls=None), finish_reason=None, index=0, logprobs=None)], created=1737821801, model='deepseek-chat', object='chat.completion.chunk', service_tier=None, system_fingerprint='fp_3a5770e1b4', usage=None)\n",
      "ChatCompletionChunk(id='b637ad5a-c6cb-4dc3-9d5c-0eb02843e780', choices=[Choice(delta=ChoiceDelta(content='。\\n', function_call=None, refusal=None, role=None, tool_calls=None), finish_reason=None, index=0, logprobs=None)], created=1737821801, model='deepseek-chat', object='chat.completion.chunk', service_tier=None, system_fingerprint='fp_3a5770e1b4', usage=None)\n",
      "ChatCompletionChunk(id='b637ad5a-c6cb-4dc3-9d5c-0eb02843e780', choices=[Choice(delta=ChoiceDelta(content='  ', function_call=None, refusal=None, role=None, tool_calls=None), finish_reason=None, index=0, logprobs=None)], created=1737821801, model='deepseek-chat', object='chat.completion.chunk', service_tier=None, system_fingerprint='fp_3a5770e1b4', usage=None)\n",
      "ChatCompletionChunk(id='b637ad5a-c6cb-4dc3-9d5c-0eb02843e780', choices=[Choice(delta=ChoiceDelta(content=' -', function_call=None, refusal=None, role=None, tool_calls=None), finish_reason=None, index=0, logprobs=None)], created=1737821801, model='deepseek-chat', object='chat.completion.chunk', service_tier=None, system_fingerprint='fp_3a5770e1b4', usage=None)\n",
      "ChatCompletionChunk(id='b637ad5a-c6cb-4dc3-9d5c-0eb02843e780', choices=[Choice(delta=ChoiceDelta(content=' **', function_call=None, refusal=None, role=None, tool_calls=None), finish_reason=None, index=0, logprobs=None)], created=1737821801, model='deepseek-chat', object='chat.completion.chunk', service_tier=None, system_fingerprint='fp_3a5770e1b4', usage=None)\n",
      "ChatCompletionChunk(id='b637ad5a-c6cb-4dc3-9d5c-0eb02843e780', choices=[Choice(delta=ChoiceDelta(content='缺点', function_call=None, refusal=None, role=None, tool_calls=None), finish_reason=None, index=0, logprobs=None)], created=1737821801, model='deepseek-chat', object='chat.completion.chunk', service_tier=None, system_fingerprint='fp_3a5770e1b4', usage=None)\n",
      "ChatCompletionChunk(id='b637ad5a-c6cb-4dc3-9d5c-0eb02843e780', choices=[Choice(delta=ChoiceDelta(content='**', function_call=None, refusal=None, role=None, tool_calls=None), finish_reason=None, index=0, logprobs=None)], created=1737821801, model='deepseek-chat', object='chat.completion.chunk', service_tier=None, system_fingerprint='fp_3a5770e1b4', usage=None)\n",
      "ChatCompletionChunk(id='b637ad5a-c6cb-4dc3-9d5c-0eb02843e780', choices=[Choice(delta=ChoiceDelta(content='：', function_call=None, refusal=None, role=None, tool_calls=None), finish_reason=None, index=0, logprobs=None)], created=1737821801, model='deepseek-chat', object='chat.completion.chunk', service_tier=None, system_fingerprint='fp_3a5770e1b4', usage=None)\n",
      "ChatCompletionChunk(id='b637ad5a-c6cb-4dc3-9d5c-0eb02843e780', choices=[Choice(delta=ChoiceDelta(content='学生', function_call=None, refusal=None, role=None, tool_calls=None), finish_reason=None, index=0, logprobs=None)], created=1737821801, model='deepseek-chat', object='chat.completion.chunk', service_tier=None, system_fingerprint='fp_3a5770e1b4', usage=None)\n",
      "ChatCompletionChunk(id='b637ad5a-c6cb-4dc3-9d5c-0eb02843e780', choices=[Choice(delta=ChoiceDelta(content='模型', function_call=None, refusal=None, role=None, tool_calls=None), finish_reason=None, index=0, logprobs=None)], created=1737821801, model='deepseek-chat', object='chat.completion.chunk', service_tier=None, system_fingerprint='fp_3a5770e1b4', usage=None)\n",
      "ChatCompletionChunk(id='b637ad5a-c6cb-4dc3-9d5c-0eb02843e780', choices=[Choice(delta=ChoiceDelta(content='性能', function_call=None, refusal=None, role=None, tool_calls=None), finish_reason=None, index=0, logprobs=None)], created=1737821801, model='deepseek-chat', object='chat.completion.chunk', service_tier=None, system_fingerprint='fp_3a5770e1b4', usage=None)\n",
      "ChatCompletionChunk(id='b637ad5a-c6cb-4dc3-9d5c-0eb02843e780', choices=[Choice(delta=ChoiceDelta(content='可能', function_call=None, refusal=None, role=None, tool_calls=None), finish_reason=None, index=0, logprobs=None)], created=1737821801, model='deepseek-chat', object='chat.completion.chunk', service_tier=None, system_fingerprint='fp_3a5770e1b4', usage=None)\n",
      "ChatCompletionChunk(id='b637ad5a-c6cb-4dc3-9d5c-0eb02843e780', choices=[Choice(delta=ChoiceDelta(content='不如', function_call=None, refusal=None, role=None, tool_calls=None), finish_reason=None, index=0, logprobs=None)], created=1737821801, model='deepseek-chat', object='chat.completion.chunk', service_tier=None, system_fingerprint='fp_3a5770e1b4', usage=None)\n",
      "ChatCompletionChunk(id='b637ad5a-c6cb-4dc3-9d5c-0eb02843e780', choices=[Choice(delta=ChoiceDelta(content='教师', function_call=None, refusal=None, role=None, tool_calls=None), finish_reason=None, index=0, logprobs=None)], created=1737821801, model='deepseek-chat', object='chat.completion.chunk', service_tier=None, system_fingerprint='fp_3a5770e1b4', usage=None)\n",
      "ChatCompletionChunk(id='b637ad5a-c6cb-4dc3-9d5c-0eb02843e780', choices=[Choice(delta=ChoiceDelta(content='模型', function_call=None, refusal=None, role=None, tool_calls=None), finish_reason=None, index=0, logprobs=None)], created=1737821801, model='deepseek-chat', object='chat.completion.chunk', service_tier=None, system_fingerprint='fp_3a5770e1b4', usage=None)\n",
      "ChatCompletionChunk(id='b637ad5a-c6cb-4dc3-9d5c-0eb02843e780', choices=[Choice(delta=ChoiceDelta(content='。\\n\\n', function_call=None, refusal=None, role=None, tool_calls=None), finish_reason=None, index=0, logprobs=None)], created=1737821801, model='deepseek-chat', object='chat.completion.chunk', service_tier=None, system_fingerprint='fp_3a5770e1b4', usage=None)\n",
      "ChatCompletionChunk(id='b637ad5a-c6cb-4dc3-9d5c-0eb02843e780', choices=[Choice(delta=ChoiceDelta(content='###', function_call=None, refusal=None, role=None, tool_calls=None), finish_reason=None, index=0, logprobs=None)], created=1737821801, model='deepseek-chat', object='chat.completion.chunk', service_tier=None, system_fingerprint='fp_3a5770e1b4', usage=None)\n",
      "ChatCompletionChunk(id='b637ad5a-c6cb-4dc3-9d5c-0eb02843e780', choices=[Choice(delta=ChoiceDelta(content=' ', function_call=None, refusal=None, role=None, tool_calls=None), finish_reason=None, index=0, logprobs=None)], created=1737821801, model='deepseek-chat', object='chat.completion.chunk', service_tier=None, system_fingerprint='fp_3a5770e1b4', usage=None)\n",
      "ChatCompletionChunk(id='b637ad5a-c6cb-4dc3-9d5c-0eb02843e780', choices=[Choice(delta=ChoiceDelta(content='8', function_call=None, refusal=None, role=None, tool_calls=None), finish_reason=None, index=0, logprobs=None)], created=1737821801, model='deepseek-chat', object='chat.completion.chunk', service_tier=None, system_fingerprint='fp_3a5770e1b4', usage=None)\n",
      "ChatCompletionChunk(id='b637ad5a-c6cb-4dc3-9d5c-0eb02843e780', choices=[Choice(delta=ChoiceDelta(content='.', function_call=None, refusal=None, role=None, tool_calls=None), finish_reason=None, index=0, logprobs=None)], created=1737821801, model='deepseek-chat', object='chat.completion.chunk', service_tier=None, system_fingerprint='fp_3a5770e1b4', usage=None)\n",
      "ChatCompletionChunk(id='b637ad5a-c6cb-4dc3-9d5c-0eb02843e780', choices=[Choice(delta=ChoiceDelta(content=' **', function_call=None, refusal=None, role=None, tool_calls=None), finish_reason=None, index=0, logprobs=None)], created=1737821801, model='deepseek-chat', object='chat.completion.chunk', service_tier=None, system_fingerprint='fp_3a5770e1b4', usage=None)\n",
      "ChatCompletionChunk(id='b637ad5a-c6cb-4dc3-9d5c-0eb02843e780', choices=[Choice(delta=ChoiceDelta(content='多', function_call=None, refusal=None, role=None, tool_calls=None), finish_reason=None, index=0, logprobs=None)], created=1737821801, model='deepseek-chat', object='chat.completion.chunk', service_tier=None, system_fingerprint='fp_3a5770e1b4', usage=None)\n",
      "ChatCompletionChunk(id='b637ad5a-c6cb-4dc3-9d5c-0eb02843e780', choices=[Choice(delta=ChoiceDelta(content='任务', function_call=None, refusal=None, role=None, tool_calls=None), finish_reason=None, index=0, logprobs=None)], created=1737821801, model='deepseek-chat', object='chat.completion.chunk', service_tier=None, system_fingerprint='fp_3a5770e1b4', usage=None)\n",
      "ChatCompletionChunk(id='b637ad5a-c6cb-4dc3-9d5c-0eb02843e780', choices=[Choice(delta=ChoiceDelta(content='学习', function_call=None, refusal=None, role=None, tool_calls=None), finish_reason=None, index=0, logprobs=None)], created=1737821801, model='deepseek-chat', object='chat.completion.chunk', service_tier=None, system_fingerprint='fp_3a5770e1b4', usage=None)\n",
      "ChatCompletionChunk(id='b637ad5a-c6cb-4dc3-9d5c-0eb02843e780', choices=[Choice(delta=ChoiceDelta(content='（', function_call=None, refusal=None, role=None, tool_calls=None), finish_reason=None, index=0, logprobs=None)], created=1737821801, model='deepseek-chat', object='chat.completion.chunk', service_tier=None, system_fingerprint='fp_3a5770e1b4', usage=None)\n",
      "ChatCompletionChunk(id='b637ad5a-c6cb-4dc3-9d5c-0eb02843e780', choices=[Choice(delta=ChoiceDelta(content='Multi', function_call=None, refusal=None, role=None, tool_calls=None), finish_reason=None, index=0, logprobs=None)], created=1737821801, model='deepseek-chat', object='chat.completion.chunk', service_tier=None, system_fingerprint='fp_3a5770e1b4', usage=None)\n",
      "ChatCompletionChunk(id='b637ad5a-c6cb-4dc3-9d5c-0eb02843e780', choices=[Choice(delta=ChoiceDelta(content='-task', function_call=None, refusal=None, role=None, tool_calls=None), finish_reason=None, index=0, logprobs=None)], created=1737821801, model='deepseek-chat', object='chat.completion.chunk', service_tier=None, system_fingerprint='fp_3a5770e1b4', usage=None)\n",
      "ChatCompletionChunk(id='b637ad5a-c6cb-4dc3-9d5c-0eb02843e780', choices=[Choice(delta=ChoiceDelta(content=' Learning', function_call=None, refusal=None, role=None, tool_calls=None), finish_reason=None, index=0, logprobs=None)], created=1737821801, model='deepseek-chat', object='chat.completion.chunk', service_tier=None, system_fingerprint='fp_3a5770e1b4', usage=None)\n",
      "ChatCompletionChunk(id='b637ad5a-c6cb-4dc3-9d5c-0eb02843e780', choices=[Choice(delta=ChoiceDelta(content='）', function_call=None, refusal=None, role=None, tool_calls=None), finish_reason=None, index=0, logprobs=None)], created=1737821801, model='deepseek-chat', object='chat.completion.chunk', service_tier=None, system_fingerprint='fp_3a5770e1b4', usage=None)\n",
      "ChatCompletionChunk(id='b637ad5a-c6cb-4dc3-9d5c-0eb02843e780', choices=[Choice(delta=ChoiceDelta(content='**\\n', function_call=None, refusal=None, role=None, tool_calls=None), finish_reason=None, index=0, logprobs=None)], created=1737821801, model='deepseek-chat', object='chat.completion.chunk', service_tier=None, system_fingerprint='fp_3a5770e1b4', usage=None)\n",
      "ChatCompletionChunk(id='b637ad5a-c6cb-4dc3-9d5c-0eb02843e780', choices=[Choice(delta=ChoiceDelta(content='  ', function_call=None, refusal=None, role=None, tool_calls=None), finish_reason=None, index=0, logprobs=None)], created=1737821801, model='deepseek-chat', object='chat.completion.chunk', service_tier=None, system_fingerprint='fp_3a5770e1b4', usage=None)\n",
      "ChatCompletionChunk(id='b637ad5a-c6cb-4dc3-9d5c-0eb02843e780', choices=[Choice(delta=ChoiceDelta(content=' -', function_call=None, refusal=None, role=None, tool_calls=None), finish_reason=None, index=0, logprobs=None)], created=1737821801, model='deepseek-chat', object='chat.completion.chunk', service_tier=None, system_fingerprint='fp_3a5770e1b4', usage=None)\n",
      "ChatCompletionChunk(id='b637ad5a-c6cb-4dc3-9d5c-0eb02843e780', choices=[Choice(delta=ChoiceDelta(content=' **', function_call=None, refusal=None, role=None, tool_calls=None), finish_reason=None, index=0, logprobs=None)], created=1737821801, model='deepseek-chat', object='chat.completion.chunk', service_tier=None, system_fingerprint='fp_3a5770e1b4', usage=None)\n",
      "ChatCompletionChunk(id='b637ad5a-c6cb-4dc3-9d5c-0eb02843e780', choices=[Choice(delta=ChoiceDelta(content='描述', function_call=None, refusal=None, role=None, tool_calls=None), finish_reason=None, index=0, logprobs=None)], created=1737821801, model='deepseek-chat', object='chat.completion.chunk', service_tier=None, system_fingerprint='fp_3a5770e1b4', usage=None)\n",
      "ChatCompletionChunk(id='b637ad5a-c6cb-4dc3-9d5c-0eb02843e780', choices=[Choice(delta=ChoiceDelta(content='**', function_call=None, refusal=None, role=None, tool_calls=None), finish_reason=None, index=0, logprobs=None)], created=1737821801, model='deepseek-chat', object='chat.completion.chunk', service_tier=None, system_fingerprint='fp_3a5770e1b4', usage=None)\n",
      "ChatCompletionChunk(id='b637ad5a-c6cb-4dc3-9d5c-0eb02843e780', choices=[Choice(delta=ChoiceDelta(content='：', function_call=None, refusal=None, role=None, tool_calls=None), finish_reason=None, index=0, logprobs=None)], created=1737821801, model='deepseek-chat', object='chat.completion.chunk', service_tier=None, system_fingerprint='fp_3a5770e1b4', usage=None)\n",
      "ChatCompletionChunk(id='b637ad5a-c6cb-4dc3-9d5c-0eb02843e780', choices=[Choice(delta=ChoiceDelta(content='在', function_call=None, refusal=None, role=None, tool_calls=None), finish_reason=None, index=0, logprobs=None)], created=1737821801, model='deepseek-chat', object='chat.completion.chunk', service_tier=None, system_fingerprint='fp_3a5770e1b4', usage=None)\n",
      "ChatCompletionChunk(id='b637ad5a-c6cb-4dc3-9d5c-0eb02843e780', choices=[Choice(delta=ChoiceDelta(content='多个', function_call=None, refusal=None, role=None, tool_calls=None), finish_reason=None, index=0, logprobs=None)], created=1737821801, model='deepseek-chat', object='chat.completion.chunk', service_tier=None, system_fingerprint='fp_3a5770e1b4', usage=None)\n",
      "ChatCompletionChunk(id='b637ad5a-c6cb-4dc3-9d5c-0eb02843e780', choices=[Choice(delta=ChoiceDelta(content='相关', function_call=None, refusal=None, role=None, tool_calls=None), finish_reason=None, index=0, logprobs=None)], created=1737821801, model='deepseek-chat', object='chat.completion.chunk', service_tier=None, system_fingerprint='fp_3a5770e1b4', usage=None)\n",
      "ChatCompletionChunk(id='b637ad5a-c6cb-4dc3-9d5c-0eb02843e780', choices=[Choice(delta=ChoiceDelta(content='任务', function_call=None, refusal=None, role=None, tool_calls=None), finish_reason=None, index=0, logprobs=None)], created=1737821801, model='deepseek-chat', object='chat.completion.chunk', service_tier=None, system_fingerprint='fp_3a5770e1b4', usage=None)\n",
      "ChatCompletionChunk(id='b637ad5a-c6cb-4dc3-9d5c-0eb02843e780', choices=[Choice(delta=ChoiceDelta(content='上', function_call=None, refusal=None, role=None, tool_calls=None), finish_reason=None, index=0, logprobs=None)], created=1737821801, model='deepseek-chat', object='chat.completion.chunk', service_tier=None, system_fingerprint='fp_3a5770e1b4', usage=None)\n",
      "ChatCompletionChunk(id='b637ad5a-c6cb-4dc3-9d5c-0eb02843e780', choices=[Choice(delta=ChoiceDelta(content='同时', function_call=None, refusal=None, role=None, tool_calls=None), finish_reason=None, index=0, logprobs=None)], created=1737821801, model='deepseek-chat', object='chat.completion.chunk', service_tier=None, system_fingerprint='fp_3a5770e1b4', usage=None)\n",
      "ChatCompletionChunk(id='b637ad5a-c6cb-4dc3-9d5c-0eb02843e780', choices=[Choice(delta=ChoiceDelta(content='微', function_call=None, refusal=None, role=None, tool_calls=None), finish_reason=None, index=0, logprobs=None)], created=1737821801, model='deepseek-chat', object='chat.completion.chunk', service_tier=None, system_fingerprint='fp_3a5770e1b4', usage=None)\n",
      "ChatCompletionChunk(id='b637ad5a-c6cb-4dc3-9d5c-0eb02843e780', choices=[Choice(delta=ChoiceDelta(content='调', function_call=None, refusal=None, role=None, tool_calls=None), finish_reason=None, index=0, logprobs=None)], created=1737821801, model='deepseek-chat', object='chat.completion.chunk', service_tier=None, system_fingerprint='fp_3a5770e1b4', usage=None)\n",
      "ChatCompletionChunk(id='b637ad5a-c6cb-4dc3-9d5c-0eb02843e780', choices=[Choice(delta=ChoiceDelta(content='模型', function_call=None, refusal=None, role=None, tool_calls=None), finish_reason=None, index=0, logprobs=None)], created=1737821801, model='deepseek-chat', object='chat.completion.chunk', service_tier=None, system_fingerprint='fp_3a5770e1b4', usage=None)\n",
      "ChatCompletionChunk(id='b637ad5a-c6cb-4dc3-9d5c-0eb02843e780', choices=[Choice(delta=ChoiceDelta(content='，', function_call=None, refusal=None, role=None, tool_calls=None), finish_reason=None, index=0, logprobs=None)], created=1737821801, model='deepseek-chat', object='chat.completion.chunk', service_tier=None, system_fingerprint='fp_3a5770e1b4', usage=None)\n",
      "ChatCompletionChunk(id='b637ad5a-c6cb-4dc3-9d5c-0eb02843e780', choices=[Choice(delta=ChoiceDelta(content='以提高', function_call=None, refusal=None, role=None, tool_calls=None), finish_reason=None, index=0, logprobs=None)], created=1737821801, model='deepseek-chat', object='chat.completion.chunk', service_tier=None, system_fingerprint='fp_3a5770e1b4', usage=None)\n",
      "ChatCompletionChunk(id='b637ad5a-c6cb-4dc3-9d5c-0eb02843e780', choices=[Choice(delta=ChoiceDelta(content='模型的', function_call=None, refusal=None, role=None, tool_calls=None), finish_reason=None, index=0, logprobs=None)], created=1737821801, model='deepseek-chat', object='chat.completion.chunk', service_tier=None, system_fingerprint='fp_3a5770e1b4', usage=None)\n",
      "ChatCompletionChunk(id='b637ad5a-c6cb-4dc3-9d5c-0eb02843e780', choices=[Choice(delta=ChoiceDelta(content='泛', function_call=None, refusal=None, role=None, tool_calls=None), finish_reason=None, index=0, logprobs=None)], created=1737821801, model='deepseek-chat', object='chat.completion.chunk', service_tier=None, system_fingerprint='fp_3a5770e1b4', usage=None)\n",
      "ChatCompletionChunk(id='b637ad5a-c6cb-4dc3-9d5c-0eb02843e780', choices=[Choice(delta=ChoiceDelta(content='化', function_call=None, refusal=None, role=None, tool_calls=None), finish_reason=None, index=0, logprobs=None)], created=1737821801, model='deepseek-chat', object='chat.completion.chunk', service_tier=None, system_fingerprint='fp_3a5770e1b4', usage=None)\n",
      "ChatCompletionChunk(id='b637ad5a-c6cb-4dc3-9d5c-0eb02843e780', choices=[Choice(delta=ChoiceDelta(content='能力', function_call=None, refusal=None, role=None, tool_calls=None), finish_reason=None, index=0, logprobs=None)], created=1737821801, model='deepseek-chat', object='chat.completion.chunk', service_tier=None, system_fingerprint='fp_3a5770e1b4', usage=None)\n",
      "ChatCompletionChunk(id='b637ad5a-c6cb-4dc3-9d5c-0eb02843e780', choices=[Choice(delta=ChoiceDelta(content='。\\n', function_call=None, refusal=None, role=None, tool_calls=None), finish_reason=None, index=0, logprobs=None)], created=1737821801, model='deepseek-chat', object='chat.completion.chunk', service_tier=None, system_fingerprint='fp_3a5770e1b4', usage=None)\n",
      "ChatCompletionChunk(id='b637ad5a-c6cb-4dc3-9d5c-0eb02843e780', choices=[Choice(delta=ChoiceDelta(content='  ', function_call=None, refusal=None, role=None, tool_calls=None), finish_reason=None, index=0, logprobs=None)], created=1737821801, model='deepseek-chat', object='chat.completion.chunk', service_tier=None, system_fingerprint='fp_3a5770e1b4', usage=None)\n",
      "ChatCompletionChunk(id='b637ad5a-c6cb-4dc3-9d5c-0eb02843e780', choices=[Choice(delta=ChoiceDelta(content=' -', function_call=None, refusal=None, role=None, tool_calls=None), finish_reason=None, index=0, logprobs=None)], created=1737821801, model='deepseek-chat', object='chat.completion.chunk', service_tier=None, system_fingerprint='fp_3a5770e1b4', usage=None)\n",
      "ChatCompletionChunk(id='b637ad5a-c6cb-4dc3-9d5c-0eb02843e780', choices=[Choice(delta=ChoiceDelta(content=' **', function_call=None, refusal=None, role=None, tool_calls=None), finish_reason=None, index=0, logprobs=None)], created=1737821801, model='deepseek-chat', object='chat.completion.chunk', service_tier=None, system_fingerprint='fp_3a5770e1b4', usage=None)\n",
      "ChatCompletionChunk(id='b637ad5a-c6cb-4dc3-9d5c-0eb02843e780', choices=[Choice(delta=ChoiceDelta(content='优点', function_call=None, refusal=None, role=None, tool_calls=None), finish_reason=None, index=0, logprobs=None)], created=1737821801, model='deepseek-chat', object='chat.completion.chunk', service_tier=None, system_fingerprint='fp_3a5770e1b4', usage=None)\n",
      "ChatCompletionChunk(id='b637ad5a-c6cb-4dc3-9d5c-0eb02843e780', choices=[Choice(delta=ChoiceDelta(content='**', function_call=None, refusal=None, role=None, tool_calls=None), finish_reason=None, index=0, logprobs=None)], created=1737821801, model='deepseek-chat', object='chat.completion.chunk', service_tier=None, system_fingerprint='fp_3a5770e1b4', usage=None)\n",
      "ChatCompletionChunk(id='b637ad5a-c6cb-4dc3-9d5c-0eb02843e780', choices=[Choice(delta=ChoiceDelta(content='：', function_call=None, refusal=None, role=None, tool_calls=None), finish_reason=None, index=0, logprobs=None)], created=1737821801, model='deepseek-chat', object='chat.completion.chunk', service_tier=None, system_fingerprint='fp_3a5770e1b4', usage=None)\n",
      "ChatCompletionChunk(id='b637ad5a-c6cb-4dc3-9d5c-0eb02843e780', choices=[Choice(delta=ChoiceDelta(content='提高', function_call=None, refusal=None, role=None, tool_calls=None), finish_reason=None, index=0, logprobs=None)], created=1737821801, model='deepseek-chat', object='chat.completion.chunk', service_tier=None, system_fingerprint='fp_3a5770e1b4', usage=None)\n",
      "ChatCompletionChunk(id='b637ad5a-c6cb-4dc3-9d5c-0eb02843e780', choices=[Choice(delta=ChoiceDelta(content='模型', function_call=None, refusal=None, role=None, tool_calls=None), finish_reason=None, index=0, logprobs=None)], created=1737821801, model='deepseek-chat', object='chat.completion.chunk', service_tier=None, system_fingerprint='fp_3a5770e1b4', usage=None)\n",
      "ChatCompletionChunk(id='b637ad5a-c6cb-4dc3-9d5c-0eb02843e780', choices=[Choice(delta=ChoiceDelta(content='泛', function_call=None, refusal=None, role=None, tool_calls=None), finish_reason=None, index=0, logprobs=None)], created=1737821801, model='deepseek-chat', object='chat.completion.chunk', service_tier=None, system_fingerprint='fp_3a5770e1b4', usage=None)\n",
      "ChatCompletionChunk(id='b637ad5a-c6cb-4dc3-9d5c-0eb02843e780', choices=[Choice(delta=ChoiceDelta(content='化', function_call=None, refusal=None, role=None, tool_calls=None), finish_reason=None, index=0, logprobs=None)], created=1737821801, model='deepseek-chat', object='chat.completion.chunk', service_tier=None, system_fingerprint='fp_3a5770e1b4', usage=None)\n",
      "ChatCompletionChunk(id='b637ad5a-c6cb-4dc3-9d5c-0eb02843e780', choices=[Choice(delta=ChoiceDelta(content='能力', function_call=None, refusal=None, role=None, tool_calls=None), finish_reason=None, index=0, logprobs=None)], created=1737821801, model='deepseek-chat', object='chat.completion.chunk', service_tier=None, system_fingerprint='fp_3a5770e1b4', usage=None)\n",
      "ChatCompletionChunk(id='b637ad5a-c6cb-4dc3-9d5c-0eb02843e780', choices=[Choice(delta=ChoiceDelta(content='，', function_call=None, refusal=None, role=None, tool_calls=None), finish_reason=None, index=0, logprobs=None)], created=1737821801, model='deepseek-chat', object='chat.completion.chunk', service_tier=None, system_fingerprint='fp_3a5770e1b4', usage=None)\n",
      "ChatCompletionChunk(id='b637ad5a-c6cb-4dc3-9d5c-0eb02843e780', choices=[Choice(delta=ChoiceDelta(content='适合', function_call=None, refusal=None, role=None, tool_calls=None), finish_reason=None, index=0, logprobs=None)], created=1737821801, model='deepseek-chat', object='chat.completion.chunk', service_tier=None, system_fingerprint='fp_3a5770e1b4', usage=None)\n",
      "ChatCompletionChunk(id='b637ad5a-c6cb-4dc3-9d5c-0eb02843e780', choices=[Choice(delta=ChoiceDelta(content='多', function_call=None, refusal=None, role=None, tool_calls=None), finish_reason=None, index=0, logprobs=None)], created=1737821801, model='deepseek-chat', object='chat.completion.chunk', service_tier=None, system_fingerprint='fp_3a5770e1b4', usage=None)\n",
      "ChatCompletionChunk(id='b637ad5a-c6cb-4dc3-9d5c-0eb02843e780', choices=[Choice(delta=ChoiceDelta(content='任务', function_call=None, refusal=None, role=None, tool_calls=None), finish_reason=None, index=0, logprobs=None)], created=1737821801, model='deepseek-chat', object='chat.completion.chunk', service_tier=None, system_fingerprint='fp_3a5770e1b4', usage=None)\n",
      "ChatCompletionChunk(id='b637ad5a-c6cb-4dc3-9d5c-0eb02843e780', choices=[Choice(delta=ChoiceDelta(content='场景', function_call=None, refusal=None, role=None, tool_calls=None), finish_reason=None, index=0, logprobs=None)], created=1737821801, model='deepseek-chat', object='chat.completion.chunk', service_tier=None, system_fingerprint='fp_3a5770e1b4', usage=None)\n",
      "ChatCompletionChunk(id='b637ad5a-c6cb-4dc3-9d5c-0eb02843e780', choices=[Choice(delta=ChoiceDelta(content='。\\n', function_call=None, refusal=None, role=None, tool_calls=None), finish_reason=None, index=0, logprobs=None)], created=1737821801, model='deepseek-chat', object='chat.completion.chunk', service_tier=None, system_fingerprint='fp_3a5770e1b4', usage=None)\n",
      "ChatCompletionChunk(id='b637ad5a-c6cb-4dc3-9d5c-0eb02843e780', choices=[Choice(delta=ChoiceDelta(content='  ', function_call=None, refusal=None, role=None, tool_calls=None), finish_reason=None, index=0, logprobs=None)], created=1737821801, model='deepseek-chat', object='chat.completion.chunk', service_tier=None, system_fingerprint='fp_3a5770e1b4', usage=None)\n",
      "ChatCompletionChunk(id='b637ad5a-c6cb-4dc3-9d5c-0eb02843e780', choices=[Choice(delta=ChoiceDelta(content=' -', function_call=None, refusal=None, role=None, tool_calls=None), finish_reason=None, index=0, logprobs=None)], created=1737821801, model='deepseek-chat', object='chat.completion.chunk', service_tier=None, system_fingerprint='fp_3a5770e1b4', usage=None)\n",
      "ChatCompletionChunk(id='b637ad5a-c6cb-4dc3-9d5c-0eb02843e780', choices=[Choice(delta=ChoiceDelta(content=' **', function_call=None, refusal=None, role=None, tool_calls=None), finish_reason=None, index=0, logprobs=None)], created=1737821801, model='deepseek-chat', object='chat.completion.chunk', service_tier=None, system_fingerprint='fp_3a5770e1b4', usage=None)\n",
      "ChatCompletionChunk(id='b637ad5a-c6cb-4dc3-9d5c-0eb02843e780', choices=[Choice(delta=ChoiceDelta(content='缺点', function_call=None, refusal=None, role=None, tool_calls=None), finish_reason=None, index=0, logprobs=None)], created=1737821801, model='deepseek-chat', object='chat.completion.chunk', service_tier=None, system_fingerprint='fp_3a5770e1b4', usage=None)\n",
      "ChatCompletionChunk(id='b637ad5a-c6cb-4dc3-9d5c-0eb02843e780', choices=[Choice(delta=ChoiceDelta(content='**', function_call=None, refusal=None, role=None, tool_calls=None), finish_reason=None, index=0, logprobs=None)], created=1737821801, model='deepseek-chat', object='chat.completion.chunk', service_tier=None, system_fingerprint='fp_3a5770e1b4', usage=None)\n",
      "ChatCompletionChunk(id='b637ad5a-c6cb-4dc3-9d5c-0eb02843e780', choices=[Choice(delta=ChoiceDelta(content='：', function_call=None, refusal=None, role=None, tool_calls=None), finish_reason=None, index=0, logprobs=None)], created=1737821801, model='deepseek-chat', object='chat.completion.chunk', service_tier=None, system_fingerprint='fp_3a5770e1b4', usage=None)\n",
      "ChatCompletionChunk(id='b637ad5a-c6cb-4dc3-9d5c-0eb02843e780', choices=[Choice(delta=ChoiceDelta(content='', function_call=None, refusal=None, role=None, tool_calls=None), finish_reason='length', index=0, logprobs=None)], created=1737821801, model='deepseek-chat', object='chat.completion.chunk', service_tier=None, system_fingerprint='fp_3a5770e1b4', usage=CompletionUsage(completion_tokens=600, prompt_tokens=12, total_tokens=612, completion_tokens_details=None, prompt_tokens_details=PromptTokensDetails(audio_tokens=None, cached_tokens=0), prompt_cache_hit_tokens=0, prompt_cache_miss_tokens=12))\n"
     ]
    }
   ],
   "source": [
    "stream = client.chat.completions.create(\n",
    "    messages=[\n",
    "        {\n",
    "            \"role\": \"user\",\n",
    "            \"content\": \"有哪几种大模型微调的方法？\",\n",
    "        }\n",
    "    ],\n",
    "    model=\"deepseek-chat\",\n",
    "    max_tokens=600,\n",
    "    stream=True\n",
    ")\n",
    "# 处理我们的流式输出\n",
    "for chunk in stream:\n",
    "    print(chunk)"
   ],
   "metadata": {
    "collapsed": false,
    "ExecuteTime": {
     "end_time": "2025-01-25T16:16:56.611634Z",
     "start_time": "2025-01-25T16:16:41.769064Z"
    }
   },
   "id": "59a1dbd44481773b",
   "execution_count": 315
  },
  {
   "cell_type": "code",
   "outputs": [
    {
     "name": "stdout",
     "output_type": "stream",
     "text": [
      "大模型（如GPT-3、GPT-4等）虽然在许多任务上表现出色，但它们仍然存在一些局限性，因此微调（Fine-tuning）和检索增强生成（Retrieval-Augmented Generation, RAG）等技术仍然非常重要。以下是几个主要原因：\n",
      "\n",
      "### 1. **领域特定知识的不足**\n",
      "   - **大模型的泛化能力**：大模型在训练时接触了大量的通用数据，因此在许多通用任务上表现良好。然而，对于某些特定领域（如医学、法律、金融等），大模型可能缺乏足够的专业知识。\n",
      "   - **微调的作用**：通过在特定领域的数据上进行微调，模型可以更好地适应这些领域的任务，提升在该领域的表现。\n",
      "\n",
      "### 2. **实时性和动态信息的缺失**\n",
      "   - **大模型的静态知识**：大模型的知识截止于其训练数据的最后时间点，无法获取训练之后的最新信息。\n",
      "   - **RAG的作用**：RAG通过结合外部知识库或实时检索系统，能够动态获取最新的信息，从而生成更准确和及时的响应。\n",
      "\n",
      "### 3. **任务特定优化**\n",
      "   - **通用模型的局限性**：虽然大模型在许多任务上表现良好，但对于某些特定任务（如情感分析、命名实体识别等），通用模型可能不如专门针对该任务进行微调的模型。\n",
      "   - **微调的作用**：通过在特定任务的数据上进行微调，模型可以更好地适应这些任务的需求，提升任务性能。\n",
      "\n",
      "### 4. **减少幻觉（Hallucination）**\n",
      "   - **大模型的幻觉问题**：大模型有时会生成看似合理但实际上不准确或无依据的内容，这种现象被称为“幻觉”。\n",
      "   - **RAG的作用**：RAG通过结合外部知识库，能够减少模型生成不准确信息的可能性，从而提高生成内容的准确性。\n",
      "\n",
      "### 5. **提高效率和成本效益**\n",
      "   - **大模型的资源消耗**：大模型通常需要大量的计算资源，运行成本较高。\n",
      "   - **微调和RAG的作用**：通过微调和RAG，可以在保持较高性能的同时，减少对大规模模型的依赖，从而降低运行成本。\n",
      "\n",
      "### 6. **个性化需求**\n",
      "   - **用户或企业的个性化需求**：不同的用户或企业可能有不同的需求，通用模型可能无法完全满足这些个性化需求。\n",
      "   - **微调的作用**：通过在特定用户或企业的数据上进行微调，模型可以更好地满足这些个性化需求。\n",
      "\n",
      "### 7. **数据隐私和安全**\n",
      "   - **大模型的通用性**：大模型通常是在公开数据上训练的，可能不适合处理敏感或私有数据。\n",
      "   - **微调的作用**：通过在私有数据上进行微调，可以在保护数据隐私的同时，提升模型在特定任务上的表现。\n",
      "\n",
      "### 总结\n",
      "尽管大模型在许多方面表现出色，但微调和RAG等技术仍然不可或缺。它们可以帮助模型更好地适应特定领域、任务和个性化需求，提高生成内容的准确性和实时性，同时降低运行成本。这些技术的结合使用，可以进一步提升大模型在实际应用中的效果和价值。\n",
      "总共使用的令牌数量（估计值）：804\n"
     ]
    }
   ],
   "source": [
    "import openai\n",
    "import tiktoken\n",
    "\n",
    "\n",
    "# 选择模型的编码方式，这里尽管基座是deepseek，但是编码用的gpt-4o-mini\n",
    "encoding = tiktoken.encoding_for_model(\"gpt-4o-mini\")\n",
    "\n",
    "# 初始化令牌计数器\n",
    "token_count = 0\n",
    "\n",
    "# 创建流式聊天完成请求\n",
    "response = client.chat.completions.create(\n",
    "    model=\"deepseek-chat\",\n",
    "    messages=[{\"role\": \"user\", \"content\": \"既然大模型已经足够强。为什么还需要微调和RAG？\"}],\n",
    "    stream=True\n",
    ")\n",
    "\n",
    "# 处理流式响应\n",
    "for chunk in response:\n",
    "    # 提取流式块中的内容部分\n",
    "    if chunk.choices[0].delta.content:\n",
    "        content_chunk =chunk.choices[0].delta.content\n",
    "        # 计算当前内容块的令牌数量并累加\n",
    "        token_count += len(encoding.encode(content_chunk))\n",
    "        # 实时输出内容\n",
    "        print(content_chunk, end=\"\")\n",
    "\n",
    "# 输出总的令牌使用数量\n",
    "print(f\"\\n总使用Token数量（估）：{token_count}\")"
   ],
   "metadata": {
    "collapsed": false,
    "ExecuteTime": {
     "end_time": "2025-01-25T16:22:04.672791Z",
     "start_time": "2025-01-25T16:20:35.961419Z"
    }
   },
   "id": "44e7223c9e410c91",
   "execution_count": 316
  },
  {
   "cell_type": "markdown",
   "source": [],
   "metadata": {
    "collapsed": false
   },
   "id": "3fbe1adf6ff8601c"
  },
  {
   "cell_type": "code",
   "outputs": [],
   "source": [],
   "metadata": {
    "collapsed": false
   },
   "id": "53263ef2faed9c5a"
  }
 ],
 "metadata": {
  "kernelspec": {
   "display_name": "Python 3",
   "language": "python",
   "name": "python3"
  },
  "language_info": {
   "codemirror_mode": {
    "name": "ipython",
    "version": 2
   },
   "file_extension": ".py",
   "mimetype": "text/x-python",
   "name": "python",
   "nbconvert_exporter": "python",
   "pygments_lexer": "ipython2",
   "version": "2.7.6"
  }
 },
 "nbformat": 4,
 "nbformat_minor": 5
}
